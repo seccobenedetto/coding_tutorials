{
 "cells": [
  {
   "cell_type": "markdown",
   "id": "15dacef7-f64a-41db-8562-f798e7b3e8fc",
   "metadata": {},
   "source": [
    "#ATTENZIONE: FILE IN ALLESTIMENTO"
   ]
  },
  {
   "cell_type": "markdown",
   "id": "17d14e4c-cc7a-4d63-bf2f-8b45cface9f1",
   "metadata": {},
   "source": [
    "# ITERTOOLS"
   ]
  },
  {
   "cell_type": "markdown",
   "id": "093977aa-fcf4-4450-8093-745af1f340d5",
   "metadata": {},
   "source": [
    "Il pacchetto **itertools** in Python fornisce strumenti per creare e manipolare iteratori in modo efficiente e combinatorio. È utile per generare permutazioni, combinazioni e operazioni su iterable senza dover gestire manualmente i loop nidificati. Ecco alcune delle funzioni più usate:\n",
    "\n",
    "1️⃣ Iteratori Infiniti\n",
    "\n",
    "    itertools.count(start=0, step=1): genera numeri infiniti a partire da start con passo step.\n",
    "    itertools.cycle(iterable): cicla infinitamente tra gli elementi di un iterable.\n",
    "    itertools.repeat(elem, n=None): ripete elem all'infinito o n volte.\n",
    "\n",
    "2️⃣ Combinazioni e Permutazioni\n",
    "\n",
    "    itertools.permutations(iterable, r): genera tutte le permutazioni (l'ordine conta) di r elementi.\n",
    "    itertools.combinations(iterable, r): genera tutte le combinazioni (l'ordine non conta) di r elementi (senza ripetizioni).\n",
    "    itertools.combinations_with_replacement(iterable, r): combinazioni con ripetizioni.\n",
    "\n",
    "3️⃣ Operazioni sugli Iterable\n",
    "\n",
    "    itertools.chain(iter1, iter2, ...): concatena più iterable.\n",
    "    itertools.product(iter1, iter2, ...): prodotto cartesiano di iterable.\n",
    "    itertools.groupby(iterable, key): raggruppa elementi consecutivi con la stessa chiave.\n",
    "    itertools.zip_longest(iter1, iter2, fillvalue=None): come zip(), ma riempie i valori mancanti.\n",
    "\n",
    "4️⃣ Filtri Avanzati\n",
    "\n",
    "    itertools.dropwhile(func, iterable): ignora elementi finché func è True, poi restituisce il resto.\n",
    "    itertools.takewhile(func, iterable): prende elementi finché func è True, poi si ferma.\n",
    "    itertools.filterfalse(func, iterable): come filter(), ma tiene solo quelli che restituiscono False.\n",
    "\n",
    "NOTE: the iterable object is consumed after a cycle, so it's necessasy to cast it like in a list"
   ]
  },
  {
   "cell_type": "code",
   "execution_count": 4,
   "id": "9bb551d7-d8dc-4f43-9845-55de73723965",
   "metadata": {},
   "outputs": [
    {
     "name": "stdout",
     "output_type": "stream",
     "text": [
      "[(1, 2), (1, 3), (2, 1), (2, 3), (3, 1), (3, 2)]\n",
      "[(1, 2), (1, 3), (2, 3)]\n",
      "[(1, 'A'), (1, 'B'), (2, 'A'), (2, 'B')]\n",
      "[1, 2, 3, 4, 5]\n",
      "[(1, 2), (1, 3), (2, 1), (2, 3), (3, 1), (3, 2)]\n",
      "[(1, 'A'), (1, 'B'), (2, 'A'), (2, 'B')]\n",
      "[1, 2, 3, 4, 5]\n"
     ]
    }
   ],
   "source": [
    "# Esempi di utilizzo: \n",
    "import itertools\n",
    "\n",
    "# Generare permutazioni e combinazioni di una lista:\n",
    "lista = [1, 2, 3]\n",
    "perm = list(itertools.permutations(lista, 2))\n",
    "print(perm)  # [(1, 2), (1, 3), (2, 1), (2, 3), (3, 1), (3, 2)]\n",
    "comb = list(itertools.combinations(lista, 2))\n",
    "print(comb)  # [(1, 2), (1, 3), (2, 3)]\n",
    "\n",
    "# Prodotto cartesiano di due liste:\n",
    "prod = list(itertools.product([1, 2], ['A', 'B']))\n",
    "print(prod)  # [(1, 'A'), (1, 'B'), (2, 'A'), (2, 'B')]\n",
    "\n",
    "# Concatenare più liste:\n",
    "merged = list(itertools.chain([1, 2], [3, 4], [5]))\n",
    "print(merged)  # [1, 2, 3, 4, 5]Esempi di utilizzo\n",
    "\n",
    "# Generare permutazioni di una lista:\n",
    "lista = [1, 2, 3]\n",
    "perm = list(itertools.permutations(lista, 2))\n",
    "print(perm)  # [(1, 2), (1, 3), (2, 1), (2, 3), (3, 1), (3, 2)]\n",
    "\n",
    "# Prodotto cartesiano di due liste:\n",
    "prod = list(itertools.product([1, 2], ['A', 'B']))\n",
    "print(prod)  # [(1, 'A'), (1, 'B'), (2, 'A'), (2, 'B')]\n",
    "\n",
    "# Concatenare più liste:\n",
    "merged = list(itertools.chain([1, 2], [3, 4], [5]))\n",
    "print(merged)  # [1, 2, 3, 4, 5]"
   ]
  }
 ],
 "metadata": {
  "kernelspec": {
   "display_name": "Python 3 (ipykernel)",
   "language": "python",
   "name": "python3"
  },
  "language_info": {
   "codemirror_mode": {
    "name": "ipython",
    "version": 3
   },
   "file_extension": ".py",
   "mimetype": "text/x-python",
   "name": "python",
   "nbconvert_exporter": "python",
   "pygments_lexer": "ipython3",
   "version": "3.12.4"
  }
 },
 "nbformat": 4,
 "nbformat_minor": 5
}
