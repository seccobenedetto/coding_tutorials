{
 "cells": [
  {
   "cell_type": "markdown",
   "id": "57f9da4e-0c90-4d9e-afa0-907f0881aeb4",
   "metadata": {},
   "source": [
    "<center><h1><b>DOCKER</b></h1></center>\n",
    "Docker is a software that use OS-level virtualization to deliver software in packages called containers. The software that hosts the containers is called Docker Engine. Docker is a tool that is used to automate the deployment of applications in lightweight containers so that applications can work efficiently in different environments in isolation. \n",
    "\n",
    "Installation guide [here](https://docs.docker.com/get-docker/). Write `docker version` on the shell to know if docker is correctly installed and which version do you have."
   ]
  },
  {
   "cell_type": "markdown",
   "id": "a2a1c7ac-9ef2-43e2-bb6e-50d2b2da851c",
   "metadata": {},
   "source": [
    "---"
   ]
  },
  {
   "cell_type": "markdown",
   "id": "d6bf81b7-b109-4d1a-8b29-63d50e4470ac",
   "metadata": {},
   "source": [
    "## 1. VIRTUAL MACHINES vs CONTAINERS"
   ]
  },
  {
   "cell_type": "markdown",
   "id": "0c3ffb12-0e6b-4aa7-9aff-0342a1e1f5f0",
   "metadata": {},
   "source": [
    "#### VIRTUAL MACHINES\n",
    "Virtual Machines (VMs) are an abstraction of the physical hardware of a computer system, each with its own fraction of memory, disk, CPU resources, its own OS, and running its own application(s). Virtualization is provided by a named Hypervisor. There are two types of Hypervisors: type 1, built directly on to the hardware; type 2, like VirtualBox, built over an already existing OS.\n",
    "\n",
    "Each running VM includes a full copy of the guest OS (Win/Linux/…), all the necessary binaries and libraries, and ﬁnally the application you want to run. All this might take up to tens of GBs, and makes VMs also quite slow to start (boot). VMs provide full process isolation for applications: the software running in the guest operating system does not interfere with the host OS, and vice-versa."
   ]
  },
  {
   "cell_type": "markdown",
   "id": "de5ab69f-b9b5-4fd8-985b-01188847398b",
   "metadata": {},
   "source": [
    "#### CONTAINERS\n",
    "Containers are instead “software packages” that include the code, libraries and all dependencies required to run your applications, without the need to bring along a Guest OS as in VMs. Containerization is still a type of virtualization that allows to run applications independently and in complete isolation, but it is more efﬁcient than Virtual Machines because they all share the Host OS kernel. The resulting “software packages” (the containers) are lightweight compared to VMs, faster to run, and using much less resources.\n",
    "\n",
    "**Docker is a containerization platform that offers a way to create and run containers.**\n",
    "\n",
    "Remember, containers are isolated environments:\n",
    "- Host’s (your computer) ﬁles aren’t visible inside the container\n",
    "- When the container is deleted, data created inside the container will be lost\n",
    "- The container by default don’t accept connections over any port (e.g. the 8888)"
   ]
  },
  {
   "cell_type": "markdown",
   "id": "88f9d97d-5bbc-46d5-a748-ad9757db017d",
   "metadata": {},
   "source": [
    "---"
   ]
  },
  {
   "cell_type": "markdown",
   "id": "ac8a94c4-7984-47f0-94f2-6e88be830a4e",
   "metadata": {},
   "source": [
    "## 2. IMAGES AND CONTAINERS"
   ]
  },
  {
   "cell_type": "markdown",
   "id": "1e5efece-c25c-4fb9-a095-3860fe23e9d6",
   "metadata": {},
   "source": [
    "To create a docker container where we can do what we want, we have first to create a **Docker image**, i.e. a model used as a blueprint to generate containers. To create the image, we have to write a **Dockerfile**, i.e. a text file with all the istructions for Docker on how to build the image: which software/packages to include, how to run it etc. When we have built the image, we can create as many containers as we want of that image. We can find already built images on [Docker Hub](https://hub.docker.com/).\n",
    "\n",
    "Main commands for images:\n",
    "* `docker pull ubuntu:noble` : To pull an image (e.g. Ubuntu version 24.04, named 'noble') from docker hub\n",
    "* `docker image ls` or `docker images`: To list all existing images\n",
    "* `docker image rm <imageID>` : To delete a local image\n",
    "* `docker image prune` : To remove ALL unused images\n",
    "\n",
    "Main commands for containers:\n",
    "* `docker ps -a` : You can list all the containers currently running or (with '-a' = all) also exited. Nota: 'ps' = process status\n",
    "* `docker attach <container-name>` : you can attach to a running container, i.e. enter that container with your bash. Then with *docker detach* you undo it (also with ctrl+c)\n",
    "* `docker exec -it <container-name> /bin/bash` : create a new shell inside the container\n",
    "* `docker start/restart/stop/rm <container-name>` : containers are applications that could be started/restarted/stopped/removed\n",
    "* `docker run --rm -i -t -d --name myubuntu ubuntu:noble /bin/bash` : To create and launch a container from an existing image (ex. Ubuntu)\n",
    "    * *--name myubuntu* gives the name myubuntu to the container\n",
    "    * */bin/bash* is a (optional!) command that will be run inside the container\n",
    "    * *--rm* speciﬁes Docker to remove the container once stopped executing\n",
    "    * *-i* speciﬁes that the command is Interactive (it starts the bash shell)\n",
    "    * *-t* speciﬁes the allocation of a Terminal\n",
    "    * *-d* instructs the container to run in the background (Detached)\n",
    "\n",
    "Connection pc-container: as option in `docker run` we can also specify shared volumes/port with our container\n",
    "* `-v $PWD/test_volumes:/mnt` : We create shared Volumes to share data between our pc and the container. The syntax is *-v MY_PC_PATH : CONTAINER_PATH*\n",
    "* `-p 1234:8888` : We open Ports to allow communication between the host and the container. The syntax is *PORT_IN_YOUR_COMPUTER : PORT_INSIDE_THE_CONTAINER*. (memo: port 8888 is used for jupyter notebook)"
   ]
  },
  {
   "cell_type": "markdown",
   "id": "6fb03b29-7e61-466a-b638-2bada27a32dc",
   "metadata": {},
   "source": [
    "#### DOCKER HUB:\n",
    "Images can be pushed to Dockerhub to be stored and shared:\n",
    "1. Create a repository on Dockerhub, and login from your machine with:  `docker login`\n",
    "2. Tag the image with your username, a repository name and the image name:  `docker image tag my_image username/repo-name:image_name`\n",
    "3. Push the image to the remote repository:  `docker push username/repo-name:image_name`"
   ]
  },
  {
   "cell_type": "markdown",
   "id": "d214e4b2-93c3-4efd-a02d-ac0f97e2791c",
   "metadata": {},
   "source": [
    "---"
   ]
  },
  {
   "cell_type": "markdown",
   "id": "a9fdd2d8-8374-4a56-ab7b-1e973fc204c5",
   "metadata": {},
   "source": [
    "## 3. WRITING A DOCKERFILE"
   ]
  },
  {
   "cell_type": "markdown",
   "id": "e94e0df6-2f46-4e82-b7dd-a873822e87b0",
   "metadata": {},
   "source": [
    "A Dockerfile is a text file that contains a set of instructions used to build a Docker image. It defines the steps for creating an image, specifying things like: the base image to use (e.g., an official Ubuntu image, or a specific version of a language runtime), any commands to run inside the container (e.g., installing software, copying files, setting environment variables), how the container should behave (e.g., specifying which command to run when the container starts).\n",
    "\n",
    "Key parts of a Dockerfile:\n",
    "\n",
    "    FROM: specifies the base image for the container.\n",
    "    WORKDIR: sets the working directory for any following instructions.\n",
    "    ENV: sets one or more environment variables inside the container. \n",
    "    RUN: executes commands inside the container, like installing packages or copying files.\n",
    "    EXPOSE: informs Docker that the container will listen on a specific network port (like 8888) at runtime.\n",
    "    COPY or ADD: copies files or directories from the host into the container.\n",
    "    CMD: specifies the command that should run when the container starts.\n",
    "\n",
    "To build the image starting from the Dockerﬁle, write: `docker build --tag mapd_notebook -f my_dockerfile.dockerfile .` , this creates an image from the custom dockerﬁle my_dockerfile.dockerfile. The options are:\n",
    "* *--tag* tags/assign the image with name mapd_notebook\n",
    "* *-f* speciﬁes the Dockerﬁle\n",
    "* *.* speciﬁes that the context of the image is the current directory\n",
    "\n",
    "Once built, the image appears in the list of available images *docker image ls* and can be used to run a container with *docker run --rm -i -t (-d) --name my_container mapd_notebook*."
   ]
  },
  {
   "cell_type": "markdown",
   "id": "1e0f82c9-a562-4285-9e10-65dc671abaa6",
   "metadata": {},
   "source": [
    "Example: \n",
    "```\n",
    "FROM python:3.13.2-slim\n",
    "\n",
    "WORKDIR /mapd-workspace\n",
    "\n",
    "ENV PIP_DEFAULT_TIMEOUT=100 \\\n",
    "    PYTHONUNBUFFERED=1 \\\n",
    "    PIP_DISABLE_PIP_VERSION_CHECK=1 \\\n",
    "    PIP_NO_CACHE_DIR=1\n",
    "\n",
    "RUN pip install notebook \\\n",
    "    matplotlib \\\n",
    "    SQLAlchemy==2.0.38 \\\n",
    "    ipython-sql==0.5.0 \\\n",
    "    mysql-connector-python==9.2.0 \\\n",
    "    pandas\n",
    "\n",
    "EXPOSE 8888\n",
    "\n",
    "CMD jupyter notebook \\\n",
    "    --ip=0.0.0.0 \\\n",
    "    --port=8888 \\\n",
    "    --no-browser \\\n",
    "    --allow-root \\\n",
    "    --NotebookApp.token=\n",
    "```"
   ]
  },
  {
   "cell_type": "markdown",
   "id": "95da16c2-a388-4c8a-a6f2-b5ac551477ab",
   "metadata": {},
   "source": [
    "---"
   ]
  },
  {
   "cell_type": "markdown",
   "id": "d552074d-7c86-4ab8-aeff-c5f6e61453ec",
   "metadata": {},
   "source": [
    "## 4. DOCKER-COMPOSE\n",
    "Docker-compose is a Docker tool that can be used to manage running multiple containers. A single Docker-compose `.yaml` ﬁle is used to deﬁne all running services (containers), as well as volumes, networks, etc. The commands are simple:\n",
    "- `docker compose up` : to start all services described by a Docker-compose ﬁle.\n",
    "- `docker compose down` : to stop and remove all resources instantiated by Docker-compose.\n",
    "\n",
    "Key parts of a .yaml file:\n",
    "* *version*: Specifies the Docker Compose file format version.\n",
    "* *services*: Defines the containers that will be created. Each service represents a container.\n",
    "* *image*: Specifies the Docker image used for a service.\n",
    "* *environment*: Defines environment variables for the container.\n",
    "* *volumes*: Mounts directories between the host and the container.\n",
    "* *command*: Overrides the default command of the container.\n",
    "* *depends_on*: Specifies service dependencies, ensuring that one service starts after another.\n",
    "* *platform*: Specifies the target architecture for the container.\n",
    "* *ports*: Maps ports from the host to the container."
   ]
  },
  {
   "cell_type": "markdown",
   "id": "11fb8dbd-7863-4a53-ae5c-030f54a2134b",
   "metadata": {},
   "source": [
    "Example with two services:\n",
    "```\n",
    "version: '3.9'\n",
    "services:\n",
    "    db:\n",
    "        image: mysql:9.2.0\n",
    "        environment:\n",
    "            MYSQL_USER: \"my_user\"\n",
    "            MYSQL_PASSWORD: \"my_pwd\"\n",
    "            MYSQL_ROOT_PASSWORD: \"root_pwd\"\n",
    "        volumes:\n",
    "            - $PWD:/mapd-workspace\n",
    "        command: --secure_file_priv=\"/mapd-workspace\"\n",
    "    jupyter:\n",
    "        depends_on:\n",
    "                - db\n",
    "        image: mapd_notebook\n",
    "        platform: linux/amd64\n",
    "        ports:\n",
    "            - 1234:8888\n",
    "        volumes:\n",
    "            - $PWD:/mapd-workspace\n",
    "```"
   ]
  },
  {
   "cell_type": "markdown",
   "id": "c763981f-5e3c-4c2f-98b2-ffcb8a147e7e",
   "metadata": {},
   "source": [
    "---"
   ]
  },
  {
   "cell_type": "markdown",
   "id": "d5bff41e-3fb2-4622-907f-6cec38f1c7a9",
   "metadata": {},
   "source": [
    "## 5. RESOURCE USAGE\n",
    "Docker will use your computer resources to run containers. You can check the resource usage and (most important) free up some of them with the following commands:\n",
    "* `docker system df` : check the disk used by Docker\n",
    "* `docker stats` : live monitor the computing resource used by running docker containers (similar to top)\n",
    "* `docker container prune` : reclaim resources by removing all stopped containers\n",
    "* `docker image prune` : reclaim resources by removing all dangling images (older builds and currently unused)\n",
    "* `docker system prune` : reclaim resources by removing stopped containers, images and volumes\n",
    "* `docker system prune -a` : reclaim all system resources by removing all(!) containers, images and volumes"
   ]
  }
 ],
 "metadata": {
  "kernelspec": {
   "display_name": "Python 3 (ipykernel)",
   "language": "python",
   "name": "python3"
  },
  "language_info": {
   "codemirror_mode": {
    "name": "ipython",
    "version": 3
   },
   "file_extension": ".py",
   "mimetype": "text/x-python",
   "name": "python",
   "nbconvert_exporter": "python",
   "pygments_lexer": "ipython3",
   "version": "3.12.9"
  }
 },
 "nbformat": 4,
 "nbformat_minor": 5
}
