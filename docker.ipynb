{
 "cells": [
  {
   "cell_type": "markdown",
   "id": "57f9da4e-0c90-4d9e-afa0-907f0881aeb4",
   "metadata": {},
   "source": [
    "# DOCKER\n",
    "Docker is a software that use OS-level virtualization to deliver software in packages called containers. The software that hosts the containers is called Docker Engine. Docker is a tool that is used to automate the deployment of applications in lightweight containers so that applications can work efficiently in different environments in isolation. "
   ]
  },
  {
   "cell_type": "markdown",
   "id": "0c3ffb12-0e6b-4aa7-9aff-0342a1e1f5f0",
   "metadata": {},
   "source": [
    "### VIRTUAL MACHINES\n",
    "Virtual Machines (VMs) are an abstraction of the physical hardware of a computer system, each with its own fraction of memory, disk, CPU resources, its own OS, and running its own application(s). Virtualization is provided by a named Hypervisor. There are two types of Hypervisors: type 1, built directly on to the hardware; type 2, like VirtualBox, built over an already existing OS.\n",
    "\n",
    "Each running VM includes a full copy of the guest OS (Win/Linux/…), all the necessary binaries and libraries, and ﬁnally the application you want to run. All this might take up to tens of GBs, and makes VMs also quite slow to start (boot). VMs provide full process isolation for applications: the software running in the guest operating system does not interfere with the host OS, and vice-versa."
   ]
  },
  {
   "cell_type": "markdown",
   "id": "de5ab69f-b9b5-4fd8-985b-01188847398b",
   "metadata": {},
   "source": [
    "### CONTAINERS\n",
    "Containers are instead “software packages” that include the code, libraries and all dependencies required to run your applications, without the need to bring along a Guest OS as in VMs. Containerization is still a type of virtualization that allows to run applications independently and in complete isolation, but it is more efﬁcient than Virtual Machines because they all share the Host OS kernel. The resulting “software packages” (the containers) are lightweight compared to VMs, faster to run, and using much less resources.\n",
    "\n",
    "**Docker is a containerization platform that offers a way to create and run containers.**"
   ]
  }
 ],
 "metadata": {
  "kernelspec": {
   "display_name": "Python 3 (ipykernel)",
   "language": "python",
   "name": "python3"
  },
  "language_info": {
   "codemirror_mode": {
    "name": "ipython",
    "version": 3
   },
   "file_extension": ".py",
   "mimetype": "text/x-python",
   "name": "python",
   "nbconvert_exporter": "python",
   "pygments_lexer": "ipython3",
   "version": "3.12.4"
  }
 },
 "nbformat": 4,
 "nbformat_minor": 5
}
