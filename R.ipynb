{
 "cells": [
  {
   "cell_type": "markdown",
   "id": "2a543f81-ce8d-453f-bca7-6589d7a7ede9",
   "metadata": {},
   "source": [
    "<center><h1><b>R LANGUAGE</b></h1></center>\n"
   ]
  },
  {
   "cell_type": "markdown",
   "id": "6d6b711d-aa52-4d39-9486-d4a256f6ee5e",
   "metadata": {},
   "source": [
    "## 00 - INTRODUCTION TO R\n",
    "\n",
    "#### WHAT IS R\n",
    "R is a powerful programming language and environment primarily used for statistical computing, data analysis, and visualization. It was developed in the early 1990s. Today, R is widely used in academia, research, and industry, particularly in fields like data science, finance, and bioinformatics.\n",
    "\n",
    "One of R's key strengths is its extensive ecosystem of packages that provide tools for machine learning, time series analysis, and graphical representation of data. R also excels in data visualization, thanks to libraries like ggplot2, which enable users to create complex and aesthetically pleasing charts.\n",
    "\n",
    "Despite being primarily designed for statistical tasks, R is a fully free and functional programming language that supports object-oriented and functional programming paradigms. It integrates well with other languages such as Python and C++, making it a versatile choice for data-driven projects.\n",
    "\n",
    "For more info see [here](https://www.r-project.org/).\n",
    "\n",
    "#### HOW CAN I USE IT\n",
    "R can be used in multiple environments:\n",
    "* RStudio: The most popular integrated development environment (IDE) for R, providing a user-friendly interface, debugging tools, and built-in support for visualization and package management.\n",
    "* Bash (Command Line): R can be run directly from the terminal or command prompt using the R or Rscript commands, allowing for automation and scripting. (after installation, it's sufficient to type 'R' in the shell)\n",
    "* Jupyter Notebook: By installing the IRKernel, R can be used in Jupyter Notebooks, enabling integration with Python and other languages.\n",
    "\n",
    "#### MAIN DIFFERENCES WITH PYTHON\n",
    "* R uses curly braces `{}` to define code blocks, and indentation is optional\n",
    "* R only supports `#` for single-line comments; no built-in multi-line comment syntax (like apexes in python)\n",
    "* R uses `<-` for variable assignment (though '=' and '->' also works in some cases)\n",
    "* R uses install.packages() for package installation (instead of conda install)\n",
    "* two or more expressions can be placed on the same line, if are separated by `;`\n",
    "* you can print an object during definition including it inside parenthesis `(object)`\n",
    "* vector indexing starts at 1!\n",
    "* the integer are initialized with the letter `L` (=long), as in `x <- 2L`\n",
    "\n",
    "### OTHER PECULIARITIES TO REMEMBER:\n",
    "* variable names are case sensitive : y different from Y\n",
    "* variable names must not begin with numbers (4t) or symbols (%8)\n",
    "* variable names must not contain blank spaces (use m.value instead of m value)\n",
    "\n",
    "Both languages are powerful, but Python is more versatile, while R is specialized for statistical computing and data visualization."
   ]
  },
  {
   "cell_type": "markdown",
   "id": "a059c913-fb96-4512-91fa-11d2993d5530",
   "metadata": {},
   "source": [
    "---"
   ]
  },
  {
   "cell_type": "markdown",
   "id": "2d864e18-cbaa-48d4-8e54-44bc0b28153f",
   "metadata": {},
   "source": [
    "## 01 - FUNDAMENTALS"
   ]
  },
  {
   "cell_type": "markdown",
   "id": "70c67280-1e62-4f1a-b9b7-fb8bffd93159",
   "metadata": {},
   "source": [
    "#### GETTING HELP\n",
    "You can ask for help to R with: \n",
    "* a symbol `?` before a command\n",
    "* `help.search(\"keyword\")`: cerca documentazione relativa a un termine specifico all'interno di pacchetti installati. È utile se non conosci il nome esatto della funzione.\n",
    "* `find(\"function_name\")`: cerca in quali pacchetti caricati è definita una funzione specifica.\n",
    "* `apropos(\"keyword\")`: cerca oggetti nel workspace e nei pacchetti caricati.\n",
    "* `library(help=package_name)`: gives us details on a package"
   ]
  },
  {
   "cell_type": "markdown",
   "id": "a0220e59-bdf7-4898-9aa9-33180816bb24",
   "metadata": {},
   "source": [
    "#### PACKAGES\n",
    "To install a package use `install.packages(package_name)`.\\\n",
    "To update all packages use `update.packages(ask=False)`.\\\n",
    "With `installed.packages()` we can see a list with all installed packages.\\\n",
    "To load an already installed package we use `library(package_name)`."
   ]
  },
  {
   "cell_type": "markdown",
   "id": "18528269-8ba2-4c8b-9331-cd98f92365be",
   "metadata": {},
   "source": [
    "#### OBJECTS\n",
    "To list all the objects created with the current session, use the `ls()` or `objects()` functions.\\\n",
    "To list all the packages and data frames currently attached to the running R session, use `search()`.\\\n",
    "To show the structure of an object (functions...), in a compact way, the `str()` function can be used."
   ]
  },
  {
   "cell_type": "markdown",
   "id": "34bbfeaf-116b-4a41-9f25-b1184b3db828",
   "metadata": {},
   "source": [
    "---"
   ]
  },
  {
   "cell_type": "markdown",
   "id": "c4429852-a271-4544-adcf-db1cbaba54ec",
   "metadata": {},
   "source": [
    "## 02 - NUMBERS\n",
    "The number $\\pi$ is known as `pi`. \n",
    "\n",
    "Calculations can lead to results which go to $\\infty$ or are indeterminate $NaN$, but they are properly evaluated as numbers! We can test if a number is infinite with `is.infinite(x)`, `is.finite(x)` and `is.nan(x)` (they will return a boolean).\n",
    "\n",
    "There could also be missing values, represented by NA (= not available), and we check them with `is.na(x)`."
   ]
  },
  {
   "cell_type": "code",
   "execution_count": 65,
   "id": "d4f7f7a1-aa58-408c-b2f7-31fc04160807",
   "metadata": {},
   "outputs": [
    {
     "data": {
      "text/html": [
       "Inf"
      ],
      "text/latex": [
       "Inf"
      ],
      "text/markdown": [
       "Inf"
      ],
      "text/plain": [
       "[1] Inf"
      ]
     },
     "metadata": {},
     "output_type": "display_data"
    },
    {
     "data": {
      "text/html": [
       "NaN"
      ],
      "text/latex": [
       "NaN"
      ],
      "text/markdown": [
       "NaN"
      ],
      "text/plain": [
       "[1] NaN"
      ]
     },
     "metadata": {},
     "output_type": "display_data"
    },
    {
     "data": {
      "text/html": [
       "'double'"
      ],
      "text/latex": [
       "'double'"
      ],
      "text/markdown": [
       "'double'"
      ],
      "text/plain": [
       "[1] \"double\""
      ]
     },
     "metadata": {},
     "output_type": "display_data"
    },
    {
     "data": {
      "text/html": [
       "'double'"
      ],
      "text/latex": [
       "'double'"
      ],
      "text/markdown": [
       "'double'"
      ],
      "text/plain": [
       "[1] \"double\""
      ]
     },
     "metadata": {},
     "output_type": "display_data"
    },
    {
     "data": {
      "text/html": [
       "FALSE"
      ],
      "text/latex": [
       "FALSE"
      ],
      "text/markdown": [
       "FALSE"
      ],
      "text/plain": [
       "[1] FALSE"
      ]
     },
     "metadata": {},
     "output_type": "display_data"
    }
   ],
   "source": [
    "3/0\n",
    "Inf - Inf\n",
    "typeof(Inf)\n",
    "typeof(NaN)\n",
    "is.finite(3/0)"
   ]
  },
  {
   "cell_type": "markdown",
   "id": "ab24ccc5-3ed0-4c5a-81b6-104ee41635dd",
   "metadata": {},
   "source": [
    "#### MAIN OPERATIONS\n",
    "* `+`, `-`, `*`, `/`: sum, subtraction, multiplication, division\n",
    "* `%/%`, `%%`, `^`: integer quotient, modulo, power\n",
    "* `>`, `>=`, `<`, `<=`, `==`, `!=`: relational operators\n",
    "* `!`, `&`, `|`: logical not, and, or\n",
    "* `~`: model formulae (‘is modelled as a function of’)\n",
    "* `<-`, `->`: assignment (gets)\n",
    "* `$`: list indexing (the ‘element name’ operator)\n",
    "* `:`: sequence creation operator\n",
    "\n",
    "Note: several of these operators have different meaning inside model formulae :\n",
    "* `*` indicates the main effects plus interaction (rather than multiplication),\n",
    "* `:` the interaction between two variables (rather than generate a sequence), and\n",
    "* `^` interactions up to the indicated power (rather than raise to the power)"
   ]
  },
  {
   "cell_type": "code",
   "execution_count": 4,
   "id": "afbc9d6f-30d4-452c-a8d1-1dc58dadfca0",
   "metadata": {},
   "outputs": [
    {
     "data": {
      "text/html": [
       "4"
      ],
      "text/latex": [
       "4"
      ],
      "text/markdown": [
       "4"
      ],
      "text/plain": [
       "[1] 4"
      ]
     },
     "metadata": {},
     "output_type": "display_data"
    },
    {
     "data": {
      "text/html": [
       "1"
      ],
      "text/latex": [
       "1"
      ],
      "text/markdown": [
       "1"
      ],
      "text/plain": [
       "[1] 1"
      ]
     },
     "metadata": {},
     "output_type": "display_data"
    },
    {
     "data": {
      "text/html": [
       "TRUE"
      ],
      "text/latex": [
       "TRUE"
      ],
      "text/markdown": [
       "TRUE"
      ],
      "text/plain": [
       "[1] TRUE"
      ]
     },
     "metadata": {},
     "output_type": "display_data"
    }
   ],
   "source": [
    "9 %/% 2      # integer part of the division\n",
    "9 %% 2   # reminder ( modulo ) of the division\n",
    "15421 %% 7 == 0"
   ]
  },
  {
   "cell_type": "markdown",
   "id": "40eb768f-5f4d-41e4-a9d5-9173090f5957",
   "metadata": {},
   "source": [
    "#### MATHEMATICAL FUNCTIONS\n",
    "* `log(x)`: natural log of x\n",
    "* `exp(x)`: exponential of x\n",
    "* `log(x, n)`: log in base n of x\n",
    "* `log10(x)`: log in base 10 of x\n",
    "* `sqrt(x)`: square root of x\n",
    "* `factorial(x)`: $x! = x(x − 1)(x − 2) . . . 3 · 2 · 1$\n",
    "* `choose(n, x)`: binomial coefficient, $n!/(x! · (n − x)!)$\n",
    "* `gamma(x)`: $\\Gamma(x)$ for real x, (x − 1)! for integer x\n",
    "* `lgamma(x)`: natural log of $\\Gamma(x)$\n",
    "* `abs(x)`: absolute value for x\n",
    "* `floor(x)`: greater integer less than x\n",
    "* `ceiling(x)`: smallest integer greater than x\n",
    "* `trunc(x)`: closest integer to x between 0 and x; it behaves as floor() for x > 0 and like ceiling() for x < 0"
   ]
  },
  {
   "cell_type": "markdown",
   "id": "3fdf5b08-0749-471a-bd11-94eb4aa5c933",
   "metadata": {},
   "source": [
    "#### COMPLEX NUMBERS\n",
    "Here a list of built-in functions:\n",
    "* `Re(z)`: extract the real part\n",
    "* `Im(z)`: extract the imaginary part\n",
    "* `Mod(z)`: calculate the modulus\n",
    "* `Arg(z)`: calculate the argument Arg(x+yi) = atan(y/x)\n",
    "* `Conj(z)`: work out the complex conjugate\n",
    "* `is.complex(z)`: test for complex number membership\n",
    "* `as.complex(z)`: force the input as a complex number"
   ]
  },
  {
   "cell_type": "code",
   "execution_count": 6,
   "id": "600c8f49-0d08-4158-b2a6-efd9c2a62d90",
   "metadata": {},
   "outputs": [
    {
     "data": {
      "text/html": [
       "2"
      ],
      "text/latex": [
       "2"
      ],
      "text/markdown": [
       "2"
      ],
      "text/plain": [
       "[1] 2"
      ]
     },
     "metadata": {},
     "output_type": "display_data"
    },
    {
     "data": {
      "text/html": [
       "4.03112887414927"
      ],
      "text/latex": [
       "4.03112887414927"
      ],
      "text/markdown": [
       "4.03112887414927"
      ],
      "text/plain": [
       "[1] 4.031129"
      ]
     },
     "metadata": {},
     "output_type": "display_data"
    },
    {
     "data": {
      "text/html": [
       "TRUE"
      ],
      "text/latex": [
       "TRUE"
      ],
      "text/markdown": [
       "TRUE"
      ],
      "text/plain": [
       "[1] TRUE"
      ]
     },
     "metadata": {},
     "output_type": "display_data"
    },
    {
     "data": {
      "text/html": [
       "3.5+0i"
      ],
      "text/latex": [
       "3.5+0i"
      ],
      "text/markdown": [
       "3.5+0i"
      ],
      "text/plain": [
       "[1] 3.5+0i"
      ]
     },
     "metadata": {},
     "output_type": "display_data"
    }
   ],
   "source": [
    "Im(3.5 + 2i)\n",
    "Mod(3.5 + 2i)\n",
    "is.complex( 3.5 + 2i)\n",
    "as.complex( 3.5 )"
   ]
  },
  {
   "cell_type": "markdown",
   "id": "4fccdb7b-ecad-485d-baf3-c60716826e4e",
   "metadata": {},
   "source": [
    "---"
   ]
  },
  {
   "cell_type": "markdown",
   "id": "ea8235a5-92e2-4b71-937f-dd8aef108d3f",
   "metadata": {},
   "source": [
    "## 03 - DATA TYPES"
   ]
  },
  {
   "cell_type": "markdown",
   "id": "0a1d92d1-88fb-435c-9685-1c8a240e120f",
   "metadata": {},
   "source": [
    "#### INSPECT DATA\n",
    "* `class(x)`: tell us what kind of data we have in x (numeric, etc)\n",
    "* `typeof()` / `storage.mode()`: get or set the mode (i.e. the type so double etc), or the storage mode of an R object\n",
    "* `length(x)`: returns the number of element in the object x\n",
    "* `str(x)`: compactly display the internal structure of the object x"
   ]
  },
  {
   "cell_type": "code",
   "execution_count": 21,
   "id": "cdc3b39f-2edd-49ab-9f64-5fadf002f7ae",
   "metadata": {},
   "outputs": [
    {
     "data": {
      "text/html": [
       "<style>\n",
       ".list-inline {list-style: none; margin:0; padding: 0}\n",
       ".list-inline>li {display: inline-block}\n",
       ".list-inline>li:not(:last-child)::after {content: \"\\00b7\"; padding: 0 .5ex}\n",
       "</style>\n",
       "<ol class=list-inline><li>3</li><li>7</li><li>9</li></ol>\n"
      ],
      "text/latex": [
       "\\begin{enumerate*}\n",
       "\\item 3\n",
       "\\item 7\n",
       "\\item 9\n",
       "\\end{enumerate*}\n"
      ],
      "text/markdown": [
       "1. 3\n",
       "2. 7\n",
       "3. 9\n",
       "\n",
       "\n"
      ],
      "text/plain": [
       "[1] 3 7 9"
      ]
     },
     "metadata": {},
     "output_type": "display_data"
    },
    {
     "data": {
      "text/html": [
       "'numeric'"
      ],
      "text/latex": [
       "'numeric'"
      ],
      "text/markdown": [
       "'numeric'"
      ],
      "text/plain": [
       "[1] \"numeric\""
      ]
     },
     "metadata": {},
     "output_type": "display_data"
    },
    {
     "data": {
      "text/html": [
       "'double'"
      ],
      "text/latex": [
       "'double'"
      ],
      "text/markdown": [
       "'double'"
      ],
      "text/plain": [
       "[1] \"double\""
      ]
     },
     "metadata": {},
     "output_type": "display_data"
    },
    {
     "data": {
      "text/html": [
       "3"
      ],
      "text/latex": [
       "3"
      ],
      "text/markdown": [
       "3"
      ],
      "text/plain": [
       "[1] 3"
      ]
     },
     "metadata": {},
     "output_type": "display_data"
    },
    {
     "name": "stdout",
     "output_type": "stream",
     "text": [
      " num [1:3] 3 7 9\n"
     ]
    }
   ],
   "source": [
    "(x <- c(3, 7, 9))\n",
    "class(x)\n",
    "typeof(x)\n",
    "length(x)\n",
    "str(x)"
   ]
  },
  {
   "cell_type": "code",
   "execution_count": 13,
   "id": "29aa6f51-f571-42aa-9e84-21ba752a5713",
   "metadata": {},
   "outputs": [
    {
     "data": {
      "text/html": [
       "1"
      ],
      "text/latex": [
       "1"
      ],
      "text/markdown": [
       "1"
      ],
      "text/plain": [
       "[1] 1"
      ]
     },
     "metadata": {},
     "output_type": "display_data"
    },
    {
     "name": "stdout",
     "output_type": "stream",
     "text": [
      " num [1:4] 1 2 5 8\n"
     ]
    }
   ],
   "source": [
    "x <- 4.7; length(x)\n",
    "y <- c(1, 2, 5, 8); str(y)"
   ]
  },
  {
   "cell_type": "markdown",
   "id": "dfb746db-2c24-49d7-9bda-f216f16b9180",
   "metadata": {},
   "source": [
    "We can always test whether objects are a particular type and also coerce them to a different type. In this list the first command will test, the second will coerce:\n",
    "* Array               → `is.array()` / `as.array()`\n",
    "* Character           → `is.character()` / `as.character()`\n",
    "* Complex             → `is.complex()` / `as.complex()`\n",
    "* Dataframe           → `is.data.frame()` / `as.data.frame()`\n",
    "* Double              → `is.double()` / `as.double()`\n",
    "* Factor              → `is.factor()` / `as.factor()`\n",
    "* List                → `is.list()` / `as.list()`\n",
    "* Logical             → `is.logical()` / `as.logical()`\n",
    "* Matrix              → `is.matrix()` / `as.matrix()`\n",
    "* Numeric             → `is.numeric()` / `as.numeric()`\n",
    "* Raw                 → `is.raw()` / `as.raw()`\n",
    "* Time series         → `is.ts()` / `as.ts()`\n",
    "* Vector              → `as.vector()` / `as.vector()`\n"
   ]
  },
  {
   "cell_type": "markdown",
   "id": "30ace27c-f365-42bb-acd9-ab2ba4f8844b",
   "metadata": {},
   "source": [
    "#### VECTOR\n",
    "The basic data structure is a **vector** : a sequence of values stored in contiguous memory areas. Vector are atomic types : all elements must be of same type. R is a dynamically-typed language. Dynamic typing allows to assign a value of a different data type to the same variable at any time. Scalar types do not exist, they are considered one-element vectors. Longer vectors are usually created with the concatenate `c()` function.\n",
    "\n",
    "With the `rep(value, each=m, times=n)` function you can create a vector built by repeating n-times the same value (written m times each time).\n",
    "\n",
    "INDEXING:  \n",
    "The indexing is done through `[]`. Inside I can input a single index but also a vector of indexes. With negative input you can exclude elements, like `vector[-3]` will exclude the third element. Masking works as in python, so for example with `vector[x<5]` we select only the elements which are lower than 5, because the code `x<5` will generate a boolean mask (=array) of Ture and False values.\n",
    "\n",
    "Functions for vectors:\n",
    "* `max(x)` - the maximum value in x  \n",
    "* `min(x)` - the minimum value in x  \n",
    "* `sum(x)` - the sum of all values in x  \n",
    "* `mean(x)` - arithmetic average of the values in x  \n",
    "* `median(x)` - median value in x  \n",
    "* `range(x)` - a vector with inside only two values: min(x) and max(x)  \n",
    "* `var(x)` - sample variance of x  \n",
    "* `cor(x, y)` - correlation between x and y vectors  \n",
    "* `sort(x)` - a sorted version of x  \n",
    "* `rank(x)` - a vector with the ranks of the x values, cioè la posizione di ciascun valore se fosse ordinato (tipo associa le posizioni in classifica)\n",
    "* `order(x)` - a vector with the permutations to sort x in asc order, i.e. the indexes of the ordered values of x\n",
    "* `quantile(x)` - a vector with: minimum, lower quantile, median, upper quantile and maximum of x  \n",
    "* `cumsum(x)` - a running sum of the vector elements  \n",
    "* `cumprod(x)` - a running product of the vector elements  \n",
    "* `cummax(x)` - a vector of non-decreasing numbers with the cumulative maxima  \n",
    "* `cummin(x)` - a vector of non-decreasing numbers with the cumulative minima  \n",
    "* `pmax(x, y, z)` - vector containing the maximum of x, y or z for each position  \n",
    "* `pmin(x, y, z)` - vector containing the minimum of x, y or z for each position  \n",
    "* `colMeans(x)` - column means of a dataframe or matrix  \n",
    "* `colSums(x)` - column sums of a dataframe or matrix  \n",
    "* `rowMeans(x)` - row means of a dataframe or matrix  \n",
    "* `rowSums(x)` - row sums of a dataframe or matrix  \n"
   ]
  },
  {
   "cell_type": "code",
   "execution_count": 66,
   "id": "c59b8186-acb8-412c-9eac-403e73a76f53",
   "metadata": {},
   "outputs": [
    {
     "data": {
      "text/html": [
       "<style>\n",
       ".list-inline {list-style: none; margin:0; padding: 0}\n",
       ".list-inline>li {display: inline-block}\n",
       ".list-inline>li:not(:last-child)::after {content: \"\\00b7\"; padding: 0 .5ex}\n",
       "</style>\n",
       "<ol class=list-inline><li>3</li><li>2</li><li>1</li></ol>\n"
      ],
      "text/latex": [
       "\\begin{enumerate*}\n",
       "\\item 3\n",
       "\\item 2\n",
       "\\item 1\n",
       "\\end{enumerate*}\n"
      ],
      "text/markdown": [
       "1. 3\n",
       "2. 2\n",
       "3. 1\n",
       "\n",
       "\n"
      ],
      "text/plain": [
       "[1] 3 2 1"
      ]
     },
     "metadata": {},
     "output_type": "display_data"
    },
    {
     "data": {
      "text/html": [
       "<style>\n",
       ".list-inline {list-style: none; margin:0; padding: 0}\n",
       ".list-inline>li {display: inline-block}\n",
       ".list-inline>li:not(:last-child)::after {content: \"\\00b7\"; padding: 0 .5ex}\n",
       "</style>\n",
       "<ol class=list-inline><li>15</li><li>10</li><li>5</li></ol>\n"
      ],
      "text/latex": [
       "\\begin{enumerate*}\n",
       "\\item 15\n",
       "\\item 10\n",
       "\\item 5\n",
       "\\end{enumerate*}\n"
      ],
      "text/markdown": [
       "1. 15\n",
       "2. 10\n",
       "3. 5\n",
       "\n",
       "\n"
      ],
      "text/plain": [
       "[1] 15 10  5"
      ]
     },
     "metadata": {},
     "output_type": "display_data"
    },
    {
     "name": "stderr",
     "output_type": "stream",
     "text": [
      "Warning message in x * f2:\n",
      "“la lunghezza più lunga dell'oggetto non è un multiplo della lunghezza più corta dell'oggetto”\n"
     ]
    },
    {
     "data": {
      "text/html": [
       "<style>\n",
       ".list-inline {list-style: none; margin:0; padding: 0}\n",
       ".list-inline>li {display: inline-block}\n",
       ".list-inline>li:not(:last-child)::after {content: \"\\00b7\"; padding: 0 .5ex}\n",
       "</style>\n",
       "<ol class=list-inline><li>30</li><li>200</li><li>10</li></ol>\n"
      ],
      "text/latex": [
       "\\begin{enumerate*}\n",
       "\\item 30\n",
       "\\item 200\n",
       "\\item 10\n",
       "\\end{enumerate*}\n"
      ],
      "text/markdown": [
       "1. 30\n",
       "2. 200\n",
       "3. 10\n",
       "\n",
       "\n"
      ],
      "text/plain": [
       "[1]  30 200  10"
      ]
     },
     "metadata": {},
     "output_type": "display_data"
    }
   ],
   "source": [
    "( x <- 3 : 1 )\n",
    "\n",
    "f1 <- 5\n",
    "x*f1            # f1 will be broadcasted to all elements of x\n",
    "\n",
    "f2 <- c(10, 100)\n",
    "x*f2           # the shorter vector, f2, is elongated to cover the length of x"
   ]
  },
  {
   "cell_type": "code",
   "execution_count": 47,
   "id": "78b4553b-d6a3-4cf0-af6c-6aedb40a7014",
   "metadata": {},
   "outputs": [
    {
     "data": {
      "text/html": [
       "5.83333333333333"
      ],
      "text/latex": [
       "5.83333333333333"
      ],
      "text/markdown": [
       "5.83333333333333"
      ],
      "text/plain": [
       "[1] 5.833333"
      ]
     },
     "metadata": {},
     "output_type": "display_data"
    },
    {
     "data": {
      "text/html": [
       "7"
      ],
      "text/latex": [
       "7"
      ],
      "text/markdown": [
       "7"
      ],
      "text/plain": [
       "[1] 7"
      ]
     },
     "metadata": {},
     "output_type": "display_data"
    },
    {
     "data": {
      "text/html": [
       "4"
      ],
      "text/latex": [
       "4"
      ],
      "text/markdown": [
       "4"
      ],
      "text/plain": [
       "[1] 4"
      ]
     },
     "metadata": {},
     "output_type": "display_data"
    },
    {
     "data": {
      "text/html": [
       "<style>\n",
       ".list-inline {list-style: none; margin:0; padding: 0}\n",
       ".list-inline>li {display: inline-block}\n",
       ".list-inline>li:not(:last-child)::after {content: \"\\00b7\"; padding: 0 .5ex}\n",
       "</style>\n",
       "<ol class=list-inline><li>5</li><li>6</li><li>7</li></ol>\n"
      ],
      "text/latex": [
       "\\begin{enumerate*}\n",
       "\\item 5\n",
       "\\item 6\n",
       "\\item 7\n",
       "\\end{enumerate*}\n"
      ],
      "text/markdown": [
       "1. 5\n",
       "2. 6\n",
       "3. 7\n",
       "\n",
       "\n"
      ],
      "text/plain": [
       "[1] 5 6 7"
      ]
     },
     "metadata": {},
     "output_type": "display_data"
    },
    {
     "data": {
      "text/html": [
       "<style>\n",
       ".list-inline {list-style: none; margin:0; padding: 0}\n",
       ".list-inline>li {display: inline-block}\n",
       ".list-inline>li:not(:last-child)::after {content: \"\\00b7\"; padding: 0 .5ex}\n",
       "</style>\n",
       "<ol class=list-inline><li>1</li><li>1</li><li>1</li><li>1</li><li>1</li></ol>\n"
      ],
      "text/latex": [
       "\\begin{enumerate*}\n",
       "\\item 1\n",
       "\\item 1\n",
       "\\item 1\n",
       "\\item 1\n",
       "\\item 1\n",
       "\\end{enumerate*}\n"
      ],
      "text/markdown": [
       "1. 1\n",
       "2. 1\n",
       "3. 1\n",
       "4. 1\n",
       "5. 1\n",
       "\n",
       "\n"
      ],
      "text/plain": [
       "[1] 1 1 1 1 1"
      ]
     },
     "metadata": {},
     "output_type": "display_data"
    },
    {
     "data": {
      "text/html": [
       "<style>\n",
       ".list-inline {list-style: none; margin:0; padding: 0}\n",
       ".list-inline>li {display: inline-block}\n",
       ".list-inline>li:not(:last-child)::after {content: \"\\00b7\"; padding: 0 .5ex}\n",
       "</style>\n",
       "<ol class=list-inline><li>1</li><li>2</li><li>2</li><li>3</li><li>3</li><li>3</li><li>4</li><li>4</li><li>4</li><li>4</li></ol>\n"
      ],
      "text/latex": [
       "\\begin{enumerate*}\n",
       "\\item 1\n",
       "\\item 2\n",
       "\\item 2\n",
       "\\item 3\n",
       "\\item 3\n",
       "\\item 3\n",
       "\\item 4\n",
       "\\item 4\n",
       "\\item 4\n",
       "\\item 4\n",
       "\\end{enumerate*}\n"
      ],
      "text/markdown": [
       "1. 1\n",
       "2. 2\n",
       "3. 2\n",
       "4. 3\n",
       "5. 3\n",
       "6. 3\n",
       "7. 4\n",
       "8. 4\n",
       "9. 4\n",
       "10. 4\n",
       "\n",
       "\n"
      ],
      "text/plain": [
       " [1] 1 2 2 3 3 3 4 4 4 4"
      ]
     },
     "metadata": {},
     "output_type": "display_data"
    }
   ],
   "source": [
    "vec <- c(4, 7, 6, 5, 6, 7)\n",
    "mean(vec)\n",
    "max(vec)\n",
    "vec[1]\n",
    "vec[-c(1,2,3)]\n",
    "rep(1,5)\n",
    "rep (1:4, 1:4)    # replicate each sequence number a different number of times"
   ]
  },
  {
   "cell_type": "code",
   "execution_count": 67,
   "id": "230bf85e-815a-458f-a3dd-5b4b2fbe645e",
   "metadata": {},
   "outputs": [
    {
     "data": {
      "text/html": [
       "<style>\n",
       ".list-inline {list-style: none; margin:0; padding: 0}\n",
       ".list-inline>li {display: inline-block}\n",
       ".list-inline>li:not(:last-child)::after {content: \"\\00b7\"; padding: 0 .5ex}\n",
       "</style>\n",
       "<ol class=list-inline><li>1</li><li>20</li></ol>\n"
      ],
      "text/latex": [
       "\\begin{enumerate*}\n",
       "\\item 1\n",
       "\\item 20\n",
       "\\end{enumerate*}\n"
      ],
      "text/markdown": [
       "1. 1\n",
       "2. 20\n",
       "\n",
       "\n"
      ],
      "text/plain": [
       "[1]  1 20"
      ]
     },
     "metadata": {},
     "output_type": "display_data"
    },
    {
     "data": {
      "text/html": [
       "<style>\n",
       ".list-inline {list-style: none; margin:0; padding: 0}\n",
       ".list-inline>li {display: inline-block}\n",
       ".list-inline>li:not(:last-child)::after {content: \"\\00b7\"; padding: 0 .5ex}\n",
       "</style>\n",
       "<ol class=list-inline><li>4</li><li>2</li><li>3</li><li>5</li><li>1</li></ol>\n"
      ],
      "text/latex": [
       "\\begin{enumerate*}\n",
       "\\item 4\n",
       "\\item 2\n",
       "\\item 3\n",
       "\\item 5\n",
       "\\item 1\n",
       "\\end{enumerate*}\n"
      ],
      "text/markdown": [
       "1. 4\n",
       "2. 2\n",
       "3. 3\n",
       "4. 5\n",
       "5. 1\n",
       "\n",
       "\n"
      ],
      "text/plain": [
       "[1] 4 2 3 5 1"
      ]
     },
     "metadata": {},
     "output_type": "display_data"
    },
    {
     "data": {
      "text/html": [
       "<style>\n",
       ".list-inline {list-style: none; margin:0; padding: 0}\n",
       ".list-inline>li {display: inline-block}\n",
       ".list-inline>li:not(:last-child)::after {content: \"\\00b7\"; padding: 0 .5ex}\n",
       "</style>\n",
       "<ol class=list-inline><li>5</li><li>2</li><li>3</li><li>1</li><li>4</li></ol>\n"
      ],
      "text/latex": [
       "\\begin{enumerate*}\n",
       "\\item 5\n",
       "\\item 2\n",
       "\\item 3\n",
       "\\item 1\n",
       "\\item 4\n",
       "\\end{enumerate*}\n"
      ],
      "text/markdown": [
       "1. 5\n",
       "2. 2\n",
       "3. 3\n",
       "4. 1\n",
       "5. 4\n",
       "\n",
       "\n"
      ],
      "text/plain": [
       "[1] 5 2 3 1 4"
      ]
     },
     "metadata": {},
     "output_type": "display_data"
    },
    {
     "data": {
      "text/html": [
       "<style>\n",
       ".list-inline {list-style: none; margin:0; padding: 0}\n",
       ".list-inline>li {display: inline-block}\n",
       ".list-inline>li:not(:last-child)::after {content: \"\\00b7\"; padding: 0 .5ex}\n",
       "</style>\n",
       "<ol class=list-inline><li>1</li><li>5</li><li>8</li><li>10</li><li>20</li></ol>\n"
      ],
      "text/latex": [
       "\\begin{enumerate*}\n",
       "\\item 1\n",
       "\\item 5\n",
       "\\item 8\n",
       "\\item 10\n",
       "\\item 20\n",
       "\\end{enumerate*}\n"
      ],
      "text/markdown": [
       "1. 1\n",
       "2. 5\n",
       "3. 8\n",
       "4. 10\n",
       "5. 20\n",
       "\n",
       "\n"
      ],
      "text/plain": [
       "[1]  1  5  8 10 20"
      ]
     },
     "metadata": {},
     "output_type": "display_data"
    }
   ],
   "source": [
    "x <- c(10, 5, 8, 20, 1)\n",
    "range(x)\n",
    "rank(x)\n",
    "order(x)\n",
    "x[order(x)]"
   ]
  },
  {
   "cell_type": "markdown",
   "id": "cbe0da16-7160-4d8c-a90c-e579590c0f30",
   "metadata": {},
   "source": [
    "We can also set names to the elments with:"
   ]
  },
  {
   "cell_type": "code",
   "execution_count": 70,
   "id": "79f9c672-e2b2-4a39-9d47-69c767e18d9a",
   "metadata": {},
   "outputs": [
    {
     "data": {
      "text/html": [
       "<style>\n",
       ".dl-inline {width: auto; margin:0; padding: 0}\n",
       ".dl-inline>dt, .dl-inline>dd {float: none; width: auto; display: inline-block}\n",
       ".dl-inline>dt::after {content: \":\\0020\"; padding-right: .5ex}\n",
       ".dl-inline>dt:not(:first-of-type) {padding-left: .5ex}\n",
       "</style><dl class=dl-inline><dt>a</dt><dd>1</dd><dt>b</dt><dd>2</dd><dt>c</dt><dd>3</dd></dl>\n"
      ],
      "text/latex": [
       "\\begin{description*}\n",
       "\\item[a] 1\n",
       "\\item[b] 2\n",
       "\\item[c] 3\n",
       "\\end{description*}\n"
      ],
      "text/markdown": [
       "a\n",
       ":   1b\n",
       ":   2c\n",
       ":   3\n",
       "\n"
      ],
      "text/plain": [
       "a b c \n",
       "1 2 3 "
      ]
     },
     "metadata": {},
     "output_type": "display_data"
    },
    {
     "data": {
      "text/html": [
       "<style>\n",
       ".list-inline {list-style: none; margin:0; padding: 0}\n",
       ".list-inline>li {display: inline-block}\n",
       ".list-inline>li:not(:last-child)::after {content: \"\\00b7\"; padding: 0 .5ex}\n",
       "</style>\n",
       "<ol class=list-inline><li>'a'</li><li>'b'</li><li>'c'</li></ol>\n"
      ],
      "text/latex": [
       "\\begin{enumerate*}\n",
       "\\item 'a'\n",
       "\\item 'b'\n",
       "\\item 'c'\n",
       "\\end{enumerate*}\n"
      ],
      "text/markdown": [
       "1. 'a'\n",
       "2. 'b'\n",
       "3. 'c'\n",
       "\n",
       "\n"
      ],
      "text/plain": [
       "[1] \"a\" \"b\" \"c\""
      ]
     },
     "metadata": {},
     "output_type": "display_data"
    }
   ],
   "source": [
    "x <- c(a=1, b=2, c=3)\n",
    "x\n",
    "names(x)"
   ]
  },
  {
   "cell_type": "markdown",
   "id": "bb1b01e4-01c9-4502-a6f2-6c36fde5c55f",
   "metadata": {},
   "source": [
    "#### SEQUENCES\n",
    "R provides and easy way to generate a sequence of numbers. With `a:b` it creates a sequence from a to b (also in inverse if a>b), but only of step=1. If you want something eslse use `seq(start, stop, step)` for decididng th step or `seq(start, stop, length=n)` for deciding how many numbers."
   ]
  },
  {
   "cell_type": "code",
   "execution_count": 41,
   "id": "a1101f98-5e69-4cd5-a2a7-b3091b153fac",
   "metadata": {},
   "outputs": [
    {
     "data": {
      "text/html": [
       "<style>\n",
       ".list-inline {list-style: none; margin:0; padding: 0}\n",
       ".list-inline>li {display: inline-block}\n",
       ".list-inline>li:not(:last-child)::after {content: \"\\00b7\"; padding: 0 .5ex}\n",
       "</style>\n",
       "<ol class=list-inline><li>0</li><li>1</li><li>2</li><li>3</li><li>4</li><li>5</li></ol>\n"
      ],
      "text/latex": [
       "\\begin{enumerate*}\n",
       "\\item 0\n",
       "\\item 1\n",
       "\\item 2\n",
       "\\item 3\n",
       "\\item 4\n",
       "\\item 5\n",
       "\\end{enumerate*}\n"
      ],
      "text/markdown": [
       "1. 0\n",
       "2. 1\n",
       "3. 2\n",
       "4. 3\n",
       "5. 4\n",
       "6. 5\n",
       "\n",
       "\n"
      ],
      "text/plain": [
       "[1] 0 1 2 3 4 5"
      ]
     },
     "metadata": {},
     "output_type": "display_data"
    },
    {
     "data": {
      "text/html": [
       "<style>\n",
       ".list-inline {list-style: none; margin:0; padding: 0}\n",
       ".list-inline>li {display: inline-block}\n",
       ".list-inline>li:not(:last-child)::after {content: \"\\00b7\"; padding: 0 .5ex}\n",
       "</style>\n",
       "<ol class=list-inline><li>5</li><li>4</li><li>3</li><li>2</li><li>1</li><li>0</li><li>-1</li><li>-2</li></ol>\n"
      ],
      "text/latex": [
       "\\begin{enumerate*}\n",
       "\\item 5\n",
       "\\item 4\n",
       "\\item 3\n",
       "\\item 2\n",
       "\\item 1\n",
       "\\item 0\n",
       "\\item -1\n",
       "\\item -2\n",
       "\\end{enumerate*}\n"
      ],
      "text/markdown": [
       "1. 5\n",
       "2. 4\n",
       "3. 3\n",
       "4. 2\n",
       "5. 1\n",
       "6. 0\n",
       "7. -1\n",
       "8. -2\n",
       "\n",
       "\n"
      ],
      "text/plain": [
       "[1]  5  4  3  2  1  0 -1 -2"
      ]
     },
     "metadata": {},
     "output_type": "display_data"
    },
    {
     "data": {
      "text/html": [
       "<style>\n",
       ".list-inline {list-style: none; margin:0; padding: 0}\n",
       ".list-inline>li {display: inline-block}\n",
       ".list-inline>li:not(:last-child)::after {content: \"\\00b7\"; padding: 0 .5ex}\n",
       "</style>\n",
       "<ol class=list-inline><li>-1</li><li>-0.5</li><li>0</li><li>0.5</li><li>1</li></ol>\n"
      ],
      "text/latex": [
       "\\begin{enumerate*}\n",
       "\\item -1\n",
       "\\item -0.5\n",
       "\\item 0\n",
       "\\item 0.5\n",
       "\\item 1\n",
       "\\end{enumerate*}\n"
      ],
      "text/markdown": [
       "1. -1\n",
       "2. -0.5\n",
       "3. 0\n",
       "4. 0.5\n",
       "5. 1\n",
       "\n",
       "\n"
      ],
      "text/plain": [
       "[1] -1.0 -0.5  0.0  0.5  1.0"
      ]
     },
     "metadata": {},
     "output_type": "display_data"
    }
   ],
   "source": [
    "0:5\n",
    "5:-2\n",
    "seq(-1, 1, 0.5)"
   ]
  },
  {
   "cell_type": "markdown",
   "id": "f8ca25bf-6d9e-4a0e-a033-50b9cb67075c",
   "metadata": {},
   "source": [
    "#### MATRIXES\n",
    "With the `dim(x)` attribute of a vector, we change its dimension for example in a matrix, 'reshaping' it and its elements in a wanted dimension c(dim1, dim2...)."
   ]
  },
  {
   "cell_type": "code",
   "execution_count": 74,
   "id": "ab08e362-97bb-4f1b-b26a-6259ed403138",
   "metadata": {},
   "outputs": [
    {
     "data": {
      "text/html": [
       "<style>\n",
       ".list-inline {list-style: none; margin:0; padding: 0}\n",
       ".list-inline>li {display: inline-block}\n",
       ".list-inline>li:not(:last-child)::after {content: \"\\00b7\"; padding: 0 .5ex}\n",
       "</style>\n",
       "<ol class=list-inline><li>1</li><li>2</li><li>3</li><li>4</li><li>5</li><li>6</li><li>7</li><li>8</li><li>9</li><li>10</li><li>11</li><li>12</li><li>13</li><li>14</li><li>15</li><li>16</li><li>17</li><li>18</li><li>19</li><li>20</li></ol>\n"
      ],
      "text/latex": [
       "\\begin{enumerate*}\n",
       "\\item 1\n",
       "\\item 2\n",
       "\\item 3\n",
       "\\item 4\n",
       "\\item 5\n",
       "\\item 6\n",
       "\\item 7\n",
       "\\item 8\n",
       "\\item 9\n",
       "\\item 10\n",
       "\\item 11\n",
       "\\item 12\n",
       "\\item 13\n",
       "\\item 14\n",
       "\\item 15\n",
       "\\item 16\n",
       "\\item 17\n",
       "\\item 18\n",
       "\\item 19\n",
       "\\item 20\n",
       "\\end{enumerate*}\n"
      ],
      "text/markdown": [
       "1. 1\n",
       "2. 2\n",
       "3. 3\n",
       "4. 4\n",
       "5. 5\n",
       "6. 6\n",
       "7. 7\n",
       "8. 8\n",
       "9. 9\n",
       "10. 10\n",
       "11. 11\n",
       "12. 12\n",
       "13. 13\n",
       "14. 14\n",
       "15. 15\n",
       "16. 16\n",
       "17. 17\n",
       "18. 18\n",
       "19. 19\n",
       "20. 20\n",
       "\n",
       "\n"
      ],
      "text/plain": [
       " [1]  1  2  3  4  5  6  7  8  9 10 11 12 13 14 15 16 17 18 19 20"
      ]
     },
     "metadata": {},
     "output_type": "display_data"
    },
    {
     "data": {
      "text/html": [
       "<table class=\"dataframe\">\n",
       "<caption>A matrix: 4 × 5 of type int</caption>\n",
       "<tbody>\n",
       "\t<tr><td>1</td><td>5</td><td> 9</td><td>13</td><td>17</td></tr>\n",
       "\t<tr><td>2</td><td>6</td><td>10</td><td>14</td><td>18</td></tr>\n",
       "\t<tr><td>3</td><td>7</td><td>11</td><td>15</td><td>19</td></tr>\n",
       "\t<tr><td>4</td><td>8</td><td>12</td><td>16</td><td>20</td></tr>\n",
       "</tbody>\n",
       "</table>\n"
      ],
      "text/latex": [
       "A matrix: 4 × 5 of type int\n",
       "\\begin{tabular}{lllll}\n",
       "\t 1 & 5 &  9 & 13 & 17\\\\\n",
       "\t 2 & 6 & 10 & 14 & 18\\\\\n",
       "\t 3 & 7 & 11 & 15 & 19\\\\\n",
       "\t 4 & 8 & 12 & 16 & 20\\\\\n",
       "\\end{tabular}\n"
      ],
      "text/markdown": [
       "\n",
       "A matrix: 4 × 5 of type int\n",
       "\n",
       "| 1 | 5 |  9 | 13 | 17 |\n",
       "| 2 | 6 | 10 | 14 | 18 |\n",
       "| 3 | 7 | 11 | 15 | 19 |\n",
       "| 4 | 8 | 12 | 16 | 20 |\n",
       "\n"
      ],
      "text/plain": [
       "     [,1] [,2] [,3] [,4] [,5]\n",
       "[1,] 1    5     9   13   17  \n",
       "[2,] 2    6    10   14   18  \n",
       "[3,] 3    7    11   15   19  \n",
       "[4,] 4    8    12   16   20  "
      ]
     },
     "metadata": {},
     "output_type": "display_data"
    }
   ],
   "source": [
    "vec <- c(1:20); vec\n",
    "dim(vec) <- c(4,5); vec"
   ]
  },
  {
   "cell_type": "markdown",
   "id": "1d96b2cb-24bb-4303-b939-2987d1e1c9b6",
   "metadata": {},
   "source": [
    "We can directly define a matrix with `matrix(elements, nrow, ncol, byrow)`. L'opzione byrow decide se riempire la matrice per righe o per colonne. We can later reshape it using `dim`. An element is accessed with `mat[row,col]`. \n",
    "\n",
    "We multiply matrixes with `%*%`.\n",
    "\n",
    "We can define diagonal matrixes with `diag(elem, nrow, ncol)`. \n",
    "\n",
    "We can compute the determinant with `det(mat)`.\n",
    "\n",
    "Con `solve(mat, b)` possiamo risolvere un sistema lineare Ax=b, il che significa invertire la matrice mat nel caso in cui b=0, cioè con `solve(mat)`."
   ]
  },
  {
   "cell_type": "code",
   "execution_count": 79,
   "id": "2e7e2052-05eb-4d7c-82bf-0906b28fdebc",
   "metadata": {},
   "outputs": [
    {
     "data": {
      "text/html": [
       "<table class=\"dataframe\">\n",
       "<caption>A matrix: 3 × 4 of type int</caption>\n",
       "<tbody>\n",
       "\t<tr><td>1</td><td>4</td><td>7</td><td>10</td></tr>\n",
       "\t<tr><td>2</td><td>5</td><td>8</td><td>11</td></tr>\n",
       "\t<tr><td>3</td><td>6</td><td>9</td><td>12</td></tr>\n",
       "</tbody>\n",
       "</table>\n"
      ],
      "text/latex": [
       "A matrix: 3 × 4 of type int\n",
       "\\begin{tabular}{llll}\n",
       "\t 1 & 4 & 7 & 10\\\\\n",
       "\t 2 & 5 & 8 & 11\\\\\n",
       "\t 3 & 6 & 9 & 12\\\\\n",
       "\\end{tabular}\n"
      ],
      "text/markdown": [
       "\n",
       "A matrix: 3 × 4 of type int\n",
       "\n",
       "| 1 | 4 | 7 | 10 |\n",
       "| 2 | 5 | 8 | 11 |\n",
       "| 3 | 6 | 9 | 12 |\n",
       "\n"
      ],
      "text/plain": [
       "     [,1] [,2] [,3] [,4]\n",
       "[1,] 1    4    7    10  \n",
       "[2,] 2    5    8    11  \n",
       "[3,] 3    6    9    12  "
      ]
     },
     "metadata": {},
     "output_type": "display_data"
    },
    {
     "data": {
      "text/html": [
       "<style>\n",
       ".list-inline {list-style: none; margin:0; padding: 0}\n",
       ".list-inline>li {display: inline-block}\n",
       ".list-inline>li:not(:last-child)::after {content: \"\\00b7\"; padding: 0 .5ex}\n",
       "</style>\n",
       "<ol class=list-inline><li>7</li><li>8</li><li>9</li></ol>\n"
      ],
      "text/latex": [
       "\\begin{enumerate*}\n",
       "\\item 7\n",
       "\\item 8\n",
       "\\item 9\n",
       "\\end{enumerate*}\n"
      ],
      "text/markdown": [
       "1. 7\n",
       "2. 8\n",
       "3. 9\n",
       "\n",
       "\n"
      ],
      "text/plain": [
       "[1] 7 8 9"
      ]
     },
     "metadata": {},
     "output_type": "display_data"
    }
   ],
   "source": [
    "m1 <- matrix(1:12, nrow=3); m1\n",
    "m1[,3]      # all third column"
   ]
  },
  {
   "cell_type": "markdown",
   "id": "091feb26-04f4-4cd7-8a64-bb2b22d4a7f6",
   "metadata": {},
   "source": [
    "#### ARRAY\n",
    "An array is a multi-dimensional object where all the entries have the same class. The dimensions of an array are specified by its dim argument."
   ]
  },
  {
   "cell_type": "code",
   "execution_count": 80,
   "id": "a612d10a-af1f-4e0e-9816-ef00be5e2e7c",
   "metadata": {},
   "outputs": [
    {
     "data": {
      "text/html": [
       "<style>\n",
       ".list-inline {list-style: none; margin:0; padding: 0}\n",
       ".list-inline>li {display: inline-block}\n",
       ".list-inline>li:not(:last-child)::after {content: \"\\00b7\"; padding: 0 .5ex}\n",
       "</style>\n",
       "<ol class=list-inline><li>1</li><li>2</li><li>3</li><li>4</li><li>5</li><li>6</li><li>7</li><li>8</li><li>9</li><li>10</li><li>11</li><li>12</li><li>13</li><li>14</li><li>15</li><li>16</li><li>17</li><li>18</li><li>19</li><li>20</li><li>21</li><li>22</li><li>23</li><li>24</li></ol>\n"
      ],
      "text/latex": [
       "\\begin{enumerate*}\n",
       "\\item 1\n",
       "\\item 2\n",
       "\\item 3\n",
       "\\item 4\n",
       "\\item 5\n",
       "\\item 6\n",
       "\\item 7\n",
       "\\item 8\n",
       "\\item 9\n",
       "\\item 10\n",
       "\\item 11\n",
       "\\item 12\n",
       "\\item 13\n",
       "\\item 14\n",
       "\\item 15\n",
       "\\item 16\n",
       "\\item 17\n",
       "\\item 18\n",
       "\\item 19\n",
       "\\item 20\n",
       "\\item 21\n",
       "\\item 22\n",
       "\\item 23\n",
       "\\item 24\n",
       "\\end{enumerate*}\n"
      ],
      "text/markdown": [
       "1. 1\n",
       "2. 2\n",
       "3. 3\n",
       "4. 4\n",
       "5. 5\n",
       "6. 6\n",
       "7. 7\n",
       "8. 8\n",
       "9. 9\n",
       "10. 10\n",
       "11. 11\n",
       "12. 12\n",
       "13. 13\n",
       "14. 14\n",
       "15. 15\n",
       "16. 16\n",
       "17. 17\n",
       "18. 18\n",
       "19. 19\n",
       "20. 20\n",
       "21. 21\n",
       "22. 22\n",
       "23. 23\n",
       "24. 24\n",
       "\n",
       "\n"
      ],
      "text/plain": [
       ", , 1\n",
       "\n",
       "     [,1] [,2] [,3] [,4]\n",
       "[1,]    1    3    5    7\n",
       "[2,]    2    4    6    8\n",
       "\n",
       ", , 2\n",
       "\n",
       "     [,1] [,2] [,3] [,4]\n",
       "[1,]    9   11   13   15\n",
       "[2,]   10   12   14   16\n",
       "\n",
       ", , 3\n",
       "\n",
       "     [,1] [,2] [,3] [,4]\n",
       "[1,]   17   19   21   23\n",
       "[2,]   18   20   22   24\n"
      ]
     },
     "metadata": {},
     "output_type": "display_data"
    }
   ],
   "source": [
    "ar <- array(1:24, dim = c(2, 4, 3) ); ar"
   ]
  },
  {
   "cell_type": "code",
   "execution_count": null,
   "id": "e8db0303-d35c-492f-a0a3-3bf8182f2415",
   "metadata": {},
   "outputs": [],
   "source": []
  },
  {
   "cell_type": "code",
   "execution_count": null,
   "id": "60c219e6-315a-40f1-9ab2-433f719b60cf",
   "metadata": {},
   "outputs": [],
   "source": []
  },
  {
   "cell_type": "code",
   "execution_count": null,
   "id": "30ecd839-5fef-4215-91ad-1e5fa6b87d11",
   "metadata": {},
   "outputs": [],
   "source": []
  },
  {
   "cell_type": "code",
   "execution_count": null,
   "id": "6f80bd5a-16b3-46ef-8d63-d97ca1d881c8",
   "metadata": {},
   "outputs": [],
   "source": []
  }
 ],
 "metadata": {
  "kernelspec": {
   "display_name": "R",
   "language": "R",
   "name": "ir"
  },
  "language_info": {
   "codemirror_mode": "r",
   "file_extension": ".r",
   "mimetype": "text/x-r-source",
   "name": "R",
   "pygments_lexer": "r",
   "version": "4.3.1"
  }
 },
 "nbformat": 4,
 "nbformat_minor": 5
}
