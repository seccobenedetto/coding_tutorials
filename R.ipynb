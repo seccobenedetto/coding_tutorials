{
 "cells": [
  {
   "cell_type": "markdown",
   "id": "2a543f81-ce8d-453f-bca7-6589d7a7ede9",
   "metadata": {},
   "source": [
    "<center><h1><b>R LANGUAGE</b></h1></center>\n"
   ]
  },
  {
   "cell_type": "markdown",
   "id": "6d6b711d-aa52-4d39-9486-d4a256f6ee5e",
   "metadata": {},
   "source": [
    "## 00 - INTRODUCTION TO R\n",
    "\n",
    "#### WHAT IS R\n",
    "R is a powerful programming language and environment primarily used for statistical computing, data analysis, and visualization. It was developed in the early 1990s. Today, R is widely used in academia, research, and industry, particularly in fields like data science, finance, and bioinformatics.\n",
    "\n",
    "One of R's key strengths is its extensive ecosystem of packages that provide tools for machine learning, time series analysis, and graphical representation of data. R also excels in data visualization, thanks to libraries like ggplot2, which enable users to create complex and aesthetically pleasing charts.\n",
    "\n",
    "Despite being primarily designed for statistical tasks, R is a fully free and functional programming language that supports object-oriented and functional programming paradigms. It integrates well with other languages such as Python and C++, making it a versatile choice for data-driven projects.\n",
    "\n",
    "For more info see [here](https://www.r-project.org/).\n",
    "\n",
    "#### HOW CAN I USE IT\n",
    "R can be used in multiple environments:\n",
    "* RStudio: The most popular integrated development environment (IDE) for R, providing a user-friendly interface, debugging tools, and built-in support for visualization and package management.\n",
    "* Bash (Command Line): R can be run directly from the terminal or command prompt using the R or Rscript commands, allowing for automation and scripting. (after installation, it's sufficient to type 'R' in the shell)\n",
    "* Jupyter Notebook: By installing the IRKernel, R can be used in Jupyter Notebooks, enabling integration with Python and other languages.\n",
    "\n",
    "#### MAIN DIFFERENCES WITH PYTHON\n",
    "* R uses curly braces `{}` to define code blocks, and indentation is optional\n",
    "* R only supports `#` for single-line comments; no built-in multi-line comment syntax (like apexes in python)\n",
    "* R uses `<-` for variable assignment (though '=' and '->' also works in some cases)\n",
    "* R uses install.packages() for package installation (instead of conda install)\n",
    "* two or more expressions can be placed on the same line, if are separated by `;`\n",
    "* you can print an object during definition including it inside parenthesis `(object)`\n",
    "* vector indexing starts at 1, not 0!\n",
    "* the integers are initialized with the letter `L` (=long), as in `x <- 2L`\n",
    "\n",
    "#### OTHER PECULIARITIES TO REMEMBER:\n",
    "* variable names are case sensitive : y different from Y\n",
    "* variable names must not begin with numbers (like '4t') or symbols ('%8')\n",
    "* variable names must not contain blank spaces (use 'm.value' or 'm_value' instead of 'm value')\n",
    "* In R the focus is efficiency, so for example only the needed objects will be loaded in memory and/or looked for. For example in *if ( TRUE || variable )* only *TRUE* will be evaluated.\n",
    "\n",
    "Both languages are powerful, but Python is more versatile, while R is specialized for statistical computing and data visualization.\n",
    "\n",
    "Everytime we quit from an R session (function *q()*), we are asked if want to save the current R workspace\n",
    "workspace image (a copy of your current environment). It includes anything that is user defined, from data frames to functions. R creates a hidden file called *.RData* in your current working directory. The file (i.e. the environmnt) is loaded the next time R is started."
   ]
  },
  {
   "cell_type": "markdown",
   "id": "a0220e59-bdf7-4898-9aa9-33180816bb24",
   "metadata": {},
   "source": [
    "#### PACKAGES\n",
    "To install a package use `install.packages(package_name)`.\\\n",
    "To update all packages use `update.packages(ask=False)`.\\\n",
    "With `installed.packages()` we can see a list with all installed packages.\\\n",
    "To load an already installed package we use `library(package_name)`.\n",
    "\n",
    "Quando carichi un pacchetto in R (es. dplyr), le sue funzioni diventano disponibili in prima linea, cioè vengono preferite rispetto a quelle con lo stesso nome di altri pacchetti già caricati (come stats o base). Significa che quando scrivi filter(...), R userà la versione di dplyr, non quella di stats. Se per caso vuoi comunque usare quella originale, puoi farlo specificandolo così:\n",
    "\n",
    "```R\n",
    "stats::filter(...) # esempio\n",
    "```\n",
    "\n",
    "A very common package for Data Science is Tidyverse, a collection of data science packages designed to work together in a consistent and elegant way for data manipulation and visualization in R:\n",
    "* `ggplot2` – *Data Visualization*: A powerful system for creating static graphics using the Grammar of Graphics. You can layer components (data, aesthetics, geometries, etc.) to build complex plots easily.\n",
    "* `dplyr` – *Data Manipulation*: Provides a fast, consistent way to manipulate data frames with verbs like filter(), select(), mutate(), summarize(), and arrange().\n",
    "* `tidyr` – *Data Reshaping*: Helps you tidy your data: spreading and gathering columns, separating or uniting columns. Key functions: pivot_longer(), pivot_wider(), separate(), unite()\n",
    "* `readr` – *Reading Rectangular Data*: Fast and friendly functions to read data files like CSV and TSV. Offers clear parsing and helpful error messages.\n",
    "* `purrr` – *Functional Programming Tools*: Makes it easier to work with functions and lists — better alternatives to apply() family. Key functions: map(), map_df(), map2(), pmap().\n",
    "* `tibble` – *Modern Data Frames*: A modern, simpler take on data frames. Prints nicely and doesn't convert strings to factors by default.\n",
    "* `stringr` – *String Manipulation*: Consistent and simple functions for working with strings. Everything starts with str_, like str_detect(), str_replace(), str_split().\n",
    "* `forcats` – *Handling Categorical Variables (Factors)*: Helps you manipulate factors (ordered or unordered categorical variables). Useful functions: fct_reorder(), fct_lump(), fct_recode()."
   ]
  },
  {
   "cell_type": "markdown",
   "id": "a059c913-fb96-4512-91fa-11d2993d5530",
   "metadata": {},
   "source": [
    "---"
   ]
  },
  {
   "cell_type": "markdown",
   "id": "2d864e18-cbaa-48d4-8e54-44bc0b28153f",
   "metadata": {},
   "source": [
    "## 01 - FUNDAMENTALS"
   ]
  },
  {
   "cell_type": "markdown",
   "id": "70c67280-1e62-4f1a-b9b7-fb8bffd93159",
   "metadata": {},
   "source": [
    "#### GETTING HELP\n",
    "You can ask for help to R with: \n",
    "* a symbol `?` before a command\n",
    "* `help.search(\"keyword\")`: cerca documentazione relativa a un termine specifico all'interno di pacchetti installati. È utile se non conosci il nome esatto della funzione.\n",
    "* `find(\"function_name\")`: cerca in quali pacchetti caricati è definita una funzione specifica.\n",
    "* `apropos(\"keyword\")`: cerca oggetti nel workspace e nei pacchetti caricati.\n",
    "* `library(help=package_name)`: gives us details on a package"
   ]
  },
  {
   "cell_type": "code",
   "execution_count": 1,
   "id": "18a6559e-ea84-43aa-b0c1-3a4716c945e5",
   "metadata": {},
   "outputs": [
    {
     "name": "stderr",
     "output_type": "stream",
     "text": [
      "\n",
      "Caricamento pacchetto: ‘dplyr’\n",
      "\n",
      "\n",
      "I seguenti oggetti sono mascherati da ‘package:stats’:\n",
      "\n",
      "    filter, lag\n",
      "\n",
      "\n",
      "I seguenti oggetti sono mascherati da ‘package:base’:\n",
      "\n",
      "    intersect, setdiff, setequal, union\n",
      "\n",
      "\n"
     ]
    }
   ],
   "source": [
    "library(png)\n",
    "library(grid)\n",
    "library(dplyr)"
   ]
  },
  {
   "cell_type": "markdown",
   "id": "18528269-8ba2-4c8b-9331-cd98f92365be",
   "metadata": {},
   "source": [
    "#### OBJECTS\n",
    "To list all the objects created with the current session, use the `ls()` or `objects()` functions.\\\n",
    "To list all the packages and data frames currently attached to the running R session, use `search()`.\\\n",
    "To show the structure of an object (functions...), in a compact way, the `str()` (=structure) function can be used. For something more see [this package](https://github.com/r-lib/lobstr).\n",
    "TO print things you can use `cat(...)` (stampa tutto sulla stessa riga), or `print(...)` (che va a capo ogni volta)."
   ]
  },
  {
   "cell_type": "markdown",
   "id": "c5d569cf-39c0-451b-8c49-d5d9c5a36859",
   "metadata": {},
   "source": [
    "#### CLASSES AND S3\n",
    "Central to any object-oriented system are the concepts of class and method. A class defines a type of object, describing what properties it possesses, how it behaves, and how it relates to other types of objects. Every object must be an instance of some class. A method is a function associated with a particular type of object. Objects are not limited to a single class, and can have many classes.\n",
    "\n",
    "In particular, S3 is a class system in R. It's a way to define object-oriented behavior — that is, how R should behave when different types of objects are used with generic functions like print(), summary(), plot(), etc. S3 is informal and flexible, not strict like systems in other languages. It’s based on classes and methods. It’s called “S3” because it was introduced in S language version 3 (R is derived from S).\n",
    "\n",
    "Most objects in R are S3 objects, including: Data frames (class(df) → \"data.frame\"), Factors (class(f) → \"factor\"), Linear models (lm(...) → \"lm\"); even atomic vectors like numeric or character have classes (\"numeric\", \"character\").\n",
    "\n",
    "It is useful because you can create custom object types and define how R should behave with them."
   ]
  },
  {
   "cell_type": "code",
   "execution_count": 5,
   "id": "dedb6657-9c77-4dea-b5d7-804c525c2405",
   "metadata": {},
   "outputs": [
    {
     "data": {
      "text/html": [
       "'myclass'"
      ],
      "text/latex": [
       "'myclass'"
      ],
      "text/markdown": [
       "'myclass'"
      ],
      "text/plain": [
       "[1] \"myclass\""
      ]
     },
     "metadata": {},
     "output_type": "display_data"
    }
   ],
   "source": [
    "# let's define a custom class:\n",
    "prova <- 1:10\n",
    "class(prova) <- \"myclass\"\n",
    "class(prova)"
   ]
  },
  {
   "cell_type": "markdown",
   "id": "acc6ee70-be77-4baa-8f3e-7ded72b8ccda",
   "metadata": {},
   "source": [
    "#### SAVING AND LOADING\n",
    "To save the current R session, so that it can be loaded at a later stage to continue working on it:\n",
    "`save(list = ls(all=TRUE), file = \"my-session\")`. To then load it: `load(file= \"my-session\")`.\n",
    "\n",
    "to save only the lines of code that have been typed in an R session: `savehistory(file = \"my-history.R\")`. To then load it: `loadhistory(file = \"my-history.R\")`.\n",
    "\n",
    "**Graphics** can be saved in either pdf or JPEG/PNG to include them in a report. The procedure is for example to open a new PNG device, with the png() function, then all commands needed to create the graphics can be typed in the R session, and once finished, the device has to be closed with the dev.off() function.\n",
    "```R\n",
    "Example:\n",
    "pdf(\"my-plot.png\")\n",
    "hist(rnorm(10000))\n",
    "dev.off()\n",
    "```\n",
    "\n",
    "To save data in a file we can use the `write(..)` command with this syntax:\n",
    "`write(x, file = \"filename.txt\", append = FALSE, sep = \" \")`\n",
    "The parameters are: x: the object to write (usually a vector or a matrix); file: name of the output file (or stdout() / stderr()); append: if TRUE, appends to the file instead of overwriting; sep: separator (defaults to space).\n",
    "\n",
    "Another way is `write.table(..)`. This function is used to write data to a text file in a tabular form. The syntax is: `write.table(x, file = \"myfile.txt\", sep = \" \", row.names = TRUE, col.names = TRUE, ..)`.\n",
    "\n",
    "The `read.table()` function reads data from a local file and creates a data.frame. The syntax is `read.table(file, header = FALSE, sep = \"\", row.names = NULL, col.names = NULL, nrows ...)` where *header* is TRUE if the first line contains column names, *nrows* is the number of rows to read. read.csv() is similar. With read.table we can also take files from internet using the url as filename."
   ]
  },
  {
   "cell_type": "markdown",
   "id": "34bbfeaf-116b-4a41-9f25-b1184b3db828",
   "metadata": {},
   "source": [
    "---"
   ]
  },
  {
   "cell_type": "markdown",
   "id": "c4429852-a271-4544-adcf-db1cbaba54ec",
   "metadata": {},
   "source": [
    "## 02 - NUMBERS\n",
    "The number $\\pi$ is known as `pi`. \n",
    "\n",
    "Calculations can lead to results which go to $\\infty$ or are indeterminate $NaN$, but they are properly evaluated as numbers! We can test if a number is infinite with `is.infinite(x)`, `is.finite(x)` and `is.nan(x)` (they will return a boolean).\n",
    "\n",
    "There could also be missing values, represented by NA (= not available), and we check them with `is.na(x)`."
   ]
  },
  {
   "cell_type": "code",
   "execution_count": 65,
   "id": "d4f7f7a1-aa58-408c-b2f7-31fc04160807",
   "metadata": {},
   "outputs": [
    {
     "data": {
      "text/html": [
       "Inf"
      ],
      "text/latex": [
       "Inf"
      ],
      "text/markdown": [
       "Inf"
      ],
      "text/plain": [
       "[1] Inf"
      ]
     },
     "metadata": {},
     "output_type": "display_data"
    },
    {
     "data": {
      "text/html": [
       "NaN"
      ],
      "text/latex": [
       "NaN"
      ],
      "text/markdown": [
       "NaN"
      ],
      "text/plain": [
       "[1] NaN"
      ]
     },
     "metadata": {},
     "output_type": "display_data"
    },
    {
     "data": {
      "text/html": [
       "'double'"
      ],
      "text/latex": [
       "'double'"
      ],
      "text/markdown": [
       "'double'"
      ],
      "text/plain": [
       "[1] \"double\""
      ]
     },
     "metadata": {},
     "output_type": "display_data"
    },
    {
     "data": {
      "text/html": [
       "'double'"
      ],
      "text/latex": [
       "'double'"
      ],
      "text/markdown": [
       "'double'"
      ],
      "text/plain": [
       "[1] \"double\""
      ]
     },
     "metadata": {},
     "output_type": "display_data"
    },
    {
     "data": {
      "text/html": [
       "FALSE"
      ],
      "text/latex": [
       "FALSE"
      ],
      "text/markdown": [
       "FALSE"
      ],
      "text/plain": [
       "[1] FALSE"
      ]
     },
     "metadata": {},
     "output_type": "display_data"
    }
   ],
   "source": [
    "3/0\n",
    "Inf - Inf\n",
    "typeof(Inf)\n",
    "typeof(NaN)\n",
    "is.finite(3/0)"
   ]
  },
  {
   "cell_type": "markdown",
   "id": "ab24ccc5-3ed0-4c5a-81b6-104ee41635dd",
   "metadata": {},
   "source": [
    "#### MAIN OPERATIONS\n",
    "* `+`, `-`, `*`, `/`: sum, subtraction, multiplication, division\n",
    "* `%/%`, `%%`, `^`: integer quotient, modulo, power\n",
    "* `>`, `>=`, `<`, `<=`, `==`, `!=`: relational operators\n",
    "* `!`, `&`, `|`: logical not, and, or\n",
    "* `~`: model formulae (‘is modelled as a function of’)\n",
    "* `<-`, `->`: assignment (gets)\n",
    "* `$`: list indexing (the ‘element name’ operator)\n",
    "* `:`: sequence creation operator\n",
    "\n",
    "Note: several of these operators have different meaning inside model formulae :\n",
    "* `*` indicates the main effects plus interaction (rather than multiplication),\n",
    "* `:` the interaction between two variables (rather than generate a sequence), and\n",
    "* `^` interactions up to the indicated power (rather than raise to the power)"
   ]
  },
  {
   "cell_type": "code",
   "execution_count": 4,
   "id": "afbc9d6f-30d4-452c-a8d1-1dc58dadfca0",
   "metadata": {},
   "outputs": [
    {
     "data": {
      "text/html": [
       "4"
      ],
      "text/latex": [
       "4"
      ],
      "text/markdown": [
       "4"
      ],
      "text/plain": [
       "[1] 4"
      ]
     },
     "metadata": {},
     "output_type": "display_data"
    },
    {
     "data": {
      "text/html": [
       "1"
      ],
      "text/latex": [
       "1"
      ],
      "text/markdown": [
       "1"
      ],
      "text/plain": [
       "[1] 1"
      ]
     },
     "metadata": {},
     "output_type": "display_data"
    },
    {
     "data": {
      "text/html": [
       "TRUE"
      ],
      "text/latex": [
       "TRUE"
      ],
      "text/markdown": [
       "TRUE"
      ],
      "text/plain": [
       "[1] TRUE"
      ]
     },
     "metadata": {},
     "output_type": "display_data"
    }
   ],
   "source": [
    "9 %/% 2      # integer part of the division\n",
    "9 %% 2   # reminder ( modulo ) of the division\n",
    "15421 %% 7 == 0"
   ]
  },
  {
   "cell_type": "markdown",
   "id": "40eb768f-5f4d-41e4-a9d5-9173090f5957",
   "metadata": {},
   "source": [
    "#### MATHEMATICAL FUNCTIONS\n",
    "* `log(x)`: natural log of x\n",
    "* `exp(x)`: exponential of x\n",
    "* `log(x, n)`: log in base n of x\n",
    "* `log10(x)`: log in base 10 of x\n",
    "* `sqrt(x)`: square root of x\n",
    "* `factorial(x)`: $x! = x(x − 1)(x − 2) . . . 3 · 2 · 1$\n",
    "* `choose(n, x)`: binomial coefficient, $n!/(x! · (n − x)!)$\n",
    "* `gamma(x)`: $\\Gamma(x)$ for real x, (x − 1)! for integer x\n",
    "* `lgamma(x)`: natural log of $\\Gamma(x)$\n",
    "* `abs(x)`: absolute value for x\n",
    "* `floor(x)`: greater integer less than x\n",
    "* `ceiling(x)`: smallest integer greater than x\n",
    "* `trunc(x)`: closest integer to x between 0 and x; it behaves as floor() for x > 0 and like ceiling() for x < 0"
   ]
  },
  {
   "cell_type": "markdown",
   "id": "3fdf5b08-0749-471a-bd11-94eb4aa5c933",
   "metadata": {},
   "source": [
    "#### COMPLEX NUMBERS\n",
    "Here a list of built-in functions:\n",
    "* `Re(z)`: extract the real part\n",
    "* `Im(z)`: extract the imaginary part\n",
    "* `Mod(z)`: calculate the modulus\n",
    "* `Arg(z)`: calculate the argument Arg(x+yi) = atan(y/x)\n",
    "* `Conj(z)`: work out the complex conjugate\n",
    "* `is.complex(z)`: test for complex number membership\n",
    "* `as.complex(z)`: force the input as a complex number"
   ]
  },
  {
   "cell_type": "code",
   "execution_count": 6,
   "id": "600c8f49-0d08-4158-b2a6-efd9c2a62d90",
   "metadata": {},
   "outputs": [
    {
     "data": {
      "text/html": [
       "2"
      ],
      "text/latex": [
       "2"
      ],
      "text/markdown": [
       "2"
      ],
      "text/plain": [
       "[1] 2"
      ]
     },
     "metadata": {},
     "output_type": "display_data"
    },
    {
     "data": {
      "text/html": [
       "4.03112887414927"
      ],
      "text/latex": [
       "4.03112887414927"
      ],
      "text/markdown": [
       "4.03112887414927"
      ],
      "text/plain": [
       "[1] 4.031129"
      ]
     },
     "metadata": {},
     "output_type": "display_data"
    },
    {
     "data": {
      "text/html": [
       "TRUE"
      ],
      "text/latex": [
       "TRUE"
      ],
      "text/markdown": [
       "TRUE"
      ],
      "text/plain": [
       "[1] TRUE"
      ]
     },
     "metadata": {},
     "output_type": "display_data"
    },
    {
     "data": {
      "text/html": [
       "3.5+0i"
      ],
      "text/latex": [
       "3.5+0i"
      ],
      "text/markdown": [
       "3.5+0i"
      ],
      "text/plain": [
       "[1] 3.5+0i"
      ]
     },
     "metadata": {},
     "output_type": "display_data"
    }
   ],
   "source": [
    "Im(3.5 + 2i)\n",
    "Mod(3.5 + 2i)\n",
    "is.complex( 3.5 + 2i)\n",
    "as.complex( 3.5 )"
   ]
  },
  {
   "cell_type": "markdown",
   "id": "4fccdb7b-ecad-485d-baf3-c60716826e4e",
   "metadata": {},
   "source": [
    "---"
   ]
  },
  {
   "cell_type": "markdown",
   "id": "ea8235a5-92e2-4b71-937f-dd8aef108d3f",
   "metadata": {},
   "source": [
    "## 03 - DATA TYPES"
   ]
  },
  {
   "cell_type": "markdown",
   "id": "0a1d92d1-88fb-435c-9685-1c8a240e120f",
   "metadata": {},
   "source": [
    "#### INSPECT DATA\n",
    "* `class(x)`: tell us what kind/class of data we have (numeric, list, data.frame etc), which indicates how R interprets the object in terms of its use and behavior.\n",
    "* `typeof()`: Returns a more technical description of the internal storage or type of the object\n",
    "* `storage.mode()`: it provides information about how data is physically stored in memory. It returns a string that describes the storage mode (e.g., \"double\", \"integer\", \"logical\", \"character\")\n",
    "* `length(x)`: returns the number of element in the object x\n",
    "* `attributes(x)`: access object's attributes (like for a data.frame)\n",
    "* `str(x)`: compactly display the internal structure of the object x"
   ]
  },
  {
   "cell_type": "markdown",
   "id": "c0e0eea1-5d0b-4c53-8437-a91e7ca90430",
   "metadata": {},
   "source": [
    "```R\n",
    "# EXAMPLES:\n",
    "\n",
    "# 1. Vector (numeric)\n",
    "vec <- c(1.5, 2.5, 3.5)\n",
    "class(vec)           # output: \"numeric\"\n",
    "typeof(vec)          # output: \"double\"\n",
    "storage.mode(vec)    # output: \"double\"\n",
    "\n",
    "# 2. Matrix (numeric)\n",
    "mat <- matrix(1:6, nrow = 2)\n",
    "class(mat)           # output: \"matrix - array\"\n",
    "typeof(mat)          # output: \"integer\"\n",
    "storage.mode(mat)    # output: \"integer\"\n",
    "\n",
    "# 3. Character Vector\n",
    "char_vec <- c(\"apple\", \"banana\", \"cherry\")\n",
    "class(char_vec)      # output: \"character\"\n",
    "typeof(char_vec)     # output: \"character\"\n",
    "storage.mode(char_vec) # output: \"character\"\n",
    "\n",
    "# 4. Data Frame\n",
    "df <- data.frame(a = 1:3, b = c(\"x\", \"y\", \"z\"))\n",
    "class(df)            # output: \"data.frame\"\n",
    "typeof(df)           # output: \"list\"\n",
    "storage.mode(df)     # output: \"list\"\n",
    "\n",
    "# 5. List\n",
    "lst <- list(a = 1, b = \"apple\")\n",
    "class(lst)           # output: \"list\"\n",
    "typeof(lst)          # output: \"list\"\n",
    "storage.mode(lst)    # output: \"list\"\n",
    "```"
   ]
  },
  {
   "cell_type": "code",
   "execution_count": 1,
   "id": "29aa6f51-f571-42aa-9e84-21ba752a5713",
   "metadata": {},
   "outputs": [
    {
     "data": {
      "text/html": [
       "1"
      ],
      "text/latex": [
       "1"
      ],
      "text/markdown": [
       "1"
      ],
      "text/plain": [
       "[1] 1"
      ]
     },
     "metadata": {},
     "output_type": "display_data"
    },
    {
     "name": "stdout",
     "output_type": "stream",
     "text": [
      " num [1:4] 1 2 5 8\n"
     ]
    }
   ],
   "source": [
    "x <- 4.7; length(x)\n",
    "y <- c(1, 2, 5, 8); str(y)"
   ]
  },
  {
   "cell_type": "markdown",
   "id": "dfb746db-2c24-49d7-9bda-f216f16b9180",
   "metadata": {},
   "source": [
    "We can always test whether objects are a particular type and also coerce them to a different type. In this list the first command will test, the second will coerce:\n",
    "* Array               → `is.array()` / `as.array()`\n",
    "* Character           → `is.character()` / `as.character()`\n",
    "* Complex             → `is.complex()` / `as.complex()`\n",
    "* Dataframe           → `is.data.frame()` / `as.data.frame()`\n",
    "* Double              → `is.double()` / `as.double()`\n",
    "* Factor              → `is.factor()` / `as.factor()`\n",
    "* List                → `is.list()` / `as.list()`\n",
    "* Logical             → `is.logical()` / `as.logical()`\n",
    "* Matrix              → `is.matrix()` / `as.matrix()`\n",
    "* Numeric             → `is.numeric()` / `as.numeric()`\n",
    "* Raw                 → `is.raw()` / `as.raw()`\n",
    "* Time series         → `is.ts()` / `as.ts()`\n",
    "* Vector              → `as.vector()` / `as.vector()`\n"
   ]
  },
  {
   "cell_type": "code",
   "execution_count": 2,
   "id": "001d5285-efe6-4264-813c-14afba5de349",
   "metadata": {},
   "outputs": [
    {
     "data": {
      "text/html": [
       "FALSE"
      ],
      "text/latex": [
       "FALSE"
      ],
      "text/markdown": [
       "FALSE"
      ],
      "text/plain": [
       "[1] FALSE"
      ]
     },
     "metadata": {},
     "output_type": "display_data"
    },
    {
     "data": {
      "text/html": [
       "'4.7'"
      ],
      "text/latex": [
       "'4.7'"
      ],
      "text/markdown": [
       "'4.7'"
      ],
      "text/plain": [
       "[1] \"4.7\""
      ]
     },
     "metadata": {},
     "output_type": "display_data"
    }
   ],
   "source": [
    "is.character(x)\n",
    "as.character(x)"
   ]
  },
  {
   "cell_type": "markdown",
   "id": "04778021-58d3-4628-a778-131f6a26511a",
   "metadata": {},
   "source": [
    "---"
   ]
  },
  {
   "cell_type": "markdown",
   "id": "7a18c6ed-fe74-467a-be8f-35f0c9076060",
   "metadata": {},
   "source": [
    "## 04 - VECTOR, MATRIX, ARRAY"
   ]
  },
  {
   "cell_type": "markdown",
   "id": "30ace27c-f365-42bb-acd9-ab2ba4f8844b",
   "metadata": {},
   "source": [
    "#### VECTORS\n",
    "The basic data structure is a **vector**: a sequence of values stored in contiguous memory areas. Vector are atomic types : all elements must be of same type. R is a dynamically-typed language. Dynamic typing allows to assign a value of a different data type to the same variable at any time. Scalar types do not exist, they are considered one-element vectors. Longer vectors are usually created with the concatenate `c()` function.\n",
    "\n",
    "R has six types of atomic vectors:\n",
    "* logical: e.g., TRUE, FALSE\n",
    "* integer: e.g., 1L, 42L\n",
    "* double (numeric): e.g., 3.14, 2.718\n",
    "* character: e.g., \"hello\", 'R'\n",
    "* complex: e.g., 1 + 2i\n",
    "* raw: e.g., as.raw(0:1)\n",
    "\n",
    "\n"
   ]
  },
  {
   "cell_type": "code",
   "execution_count": 2,
   "id": "42261151-edeb-42fc-be7e-b771d29fc4e3",
   "metadata": {},
   "outputs": [
    {
     "data": {
      "image/png": "[encoded data removed]",
      "text/plain": [
       "plot without title"
      ]
     },
     "metadata": {
      "image/png": {
       "height": 420,
       "width": 420
      }
     },
     "output_type": "display_data"
    }
   ],
   "source": [
    "img <- readPNG(\"./images/atomic_vectors.png\")     # effect of modifying a column\n",
    "grid.raster(img)"
   ]
  },
  {
   "cell_type": "markdown",
   "id": "737cbf09-7203-4466-a758-7871de7390cb",
   "metadata": {},
   "source": [
    "#### NUMERIC VECTORS\n",
    "R provides also an easy way to generate a vector of numbers. With `a:b` it creates a sequence from a to b (also in inverse if a>b), but only of step=1. If you want something eslse use `seq(start, stop, step)` for decididng th step or `seq(start, stop, length=n)` for deciding how many numbers.\n",
    "\n",
    "With the `rep(value, each=m, times=n)` function you can create a vector built by repeating n-times the same value (written m times each time).\n",
    "\n",
    "We can check if an object is a vector with `is.vector(x)`.\n",
    "\n",
    "Note: VECTORS ARE NOT A CUSTOM DATATYPE OF R (LIKE LISTS), they are treated as a bunch of data of the same type (integers, ecc). They are only a kind of structure of data, typically of numbers. For this reason the *class()* command will not return 'vector' for a vector, but the data type of its elements.\n",
    "\n",
    "INDEXING:  \n",
    "The indexing is done through `[]`. Inside I can input a single index but also a vector of indexes. With negative input you can exclude elements, like `vector[-3]` will exclude the third element. Masking works as in python, so for example with `vector[x<5]` we select only the elements which are lower than 5, because the code `x<5` will generate a boolean mask (=array) of Ture and False values. \n"
   ]
  },
  {
   "cell_type": "markdown",
   "id": "f3a87c42-0a9c-4b80-8977-a9d5eb6f4da7",
   "metadata": {},
   "source": [
    "Functions for vectors:\n",
    "* `max(x)` - the maximum value in x  \n",
    "* `min(x)` - the minimum value in x  \n",
    "* `sum(x)` - the sum of all values in x  \n",
    "* `mean(x)` - arithmetic average of the values in x  \n",
    "* `median(x)` - median value in x  \n",
    "* `range(x)` - a vector with inside only two values: min(x) and max(x)  \n",
    "* `var(x)` - sample variance of x  \n",
    "* `cor(x, y)` - correlation between x and y vectors  \n",
    "* `sort(x)` - a vector with the sorted elements of x\n",
    "* `rank(x)` - a vector with the ranks of the x values, cioè la posizione di ciascun valore se fosse ordinato (tipo associa le posizioni in classifica)\n",
    "* `order(x)` - a vector with the permutations to sort x in asc order, i.e. the indexes of the ordered values of x\n",
    "* `quantile(x)` - a vector with: minimum, lower quantile, median, upper quantile and maximum of x  \n",
    "* `cumsum(x)` - a running sum of the vector elements  \n",
    "* `cumprod(x)` - a running product of the vector elements  \n",
    "* `cummax(x)` - a vector of non-decreasing numbers with the cumulative maxima  \n",
    "* `cummin(x)` - a vector of non-decreasing numbers with the cumulative minima  \n",
    "* `pmax(x, y, z)` - vector containing the maximum of x, y or z for each position  \n",
    "* `pmin(x, y, z)` - vector containing the minimum of x, y or z for each position  \n",
    "* `colMeans(x)` - column means of a dataframe or matrix  \n",
    "* `colSums(x)` - column sums of a dataframe or matrix  \n",
    "* `rowMeans(x)` - row means of a dataframe or matrix  \n",
    "* `rowSums(x)` - row sums of a dataframe or matrix"
   ]
  },
  {
   "cell_type": "code",
   "execution_count": 17,
   "id": "c59b8186-acb8-412c-9eac-403e73a76f53",
   "metadata": {},
   "outputs": [
    {
     "data": {
      "text/html": [
       "<style>\n",
       ".list-inline {list-style: none; margin:0; padding: 0}\n",
       ".list-inline>li {display: inline-block}\n",
       ".list-inline>li:not(:last-child)::after {content: \"\\00b7\"; padding: 0 .5ex}\n",
       "</style>\n",
       "<ol class=list-inline><li>3</li><li>2</li><li>1</li></ol>\n"
      ],
      "text/latex": [
       "\\begin{enumerate*}\n",
       "\\item 3\n",
       "\\item 2\n",
       "\\item 1\n",
       "\\end{enumerate*}\n"
      ],
      "text/markdown": [
       "1. 3\n",
       "2. 2\n",
       "3. 1\n",
       "\n",
       "\n"
      ],
      "text/plain": [
       "[1] 3 2 1"
      ]
     },
     "metadata": {},
     "output_type": "display_data"
    },
    {
     "data": {
      "text/html": [
       "<style>\n",
       ".list-inline {list-style: none; margin:0; padding: 0}\n",
       ".list-inline>li {display: inline-block}\n",
       ".list-inline>li:not(:last-child)::after {content: \"\\00b7\"; padding: 0 .5ex}\n",
       "</style>\n",
       "<ol class=list-inline><li>15</li><li>10</li><li>5</li></ol>\n"
      ],
      "text/latex": [
       "\\begin{enumerate*}\n",
       "\\item 15\n",
       "\\item 10\n",
       "\\item 5\n",
       "\\end{enumerate*}\n"
      ],
      "text/markdown": [
       "1. 15\n",
       "2. 10\n",
       "3. 5\n",
       "\n",
       "\n"
      ],
      "text/plain": [
       "[1] 15 10  5"
      ]
     },
     "metadata": {},
     "output_type": "display_data"
    },
    {
     "name": "stderr",
     "output_type": "stream",
     "text": [
      "Warning message in x * f2:\n",
      "“la lunghezza più lunga dell'oggetto non è un multiplo della lunghezza più corta dell'oggetto”\n"
     ]
    },
    {
     "data": {
      "text/html": [
       "<style>\n",
       ".list-inline {list-style: none; margin:0; padding: 0}\n",
       ".list-inline>li {display: inline-block}\n",
       ".list-inline>li:not(:last-child)::after {content: \"\\00b7\"; padding: 0 .5ex}\n",
       "</style>\n",
       "<ol class=list-inline><li>30</li><li>200</li><li>10</li></ol>\n"
      ],
      "text/latex": [
       "\\begin{enumerate*}\n",
       "\\item 30\n",
       "\\item 200\n",
       "\\item 10\n",
       "\\end{enumerate*}\n"
      ],
      "text/markdown": [
       "1. 30\n",
       "2. 200\n",
       "3. 10\n",
       "\n",
       "\n"
      ],
      "text/plain": [
       "[1]  30 200  10"
      ]
     },
     "metadata": {},
     "output_type": "display_data"
    }
   ],
   "source": [
    "( x <- 3:1 )\n",
    "\n",
    "f1 <- 5\n",
    "x*f1            # f1 will be broadcasted to all elements of x\n",
    "\n",
    "f2 <- c(10, 100)\n",
    "x*f2           # the shorter vector, f2, is elongated to cover the length of x"
   ]
  },
  {
   "cell_type": "code",
   "execution_count": 20,
   "id": "78b4553b-d6a3-4cf0-af6c-6aedb40a7014",
   "metadata": {},
   "outputs": [
    {
     "data": {
      "text/html": [
       "5.83333333333333"
      ],
      "text/latex": [
       "5.83333333333333"
      ],
      "text/markdown": [
       "5.83333333333333"
      ],
      "text/plain": [
       "[1] 5.833333"
      ]
     },
     "metadata": {},
     "output_type": "display_data"
    },
    {
     "data": {
      "text/html": [
       "7"
      ],
      "text/latex": [
       "7"
      ],
      "text/markdown": [
       "7"
      ],
      "text/plain": [
       "[1] 7"
      ]
     },
     "metadata": {},
     "output_type": "display_data"
    },
    {
     "data": {
      "text/html": [
       "4"
      ],
      "text/latex": [
       "4"
      ],
      "text/markdown": [
       "4"
      ],
      "text/plain": [
       "[1] 4"
      ]
     },
     "metadata": {},
     "output_type": "display_data"
    },
    {
     "data": {
      "text/html": [
       "4"
      ],
      "text/latex": [
       "4"
      ],
      "text/markdown": [
       "4"
      ],
      "text/plain": [
       "[1] 4"
      ]
     },
     "metadata": {},
     "output_type": "display_data"
    },
    {
     "data": {
      "text/html": [
       "<style>\n",
       ".list-inline {list-style: none; margin:0; padding: 0}\n",
       ".list-inline>li {display: inline-block}\n",
       ".list-inline>li:not(:last-child)::after {content: \"\\00b7\"; padding: 0 .5ex}\n",
       "</style>\n",
       "<ol class=list-inline><li>5</li><li>6</li><li>7</li></ol>\n"
      ],
      "text/latex": [
       "\\begin{enumerate*}\n",
       "\\item 5\n",
       "\\item 6\n",
       "\\item 7\n",
       "\\end{enumerate*}\n"
      ],
      "text/markdown": [
       "1. 5\n",
       "2. 6\n",
       "3. 7\n",
       "\n",
       "\n"
      ],
      "text/plain": [
       "[1] 5 6 7"
      ]
     },
     "metadata": {},
     "output_type": "display_data"
    },
    {
     "data": {
      "text/html": [
       "<style>\n",
       ".list-inline {list-style: none; margin:0; padding: 0}\n",
       ".list-inline>li {display: inline-block}\n",
       ".list-inline>li:not(:last-child)::after {content: \"\\00b7\"; padding: 0 .5ex}\n",
       "</style>\n",
       "<ol class=list-inline><li>1</li><li>1</li><li>1</li><li>1</li><li>1</li></ol>\n"
      ],
      "text/latex": [
       "\\begin{enumerate*}\n",
       "\\item 1\n",
       "\\item 1\n",
       "\\item 1\n",
       "\\item 1\n",
       "\\item 1\n",
       "\\end{enumerate*}\n"
      ],
      "text/markdown": [
       "1. 1\n",
       "2. 1\n",
       "3. 1\n",
       "4. 1\n",
       "5. 1\n",
       "\n",
       "\n"
      ],
      "text/plain": [
       "[1] 1 1 1 1 1"
      ]
     },
     "metadata": {},
     "output_type": "display_data"
    },
    {
     "data": {
      "text/html": [
       "<style>\n",
       ".list-inline {list-style: none; margin:0; padding: 0}\n",
       ".list-inline>li {display: inline-block}\n",
       ".list-inline>li:not(:last-child)::after {content: \"\\00b7\"; padding: 0 .5ex}\n",
       "</style>\n",
       "<ol class=list-inline><li>1</li><li>2</li><li>2</li><li>3</li><li>3</li><li>3</li><li>4</li><li>4</li><li>4</li><li>4</li></ol>\n"
      ],
      "text/latex": [
       "\\begin{enumerate*}\n",
       "\\item 1\n",
       "\\item 2\n",
       "\\item 2\n",
       "\\item 3\n",
       "\\item 3\n",
       "\\item 3\n",
       "\\item 4\n",
       "\\item 4\n",
       "\\item 4\n",
       "\\item 4\n",
       "\\end{enumerate*}\n"
      ],
      "text/markdown": [
       "1. 1\n",
       "2. 2\n",
       "3. 2\n",
       "4. 3\n",
       "5. 3\n",
       "6. 3\n",
       "7. 4\n",
       "8. 4\n",
       "9. 4\n",
       "10. 4\n",
       "\n",
       "\n"
      ],
      "text/plain": [
       " [1] 1 2 2 3 3 3 4 4 4 4"
      ]
     },
     "metadata": {},
     "output_type": "display_data"
    },
    {
     "data": {
      "text/html": [
       "<style>\n",
       ".list-inline {list-style: none; margin:0; padding: 0}\n",
       ".list-inline>li {display: inline-block}\n",
       ".list-inline>li:not(:last-child)::after {content: \"\\00b7\"; padding: 0 .5ex}\n",
       "</style>\n",
       "<ol class=list-inline><li>4</li><li>6</li><li>5</li><li>7</li></ol>\n"
      ],
      "text/latex": [
       "\\begin{enumerate*}\n",
       "\\item 4\n",
       "\\item 6\n",
       "\\item 5\n",
       "\\item 7\n",
       "\\end{enumerate*}\n"
      ],
      "text/markdown": [
       "1. 4\n",
       "2. 6\n",
       "3. 5\n",
       "4. 7\n",
       "\n",
       "\n"
      ],
      "text/plain": [
       "[1] 4 6 5 7"
      ]
     },
     "metadata": {},
     "output_type": "display_data"
    },
    {
     "data": {
      "text/html": [
       "<style>\n",
       ".list-inline {list-style: none; margin:0; padding: 0}\n",
       ".list-inline>li {display: inline-block}\n",
       ".list-inline>li:not(:last-child)::after {content: \"\\00b7\"; padding: 0 .5ex}\n",
       "</style>\n",
       "<ol class=list-inline><li>7</li><li>7</li></ol>\n"
      ],
      "text/latex": [
       "\\begin{enumerate*}\n",
       "\\item 7\n",
       "\\item 7\n",
       "\\end{enumerate*}\n"
      ],
      "text/markdown": [
       "1. 7\n",
       "2. 7\n",
       "\n",
       "\n"
      ],
      "text/plain": [
       "[1] 7 7"
      ]
     },
     "metadata": {},
     "output_type": "display_data"
    }
   ],
   "source": [
    "vec <- c(4, 7, 6, 5, 6, 7)\n",
    "mean(vec)\n",
    "max(vec)\n",
    "vec[1]\n",
    "vec[[1]]          # metodo sconsigliato, da usare con le liste\n",
    "vec[-c(1,2,3)]    # this excludes the first 3 elements\n",
    "rep(1,5)\n",
    "rep (1:4, 1:4)    # replicate each sequence number a different number of times\n",
    "vec[ c(T,F,T) ]   # NOTE: if logical vectors are too short, they are cycled to match the length of the vector\n",
    "vec[ vec>6 ]\n"
   ]
  },
  {
   "cell_type": "code",
   "execution_count": 4,
   "id": "230bf85e-815a-458f-a3dd-5b4b2fbe645e",
   "metadata": {},
   "outputs": [
    {
     "data": {
      "text/html": [
       "<style>\n",
       ".list-inline {list-style: none; margin:0; padding: 0}\n",
       ".list-inline>li {display: inline-block}\n",
       ".list-inline>li:not(:last-child)::after {content: \"\\00b7\"; padding: 0 .5ex}\n",
       "</style>\n",
       "<ol class=list-inline><li>1</li><li>20</li></ol>\n"
      ],
      "text/latex": [
       "\\begin{enumerate*}\n",
       "\\item 1\n",
       "\\item 20\n",
       "\\end{enumerate*}\n"
      ],
      "text/markdown": [
       "1. 1\n",
       "2. 20\n",
       "\n",
       "\n"
      ],
      "text/plain": [
       "[1]  1 20"
      ]
     },
     "metadata": {},
     "output_type": "display_data"
    },
    {
     "data": {
      "text/html": [
       "<style>\n",
       ".list-inline {list-style: none; margin:0; padding: 0}\n",
       ".list-inline>li {display: inline-block}\n",
       ".list-inline>li:not(:last-child)::after {content: \"\\00b7\"; padding: 0 .5ex}\n",
       "</style>\n",
       "<ol class=list-inline><li>1</li><li>5</li><li>8</li><li>10</li><li>20</li></ol>\n"
      ],
      "text/latex": [
       "\\begin{enumerate*}\n",
       "\\item 1\n",
       "\\item 5\n",
       "\\item 8\n",
       "\\item 10\n",
       "\\item 20\n",
       "\\end{enumerate*}\n"
      ],
      "text/markdown": [
       "1. 1\n",
       "2. 5\n",
       "3. 8\n",
       "4. 10\n",
       "5. 20\n",
       "\n",
       "\n"
      ],
      "text/plain": [
       "[1]  1  5  8 10 20"
      ]
     },
     "metadata": {},
     "output_type": "display_data"
    },
    {
     "data": {
      "text/html": [
       "<style>\n",
       ".list-inline {list-style: none; margin:0; padding: 0}\n",
       ".list-inline>li {display: inline-block}\n",
       ".list-inline>li:not(:last-child)::after {content: \"\\00b7\"; padding: 0 .5ex}\n",
       "</style>\n",
       "<ol class=list-inline><li>5</li><li>2</li><li>3</li><li>1</li><li>4</li></ol>\n"
      ],
      "text/latex": [
       "\\begin{enumerate*}\n",
       "\\item 5\n",
       "\\item 2\n",
       "\\item 3\n",
       "\\item 1\n",
       "\\item 4\n",
       "\\end{enumerate*}\n"
      ],
      "text/markdown": [
       "1. 5\n",
       "2. 2\n",
       "3. 3\n",
       "4. 1\n",
       "5. 4\n",
       "\n",
       "\n"
      ],
      "text/plain": [
       "[1] 5 2 3 1 4"
      ]
     },
     "metadata": {},
     "output_type": "display_data"
    },
    {
     "data": {
      "text/html": [
       "<style>\n",
       ".list-inline {list-style: none; margin:0; padding: 0}\n",
       ".list-inline>li {display: inline-block}\n",
       ".list-inline>li:not(:last-child)::after {content: \"\\00b7\"; padding: 0 .5ex}\n",
       "</style>\n",
       "<ol class=list-inline><li>1</li><li>5</li><li>8</li><li>10</li><li>20</li></ol>\n"
      ],
      "text/latex": [
       "\\begin{enumerate*}\n",
       "\\item 1\n",
       "\\item 5\n",
       "\\item 8\n",
       "\\item 10\n",
       "\\item 20\n",
       "\\end{enumerate*}\n"
      ],
      "text/markdown": [
       "1. 1\n",
       "2. 5\n",
       "3. 8\n",
       "4. 10\n",
       "5. 20\n",
       "\n",
       "\n"
      ],
      "text/plain": [
       "[1]  1  5  8 10 20"
      ]
     },
     "metadata": {},
     "output_type": "display_data"
    },
    {
     "data": {
      "text/html": [
       "<style>\n",
       ".list-inline {list-style: none; margin:0; padding: 0}\n",
       ".list-inline>li {display: inline-block}\n",
       ".list-inline>li:not(:last-child)::after {content: \"\\00b7\"; padding: 0 .5ex}\n",
       "</style>\n",
       "<ol class=list-inline><li>4</li><li>2</li><li>3</li><li>5</li><li>1</li></ol>\n"
      ],
      "text/latex": [
       "\\begin{enumerate*}\n",
       "\\item 4\n",
       "\\item 2\n",
       "\\item 3\n",
       "\\item 5\n",
       "\\item 1\n",
       "\\end{enumerate*}\n"
      ],
      "text/markdown": [
       "1. 4\n",
       "2. 2\n",
       "3. 3\n",
       "4. 5\n",
       "5. 1\n",
       "\n",
       "\n"
      ],
      "text/plain": [
       "[1] 4 2 3 5 1"
      ]
     },
     "metadata": {},
     "output_type": "display_data"
    }
   ],
   "source": [
    "x <- c(10, 5, 8, 20, 1)\n",
    "range(x)\n",
    "sort(x)\n",
    "order(x)\n",
    "x[order(x)]\n",
    "rank(x)"
   ]
  },
  {
   "cell_type": "markdown",
   "id": "cbe0da16-7160-4d8c-a90c-e579590c0f30",
   "metadata": {},
   "source": [
    "We can also set names to the elments with:"
   ]
  },
  {
   "cell_type": "code",
   "execution_count": 70,
   "id": "79f9c672-e2b2-4a39-9d47-69c767e18d9a",
   "metadata": {},
   "outputs": [
    {
     "data": {
      "text/html": [
       "<style>\n",
       ".dl-inline {width: auto; margin:0; padding: 0}\n",
       ".dl-inline>dt, .dl-inline>dd {float: none; width: auto; display: inline-block}\n",
       ".dl-inline>dt::after {content: \":\\0020\"; padding-right: .5ex}\n",
       ".dl-inline>dt:not(:first-of-type) {padding-left: .5ex}\n",
       "</style><dl class=dl-inline><dt>a</dt><dd>1</dd><dt>b</dt><dd>2</dd><dt>c</dt><dd>3</dd></dl>\n"
      ],
      "text/latex": [
       "\\begin{description*}\n",
       "\\item[a] 1\n",
       "\\item[b] 2\n",
       "\\item[c] 3\n",
       "\\end{description*}\n"
      ],
      "text/markdown": [
       "a\n",
       ":   1b\n",
       ":   2c\n",
       ":   3\n",
       "\n"
      ],
      "text/plain": [
       "a b c \n",
       "1 2 3 "
      ]
     },
     "metadata": {},
     "output_type": "display_data"
    },
    {
     "data": {
      "text/html": [
       "<style>\n",
       ".list-inline {list-style: none; margin:0; padding: 0}\n",
       ".list-inline>li {display: inline-block}\n",
       ".list-inline>li:not(:last-child)::after {content: \"\\00b7\"; padding: 0 .5ex}\n",
       "</style>\n",
       "<ol class=list-inline><li>'a'</li><li>'b'</li><li>'c'</li></ol>\n"
      ],
      "text/latex": [
       "\\begin{enumerate*}\n",
       "\\item 'a'\n",
       "\\item 'b'\n",
       "\\item 'c'\n",
       "\\end{enumerate*}\n"
      ],
      "text/markdown": [
       "1. 'a'\n",
       "2. 'b'\n",
       "3. 'c'\n",
       "\n",
       "\n"
      ],
      "text/plain": [
       "[1] \"a\" \"b\" \"c\""
      ]
     },
     "metadata": {},
     "output_type": "display_data"
    }
   ],
   "source": [
    "x <- c(a=1, b=2, c=3)\n",
    "x\n",
    "names(x)"
   ]
  },
  {
   "cell_type": "markdown",
   "id": "f8ca25bf-6d9e-4a0e-a033-50b9cb67075c",
   "metadata": {},
   "source": [
    "#### MATRIXES\n",
    "With the `dim(x)` attribute of a vector, we change its dimension for example in a matrix, 'reshaping' it and its elements in a wanted dimension c(dim1, dim2...).\n",
    "\n",
    "Note: matrices are seen as class 'matrix', differently from vectors that are not seen as vectors"
   ]
  },
  {
   "cell_type": "code",
   "execution_count": 22,
   "id": "ab08e362-97bb-4f1b-b26a-6259ed403138",
   "metadata": {},
   "outputs": [
    {
     "data": {
      "text/html": [
       "<style>\n",
       ".list-inline {list-style: none; margin:0; padding: 0}\n",
       ".list-inline>li {display: inline-block}\n",
       ".list-inline>li:not(:last-child)::after {content: \"\\00b7\"; padding: 0 .5ex}\n",
       "</style>\n",
       "<ol class=list-inline><li>1</li><li>2</li><li>3</li><li>4</li><li>5</li><li>6</li><li>7</li><li>8</li><li>9</li><li>10</li><li>11</li><li>12</li><li>13</li><li>14</li><li>15</li><li>16</li><li>17</li><li>18</li><li>19</li><li>20</li></ol>\n"
      ],
      "text/latex": [
       "\\begin{enumerate*}\n",
       "\\item 1\n",
       "\\item 2\n",
       "\\item 3\n",
       "\\item 4\n",
       "\\item 5\n",
       "\\item 6\n",
       "\\item 7\n",
       "\\item 8\n",
       "\\item 9\n",
       "\\item 10\n",
       "\\item 11\n",
       "\\item 12\n",
       "\\item 13\n",
       "\\item 14\n",
       "\\item 15\n",
       "\\item 16\n",
       "\\item 17\n",
       "\\item 18\n",
       "\\item 19\n",
       "\\item 20\n",
       "\\end{enumerate*}\n"
      ],
      "text/markdown": [
       "1. 1\n",
       "2. 2\n",
       "3. 3\n",
       "4. 4\n",
       "5. 5\n",
       "6. 6\n",
       "7. 7\n",
       "8. 8\n",
       "9. 9\n",
       "10. 10\n",
       "11. 11\n",
       "12. 12\n",
       "13. 13\n",
       "14. 14\n",
       "15. 15\n",
       "16. 16\n",
       "17. 17\n",
       "18. 18\n",
       "19. 19\n",
       "20. 20\n",
       "\n",
       "\n"
      ],
      "text/plain": [
       " [1]  1  2  3  4  5  6  7  8  9 10 11 12 13 14 15 16 17 18 19 20"
      ]
     },
     "metadata": {},
     "output_type": "display_data"
    },
    {
     "data": {
      "text/html": [
       "'integer'"
      ],
      "text/latex": [
       "'integer'"
      ],
      "text/markdown": [
       "'integer'"
      ],
      "text/plain": [
       "[1] \"integer\""
      ]
     },
     "metadata": {},
     "output_type": "display_data"
    },
    {
     "data": {
      "text/html": [
       "<table class=\"dataframe\">\n",
       "<caption>A matrix: 4 × 5 of type int</caption>\n",
       "<tbody>\n",
       "\t<tr><td>1</td><td>5</td><td> 9</td><td>13</td><td>17</td></tr>\n",
       "\t<tr><td>2</td><td>6</td><td>10</td><td>14</td><td>18</td></tr>\n",
       "\t<tr><td>3</td><td>7</td><td>11</td><td>15</td><td>19</td></tr>\n",
       "\t<tr><td>4</td><td>8</td><td>12</td><td>16</td><td>20</td></tr>\n",
       "</tbody>\n",
       "</table>\n"
      ],
      "text/latex": [
       "A matrix: 4 × 5 of type int\n",
       "\\begin{tabular}{lllll}\n",
       "\t 1 & 5 &  9 & 13 & 17\\\\\n",
       "\t 2 & 6 & 10 & 14 & 18\\\\\n",
       "\t 3 & 7 & 11 & 15 & 19\\\\\n",
       "\t 4 & 8 & 12 & 16 & 20\\\\\n",
       "\\end{tabular}\n"
      ],
      "text/markdown": [
       "\n",
       "A matrix: 4 × 5 of type int\n",
       "\n",
       "| 1 | 5 |  9 | 13 | 17 |\n",
       "| 2 | 6 | 10 | 14 | 18 |\n",
       "| 3 | 7 | 11 | 15 | 19 |\n",
       "| 4 | 8 | 12 | 16 | 20 |\n",
       "\n"
      ],
      "text/plain": [
       "     [,1] [,2] [,3] [,4] [,5]\n",
       "[1,] 1    5     9   13   17  \n",
       "[2,] 2    6    10   14   18  \n",
       "[3,] 3    7    11   15   19  \n",
       "[4,] 4    8    12   16   20  "
      ]
     },
     "metadata": {},
     "output_type": "display_data"
    },
    {
     "data": {
      "text/html": [
       "<style>\n",
       ".list-inline {list-style: none; margin:0; padding: 0}\n",
       ".list-inline>li {display: inline-block}\n",
       ".list-inline>li:not(:last-child)::after {content: \"\\00b7\"; padding: 0 .5ex}\n",
       "</style>\n",
       "<ol class=list-inline><li>'matrix'</li><li>'array'</li></ol>\n"
      ],
      "text/latex": [
       "\\begin{enumerate*}\n",
       "\\item 'matrix'\n",
       "\\item 'array'\n",
       "\\end{enumerate*}\n"
      ],
      "text/markdown": [
       "1. 'matrix'\n",
       "2. 'array'\n",
       "\n",
       "\n"
      ],
      "text/plain": [
       "[1] \"matrix\" \"array\" "
      ]
     },
     "metadata": {},
     "output_type": "display_data"
    }
   ],
   "source": [
    "vec <- c(1:20); vec\n",
    "class(vec)\n",
    "dim(vec) <- c(4,5); vec\n",
    "class(vec)"
   ]
  },
  {
   "cell_type": "markdown",
   "id": "1d96b2cb-24bb-4303-b939-2987d1e1c9b6",
   "metadata": {},
   "source": [
    "We can directly define a matrix with `matrix(elements, nrow, ncol, byrow)`. L'opzione byrow decide se riempire la matrice per righe o per colonne. We can later reshape it using `dim`. An element is accessed with `mat[row,col]`. \n",
    "\n",
    "We multiply matrixes with `%*%`.\n",
    "\n",
    "We can define diagonal matrixes with `diag(elem, nrow, ncol)`. \n",
    "\n",
    "We can compute the determinant with `det(mat)`.\n",
    "\n",
    "Con `solve(mat, b)` possiamo risolvere un sistema lineare Ax=b, il che significa invertire la matrice mat nel caso in cui b=0, cioè con `solve(mat)`."
   ]
  },
  {
   "cell_type": "code",
   "execution_count": 23,
   "id": "2e7e2052-05eb-4d7c-82bf-0906b28fdebc",
   "metadata": {},
   "outputs": [
    {
     "data": {
      "text/html": [
       "<table class=\"dataframe\">\n",
       "<caption>A matrix: 3 × 4 of type int</caption>\n",
       "<tbody>\n",
       "\t<tr><td>1</td><td>4</td><td>7</td><td>10</td></tr>\n",
       "\t<tr><td>2</td><td>5</td><td>8</td><td>11</td></tr>\n",
       "\t<tr><td>3</td><td>6</td><td>9</td><td>12</td></tr>\n",
       "</tbody>\n",
       "</table>\n"
      ],
      "text/latex": [
       "A matrix: 3 × 4 of type int\n",
       "\\begin{tabular}{llll}\n",
       "\t 1 & 4 & 7 & 10\\\\\n",
       "\t 2 & 5 & 8 & 11\\\\\n",
       "\t 3 & 6 & 9 & 12\\\\\n",
       "\\end{tabular}\n"
      ],
      "text/markdown": [
       "\n",
       "A matrix: 3 × 4 of type int\n",
       "\n",
       "| 1 | 4 | 7 | 10 |\n",
       "| 2 | 5 | 8 | 11 |\n",
       "| 3 | 6 | 9 | 12 |\n",
       "\n"
      ],
      "text/plain": [
       "     [,1] [,2] [,3] [,4]\n",
       "[1,] 1    4    7    10  \n",
       "[2,] 2    5    8    11  \n",
       "[3,] 3    6    9    12  "
      ]
     },
     "metadata": {},
     "output_type": "display_data"
    },
    {
     "data": {
      "text/html": [
       "<style>\n",
       ".list-inline {list-style: none; margin:0; padding: 0}\n",
       ".list-inline>li {display: inline-block}\n",
       ".list-inline>li:not(:last-child)::after {content: \"\\00b7\"; padding: 0 .5ex}\n",
       "</style>\n",
       "<ol class=list-inline><li>'matrix'</li><li>'array'</li></ol>\n"
      ],
      "text/latex": [
       "\\begin{enumerate*}\n",
       "\\item 'matrix'\n",
       "\\item 'array'\n",
       "\\end{enumerate*}\n"
      ],
      "text/markdown": [
       "1. 'matrix'\n",
       "2. 'array'\n",
       "\n",
       "\n"
      ],
      "text/plain": [
       "[1] \"matrix\" \"array\" "
      ]
     },
     "metadata": {},
     "output_type": "display_data"
    },
    {
     "data": {
      "text/html": [
       "<style>\n",
       ".list-inline {list-style: none; margin:0; padding: 0}\n",
       ".list-inline>li {display: inline-block}\n",
       ".list-inline>li:not(:last-child)::after {content: \"\\00b7\"; padding: 0 .5ex}\n",
       "</style>\n",
       "<ol class=list-inline><li>7</li><li>8</li><li>9</li></ol>\n"
      ],
      "text/latex": [
       "\\begin{enumerate*}\n",
       "\\item 7\n",
       "\\item 8\n",
       "\\item 9\n",
       "\\end{enumerate*}\n"
      ],
      "text/markdown": [
       "1. 7\n",
       "2. 8\n",
       "3. 9\n",
       "\n",
       "\n"
      ],
      "text/plain": [
       "[1] 7 8 9"
      ]
     },
     "metadata": {},
     "output_type": "display_data"
    },
    {
     "data": {
      "text/html": [
       "5"
      ],
      "text/latex": [
       "5"
      ],
      "text/markdown": [
       "5"
      ],
      "text/plain": [
       "[1] 5"
      ]
     },
     "metadata": {},
     "output_type": "display_data"
    },
    {
     "data": {
      "text/html": [
       "6"
      ],
      "text/latex": [
       "6"
      ],
      "text/markdown": [
       "6"
      ],
      "text/plain": [
       "[1] 6"
      ]
     },
     "metadata": {},
     "output_type": "display_data"
    }
   ],
   "source": [
    "m1 <- matrix(1:12, nrow=3); m1\n",
    "class(m1)\n",
    "m1[,3]      # all third column\n",
    "m1[2,2]     # central element\n",
    "m1[[6]]     # accediamo al sesto elemento come se i numeri fossero impilati in un'unica fila (scrittura sconsigliata)"
   ]
  },
  {
   "cell_type": "markdown",
   "id": "091feb26-04f4-4cd7-8a64-bb2b22d4a7f6",
   "metadata": {},
   "source": [
    "#### ARRAY\n",
    "An array is a multi-dimensional object where all the entries have the same class. The dimensions of an array are specified by its dim argument."
   ]
  },
  {
   "cell_type": "code",
   "execution_count": 80,
   "id": "a612d10a-af1f-4e0e-9816-ef00be5e2e7c",
   "metadata": {},
   "outputs": [
    {
     "data": {
      "text/html": [
       "<style>\n",
       ".list-inline {list-style: none; margin:0; padding: 0}\n",
       ".list-inline>li {display: inline-block}\n",
       ".list-inline>li:not(:last-child)::after {content: \"\\00b7\"; padding: 0 .5ex}\n",
       "</style>\n",
       "<ol class=list-inline><li>1</li><li>2</li><li>3</li><li>4</li><li>5</li><li>6</li><li>7</li><li>8</li><li>9</li><li>10</li><li>11</li><li>12</li><li>13</li><li>14</li><li>15</li><li>16</li><li>17</li><li>18</li><li>19</li><li>20</li><li>21</li><li>22</li><li>23</li><li>24</li></ol>\n"
      ],
      "text/latex": [
       "\\begin{enumerate*}\n",
       "\\item 1\n",
       "\\item 2\n",
       "\\item 3\n",
       "\\item 4\n",
       "\\item 5\n",
       "\\item 6\n",
       "\\item 7\n",
       "\\item 8\n",
       "\\item 9\n",
       "\\item 10\n",
       "\\item 11\n",
       "\\item 12\n",
       "\\item 13\n",
       "\\item 14\n",
       "\\item 15\n",
       "\\item 16\n",
       "\\item 17\n",
       "\\item 18\n",
       "\\item 19\n",
       "\\item 20\n",
       "\\item 21\n",
       "\\item 22\n",
       "\\item 23\n",
       "\\item 24\n",
       "\\end{enumerate*}\n"
      ],
      "text/markdown": [
       "1. 1\n",
       "2. 2\n",
       "3. 3\n",
       "4. 4\n",
       "5. 5\n",
       "6. 6\n",
       "7. 7\n",
       "8. 8\n",
       "9. 9\n",
       "10. 10\n",
       "11. 11\n",
       "12. 12\n",
       "13. 13\n",
       "14. 14\n",
       "15. 15\n",
       "16. 16\n",
       "17. 17\n",
       "18. 18\n",
       "19. 19\n",
       "20. 20\n",
       "21. 21\n",
       "22. 22\n",
       "23. 23\n",
       "24. 24\n",
       "\n",
       "\n"
      ],
      "text/plain": [
       ", , 1\n",
       "\n",
       "     [,1] [,2] [,3] [,4]\n",
       "[1,]    1    3    5    7\n",
       "[2,]    2    4    6    8\n",
       "\n",
       ", , 2\n",
       "\n",
       "     [,1] [,2] [,3] [,4]\n",
       "[1,]    9   11   13   15\n",
       "[2,]   10   12   14   16\n",
       "\n",
       ", , 3\n",
       "\n",
       "     [,1] [,2] [,3] [,4]\n",
       "[1,]   17   19   21   23\n",
       "[2,]   18   20   22   24\n"
      ]
     },
     "metadata": {},
     "output_type": "display_data"
    }
   ],
   "source": [
    "ar <- array(1:24, dim = c(2, 4, 3) ); ar"
   ]
  },
  {
   "cell_type": "markdown",
   "id": "ca4fd5ae-f551-45c3-b737-281574c8ae47",
   "metadata": {},
   "source": [
    "#### CONFRONT AND INSPECT VECTORS\n",
    "* `all.equal(a,b tolerance)`: compares numeric objects $a$ and $b$ testing if they are 'near' equal, including an optional tolerance\n",
    "* `identical(a,b)`: compares numeric objects $a$ and $b$ testing if they are exactly equal\n",
    "* `table(a)`: returns a frequency table of the values of a vector a\n",
    "* `unique(a)`: returns a vector with the unique values of a\n",
    "* `duplicated(a)`: returns a vector of logical values which are TRUE when that name has already appeared in the vector\n",
    "* `union(a,b)`: returns a vector which is the union of a and b\n",
    "* `intersect(a,b)`: returns a vector which is the intersection of a and b. Alternative: `a %in% b`\n",
    "* `setdiff(a,b)`: returns the elements that are in a but not in b (=set difference)\n",
    "* `setequal(a,b)`: returns TRUE if a and b are equal"
   ]
  },
  {
   "cell_type": "markdown",
   "id": "1bc0e6ea-2c95-4258-a7fb-34ab5f6c1610",
   "metadata": {},
   "source": [
    "#### FACTORS\n",
    "Factor vectors are used to represent categorical data — variables that can take on a limited, fixed number of unique values, called levels. They are internally stored as integers, but displayed as text labels, so be careful when treating them like strings. So even though you entered a vector of strings, R stored it as a factor, assigning each unique value an integer level.\n",
    "\n",
    "In base R factors are encountered very frequently: many base R functions (read.csv(), data.frame()) automatically convert character vectors to factors. To suppress this behavior use `stringsAsFactors = FALSE`.\n",
    "\n",
    "We create them with `factor(elem, levels=..)`. We can then see them in a nice way with `table(..)`.\n",
    "\n",
    "We can also create ordered factors where the order is important, with `ordered(elem, levels=..)`."
   ]
  },
  {
   "cell_type": "code",
   "execution_count": 24,
   "id": "cf2da966-c4c4-4e37-9f40-1043754883bf",
   "metadata": {},
   "outputs": [
    {
     "data": {
      "text/html": [
       "<style>\n",
       ".list-inline {list-style: none; margin:0; padding: 0}\n",
       ".list-inline>li {display: inline-block}\n",
       ".list-inline>li:not(:last-child)::after {content: \"\\00b7\"; padding: 0 .5ex}\n",
       "</style>\n",
       "<ol class=list-inline><li>Est</li><li>West</li><li>Est</li></ol>\n",
       "\n",
       "<details>\n",
       "\t<summary style=display:list-item;cursor:pointer>\n",
       "\t\t<strong>Levels</strong>:\n",
       "\t</summary>\n",
       "\t<style>\n",
       "\t.list-inline {list-style: none; margin:0; padding: 0}\n",
       "\t.list-inline>li {display: inline-block}\n",
       "\t.list-inline>li:not(:last-child)::after {content: \"\\00b7\"; padding: 0 .5ex}\n",
       "\t</style>\n",
       "\t<ol class=list-inline><li>'North'</li><li>'Est'</li><li>'South'</li><li>'West'</li></ol>\n",
       "</details>"
      ],
      "text/latex": [
       "\\begin{enumerate*}\n",
       "\\item Est\n",
       "\\item West\n",
       "\\item Est\n",
       "\\end{enumerate*}\n",
       "\n",
       "\\emph{Levels}: \\begin{enumerate*}\n",
       "\\item 'North'\n",
       "\\item 'Est'\n",
       "\\item 'South'\n",
       "\\item 'West'\n",
       "\\end{enumerate*}\n"
      ],
      "text/markdown": [
       "1. Est\n",
       "2. West\n",
       "3. Est\n",
       "\n",
       "\n",
       "\n",
       "**Levels**: 1. 'North'\n",
       "2. 'Est'\n",
       "3. 'South'\n",
       "4. 'West'\n",
       "\n",
       "\n"
      ],
      "text/plain": [
       "[1] Est  West Est \n",
       "Levels: North Est South West"
      ]
     },
     "metadata": {},
     "output_type": "display_data"
    },
    {
     "data": {
      "text/html": [
       "<style>\n",
       ".list-inline {list-style: none; margin:0; padding: 0}\n",
       ".list-inline>li {display: inline-block}\n",
       ".list-inline>li:not(:last-child)::after {content: \"\\00b7\"; padding: 0 .5ex}\n",
       "</style>\n",
       "<ol class=list-inline><li>high</li><li>low</li><li>medium</li><li>medium</li></ol>\n",
       "\n",
       "<details>\n",
       "\t<summary style=display:list-item;cursor:pointer>\n",
       "\t\t<strong>Levels</strong>:\n",
       "\t</summary>\n",
       "\t<style>\n",
       "\t.list-inline {list-style: none; margin:0; padding: 0}\n",
       "\t.list-inline>li {display: inline-block}\n",
       "\t.list-inline>li:not(:last-child)::after {content: \"\\00b7\"; padding: 0 .5ex}\n",
       "\t</style>\n",
       "\t<ol class=list-inline><li>'low'</li><li>'medium'</li><li>'high'</li></ol>\n",
       "</details>"
      ],
      "text/latex": [
       "\\begin{enumerate*}\n",
       "\\item high\n",
       "\\item low\n",
       "\\item medium\n",
       "\\item medium\n",
       "\\end{enumerate*}\n",
       "\n",
       "\\emph{Levels}: \\begin{enumerate*}\n",
       "\\item 'low'\n",
       "\\item 'medium'\n",
       "\\item 'high'\n",
       "\\end{enumerate*}\n"
      ],
      "text/markdown": [
       "1. high\n",
       "2. low\n",
       "3. medium\n",
       "4. medium\n",
       "\n",
       "\n",
       "\n",
       "**Levels**: 1. 'low'\n",
       "2. 'medium'\n",
       "3. 'high'\n",
       "\n",
       "\n"
      ],
      "text/plain": [
       "[1] high   low    medium medium\n",
       "Levels: low < medium < high"
      ]
     },
     "metadata": {},
     "output_type": "display_data"
    }
   ],
   "source": [
    "x <- factor( c(\"Est\",\"West\",\"Est\"), levels = c(\"North\",\"Est\",\"South\",\"West\") ); x\n",
    "grade <- ordered( c(\"high\",\"low\",\"medium\",\"medium\"), levels = c(\"low\",\"medium\",\"high\") ); grade"
   ]
  },
  {
   "cell_type": "code",
   "execution_count": 28,
   "id": "19775ad8-7b66-4501-b41f-54d321de1040",
   "metadata": {},
   "outputs": [
    {
     "data": {
      "text/html": [
       "'factor'"
      ],
      "text/latex": [
       "'factor'"
      ],
      "text/markdown": [
       "'factor'"
      ],
      "text/plain": [
       "[1] \"factor\""
      ]
     },
     "metadata": {},
     "output_type": "display_data"
    },
    {
     "data": {
      "text/html": [
       "'integer'"
      ],
      "text/latex": [
       "'integer'"
      ],
      "text/markdown": [
       "'integer'"
      ],
      "text/plain": [
       "[1] \"integer\""
      ]
     },
     "metadata": {},
     "output_type": "display_data"
    },
    {
     "data": {
      "text/html": [
       "FALSE"
      ],
      "text/latex": [
       "FALSE"
      ],
      "text/markdown": [
       "FALSE"
      ],
      "text/plain": [
       "[1] FALSE"
      ]
     },
     "metadata": {},
     "output_type": "display_data"
    },
    {
     "data": {
      "text/html": [
       "<style>\n",
       ".list-inline {list-style: none; margin:0; padding: 0}\n",
       ".list-inline>li {display: inline-block}\n",
       ".list-inline>li:not(:last-child)::after {content: \"\\00b7\"; padding: 0 .5ex}\n",
       "</style>\n",
       "<ol class=list-inline><li>2</li><li>4</li><li>2</li></ol>\n"
      ],
      "text/latex": [
       "\\begin{enumerate*}\n",
       "\\item 2\n",
       "\\item 4\n",
       "\\item 2\n",
       "\\end{enumerate*}\n"
      ],
      "text/markdown": [
       "1. 2\n",
       "2. 4\n",
       "3. 2\n",
       "\n",
       "\n"
      ],
      "text/plain": [
       "[1] 2 4 2"
      ]
     },
     "metadata": {},
     "output_type": "display_data"
    },
    {
     "name": "stdout",
     "output_type": "stream",
     "text": [
      " Factor w/ 4 levels \"North\",\"Est\",..: 2 4 2\n"
     ]
    },
    {
     "data": {
      "text/html": [
       "<style>\n",
       ".list-inline {list-style: none; margin:0; padding: 0}\n",
       ".list-inline>li {display: inline-block}\n",
       ".list-inline>li:not(:last-child)::after {content: \"\\00b7\"; padding: 0 .5ex}\n",
       "</style>\n",
       "<ol class=list-inline><li>'North'</li><li>'Est'</li><li>'South'</li><li>'West'</li></ol>\n"
      ],
      "text/latex": [
       "\\begin{enumerate*}\n",
       "\\item 'North'\n",
       "\\item 'Est'\n",
       "\\item 'South'\n",
       "\\item 'West'\n",
       "\\end{enumerate*}\n"
      ],
      "text/markdown": [
       "1. 'North'\n",
       "2. 'Est'\n",
       "3. 'South'\n",
       "4. 'West'\n",
       "\n",
       "\n"
      ],
      "text/plain": [
       "[1] \"North\" \"Est\"   \"South\" \"West\" "
      ]
     },
     "metadata": {},
     "output_type": "display_data"
    },
    {
     "data": {
      "text/plain": [
       "grade\n",
       "   low medium   high \n",
       "     1      2      1 "
      ]
     },
     "metadata": {},
     "output_type": "display_data"
    },
    {
     "data": {
      "image/png": "[encoded data removed]",
      "text/plain": [
       "plot without title"
      ]
     },
     "metadata": {
      "image/png": {
       "height": 420,
       "width": 420
      }
     },
     "output_type": "display_data"
    }
   ],
   "source": [
    "class(x)\n",
    "typeof(x)\n",
    "is.numeric(x)\n",
    "as.numeric(x)\n",
    "str(x)\n",
    "levels(x)\n",
    "\n",
    "table(grade)              # table of values\n",
    "\n",
    "barplot(table(grade))     # plot"
   ]
  },
  {
   "cell_type": "markdown",
   "id": "0d8babbe-891f-4f94-bd5f-48aa2ab464e6",
   "metadata": {},
   "source": [
    "#### DATES\n",
    "Date vectors and difftime vectors are built on top of double vectors. Numerically they are represented as number of days since 1970/01/01. They’re both S3 classes used for date and time handling.\n",
    "\n",
    "The **Date** class is used to represent calendar dates, with day-level precision (i.e., no time of day, just the date). Internally, a Date is stored as the number of days since January 1, 1970.\n",
    "\n",
    "The **difftime** class is used to represents the difference between two time or date objects — it’s the result of subtracting two Date or POSIXt objects. It stores the difference along with an option called `unit` (=\"secs\", \"mins\", \"hours\", \"days\", or \"weeks\").\n",
    "\n",
    "The **POSIXct** and **POSIXlt** classes are used for representing date-time values (i.e., dates with times), giving you much finer granularity than Date. POSIXct (ct = calendar time) it's the seconds since 1970-01-01 (numeric). Efficient storage, good for plotting and comparisons. POSIXlt (lt = local time) is list-based: is a list with elements (year, mon, etc.). More readable for extracting components. The`tzone` option is useful to set the time zone (Rome, London..).\n",
    "\n",
    "Base time functions are:\n",
    "* `Sys.time()` restituisce l'ora corrente in formato POSIXct\n",
    "* `Sys.Date()`: Restituisce solo la data corrente, senza la parte dell'ora\n",
    "* `Sys.sleep(n)` mette in pausa il programma per 'n' secondi"
   ]
  },
  {
   "cell_type": "code",
   "execution_count": 37,
   "id": "9a35b969-e36c-4b54-a483-98eb9dbc9f81",
   "metadata": {},
   "outputs": [
    {
     "data": {
      "text/html": [
       "<time datetime=\"2025-04-09\">2025-04-09</time>"
      ],
      "text/latex": [
       "2025-04-09"
      ],
      "text/markdown": [
       "2025-04-09"
      ],
      "text/plain": [
       "[1] \"2025-04-09\""
      ]
     },
     "metadata": {},
     "output_type": "display_data"
    },
    {
     "data": {
      "text/html": [
       "'double'"
      ],
      "text/latex": [
       "'double'"
      ],
      "text/markdown": [
       "'double'"
      ],
      "text/plain": [
       "[1] \"double\""
      ]
     },
     "metadata": {},
     "output_type": "display_data"
    },
    {
     "data": {
      "text/html": [
       "'Date'"
      ],
      "text/latex": [
       "'Date'"
      ],
      "text/markdown": [
       "'Date'"
      ],
      "text/plain": [
       "[1] \"Date\""
      ]
     },
     "metadata": {},
     "output_type": "display_data"
    },
    {
     "data": {
      "text/html": [
       "<time datetime=\"2025-03-14\">2025-03-14</time>"
      ],
      "text/latex": [
       "2025-03-14"
      ],
      "text/markdown": [
       "2025-03-14"
      ],
      "text/plain": [
       "[1] \"2025-03-14\""
      ]
     },
     "metadata": {},
     "output_type": "display_data"
    },
    {
     "data": {
      "text/plain": [
       "Time difference of 26 days"
      ]
     },
     "metadata": {},
     "output_type": "display_data"
    }
   ],
   "source": [
    "today <- Sys.Date(); today\n",
    "typeof(today)\n",
    "class(today)\n",
    "yesterday <- as.Date(\"2025-03-14\"); yesterday\n",
    "delta <- today - yesterday ; delta"
   ]
  },
  {
   "cell_type": "code",
   "execution_count": 29,
   "id": "0213245d-441e-42c9-9215-cd58162b27eb",
   "metadata": {},
   "outputs": [
    {
     "name": "stdout",
     "output_type": "stream",
     "text": [
      "Time difference of 1.002468 secs\n"
     ]
    }
   ],
   "source": [
    "start_time <- Sys.time()\n",
    "Sys.sleep(1)\n",
    "end_time <- Sys.time()\n",
    "duration <- end_time - start_time\n",
    "print(duration)  # Differenza in secondi"
   ]
  },
  {
   "cell_type": "markdown",
   "id": "0fe374d3-9607-4036-b4a6-afc26bb3120c",
   "metadata": {},
   "source": [
    "---"
   ]
  },
  {
   "cell_type": "markdown",
   "id": "1ddb6389-4384-4707-9655-6918474891cf",
   "metadata": {},
   "source": [
    "## 05 - FLOW OF CONTROL\n",
    "Let's see conditional statements and cycles."
   ]
  },
  {
   "cell_type": "markdown",
   "id": "93844a95-5517-4317-9f93-715264bbcd4e",
   "metadata": {},
   "source": [
    "#### IF CONDITION\n",
    "La condizione deve essere un'espressione che restituisce TRUE o FALSE. Puoi usare operatori relazionali e logici come >, <, ==, !=, &, |, ecc. 'If' statements can be nested. La sintassi è la solita:\n",
    "\n",
    "```R\n",
    "if (condition1) {\n",
    "  # codice se condition1 è TRUE\n",
    "} else if (condition2) {\n",
    "  # codice se condition2 è TRUE\n",
    "} else {\n",
    "  # codice se nessuna delle condizioni è TRUE\n",
    "}\n",
    "```"
   ]
  },
  {
   "cell_type": "markdown",
   "id": "99c30999-7698-4851-a1cc-90377fc53299",
   "metadata": {},
   "source": [
    "#### SWITCH\n",
    "La funzione switch() in R è un'alternativa all'uso di if e else if quando si hanno molte condizioni da verificare. È utile per confrontare un'espressione con una serie di valori e restituire un risultato corrispondente a quel valore. La sintassi è:\n",
    "\n",
    "```R\n",
    "switch(expression, case1 = result1, case2 = result2, ...) \n",
    "```"
   ]
  },
  {
   "cell_type": "code",
   "execution_count": 2,
   "id": "80b3e168-83df-4bb3-99ff-10c6801b8276",
   "metadata": {},
   "outputs": [
    {
     "data": {
      "text/html": [
       "'y is bigger'"
      ],
      "text/latex": [
       "'y is bigger'"
      ],
      "text/markdown": [
       "'y is bigger'"
      ],
      "text/plain": [
       "[1] \"y is bigger\""
      ]
     },
     "metadata": {},
     "output_type": "display_data"
    }
   ],
   "source": [
    "x <- 35\n",
    "y <- 45\n",
    "msg <- switch( as.character( sign(x-y) ) , \"1\" = \"x is bigger\" , \"0\" = \"x and y are equal\" , \"-1\" = \"y is bigger\" )\n",
    "msg"
   ]
  },
  {
   "cell_type": "markdown",
   "id": "ba965817-15e4-4638-a977-7e84163240a4",
   "metadata": {},
   "source": [
    "#### FOR LOOPS\n"
   ]
  },
  {
   "cell_type": "markdown",
   "id": "913b6026-4073-4261-8b0e-250fca88d3f3",
   "metadata": {},
   "source": [
    "Sintassi:\n",
    "```R\n",
    "for (variabile in sequenza) {\n",
    "  # Blocco di codice da eseguire\n",
    "}\n",
    "\n",
    "```"
   ]
  },
  {
   "cell_type": "code",
   "execution_count": 2,
   "id": "a38f54b6-627a-4715-964d-87c15b01d605",
   "metadata": {},
   "outputs": [
    {
     "name": "stdout",
     "output_type": "stream",
     "text": [
      "1  | 2  | 7  | 9  | "
     ]
    }
   ],
   "source": [
    "x <- c(1, 2, 7, 9 )\n",
    "for (i in x) cat( i, \" | \")"
   ]
  },
  {
   "cell_type": "markdown",
   "id": "8ecc03c6-e76e-41c0-b801-52875a3983a7",
   "metadata": {},
   "source": [
    "#### WHILE LOOPS\n",
    "```R\n",
    "while (condizione) {\n",
    "  # codice da eseguire finché la condizione è TRUE\n",
    "}\n"
   ]
  },
  {
   "cell_type": "markdown",
   "id": "7ed8601e-03c6-4ce6-bd56-478c67a2d0b4",
   "metadata": {},
   "source": [
    "#### REPEAT-IF LOOPS\n",
    "It works like a classic **do-while** loop. In this way the body is executed at least once.\n",
    "```R\n",
    "repeat {\n",
    "  # codice da eseguire\n",
    "  if (condizione_di_stop) { break }\n",
    "}\n",
    "```\n"
   ]
  },
  {
   "cell_type": "markdown",
   "id": "ee11550b-7113-4b7f-8b22-72589288c51d",
   "metadata": {},
   "source": [
    "#### IF-ELSE\n",
    "È una funzione vettoriale che permette di eseguire operazioni condizionali su vettori. Funziona in modo simile alla struttura if-else, ma è progettata per essere utilizzata in modo efficiente su vettori o colonne di data frame, restituendo un risultato per ogni elemento. Sintassi:\n",
    "```R\n",
    "ifelse(test, a, b)    # substitute a when test is TRUE, otherwise b\n",
    "```"
   ]
  },
  {
   "cell_type": "code",
   "execution_count": 8,
   "id": "bba4b5c2-d70a-458e-b93e-53dc442e9156",
   "metadata": {},
   "outputs": [
    {
     "name": "stdout",
     "output_type": "stream",
     "text": [
      "[1]  0  0  0  5 10\n"
     ]
    }
   ],
   "source": [
    "x <- c(0.3, 0.7, 0.1, 5, 10)\n",
    "result <- ifelse(x < 1, 0, x)\n",
    "print(result)"
   ]
  },
  {
   "cell_type": "markdown",
   "id": "f643078c-b249-4f1d-aa81-86dbbef1c575",
   "metadata": {},
   "source": [
    "---"
   ]
  },
  {
   "cell_type": "markdown",
   "id": "875d57a8-fc11-4819-bb65-594f9d17da16",
   "metadata": {},
   "source": [
    "## 06 - FUNCTIONS\n",
    "Functions are the most important bulding block in R. Arguments can have default values. In R, non è obbligatorio usare la funzione `return()` per restituire il valore di una funzione. Se non utilizzi return(), l'ultima espressione valutata nella funzione viene automaticamente restituita. The syntax is:\n",
    "```r\n",
    "nome_funzione <- function(argomento1, argomento2, ...) {\n",
    "  # corpo della funzione\n",
    "  return(qualcosa)  # restituisce il risultato\n",
    "}\n",
    "```"
   ]
  },
  {
   "cell_type": "code",
   "execution_count": 3,
   "id": "17e8cee0-c9d8-457d-a925-522333515123",
   "metadata": {},
   "outputs": [
    {
     "data": {
      "text/html": [
       "11"
      ],
      "text/latex": [
       "11"
      ],
      "text/markdown": [
       "11"
      ],
      "text/plain": [
       "[1] 11"
      ]
     },
     "metadata": {},
     "output_type": "display_data"
    }
   ],
   "source": [
    "somma <- function( x=1 , y=2 ) { x+y }\n",
    "somma(5,6)"
   ]
  },
  {
   "cell_type": "markdown",
   "id": "9ab93382-21d4-498f-9ede-ee7fae6c1cc3",
   "metadata": {},
   "source": [
    "For measuring time of computation we can use the library `microbenchmark`. È particolarmente utile quando si desidera confrontare le prestazioni di diverse funzioni o implementazioni di un algoritmo in modo rapido e preciso. Puoi fornire più di una funzione o espressione per confrontare i tempi di esecuzione. 'times' specifica quante volte ogni espressione deve essere eseguita. Sintassi:\n",
    "```R\n",
    "microbenchmark(codice1, codice2, ..., times = 100L) \n",
    "```"
   ]
  },
  {
   "cell_type": "markdown",
   "id": "aa045745-e161-4e76-b228-f9aaa411540a",
   "metadata": {},
   "source": [
    "#### SAPPLY\n",
    "The `sapply()` function is a part of the apply family of functions, which are used to apply a function to elements of a list, vector, or data frame. sapply() stands for simplified apply and attempts to simplify the result by returning an array or vector instead of a list, making it more convenient for many cases. The syntax is `sapply(X, FUN, ..., USE.NAMES = TRUE)`.\n",
    "\n",
    "The parameters are:\n",
    "* X: The object (usually a vector, list, or data frame) to which the function FUN will be applied.\n",
    "* FUN: The function that will be applied to each element of X. This can be a built-in function or a custom function.\n",
    "* '...': Additional arguments passed to the function FUN.\n",
    "* USE.NAMES: A logical value (TRUE or FALSE). If TRUE (default), the names of the elements in X will be used as the names of the output elements."
   ]
  },
  {
   "cell_type": "code",
   "execution_count": 4,
   "id": "736cb918-d12f-4823-be1e-1424c3ec14a7",
   "metadata": {},
   "outputs": [
    {
     "data": {
      "text/html": [
       "<style>\n",
       ".list-inline {list-style: none; margin:0; padding: 0}\n",
       ".list-inline>li {display: inline-block}\n",
       ".list-inline>li:not(:last-child)::after {content: \"\\00b7\"; padding: 0 .5ex}\n",
       "</style>\n",
       "<ol class=list-inline><li>1</li><li>2</li><li>3</li><li>4</li></ol>\n"
      ],
      "text/latex": [
       "\\begin{enumerate*}\n",
       "\\item 1\n",
       "\\item 2\n",
       "\\item 3\n",
       "\\item 4\n",
       "\\end{enumerate*}\n"
      ],
      "text/markdown": [
       "1. 1\n",
       "2. 2\n",
       "3. 3\n",
       "4. 4\n",
       "\n",
       "\n"
      ],
      "text/plain": [
       "[1] 1 2 3 4"
      ]
     },
     "metadata": {},
     "output_type": "display_data"
    }
   ],
   "source": [
    "x <- c(1, 4, 9, 16)\n",
    "result <- sapply(x, sqrt); result"
   ]
  },
  {
   "cell_type": "markdown",
   "id": "941243ed-c19f-49fb-b8d9-ff0454b4fb5e",
   "metadata": {},
   "source": [
    "---"
   ]
  },
  {
   "cell_type": "markdown",
   "id": "88c7bede-811b-4acc-9f5a-99c2ce8ef3a4",
   "metadata": {},
   "source": [
    "## 07 - OBJECT CREATION, COPIES AND VIEWS\n",
    "**All R objects are immutable**. R never changes the content of an object directly in memory. Any modification results in a new object. \n",
    "\n",
    "The behaviour of R is called **copy-on-modify**: when you assign one object to another, R doesn't make a full copy right away. Instead, both names point to the same memory. If you modify one of them, R creates a new copy of the object in memory — so the original isn't changed. This means that if you're modifying large data frames, matrices, or vectors many times (e.g. in a loop), that can be a performance bottleneck!"
   ]
  },
  {
   "cell_type": "code",
   "execution_count": 2,
   "id": "dab6f095-95b8-4f43-9d12-d91e1d58de61",
   "metadata": {},
   "outputs": [
    {
     "name": "stdout",
     "output_type": "stream",
     "text": [
      " num [1:3] 1 2 3\n",
      " num [1:3] 1 2 4\n"
     ]
    }
   ],
   "source": [
    "x <- c( 1, 2, 3)\n",
    "y <- x\n",
    "y[3] <- 4\n",
    "str(x)   # x is not modified!\n",
    "str(y)"
   ]
  },
  {
   "cell_type": "markdown",
   "id": "8dd40f70-bab3-4d77-907a-dbf3c1679935",
   "metadata": {},
   "source": [
    "There are a few exceptions to this rule where R can optimize performance by avoiding unnecessary copies:\n",
    "* *Single Binding objects*: single binding means that there is only one reference to the object in memory (i.e., it's not shared).\n",
    "* *Environments*: they are a special type of object in R that store variables as key-value pairs. Unlike typical R objects, environments are always modified in-place. This means that changes to environments do not involve copying the object; they directly modify the environment itself.\n",
    "\n",
    "The difficulty arises because R only counts object bindings as having 0, 1, or many bindings. It does not track the exact number of references in a way that makes it easy to predict when R will apply the optimization. If an object has two bindings (i.e., it is referenced in two places), and one of the references is deleted, R does not reduce the number of bindings to one. The count still remains as many, which means R continues to treat the object as having multiple bindings, even if one reference is removed. See more [here](https://developer.r-project.org/Refcnt.html)."
   ]
  },
  {
   "cell_type": "code",
   "execution_count": 59,
   "id": "d6432efa-bfba-41c0-9a24-fa2ca793e724",
   "metadata": {},
   "outputs": [],
   "source": [
    "# EXAMPLE OF SINGLE BINDING:\n",
    "variab <- 1  # variab has a single binding\n",
    "variab <- 2  # R modifies variab directly (no copy is made)\n",
    "\n",
    "aaa <- 10\n",
    "bbb <- aaa   # x and y both reference the same object, so there are 2 bindings\n",
    "rm(bbb)      # y is removed, but aaa still has the object, so the number of bindings remains \"many\"\n",
    "\n",
    "\n",
    "# EXAMPLE OF ENVIRONMENT:\n",
    "env <- new.env()\n",
    "env$a <- 10  # Modifying the environment in place\n",
    "env$a <- 20  # The environment is modified directly, no copy is made"
   ]
  },
  {
   "cell_type": "markdown",
   "id": "15b37f6c-87d2-45f3-ba59-c6b31b2c9c11",
   "metadata": {},
   "source": [
    "---"
   ]
  },
  {
   "cell_type": "markdown",
   "id": "5702f98e-e7bd-4195-af5d-ad3410cfc33f",
   "metadata": {},
   "source": [
    "## 08 - LISTS\n",
    "Lists are important objects in R where each element can be of different type. But from the technical point of view each element of a list is of the same type: it is a reference to another R object. \n",
    "\n",
    "We create list with the command `list(...)`.\n",
    "\n",
    "To change a list into a vector use `unlist(..)`."
   ]
  },
  {
   "cell_type": "code",
   "execution_count": 5,
   "id": "f5c185bb-cc19-474a-80c2-167762c90793",
   "metadata": {},
   "outputs": [
    {
     "data": {
      "text/html": [
       "<ol>\n",
       "\t<li><style>\n",
       ".list-inline {list-style: none; margin:0; padding: 0}\n",
       ".list-inline>li {display: inline-block}\n",
       ".list-inline>li:not(:last-child)::after {content: \"\\00b7\"; padding: 0 .5ex}\n",
       "</style>\n",
       "<ol class=list-inline><li>1</li><li>2</li><li>3</li></ol>\n",
       "</li>\n",
       "\t<li>'word'</li>\n",
       "\t<li><style>\n",
       ".list-inline {list-style: none; margin:0; padding: 0}\n",
       ".list-inline>li {display: inline-block}\n",
       ".list-inline>li:not(:last-child)::after {content: \"\\00b7\"; padding: 0 .5ex}\n",
       "</style>\n",
       "<ol class=list-inline><li>TRUE</li><li>FALSE</li><li>FALSE</li><li>TRUE</li><li>TRUE</li><li>TRUE</li></ol>\n",
       "</li>\n",
       "</ol>\n"
      ],
      "text/latex": [
       "\\begin{enumerate}\n",
       "\\item \\begin{enumerate*}\n",
       "\\item 1\n",
       "\\item 2\n",
       "\\item 3\n",
       "\\end{enumerate*}\n",
       "\n",
       "\\item 'word'\n",
       "\\item \\begin{enumerate*}\n",
       "\\item TRUE\n",
       "\\item FALSE\n",
       "\\item FALSE\n",
       "\\item TRUE\n",
       "\\item TRUE\n",
       "\\item TRUE\n",
       "\\end{enumerate*}\n",
       "\n",
       "\\end{enumerate}\n"
      ],
      "text/markdown": [
       "1. 1. 1\n",
       "2. 2\n",
       "3. 3\n",
       "\n",
       "\n",
       "\n",
       "2. 'word'\n",
       "3. 1. TRUE\n",
       "2. FALSE\n",
       "3. FALSE\n",
       "4. TRUE\n",
       "5. TRUE\n",
       "6. TRUE\n",
       "\n",
       "\n",
       "\n",
       "\n",
       "\n"
      ],
      "text/plain": [
       "[[1]]\n",
       "[1] 1 2 3\n",
       "\n",
       "[[2]]\n",
       "[1] \"word\"\n",
       "\n",
       "[[3]]\n",
       "[1]  TRUE FALSE FALSE  TRUE  TRUE  TRUE\n"
      ]
     },
     "metadata": {},
     "output_type": "display_data"
    }
   ],
   "source": [
    "prova <- list( 1:3, \"word\", rep( c(T,F,T), 1:3) ) ; prova"
   ]
  },
  {
   "cell_type": "markdown",
   "id": "a74816e4-2270-4429-ac91-13ec4afbbb56",
   "metadata": {},
   "source": [
    "Indexing on lists uses **double square brackets** `[[...]]` to extract a single element directly. In contrast, single square brackets `[...]` always return a sublist containing the specified elements (i.e., still a list).\n",
    "\n",
    "Another way to access elements is using the `$` operator to select a component by name. For instance, `x$` is equivalent to `x[[\"col_name\"]]`, and both return the actual object (e.g., a vector), not a list containing that object — unlike `x[\"col_name\"]`, which returns a list with one named element."
   ]
  },
  {
   "cell_type": "code",
   "execution_count": 24,
   "id": "1f672b0e-5eb9-404f-99e5-1b7ec37509fe",
   "metadata": {},
   "outputs": [
    {
     "data": {
      "text/html": [
       "<strong>$a</strong> = <style>\n",
       ".list-inline {list-style: none; margin:0; padding: 0}\n",
       ".list-inline>li {display: inline-block}\n",
       ".list-inline>li:not(:last-child)::after {content: \"\\00b7\"; padding: 0 .5ex}\n",
       "</style>\n",
       "<ol class=list-inline><li>15</li><li>16</li><li>17</li><li>18</li><li>19</li></ol>\n"
      ],
      "text/latex": [
       "\\textbf{\\$a} = \\begin{enumerate*}\n",
       "\\item 15\n",
       "\\item 16\n",
       "\\item 17\n",
       "\\item 18\n",
       "\\item 19\n",
       "\\end{enumerate*}\n"
      ],
      "text/markdown": [
       "**$a** = 1. 15\n",
       "2. 16\n",
       "3. 17\n",
       "4. 18\n",
       "5. 19\n",
       "\n",
       "\n"
      ],
      "text/plain": [
       "$a\n",
       "[1] 15 16 17 18 19\n"
      ]
     },
     "metadata": {},
     "output_type": "display_data"
    },
    {
     "data": {
      "text/html": [
       "<dl>\n",
       "\t<dt>$a</dt>\n",
       "\t\t<dd><style>\n",
       ".list-inline {list-style: none; margin:0; padding: 0}\n",
       ".list-inline>li {display: inline-block}\n",
       ".list-inline>li:not(:last-child)::after {content: \"\\00b7\"; padding: 0 .5ex}\n",
       "</style>\n",
       "<ol class=list-inline><li>15</li><li>16</li><li>17</li><li>18</li><li>19</li></ol>\n",
       "</dd>\n",
       "\t<dt>$b</dt>\n",
       "\t\t<dd><style>\n",
       ".list-inline {list-style: none; margin:0; padding: 0}\n",
       ".list-inline>li {display: inline-block}\n",
       ".list-inline>li:not(:last-child)::after {content: \"\\00b7\"; padding: 0 .5ex}\n",
       "</style>\n",
       "<ol class=list-inline><li>'x'</li><li>'y'</li></ol>\n",
       "</dd>\n",
       "</dl>\n"
      ],
      "text/latex": [
       "\\begin{description}\n",
       "\\item[\\$a] \\begin{enumerate*}\n",
       "\\item 15\n",
       "\\item 16\n",
       "\\item 17\n",
       "\\item 18\n",
       "\\item 19\n",
       "\\end{enumerate*}\n",
       "\n",
       "\\item[\\$b] \\begin{enumerate*}\n",
       "\\item 'x'\n",
       "\\item 'y'\n",
       "\\end{enumerate*}\n",
       "\n",
       "\\end{description}\n"
      ],
      "text/markdown": [
       "$a\n",
       ":   1. 15\n",
       "2. 16\n",
       "3. 17\n",
       "4. 18\n",
       "5. 19\n",
       "\n",
       "\n",
       "\n",
       "$b\n",
       ":   1. 'x'\n",
       "2. 'y'\n",
       "\n",
       "\n",
       "\n",
       "\n",
       "\n"
      ],
      "text/plain": [
       "$a\n",
       "[1] 15 16 17 18 19\n",
       "\n",
       "$b\n",
       "[1] \"x\" \"y\"\n"
      ]
     },
     "metadata": {},
     "output_type": "display_data"
    },
    {
     "data": {
      "text/html": [
       "'list'"
      ],
      "text/latex": [
       "'list'"
      ],
      "text/markdown": [
       "'list'"
      ],
      "text/plain": [
       "[1] \"list\""
      ]
     },
     "metadata": {},
     "output_type": "display_data"
    },
    {
     "data": {
      "text/html": [
       "<style>\n",
       ".list-inline {list-style: none; margin:0; padding: 0}\n",
       ".list-inline>li {display: inline-block}\n",
       ".list-inline>li:not(:last-child)::after {content: \"\\00b7\"; padding: 0 .5ex}\n",
       "</style>\n",
       "<ol class=list-inline><li>15</li><li>16</li><li>17</li><li>18</li><li>19</li></ol>\n"
      ],
      "text/latex": [
       "\\begin{enumerate*}\n",
       "\\item 15\n",
       "\\item 16\n",
       "\\item 17\n",
       "\\item 18\n",
       "\\item 19\n",
       "\\end{enumerate*}\n"
      ],
      "text/markdown": [
       "1. 15\n",
       "2. 16\n",
       "3. 17\n",
       "4. 18\n",
       "5. 19\n",
       "\n",
       "\n"
      ],
      "text/plain": [
       "[1] 15 16 17 18 19"
      ]
     },
     "metadata": {},
     "output_type": "display_data"
    },
    {
     "data": {
      "text/html": [
       "16"
      ],
      "text/latex": [
       "16"
      ],
      "text/markdown": [
       "16"
      ],
      "text/plain": [
       "[1] 16"
      ]
     },
     "metadata": {},
     "output_type": "display_data"
    },
    {
     "data": {
      "text/html": [
       "16"
      ],
      "text/latex": [
       "16"
      ],
      "text/markdown": [
       "16"
      ],
      "text/plain": [
       "[1] 16"
      ]
     },
     "metadata": {},
     "output_type": "display_data"
    },
    {
     "data": {
      "text/html": [
       "'integer'"
      ],
      "text/latex": [
       "'integer'"
      ],
      "text/markdown": [
       "'integer'"
      ],
      "text/plain": [
       "[1] \"integer\""
      ]
     },
     "metadata": {},
     "output_type": "display_data"
    }
   ],
   "source": [
    "l <- list(a = 15:19, b = c(\"x\", \"y\"))\n",
    "\n",
    "l[1]            # returns a list with inside the first element\n",
    "l[1:2]          # returns a list with inside the first 2 elements\n",
    "class( l[1] )   # \"list\"\n",
    "# NOTE: for lists you can't use indexing with a comma like l[1,2]!!!! Only with matrices or dataframes\n",
    "\n",
    "l[[1]]          # ---> returns the first element, here given by the sequence of integers 15:19\n",
    "l[[1]][[2]]     # ---> it enters the 1st element (which is a vector) and returns its 2nd element (a number)\n",
    "l[[1]][2]       # ---> it enters the 1st element (which is a vector) and returns its 2nd element (a number) --- this version is better because we use single brackets to access vectors\n",
    "class( l[[1]] ) # \"integer\""
   ]
  },
  {
   "cell_type": "markdown",
   "id": "548d4fc7-b958-4a5d-8720-1c67f7a6e48a",
   "metadata": {},
   "source": [
    "We can give a name to lists' elements and used them to access:"
   ]
  },
  {
   "cell_type": "code",
   "execution_count": 37,
   "id": "565ac8f1-faef-4628-b46d-a762078697f1",
   "metadata": {},
   "outputs": [
    {
     "data": {
      "text/html": [
       "<style>\n",
       ".list-inline {list-style: none; margin:0; padding: 0}\n",
       ".list-inline>li {display: inline-block}\n",
       ".list-inline>li:not(:last-child)::after {content: \"\\00b7\"; padding: 0 .5ex}\n",
       "</style>\n",
       "<ol class=list-inline><li>'x'</li><li>'y'</li></ol>\n"
      ],
      "text/latex": [
       "\\begin{enumerate*}\n",
       "\\item 'x'\n",
       "\\item 'y'\n",
       "\\end{enumerate*}\n"
      ],
      "text/markdown": [
       "1. 'x'\n",
       "2. 'y'\n",
       "\n",
       "\n"
      ],
      "text/plain": [
       "[1] \"x\" \"y\""
      ]
     },
     "metadata": {},
     "output_type": "display_data"
    },
    {
     "data": {
      "text/html": [
       "<style>\n",
       ".list-inline {list-style: none; margin:0; padding: 0}\n",
       ".list-inline>li {display: inline-block}\n",
       ".list-inline>li:not(:last-child)::after {content: \"\\00b7\"; padding: 0 .5ex}\n",
       "</style>\n",
       "<ol class=list-inline><li>'x'</li><li>'y'</li></ol>\n"
      ],
      "text/latex": [
       "\\begin{enumerate*}\n",
       "\\item 'x'\n",
       "\\item 'y'\n",
       "\\end{enumerate*}\n"
      ],
      "text/markdown": [
       "1. 'x'\n",
       "2. 'y'\n",
       "\n",
       "\n"
      ],
      "text/plain": [
       "[1] \"x\" \"y\""
      ]
     },
     "metadata": {},
     "output_type": "display_data"
    }
   ],
   "source": [
    "l <- list(a = 15:19, b = c(\"x\", \"y\"))\n",
    "l[[\"b\"]]    # \"x\" \"y\"\n",
    "l$b         # \"x\" \"y\""
   ]
  },
  {
   "cell_type": "markdown",
   "id": "b20245e5-f4c8-4da7-b7cf-1d54704ec723",
   "metadata": {},
   "source": [
    "---"
   ]
  },
  {
   "cell_type": "markdown",
   "id": "5785ad23-5b63-4d8e-a7dd-9f9d1497cced",
   "metadata": {},
   "source": [
    "## 09 - DATA.FRAMES\n",
    "In R, a data frame is the main way to store tabular data — like a spreadsheet or a SQL table. It looks like a matrix: it has 2 dimensions (rows and columns) and you can access elements using [row, column]. But under the hood, it's actually built differently from a matrix. Internally **a Data Frame is a list of equal-length vectors**, where each vector is a column. R adds metadata (like names) and sets its class to \"data.frame\" to make it behave like a table. We create it with the command `data.frame(..)`.\n",
    "\n",
    "EFFECT OF COPY-ON-MODIFY:  \n",
    "If we modify a column, only the reference to the new column will be updated. But if any row is modified, every column is modified because every column must be copied."
   ]
  },
  {
   "cell_type": "markdown",
   "id": "80a4b7cd-9eac-480b-9e8c-792749d087b4",
   "metadata": {},
   "source": [
    "#### INDEXING\n",
    "Even though data frames are technically lists of equal-length vectors, they support matrix-like 2D indexing in addition to list-style indexing.\n",
    "* `df[[i]]` or `df[[\"col_name\"]]` or `df$col_name`: returns a vector (a column), like in list indexing.\n",
    "* `df[i]` or `df[\"col_name\"]`: returns a data frame (so a list) with one column (watch out: nested structure).\n",
    "* `df[2, 3]`: value in row 2, column 3 (like in matrices)\n",
    "* `df[2, ]`: entire second row as a data frame!!\n",
    "* `df[, \"col_name\"]` or `df[, 2]`: returns column as a vector!!\n",
    "    * instead `df[, 2, drop=FALSE]`: returns column as a data frame!! Because with `drop=False` we tell R to keep the structure\n",
    "\n",
    "The explanation for the last three is that while *df[, \"col_name\"]* extracts a column, which is a vector, so R returns the vector directly; instead with *df[2, ]* it extracts a row, which isn't a vector in the data frame, it's a combination of different columns (which might be of different types), so R returns it as a data frame with one row, preserving structure.\n",
    "\n",
    "Summary:\n",
    "* Use `[[ ]]` or `$` to extract a column as a vector\n",
    "* Use `[ , ]` for 2D subsetting\n",
    "* Use `[ ]` for column(s) as data frame(s)"
   ]
  },
  {
   "cell_type": "markdown",
   "id": "8268aad3-2112-40c0-ae0c-3d297716865c",
   "metadata": {},
   "source": [
    "#### EXAMPLES\n",
    "Some examples of indexing for data frames:\n",
    "* `data[n,]`: select all of the columns from row n of the data frame.\n",
    "* `data[-n,]`: drop the whole of row n from the data frame.\n",
    "* `data[1:n,]`: select all of the columns from rows 1 to n of the data frame.\n",
    "* `data[c(i,j,k),]`: select all of the columns from rows i, j, and k of the data frame.\n",
    "* `data[x > y,]`: use a logical test (x > y) to select all columns from certain rows.\n",
    "* `data[,m]`: select all of the rows from column m of the data frame (returns a vector!)\n",
    "* `data[,c(1:m,i,j,k)]`: add duplicate copies of columns i, j, and k to the data frame.\n",
    "* `data[x > y,a != b]`: extract certain rows (x > y) and certain columns (a != b)."
   ]
  },
  {
   "cell_type": "code",
   "execution_count": 41,
   "id": "3285062b-3cf4-4080-b412-4634b162c785",
   "metadata": {},
   "outputs": [
    {
     "data": {
      "text/html": [
       "'list'"
      ],
      "text/latex": [
       "'list'"
      ],
      "text/markdown": [
       "'list'"
      ],
      "text/plain": [
       "[1] \"list\""
      ]
     },
     "metadata": {},
     "output_type": "display_data"
    },
    {
     "data": {
      "text/html": [
       "<dl>\n",
       "\t<dt>$names</dt>\n",
       "\t\t<dd><style>\n",
       ".list-inline {list-style: none; margin:0; padding: 0}\n",
       ".list-inline>li {display: inline-block}\n",
       ".list-inline>li:not(:last-child)::after {content: \"\\00b7\"; padding: 0 .5ex}\n",
       "</style>\n",
       "<ol class=list-inline><li>'nomi'</li><li>'age'</li></ol>\n",
       "</dd>\n",
       "\t<dt>$class</dt>\n",
       "\t\t<dd>'data.frame'</dd>\n",
       "\t<dt>$row.names</dt>\n",
       "\t\t<dd><style>\n",
       ".list-inline {list-style: none; margin:0; padding: 0}\n",
       ".list-inline>li {display: inline-block}\n",
       ".list-inline>li:not(:last-child)::after {content: \"\\00b7\"; padding: 0 .5ex}\n",
       "</style>\n",
       "<ol class=list-inline><li>1</li><li>2</li><li>3</li><li>4</li><li>5</li><li>6</li><li>7</li></ol>\n",
       "</dd>\n",
       "</dl>\n"
      ],
      "text/latex": [
       "\\begin{description}\n",
       "\\item[\\$names] \\begin{enumerate*}\n",
       "\\item 'nomi'\n",
       "\\item 'age'\n",
       "\\end{enumerate*}\n",
       "\n",
       "\\item[\\$class] 'data.frame'\n",
       "\\item[\\$row.names] \\begin{enumerate*}\n",
       "\\item 1\n",
       "\\item 2\n",
       "\\item 3\n",
       "\\item 4\n",
       "\\item 5\n",
       "\\item 6\n",
       "\\item 7\n",
       "\\end{enumerate*}\n",
       "\n",
       "\\end{description}\n"
      ],
      "text/markdown": [
       "$names\n",
       ":   1. 'nomi'\n",
       "2. 'age'\n",
       "\n",
       "\n",
       "\n",
       "$class\n",
       ":   'data.frame'\n",
       "$row.names\n",
       ":   1. 1\n",
       "2. 2\n",
       "3. 3\n",
       "4. 4\n",
       "5. 5\n",
       "6. 6\n",
       "7. 7\n",
       "\n",
       "\n",
       "\n",
       "\n",
       "\n"
      ],
      "text/plain": [
       "$names\n",
       "[1] \"nomi\" \"age\" \n",
       "\n",
       "$class\n",
       "[1] \"data.frame\"\n",
       "\n",
       "$row.names\n",
       "[1] 1 2 3 4 5 6 7\n"
      ]
     },
     "metadata": {},
     "output_type": "display_data"
    },
    {
     "name": "stdout",
     "output_type": "stream",
     "text": [
      "'data.frame':\t7 obs. of  2 variables:\n",
      " $ nomi: chr  \"Aldo\" \"Bob\" \"Carlo\" \"Dario\" ...\n",
      " $ age : num  11 12 13 14 15 16 17\n"
     ]
    },
    {
     "data": {
      "text/html": [
       "<table class=\"dataframe\">\n",
       "<caption>A data.frame: 2 × 2</caption>\n",
       "<thead>\n",
       "\t<tr><th></th><th scope=col>nomi</th><th scope=col>age</th></tr>\n",
       "\t<tr><th></th><th scope=col>&lt;chr&gt;</th><th scope=col>&lt;dbl&gt;</th></tr>\n",
       "</thead>\n",
       "<tbody>\n",
       "\t<tr><th scope=row>4</th><td>Dario</td><td>14</td></tr>\n",
       "\t<tr><th scope=row>2</th><td>Bob  </td><td>12</td></tr>\n",
       "</tbody>\n",
       "</table>\n"
      ],
      "text/latex": [
       "A data.frame: 2 × 2\n",
       "\\begin{tabular}{r|ll}\n",
       "  & nomi & age\\\\\n",
       "  & <chr> & <dbl>\\\\\n",
       "\\hline\n",
       "\t4 & Dario & 14\\\\\n",
       "\t2 & Bob   & 12\\\\\n",
       "\\end{tabular}\n"
      ],
      "text/markdown": [
       "\n",
       "A data.frame: 2 × 2\n",
       "\n",
       "| <!--/--> | nomi &lt;chr&gt; | age &lt;dbl&gt; |\n",
       "|---|---|---|\n",
       "| 4 | Dario | 14 |\n",
       "| 2 | Bob   | 12 |\n",
       "\n"
      ],
      "text/plain": [
       "  nomi  age\n",
       "4 Dario 14 \n",
       "2 Bob   12 "
      ]
     },
     "metadata": {},
     "output_type": "display_data"
    },
    {
     "data": {
      "text/html": [
       "<style>\n",
       ".list-inline {list-style: none; margin:0; padding: 0}\n",
       ".list-inline>li {display: inline-block}\n",
       ".list-inline>li:not(:last-child)::after {content: \"\\00b7\"; padding: 0 .5ex}\n",
       "</style>\n",
       "<ol class=list-inline><li>11</li><li>12</li><li>13</li><li>14</li><li>15</li><li>16</li><li>17</li></ol>\n"
      ],
      "text/latex": [
       "\\begin{enumerate*}\n",
       "\\item 11\n",
       "\\item 12\n",
       "\\item 13\n",
       "\\item 14\n",
       "\\item 15\n",
       "\\item 16\n",
       "\\item 17\n",
       "\\end{enumerate*}\n"
      ],
      "text/markdown": [
       "1. 11\n",
       "2. 12\n",
       "3. 13\n",
       "4. 14\n",
       "5. 15\n",
       "6. 16\n",
       "7. 17\n",
       "\n",
       "\n"
      ],
      "text/plain": [
       "[1] 11 12 13 14 15 16 17"
      ]
     },
     "metadata": {},
     "output_type": "display_data"
    }
   ],
   "source": [
    "df <- data.frame(  \n",
    "    nomi = c(\"Aldo\", \"Bob\", \"Carlo\", \"Dario\", \"Eia\", \"Francesco\", \"Giulio\"),    \n",
    "    age = c(11, 12, 13, 14, 15, 16, 17)    \n",
    ")\n",
    "typeof(df)   # techincally it's a list!\n",
    "attributes(df)\n",
    "str(df)\n",
    "df[sample(1:5,2),]  # select 2 rows at random in the first 5\n",
    "df[ , sapply( df, is.numeric) ] # select the numeric columns"
   ]
  },
  {
   "cell_type": "code",
   "execution_count": 39,
   "id": "87249868-05df-449b-8761-c98e1d6cd359",
   "metadata": {},
   "outputs": [
    {
     "data": {
      "text/html": [
       "<table class=\"dataframe\">\n",
       "<caption>A data.frame: 3 × 1</caption>\n",
       "<thead>\n",
       "\t<tr><th scope=col>a</th></tr>\n",
       "\t<tr><th scope=col>&lt;int&gt;</th></tr>\n",
       "</thead>\n",
       "<tbody>\n",
       "\t<tr><td>1</td></tr>\n",
       "\t<tr><td>2</td></tr>\n",
       "\t<tr><td>3</td></tr>\n",
       "</tbody>\n",
       "</table>\n"
      ],
      "text/latex": [
       "A data.frame: 3 × 1\n",
       "\\begin{tabular}{l}\n",
       " a\\\\\n",
       " <int>\\\\\n",
       "\\hline\n",
       "\t 1\\\\\n",
       "\t 2\\\\\n",
       "\t 3\\\\\n",
       "\\end{tabular}\n"
      ],
      "text/markdown": [
       "\n",
       "A data.frame: 3 × 1\n",
       "\n",
       "| a &lt;int&gt; |\n",
       "|---|\n",
       "| 1 |\n",
       "| 2 |\n",
       "| 3 |\n",
       "\n"
      ],
      "text/plain": [
       "  a\n",
       "1 1\n",
       "2 2\n",
       "3 3"
      ]
     },
     "metadata": {},
     "output_type": "display_data"
    },
    {
     "data": {
      "text/html": [
       "<style>\n",
       ".list-inline {list-style: none; margin:0; padding: 0}\n",
       ".list-inline>li {display: inline-block}\n",
       ".list-inline>li:not(:last-child)::after {content: \"\\00b7\"; padding: 0 .5ex}\n",
       "</style>\n",
       "<ol class=list-inline><li>1</li><li>2</li><li>3</li></ol>\n"
      ],
      "text/latex": [
       "\\begin{enumerate*}\n",
       "\\item 1\n",
       "\\item 2\n",
       "\\item 3\n",
       "\\end{enumerate*}\n"
      ],
      "text/markdown": [
       "1. 1\n",
       "2. 2\n",
       "3. 3\n",
       "\n",
       "\n"
      ],
      "text/plain": [
       "[1] 1 2 3"
      ]
     },
     "metadata": {},
     "output_type": "display_data"
    },
    {
     "data": {
      "text/html": [
       "<style>\n",
       ".list-inline {list-style: none; margin:0; padding: 0}\n",
       ".list-inline>li {display: inline-block}\n",
       ".list-inline>li:not(:last-child)::after {content: \"\\00b7\"; padding: 0 .5ex}\n",
       "</style>\n",
       "<ol class=list-inline><li>1</li><li>2</li><li>3</li></ol>\n"
      ],
      "text/latex": [
       "\\begin{enumerate*}\n",
       "\\item 1\n",
       "\\item 2\n",
       "\\item 3\n",
       "\\end{enumerate*}\n"
      ],
      "text/markdown": [
       "1. 1\n",
       "2. 2\n",
       "3. 3\n",
       "\n",
       "\n"
      ],
      "text/plain": [
       "[1] 1 2 3"
      ]
     },
     "metadata": {},
     "output_type": "display_data"
    },
    {
     "data": {
      "text/html": [
       "<style>\n",
       ".list-inline {list-style: none; margin:0; padding: 0}\n",
       ".list-inline>li {display: inline-block}\n",
       ".list-inline>li:not(:last-child)::after {content: \"\\00b7\"; padding: 0 .5ex}\n",
       "</style>\n",
       "<ol class=list-inline><li>1</li><li>2</li><li>3</li></ol>\n"
      ],
      "text/latex": [
       "\\begin{enumerate*}\n",
       "\\item 1\n",
       "\\item 2\n",
       "\\item 3\n",
       "\\end{enumerate*}\n"
      ],
      "text/markdown": [
       "1. 1\n",
       "2. 2\n",
       "3. 3\n",
       "\n",
       "\n"
      ],
      "text/plain": [
       "[1] 1 2 3"
      ]
     },
     "metadata": {},
     "output_type": "display_data"
    },
    {
     "data": {
      "text/html": [
       "<table class=\"dataframe\">\n",
       "<caption>A data.frame: 3 × 2</caption>\n",
       "<thead>\n",
       "\t<tr><th scope=col>a</th><th scope=col>c</th></tr>\n",
       "\t<tr><th scope=col>&lt;int&gt;</th><th scope=col>&lt;lgl&gt;</th></tr>\n",
       "</thead>\n",
       "<tbody>\n",
       "\t<tr><td>1</td><td> TRUE</td></tr>\n",
       "\t<tr><td>2</td><td>FALSE</td></tr>\n",
       "\t<tr><td>3</td><td> TRUE</td></tr>\n",
       "</tbody>\n",
       "</table>\n"
      ],
      "text/latex": [
       "A data.frame: 3 × 2\n",
       "\\begin{tabular}{ll}\n",
       " a & c\\\\\n",
       " <int> & <lgl>\\\\\n",
       "\\hline\n",
       "\t 1 &  TRUE\\\\\n",
       "\t 2 & FALSE\\\\\n",
       "\t 3 &  TRUE\\\\\n",
       "\\end{tabular}\n"
      ],
      "text/markdown": [
       "\n",
       "A data.frame: 3 × 2\n",
       "\n",
       "| a &lt;int&gt; | c &lt;lgl&gt; |\n",
       "|---|---|\n",
       "| 1 |  TRUE |\n",
       "| 2 | FALSE |\n",
       "| 3 |  TRUE |\n",
       "\n"
      ],
      "text/plain": [
       "  a c    \n",
       "1 1  TRUE\n",
       "2 2 FALSE\n",
       "3 3  TRUE"
      ]
     },
     "metadata": {},
     "output_type": "display_data"
    },
    {
     "data": {
      "text/html": [
       "<table class=\"dataframe\">\n",
       "<caption>A data.frame: 3 × 2</caption>\n",
       "<thead>\n",
       "\t<tr><th scope=col>a</th><th scope=col>b</th></tr>\n",
       "\t<tr><th scope=col>&lt;int&gt;</th><th scope=col>&lt;chr&gt;</th></tr>\n",
       "</thead>\n",
       "<tbody>\n",
       "\t<tr><td>1</td><td>x</td></tr>\n",
       "\t<tr><td>2</td><td>y</td></tr>\n",
       "\t<tr><td>3</td><td>z</td></tr>\n",
       "</tbody>\n",
       "</table>\n"
      ],
      "text/latex": [
       "A data.frame: 3 × 2\n",
       "\\begin{tabular}{ll}\n",
       " a & b\\\\\n",
       " <int> & <chr>\\\\\n",
       "\\hline\n",
       "\t 1 & x\\\\\n",
       "\t 2 & y\\\\\n",
       "\t 3 & z\\\\\n",
       "\\end{tabular}\n"
      ],
      "text/markdown": [
       "\n",
       "A data.frame: 3 × 2\n",
       "\n",
       "| a &lt;int&gt; | b &lt;chr&gt; |\n",
       "|---|---|\n",
       "| 1 | x |\n",
       "| 2 | y |\n",
       "| 3 | z |\n",
       "\n"
      ],
      "text/plain": [
       "  a b\n",
       "1 1 x\n",
       "2 2 y\n",
       "3 3 z"
      ]
     },
     "metadata": {},
     "output_type": "display_data"
    },
    {
     "data": {
      "text/html": [
       "<table class=\"dataframe\">\n",
       "<caption>A data.frame: 1 × 3</caption>\n",
       "<thead>\n",
       "\t<tr><th></th><th scope=col>a</th><th scope=col>b</th><th scope=col>c</th></tr>\n",
       "\t<tr><th></th><th scope=col>&lt;int&gt;</th><th scope=col>&lt;chr&gt;</th><th scope=col>&lt;lgl&gt;</th></tr>\n",
       "</thead>\n",
       "<tbody>\n",
       "\t<tr><th scope=row>2</th><td>2</td><td>y</td><td>FALSE</td></tr>\n",
       "</tbody>\n",
       "</table>\n"
      ],
      "text/latex": [
       "A data.frame: 1 × 3\n",
       "\\begin{tabular}{r|lll}\n",
       "  & a & b & c\\\\\n",
       "  & <int> & <chr> & <lgl>\\\\\n",
       "\\hline\n",
       "\t2 & 2 & y & FALSE\\\\\n",
       "\\end{tabular}\n"
      ],
      "text/markdown": [
       "\n",
       "A data.frame: 1 × 3\n",
       "\n",
       "| <!--/--> | a &lt;int&gt; | b &lt;chr&gt; | c &lt;lgl&gt; |\n",
       "|---|---|---|---|\n",
       "| 2 | 2 | y | FALSE |\n",
       "\n"
      ],
      "text/plain": [
       "  a b c    \n",
       "2 2 y FALSE"
      ]
     },
     "metadata": {},
     "output_type": "display_data"
    },
    {
     "data": {
      "text/html": [
       "<table class=\"dataframe\">\n",
       "<caption>A data.frame: 2 × 3</caption>\n",
       "<thead>\n",
       "\t<tr><th></th><th scope=col>a</th><th scope=col>b</th><th scope=col>c</th></tr>\n",
       "\t<tr><th></th><th scope=col>&lt;int&gt;</th><th scope=col>&lt;chr&gt;</th><th scope=col>&lt;lgl&gt;</th></tr>\n",
       "</thead>\n",
       "<tbody>\n",
       "\t<tr><th scope=row>1</th><td>1</td><td>x</td><td> TRUE</td></tr>\n",
       "\t<tr><th scope=row>2</th><td>2</td><td>y</td><td>FALSE</td></tr>\n",
       "</tbody>\n",
       "</table>\n"
      ],
      "text/latex": [
       "A data.frame: 2 × 3\n",
       "\\begin{tabular}{r|lll}\n",
       "  & a & b & c\\\\\n",
       "  & <int> & <chr> & <lgl>\\\\\n",
       "\\hline\n",
       "\t1 & 1 & x &  TRUE\\\\\n",
       "\t2 & 2 & y & FALSE\\\\\n",
       "\\end{tabular}\n"
      ],
      "text/markdown": [
       "\n",
       "A data.frame: 2 × 3\n",
       "\n",
       "| <!--/--> | a &lt;int&gt; | b &lt;chr&gt; | c &lt;lgl&gt; |\n",
       "|---|---|---|---|\n",
       "| 1 | 1 | x |  TRUE |\n",
       "| 2 | 2 | y | FALSE |\n",
       "\n"
      ],
      "text/plain": [
       "  a b c    \n",
       "1 1 x  TRUE\n",
       "2 2 y FALSE"
      ]
     },
     "metadata": {},
     "output_type": "display_data"
    },
    {
     "data": {
      "text/html": [
       "2"
      ],
      "text/latex": [
       "2"
      ],
      "text/markdown": [
       "2"
      ],
      "text/plain": [
       "[1] 2"
      ]
     },
     "metadata": {},
     "output_type": "display_data"
    },
    {
     "data": {
      "text/html": [
       "2"
      ],
      "text/latex": [
       "2"
      ],
      "text/markdown": [
       "2"
      ],
      "text/plain": [
       "[1] 2"
      ]
     },
     "metadata": {},
     "output_type": "display_data"
    }
   ],
   "source": [
    "# Create a sample data frame\n",
    "df <- data.frame(\n",
    "  a = 1:3,\n",
    "  b = c(\"x\", \"y\", \"z\"),\n",
    "  c = c(TRUE, FALSE, TRUE)\n",
    ")\n",
    "\n",
    "# Extracting columns\n",
    "df[1]          # data frame with column 'a' (returns a dataframe)\n",
    "df[[1]]        # vector: 1 2 3 (returns the vector of the first column)\n",
    "df[[\"a\"]]      # vector: 1 2 3 (returns the vector of the 'a' column)\n",
    "df$a           # vector: 1 2 3 (returns the vector of the 'a' column)\n",
    "# multiple columns\n",
    "df[c(\"a\", \"c\")]    # data frame with columns 'a' and 'c' (returns a dataframe with selected columns)\n",
    "df[1:2]            # data frame with columns 'a' and 'b' (returns a dataframe with the first two columns)\n",
    "\n",
    "# Extracting rows\n",
    "df[2, ]            # data frame with 1 row (row 2) (returns a dataframe with the second row)\n",
    "df[1:2, ]          # data frame with rows 1 and 2 (returns a dataframe with rows 1 and 2)\n",
    "\n",
    "# Extracting elements\n",
    "df[2, 1]           # single value (2nd row, 1st column): 2 (returns a single value: 2)\n",
    "df[[1]][2]         # same value: 2 (returns 2 from the vector in the first column)\n"
   ]
  },
  {
   "cell_type": "code",
   "execution_count": 31,
   "id": "10931a8e-a7e9-48ad-8c79-2614b033502b",
   "metadata": {},
   "outputs": [
    {
     "name": "stdout",
     "output_type": "stream",
     "text": [
      "     Nome Età   Città\n",
      "1   Alice  25    Roma\n",
      "2     Bob  30  Milano\n",
      "3 Charlie  28 Firenze\n"
     ]
    }
   ],
   "source": [
    "nomi  <- c(\"Alice\", \"Bob\", \"Charlie\")\n",
    "età   <- c(25, 30, 28)\n",
    "città <- c(\"Roma\", \"Milano\", \"Firenze\")\n",
    "\n",
    "df <- data.frame( Nome = nomi,    Età = età,   Città = città    )\n",
    "print(df)"
   ]
  },
  {
   "cell_type": "code",
   "execution_count": 16,
   "id": "942e6754-8d39-47b7-b22a-7f712842ec42",
   "metadata": {},
   "outputs": [
    {
     "data": {
      "image/png": "[encoded data removed]",
      "text/plain": [
       "plot without title"
      ]
     },
     "metadata": {
      "image/png": {
       "height": 420,
       "width": 420
      }
     },
     "output_type": "display_data"
    }
   ],
   "source": [
    "img <- readPNG(\"./images/data.frame.png\"); grid.raster(img)"
   ]
  },
  {
   "cell_type": "markdown",
   "id": "87ce1682-c0e0-47b3-b4a8-35a993332c22",
   "metadata": {},
   "source": [
    "#### USEFUL COMMANDS:\n",
    "* `rbind()`: will combine the rows of a data.frame/matrix by matching column names (i.e., the columns must have the same names and types because I'm adding more rows)\n",
    "* `cbind()`: will combine columns of a data.frame/matrix (i.e., the columns must have the same length because I'm adding more columns)."
   ]
  },
  {
   "cell_type": "code",
   "execution_count": 22,
   "id": "42148e58-c797-44f4-b3cb-c4956a60f04b",
   "metadata": {},
   "outputs": [
    {
     "data": {
      "text/html": [
       "<table class=\"dataframe\">\n",
       "<caption>A matrix: 2 × 3 of type dbl</caption>\n",
       "<tbody>\n",
       "\t<tr><th scope=row>v1</th><td>1</td><td>2</td><td>3</td></tr>\n",
       "\t<tr><th scope=row>v2</th><td>4</td><td>5</td><td>6</td></tr>\n",
       "</tbody>\n",
       "</table>\n"
      ],
      "text/latex": [
       "A matrix: 2 × 3 of type dbl\n",
       "\\begin{tabular}{r|lll}\n",
       "\tv1 & 1 & 2 & 3\\\\\n",
       "\tv2 & 4 & 5 & 6\\\\\n",
       "\\end{tabular}\n"
      ],
      "text/markdown": [
       "\n",
       "A matrix: 2 × 3 of type dbl\n",
       "\n",
       "| v1 | 1 | 2 | 3 |\n",
       "| v2 | 4 | 5 | 6 |\n",
       "\n"
      ],
      "text/plain": [
       "   [,1] [,2] [,3]\n",
       "v1 1    2    3   \n",
       "v2 4    5    6   "
      ]
     },
     "metadata": {},
     "output_type": "display_data"
    },
    {
     "data": {
      "text/html": [
       "<table class=\"dataframe\">\n",
       "<caption>A matrix: 3 × 2 of type dbl</caption>\n",
       "<thead>\n",
       "\t<tr><th scope=col>v1</th><th scope=col>v2</th></tr>\n",
       "</thead>\n",
       "<tbody>\n",
       "\t<tr><td>1</td><td>4</td></tr>\n",
       "\t<tr><td>2</td><td>5</td></tr>\n",
       "\t<tr><td>3</td><td>6</td></tr>\n",
       "</tbody>\n",
       "</table>\n"
      ],
      "text/latex": [
       "A matrix: 3 × 2 of type dbl\n",
       "\\begin{tabular}{ll}\n",
       " v1 & v2\\\\\n",
       "\\hline\n",
       "\t 1 & 4\\\\\n",
       "\t 2 & 5\\\\\n",
       "\t 3 & 6\\\\\n",
       "\\end{tabular}\n"
      ],
      "text/markdown": [
       "\n",
       "A matrix: 3 × 2 of type dbl\n",
       "\n",
       "| v1 | v2 |\n",
       "|---|---|\n",
       "| 1 | 4 |\n",
       "| 2 | 5 |\n",
       "| 3 | 6 |\n",
       "\n"
      ],
      "text/plain": [
       "     v1 v2\n",
       "[1,] 1  4 \n",
       "[2,] 2  5 \n",
       "[3,] 3  6 "
      ]
     },
     "metadata": {},
     "output_type": "display_data"
    }
   ],
   "source": [
    "v1 <- c(1, 2, 3)\n",
    "v2 <- c(4, 5, 6)\n",
    "\n",
    "rbind(v1, v2)    # Output: a matrix with 2 rows and 3 columns\n",
    "cbind(v1, v2)    # Output: a matrix with 3 rows and 2 columns"
   ]
  },
  {
   "cell_type": "markdown",
   "id": "938c0c26-f9b7-4681-91ce-1efa83abac46",
   "metadata": {},
   "source": [
    "---"
   ]
  },
  {
   "cell_type": "markdown",
   "id": "a9b141cc-ba1f-4a88-b502-3a9e5679535f",
   "metadata": {},
   "source": [
    "## 10 - RANDOM\n",
    "With the `sample` function , data can be selected at random. The syntax is:\n",
    "`sample(x, size, replace = FALSE, prob = NULL)`.\n",
    "\n",
    "Parameters are:\n",
    "* x: The vector or object from which you want to sample.\n",
    "* size: The number of items to sample.\n",
    "* replace: indicates whether sampling is done with replacement (TRUE) or without replacement (FALSE). Default is FALSE.\n",
    "* prob: A vector of probabilities that specifies the probability of selecting each element in x."
   ]
  },
  {
   "cell_type": "markdown",
   "id": "b6eb6b2a-93a7-4ec8-9f07-678073acf174",
   "metadata": {},
   "source": [
    "## 11 - DPLYR\n",
    "The `dplyr` package is one of the most essential and powerful packages in R for data manipulation. It's built to make data transformation tasks (like filtering, summarizing, and sorting) simple and readable using a “grammar of data manipulation. It works best with data.frames and tibbles. We use this library with `library(dplyr)`.\n",
    "\n",
    "It also introduce (from the magrittr library) the PIPE Operator `%>%`: you can chain operations together like a recipe! It processes a data-object with a sequence of operations by passing the result of one step as input for the next step. Starting from R version 4.1 it is part of the language as `|>`.\n",
    "\n",
    "The main commands share similarities with SQL language. Tipycally the first argument is the data.frame, and then the options (like column names etc):\n",
    "* `filter()`:\tSelect rows based on conditions\n",
    "* `select()`:\tSelect columns\n",
    "* `mutate()`:\tAdd or modify columns\n",
    "* `transmute()`: Add columns and keep only them\n",
    "* `summarise()`:\tCollapse multiple values into one (e.g. mean over a column)\n",
    "* `arrange()`:\tSort rows (by the values of one or more columns)\n",
    "* `group_by()`:\tGroup data for grouped operations\n",
    "* `rename()`:\tRename columns\n",
    "* `distinct()`:\tRemove duplicate rows\n",
    "* `slice()`:\tExtract specific rows by index\n",
    "* `join()`:\n",
    "\n",
    "Example that reads like: \"Take data, keep rows where score > 90, keep only name and score, and sort by score descending.\"\n",
    "```R\n",
    "data %>%\n",
    "  filter(score > 90) %>%\n",
    "  select(name, score) %>%\n",
    "  arrange(desc(score))\n",
    "```\n"
   ]
  },
  {
   "cell_type": "markdown",
   "id": "2ac277cf-bd8d-4d56-aa77-f6a8842da76f",
   "metadata": {},
   "source": [
    "## 12 - DATA.TABLE\n",
    "The package `data.table` is an enhanced version of R’s data.frame, designed for fast and memory-efficient data manipulation, especially useful with large datasets. It can modify data without copying it (**less memory usage**). You can chain multiple operations using [].\n",
    "\n",
    "A data.table is created using the `fread()` function for reading data on disk, or provided on the fly with the `data.table()` function.\n",
    "\n",
    "Existing objects can be converted to data.table using the `setDT()` and the `as.data.table()` functions.\n",
    "\n",
    "Basic Syntax: `DT[i, j, by]`, where *i* selects the row, *j* choose what to do (e.g., calculations, column selections),and *by* is th group by method."
   ]
  },
  {
   "cell_type": "code",
   "execution_count": 15,
   "id": "3f894177-4282-4c0c-8db4-c46fd918e5c8",
   "metadata": {},
   "outputs": [
    {
     "data": {
      "text/html": [
       "<table class=\"dataframe\">\n",
       "<caption>A data.table: 0 × 2</caption>\n",
       "<thead>\n",
       "\t<tr><th scope=col>name</th><th scope=col>score</th></tr>\n",
       "\t<tr><th scope=col>&lt;chr&gt;</th><th scope=col>&lt;dbl&gt;</th></tr>\n",
       "</thead>\n",
       "<tbody>\n",
       "</tbody>\n",
       "</table>\n"
      ],
      "text/latex": [
       "A data.table: 0 × 2\n",
       "\\begin{tabular}{ll}\n",
       " name & score\\\\\n",
       " <chr> & <dbl>\\\\\n",
       "\\hline\n",
       "\\end{tabular}\n"
      ],
      "text/markdown": [
       "\n",
       "A data.table: 0 × 2\n",
       "\n",
       "| name &lt;chr&gt; | score &lt;dbl&gt; |\n",
       "|---|---|\n",
       "\n"
      ],
      "text/plain": [
       "     name score"
      ]
     },
     "metadata": {},
     "output_type": "display_data"
    },
    {
     "data": {
      "text/html": [
       "<table class=\"dataframe\">\n",
       "<caption>A data.table: 2 × 2</caption>\n",
       "<thead>\n",
       "\t<tr><th scope=col>name</th><th scope=col>V1</th></tr>\n",
       "\t<tr><th scope=col>&lt;chr&gt;</th><th scope=col>&lt;dbl&gt;</th></tr>\n",
       "</thead>\n",
       "<tbody>\n",
       "\t<tr><td>Alice</td><td>12.5</td></tr>\n",
       "\t<tr><td>Bob  </td><td>20.0</td></tr>\n",
       "</tbody>\n",
       "</table>\n"
      ],
      "text/latex": [
       "A data.table: 2 × 2\n",
       "\\begin{tabular}{ll}\n",
       " name & V1\\\\\n",
       " <chr> & <dbl>\\\\\n",
       "\\hline\n",
       "\t Alice & 12.5\\\\\n",
       "\t Bob   & 20.0\\\\\n",
       "\\end{tabular}\n"
      ],
      "text/markdown": [
       "\n",
       "A data.table: 2 × 2\n",
       "\n",
       "| name &lt;chr&gt; | V1 &lt;dbl&gt; |\n",
       "|---|---|\n",
       "| Alice | 12.5 |\n",
       "| Bob   | 20.0 |\n",
       "\n"
      ],
      "text/plain": [
       "  name  V1  \n",
       "1 Alice 12.5\n",
       "2 Bob   20.0"
      ]
     },
     "metadata": {},
     "output_type": "display_data"
    }
   ],
   "source": [
    "library(data.table)\n",
    "\n",
    "DT <- data.table(name = c(\"Alice\", \"Bob\", \"Alice\"),    # Create a data.table\n",
    "                 score = c(10, 20, 15)) \n",
    "\n",
    "DT[name == \"Alice\" & score==20]    # Filter rows using intersection\n",
    "DT[, mean(score), by = name]       # Calculate mean score by name\n",
    "DT[, doubled := score * 2]         # Add a new column"
   ]
  },
  {
   "cell_type": "code",
   "execution_count": 17,
   "id": "a6982c6a-eb0a-4328-b7a8-f68bb561a5cb",
   "metadata": {},
   "outputs": [
    {
     "data": {
      "image/png": "[encoded data removed]",
      "text/plain": [
       "plot without title"
      ]
     },
     "metadata": {
      "image/png": {
       "height": 420,
       "width": 420
      }
     },
     "output_type": "display_data"
    }
   ],
   "source": [
    "img <- readPNG(\"./images/data.table.png\"); grid.raster(img)"
   ]
  },
  {
   "cell_type": "markdown",
   "id": "0082301f-217e-46f0-a760-27987149f26f",
   "metadata": {},
   "source": [
    "---"
   ]
  },
  {
   "cell_type": "markdown",
   "id": "3a320eb8-a26f-4bfb-9ca5-e63f20aceddc",
   "metadata": {},
   "source": [
    "## 13 - GRAPHICS\n",
    "The main libraries are the base one, `grid`, `lattice` and `ggplot2`."
   ]
  },
  {
   "cell_type": "markdown",
   "id": "44f707c5-e102-4a02-94d3-f7ac6c38a020",
   "metadata": {},
   "source": [
    "#### BOXPLOT\n",
    "A boxplot (also known as a box-and-whisker plot) provides a graphical representation of the errors (the wiskers), first quartile (Q1), median and third quartile (Q3) of a dataset. It is particularly useful for identifying outliers, understanding the spread and central tendency of data, and comparing distributions across different groups. The central Box represents the interquartile range (IQR), which includes the middle 50% of the data.\n",
    "\n",
    "Main syntax: `boxplot(..., data, main, xlab, ylab)` where *data* are the dtata to be represented, *main* is the title of the plot; *xlab*, *ylab* are the labels for the x and y axes, '*...*' are for the personalization.\n",
    "\n",
    "\n"
   ]
  },
  {
   "cell_type": "code",
   "execution_count": 29,
   "id": "94df31e2-15f1-4435-a1a0-cefc50d53947",
   "metadata": {},
   "outputs": [
    {
     "data": {
      "image/png": "[encoded data removed]",
      "text/plain": [
       "Plot with title “Boxplot of Values by Group”"
      ]
     },
     "metadata": {
      "image/png": {
       "height": 420,
       "width": 420
      }
     },
     "output_type": "display_data"
    }
   ],
   "source": [
    "data <- data.frame(\n",
    "  group = rep(c(\"A\", \"B\", \"C\"), each = 20),  # Three groups (A, B, C)\n",
    "  value = c(rnorm(20, mean = 10, sd = 5),   # Group A: Normal distribution, mean=10, sd=5\n",
    "            rnorm(20, mean = 15, sd = 3),   # Group B: Normal distribution, mean=15, sd=3\n",
    "            rnorm(20, mean = 20, sd = 4))   # Group C: Normal distribution, mean=20, sd=4\n",
    ")\n",
    "\n",
    "boxplot(value ~ group, data = data,\n",
    "        main = \"Boxplot of Values by Group\",  # Title of the plot\n",
    "        xlab = \"Group\",                      # Label for the x-axis\n",
    "        ylab = \"Value\",                      # Label for the y-axis\n",
    "        col = c(\"lightblue\", \"lightgreen\", \"lightcoral\")  # Colors for each group\n",
    "        ) "
   ]
  },
  {
   "cell_type": "markdown",
   "id": "6519ad13-72e5-43aa-af29-0533cb90217d",
   "metadata": {},
   "source": [
    "#### HISTOGRAM\n",
    "The `hist()` function in R is used to create histograms. It divides the range of data into bins (intervals) and plots the frequency (or count) of data points in each bin.\n",
    "\n",
    "The syntax is`hist(x, main, xlab, ylab, xlim, ylim, breaks, col, border, add=FALSE, probability=FALSE ...)`.\n",
    "\n",
    "The parameters are:\n",
    "- *x*: a vector with numeric values used in histogram\n",
    "- *main*: indicates title of the chart\n",
    "- *col*: is used to set color of the bars\n",
    "- *border*: is used to set border color of each bar\n",
    "- *xlab*: is used to give description of x-axis\n",
    "- *xlim*: specifies the range of values on the x-axis\n",
    "- *breaks*: how the data should be split into bins. It can be a number (for the number of bins), a method (such as \"Sturges\" or \"FD\"), or a vector of breakpoints. The default is \"Sturges\".\n",
    "- *frame = FALSE*: removes the box around the plot\n",
    "- *add*: set it to TRUE if you want to add more histograms one over the other. Then the option *freq = TRUE* will ensure that, in case of non equal number of observations, the heights of an interval remain the same.\n",
    "- *probability*: se it to TRUE to have normalization"
   ]
  },
  {
   "cell_type": "code",
   "execution_count": 73,
   "id": "9e10a444-0c80-4739-a7bb-e0c1dbe2a201",
   "metadata": {},
   "outputs": [
    {
     "data": {
      "image/png": "[encoded data removed]",
      "text/plain": [
       "Plot with title “Superimposed Histograms”"
      ]
     },
     "metadata": {
      "image/png": {
       "height": 420,
       "width": 420
      }
     },
     "output_type": "display_data"
    }
   ],
   "source": [
    "# let's create data:\n",
    "data1 <- rnorm(1000, mean = 50, sd = 10)  # Normal distribution\n",
    "data2 <- rnorm(1000, mean = 55, sd = 15)  # Normal distribution\n",
    "\n",
    "hist(data1, \n",
    "     col = rgb(1, 0, 0, 0.5), # Red with transparency\n",
    "     xlim = c(10, 100),       # Same x limits for all histograms\n",
    "     #breaks = 30,            # 30 bins\n",
    "     main = \"Superimposed Histograms\" # Title\n",
    "     #probability = TRUE,     # Normalize to get density\n",
    "     )        # Border color for bars\n",
    "\n",
    "# Add second histogram\n",
    "hist(data2, \n",
    "     col = rgb(0, 0, 1, 0.5), # Blue with transparency\n",
    "     breaks = 30,             # Same number of bins\n",
    "     add = TRUE)              # Add to the existing plot\n",
    "\n",
    "# Add a legend to the plot\n",
    "legend(\"topright\", \n",
    "       legend = c(\"Data 1\", \"Data 2\"), \n",
    "       fill = c( rgb(1, 0, 0, 0.5), rgb(0, 0, 1, 0.5) ),\n",
    "       border = \"black\")\n"
   ]
  },
  {
   "cell_type": "markdown",
   "id": "2e2ff65d-0a3a-43c2-a95c-6b7588f3645a",
   "metadata": {},
   "source": [
    "#### MULTIPLE PLOTS\n",
    "The `par()` (=plotting area) function is used to set graphical parameters, and it can be very useful for arranging multiple plots in the same window. To create multiple plots in a single plot window, you can use the `mfrow` (=multi-figure row) or `mfcol` parameter inside par() to specify how the plots are arranged (e.g., in rows or columns).\n",
    "\n",
    "```R\n",
    "# example:\n",
    "par(mfrow = c(2, 2))  # 2 rows and 2 columns of plots (filled by rows)\n",
    "```\n",
    "\n",
    "The `layout()` function offers more flexibility than par(mfrow) when it comes to arranging multiple plots in a grid. While mfrow and mfcol are used to create a uniform grid layout, layout() allows you to define custom arrangements for rows and columns. The syntax is `layout(mat)`, where *mat* is a matrix that specifies the layout structure. The matrix dimensions defines the number of rows and columns for the layout. Each element in the matrix represents a plot. A value of 0 says that such parts should not be\n",
    "used for plots. Repeated element values means that cells correspond to the same plot.\n",
    "\n",
    "```R\n",
    "# example:\n",
    "M <- matrix( c(1,1,2,3,0,4) , nrow=2, ncol=3 )\n",
    "layout( M )\n",
    "```\n"
   ]
  },
  {
   "cell_type": "code",
   "execution_count": 77,
   "id": "08e43977-aa07-4b62-b7b0-980f5cd7162a",
   "metadata": {},
   "outputs": [
    {
     "data": {
      "image/png": "[encoded data removed]",
      "text/plain": [
       "Plot with title “Barplot 1”"
      ]
     },
     "metadata": {
      "image/png": {
       "height": 420,
       "width": 420
      }
     },
     "output_type": "display_data"
    }
   ],
   "source": [
    "# Set up the plotting area to have 2 rows and 2 columns\n",
    "par(mfrow = c(2, 2))  # 2 rows and 2 columns\n",
    "\n",
    "hist(rnorm(1000, mean = 50, sd = 10), main = \"Histogram 1\", xlab = \"Value\", col = \"lightblue\")\n",
    "\n",
    "boxplot(rnorm(1000, mean = 50, sd = 10), main = \"Boxplot 1\", col = \"lightgreen\")\n",
    "\n",
    "plot(rnorm(100), rnorm(100), main = \"Scatter Plot 1\", xlab = \"X\", ylab = \"Y\", col = \"purple\")\n",
    "\n",
    "barplot(table(sample(1:5, 100, replace = TRUE)), main = \"Barplot 1\", col = \"orange\")\n",
    "\n",
    "# Reset the plotting layout to default (1 plot per window)\n",
    "par(mfrow = c(1, 1))"
   ]
  },
  {
   "cell_type": "code",
   "execution_count": 94,
   "id": "fd6b0206-b7c5-4067-b4c5-9ebccb2058c2",
   "metadata": {},
   "outputs": [
    {
     "data": {
      "image/png": "[encoded data removed]",
      "text/plain": [
       "Plot with title “Plot 2”"
      ]
     },
     "metadata": {
      "image/png": {
       "height": 420,
       "width": 420
      }
     },
     "output_type": "display_data"
    }
   ],
   "source": [
    "layout( matrix( c(1, 2, 2), nrow = 1) )\n",
    "\n",
    "# Plot 1 spans two columns\n",
    "plot(1:10, main = \"Plot 1\")\n",
    "# Plot 2 occupies the remaining column\n",
    "plot(10:1, main = \"Plot 2\")"
   ]
  },
  {
   "cell_type": "markdown",
   "id": "bcca6572-9112-43d3-ab83-07ae3e47cfe0",
   "metadata": {},
   "source": [
    "#### SCATTER PLOT\n",
    "The `plot()` function allows to produce a scatter plot of one variable versus the other. \n",
    "\n",
    "The basic syntax is: `plot(x, y)` where *x* and *y* are the two vectors of data. \n",
    "Some possible personalizations are:\n",
    "* type = \"p\": Specifies that the plot should display points (this is the default for scatter plots).\n",
    "* main: Title of the plot.\n",
    "* xlab and ylab: Labels for the x and y axes.\n",
    "* col: Change the color of the points. You can also add something more complex like colors for semiplane etc\n",
    "* pch: Change the point type (e.g., circles, triangles).\n",
    "* cex: Adjust the size of the points.\n",
    "* asp = k: allows to keep the y /x aspect ratio to a fixed value k\n",
    "\n",
    "ADDING REGRESSION:\n",
    "With the `abline()` fucntion you can add a line to the plot. Then with the `lm(y~x)` (=linear model) you can add a simple regression of the variables $y$ and $x$.\n",
    "```R\n",
    "# example:\n",
    "abline( lm(y ~ x), col = \"red\") \n",
    "```"
   ]
  },
  {
   "cell_type": "code",
   "execution_count": 110,
   "id": "c2c08a39-c57b-4941-8a30-7adf177256bb",
   "metadata": {},
   "outputs": [
    {
     "data": {
      "image/png": "[encoded data removed]",
      "text/plain": [
       "plot without title"
      ]
     },
     "metadata": {
      "image/png": {
       "height": 420,
       "width": 420
      }
     },
     "output_type": "display_data"
    }
   ],
   "source": [
    "x <- rnorm( 1000, 1, 2)\n",
    "y <- rnorm( 1000, 1, 3)\n",
    "\n",
    "plot(x, y, pch = 16, cex = 1.5, col = ifelse ( x > 0 , \" navy \" , \" darkorange \" ) )\n",
    "abline(lm(y ~ x), col = \"red\")  # Adds a linear regression line in red"
   ]
  },
  {
   "cell_type": "markdown",
   "id": "d9d2efb5-a69e-47b9-84b7-e3f3188741d3",
   "metadata": {},
   "source": [
    "# arrived at page 5 of 15, file 6"
   ]
  },
  {
   "cell_type": "code",
   "execution_count": null,
   "id": "86023bda-9ee6-491b-a28e-c7efd171ad52",
   "metadata": {},
   "outputs": [],
   "source": []
  }
 ],
 "metadata": {
  "kernelspec": {
   "display_name": "R",
   "language": "R",
   "name": "ir"
  },
  "language_info": {
   "codemirror_mode": "r",
   "file_extension": ".r",
   "mimetype": "text/x-r-source",
   "name": "R",
   "pygments_lexer": "r",
   "version": "4.3.1"
  }
 },
 "nbformat": 4,
 "nbformat_minor": 5
}
