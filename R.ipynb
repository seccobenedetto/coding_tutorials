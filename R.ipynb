{
 "cells": [
  {
   "cell_type": "markdown",
   "id": "2a543f81-ce8d-453f-bca7-6589d7a7ede9",
   "metadata": {},
   "source": [
    "<center><h1><b>R LANGUAGE</b></h1></center>\n"
   ]
  },
  {
   "cell_type": "markdown",
   "id": "6d6b711d-aa52-4d39-9486-d4a256f6ee5e",
   "metadata": {},
   "source": [
    "## 00 - INTRODUCTION TO R\n",
    "\n",
    "#### WHAT IS R\n",
    "R is a powerful programming language and environment primarily used for statistical computing, data analysis, and visualization. It was developed in the early 1990s. Today, R is widely used in academia, research, and industry, particularly in fields like data science, finance, and bioinformatics.\n",
    "\n",
    "One of R's key strengths is its extensive ecosystem of packages that provide tools for machine learning, time series analysis, and graphical representation of data. R also excels in data visualization, thanks to libraries like ggplot2, which enable users to create complex and aesthetically pleasing charts.\n",
    "\n",
    "Despite being primarily designed for statistical tasks, R is a fully free and functional programming language that supports object-oriented and functional programming paradigms. It integrates well with other languages such as Python and C++, making it a versatile choice for data-driven projects.\n",
    "\n",
    "For more info see [here](https://www.r-project.org/).\n",
    "\n",
    "#### HOW CAN I USE IT\n",
    "R can be used in multiple environments:\n",
    "* RStudio: The most popular integrated development environment (IDE) for R, providing a user-friendly interface, debugging tools, and built-in support for visualization and package management.\n",
    "* Bash (Command Line): R can be run directly from the terminal or command prompt using the R or Rscript commands, allowing for automation and scripting. (after installation, it's sufficient to type 'R' in the shell)\n",
    "* Jupyter Notebook: By installing the IRKernel, R can be used in Jupyter Notebooks, enabling integration with Python and other languages.\n",
    "\n",
    "#### MAIN DIFFERENCES WITH PYTHON\n",
    "* R uses curly braces `{}` to define code blocks, and indentation is optional\n",
    "* R only supports `#` for single-line comments; no built-in multi-line comment syntax (like apexes in python)\n",
    "* R uses `<-` for variable assignment (though '=' and '->' also works in some cases)\n",
    "* R uses install.packages() for package installation (instead of conda install)\n",
    "* two or more expressions can be placed on the same line, if are separated by `;`\n",
    "* you can print an object during definition including it inside parenthesis `(object)`\n",
    "* vector indexing starts at 1, not 0!\n",
    "* the integers are initialized with the letter `L` (=long), as in `x <- 2L`\n",
    "\n",
    "### OTHER PECULIARITIES TO REMEMBER:\n",
    "* variable names are case sensitive : y different from Y\n",
    "* variable names must not begin with numbers (like '4t') or symbols ('%8')\n",
    "* variable names must not contain blank spaces (use 'm.value' or 'm_value' instead of 'm value')\n",
    "* In R the focus is efficiency, so for example only the needed objects will be loaded in memory and/or looked for. For example in *if ( TRUE || variable )* only *TRUE* will be evaluated.\n",
    "\n",
    "Both languages are powerful, but Python is more versatile, while R is specialized for statistical computing and data visualization."
   ]
  },
  {
   "cell_type": "markdown",
   "id": "a059c913-fb96-4512-91fa-11d2993d5530",
   "metadata": {},
   "source": [
    "---"
   ]
  },
  {
   "cell_type": "markdown",
   "id": "2d864e18-cbaa-48d4-8e54-44bc0b28153f",
   "metadata": {},
   "source": [
    "## 01 - FUNDAMENTALS"
   ]
  },
  {
   "cell_type": "markdown",
   "id": "70c67280-1e62-4f1a-b9b7-fb8bffd93159",
   "metadata": {},
   "source": [
    "#### GETTING HELP\n",
    "You can ask for help to R with: \n",
    "* a symbol `?` before a command\n",
    "* `help.search(\"keyword\")`: cerca documentazione relativa a un termine specifico all'interno di pacchetti installati. È utile se non conosci il nome esatto della funzione.\n",
    "* `find(\"function_name\")`: cerca in quali pacchetti caricati è definita una funzione specifica.\n",
    "* `apropos(\"keyword\")`: cerca oggetti nel workspace e nei pacchetti caricati.\n",
    "* `library(help=package_name)`: gives us details on a package"
   ]
  },
  {
   "cell_type": "markdown",
   "id": "a0220e59-bdf7-4898-9aa9-33180816bb24",
   "metadata": {},
   "source": [
    "#### PACKAGES\n",
    "To install a package use `install.packages(package_name)`.\\\n",
    "To update all packages use `update.packages(ask=False)`.\\\n",
    "With `installed.packages()` we can see a list with all installed packages.\\\n",
    "To load an already installed package we use `library(package_name)`."
   ]
  },
  {
   "cell_type": "markdown",
   "id": "18528269-8ba2-4c8b-9331-cd98f92365be",
   "metadata": {},
   "source": [
    "#### OBJECTS\n",
    "To list all the objects created with the current session, use the `ls()` or `objects()` functions.\\\n",
    "To list all the packages and data frames currently attached to the running R session, use `search()`.\\\n",
    "To show the structure of an object (functions...), in a compact way, the `str()` (=structure) function can be used. For something more see [this package](https://github.com/r-lib/lobstr).\n",
    "TO print things you can use `cat(...)` (stampa tutto sulla stessa riga), or `print(...)` (che va a capo ogni volta)."
   ]
  },
  {
   "cell_type": "markdown",
   "id": "34bbfeaf-116b-4a41-9f25-b1184b3db828",
   "metadata": {},
   "source": [
    "---"
   ]
  },
  {
   "cell_type": "markdown",
   "id": "c4429852-a271-4544-adcf-db1cbaba54ec",
   "metadata": {},
   "source": [
    "## 02 - NUMBERS\n",
    "The number $\\pi$ is known as `pi`. \n",
    "\n",
    "Calculations can lead to results which go to $\\infty$ or are indeterminate $NaN$, but they are properly evaluated as numbers! We can test if a number is infinite with `is.infinite(x)`, `is.finite(x)` and `is.nan(x)` (they will return a boolean).\n",
    "\n",
    "There could also be missing values, represented by NA (= not available), and we check them with `is.na(x)`."
   ]
  },
  {
   "cell_type": "code",
   "execution_count": 65,
   "id": "d4f7f7a1-aa58-408c-b2f7-31fc04160807",
   "metadata": {},
   "outputs": [
    {
     "data": {
      "text/html": [
       "Inf"
      ],
      "text/latex": [
       "Inf"
      ],
      "text/markdown": [
       "Inf"
      ],
      "text/plain": [
       "[1] Inf"
      ]
     },
     "metadata": {},
     "output_type": "display_data"
    },
    {
     "data": {
      "text/html": [
       "NaN"
      ],
      "text/latex": [
       "NaN"
      ],
      "text/markdown": [
       "NaN"
      ],
      "text/plain": [
       "[1] NaN"
      ]
     },
     "metadata": {},
     "output_type": "display_data"
    },
    {
     "data": {
      "text/html": [
       "'double'"
      ],
      "text/latex": [
       "'double'"
      ],
      "text/markdown": [
       "'double'"
      ],
      "text/plain": [
       "[1] \"double\""
      ]
     },
     "metadata": {},
     "output_type": "display_data"
    },
    {
     "data": {
      "text/html": [
       "'double'"
      ],
      "text/latex": [
       "'double'"
      ],
      "text/markdown": [
       "'double'"
      ],
      "text/plain": [
       "[1] \"double\""
      ]
     },
     "metadata": {},
     "output_type": "display_data"
    },
    {
     "data": {
      "text/html": [
       "FALSE"
      ],
      "text/latex": [
       "FALSE"
      ],
      "text/markdown": [
       "FALSE"
      ],
      "text/plain": [
       "[1] FALSE"
      ]
     },
     "metadata": {},
     "output_type": "display_data"
    }
   ],
   "source": [
    "3/0\n",
    "Inf - Inf\n",
    "typeof(Inf)\n",
    "typeof(NaN)\n",
    "is.finite(3/0)"
   ]
  },
  {
   "cell_type": "markdown",
   "id": "ab24ccc5-3ed0-4c5a-81b6-104ee41635dd",
   "metadata": {},
   "source": [
    "#### MAIN OPERATIONS\n",
    "* `+`, `-`, `*`, `/`: sum, subtraction, multiplication, division\n",
    "* `%/%`, `%%`, `^`: integer quotient, modulo, power\n",
    "* `>`, `>=`, `<`, `<=`, `==`, `!=`: relational operators\n",
    "* `!`, `&`, `|`: logical not, and, or\n",
    "* `~`: model formulae (‘is modelled as a function of’)\n",
    "* `<-`, `->`: assignment (gets)\n",
    "* `$`: list indexing (the ‘element name’ operator)\n",
    "* `:`: sequence creation operator\n",
    "\n",
    "Note: several of these operators have different meaning inside model formulae :\n",
    "* `*` indicates the main effects plus interaction (rather than multiplication),\n",
    "* `:` the interaction between two variables (rather than generate a sequence), and\n",
    "* `^` interactions up to the indicated power (rather than raise to the power)"
   ]
  },
  {
   "cell_type": "code",
   "execution_count": 4,
   "id": "afbc9d6f-30d4-452c-a8d1-1dc58dadfca0",
   "metadata": {},
   "outputs": [
    {
     "data": {
      "text/html": [
       "4"
      ],
      "text/latex": [
       "4"
      ],
      "text/markdown": [
       "4"
      ],
      "text/plain": [
       "[1] 4"
      ]
     },
     "metadata": {},
     "output_type": "display_data"
    },
    {
     "data": {
      "text/html": [
       "1"
      ],
      "text/latex": [
       "1"
      ],
      "text/markdown": [
       "1"
      ],
      "text/plain": [
       "[1] 1"
      ]
     },
     "metadata": {},
     "output_type": "display_data"
    },
    {
     "data": {
      "text/html": [
       "TRUE"
      ],
      "text/latex": [
       "TRUE"
      ],
      "text/markdown": [
       "TRUE"
      ],
      "text/plain": [
       "[1] TRUE"
      ]
     },
     "metadata": {},
     "output_type": "display_data"
    }
   ],
   "source": [
    "9 %/% 2      # integer part of the division\n",
    "9 %% 2   # reminder ( modulo ) of the division\n",
    "15421 %% 7 == 0"
   ]
  },
  {
   "cell_type": "markdown",
   "id": "40eb768f-5f4d-41e4-a9d5-9173090f5957",
   "metadata": {},
   "source": [
    "#### MATHEMATICAL FUNCTIONS\n",
    "* `log(x)`: natural log of x\n",
    "* `exp(x)`: exponential of x\n",
    "* `log(x, n)`: log in base n of x\n",
    "* `log10(x)`: log in base 10 of x\n",
    "* `sqrt(x)`: square root of x\n",
    "* `factorial(x)`: $x! = x(x − 1)(x − 2) . . . 3 · 2 · 1$\n",
    "* `choose(n, x)`: binomial coefficient, $n!/(x! · (n − x)!)$\n",
    "* `gamma(x)`: $\\Gamma(x)$ for real x, (x − 1)! for integer x\n",
    "* `lgamma(x)`: natural log of $\\Gamma(x)$\n",
    "* `abs(x)`: absolute value for x\n",
    "* `floor(x)`: greater integer less than x\n",
    "* `ceiling(x)`: smallest integer greater than x\n",
    "* `trunc(x)`: closest integer to x between 0 and x; it behaves as floor() for x > 0 and like ceiling() for x < 0"
   ]
  },
  {
   "cell_type": "markdown",
   "id": "3fdf5b08-0749-471a-bd11-94eb4aa5c933",
   "metadata": {},
   "source": [
    "#### COMPLEX NUMBERS\n",
    "Here a list of built-in functions:\n",
    "* `Re(z)`: extract the real part\n",
    "* `Im(z)`: extract the imaginary part\n",
    "* `Mod(z)`: calculate the modulus\n",
    "* `Arg(z)`: calculate the argument Arg(x+yi) = atan(y/x)\n",
    "* `Conj(z)`: work out the complex conjugate\n",
    "* `is.complex(z)`: test for complex number membership\n",
    "* `as.complex(z)`: force the input as a complex number"
   ]
  },
  {
   "cell_type": "code",
   "execution_count": 6,
   "id": "600c8f49-0d08-4158-b2a6-efd9c2a62d90",
   "metadata": {},
   "outputs": [
    {
     "data": {
      "text/html": [
       "2"
      ],
      "text/latex": [
       "2"
      ],
      "text/markdown": [
       "2"
      ],
      "text/plain": [
       "[1] 2"
      ]
     },
     "metadata": {},
     "output_type": "display_data"
    },
    {
     "data": {
      "text/html": [
       "4.03112887414927"
      ],
      "text/latex": [
       "4.03112887414927"
      ],
      "text/markdown": [
       "4.03112887414927"
      ],
      "text/plain": [
       "[1] 4.031129"
      ]
     },
     "metadata": {},
     "output_type": "display_data"
    },
    {
     "data": {
      "text/html": [
       "TRUE"
      ],
      "text/latex": [
       "TRUE"
      ],
      "text/markdown": [
       "TRUE"
      ],
      "text/plain": [
       "[1] TRUE"
      ]
     },
     "metadata": {},
     "output_type": "display_data"
    },
    {
     "data": {
      "text/html": [
       "3.5+0i"
      ],
      "text/latex": [
       "3.5+0i"
      ],
      "text/markdown": [
       "3.5+0i"
      ],
      "text/plain": [
       "[1] 3.5+0i"
      ]
     },
     "metadata": {},
     "output_type": "display_data"
    }
   ],
   "source": [
    "Im(3.5 + 2i)\n",
    "Mod(3.5 + 2i)\n",
    "is.complex( 3.5 + 2i)\n",
    "as.complex( 3.5 )"
   ]
  },
  {
   "cell_type": "markdown",
   "id": "4fccdb7b-ecad-485d-baf3-c60716826e4e",
   "metadata": {},
   "source": [
    "---"
   ]
  },
  {
   "cell_type": "markdown",
   "id": "ea8235a5-92e2-4b71-937f-dd8aef108d3f",
   "metadata": {},
   "source": [
    "## 03 - DATA TYPES"
   ]
  },
  {
   "cell_type": "markdown",
   "id": "0a1d92d1-88fb-435c-9685-1c8a240e120f",
   "metadata": {},
   "source": [
    "#### INSPECT DATA\n",
    "* `class(x)`: tell us what kind of data we have in x (numeric, etc)\n",
    "* `typeof()` / `storage.mode()`: get or set the mode (i.e. the type so double etc), or the storage mode of an R object\n",
    "* `length(x)`: returns the number of element in the object x\n",
    "* `attributes(x)`: access object's attributes (like for a data.frame)\n",
    "* `str(x)`: compactly display the internal structure of the object x"
   ]
  },
  {
   "cell_type": "code",
   "execution_count": 21,
   "id": "cdc3b39f-2edd-49ab-9f64-5fadf002f7ae",
   "metadata": {},
   "outputs": [
    {
     "data": {
      "text/html": [
       "<style>\n",
       ".list-inline {list-style: none; margin:0; padding: 0}\n",
       ".list-inline>li {display: inline-block}\n",
       ".list-inline>li:not(:last-child)::after {content: \"\\00b7\"; padding: 0 .5ex}\n",
       "</style>\n",
       "<ol class=list-inline><li>3</li><li>7</li><li>9</li></ol>\n"
      ],
      "text/latex": [
       "\\begin{enumerate*}\n",
       "\\item 3\n",
       "\\item 7\n",
       "\\item 9\n",
       "\\end{enumerate*}\n"
      ],
      "text/markdown": [
       "1. 3\n",
       "2. 7\n",
       "3. 9\n",
       "\n",
       "\n"
      ],
      "text/plain": [
       "[1] 3 7 9"
      ]
     },
     "metadata": {},
     "output_type": "display_data"
    },
    {
     "data": {
      "text/html": [
       "'numeric'"
      ],
      "text/latex": [
       "'numeric'"
      ],
      "text/markdown": [
       "'numeric'"
      ],
      "text/plain": [
       "[1] \"numeric\""
      ]
     },
     "metadata": {},
     "output_type": "display_data"
    },
    {
     "data": {
      "text/html": [
       "'double'"
      ],
      "text/latex": [
       "'double'"
      ],
      "text/markdown": [
       "'double'"
      ],
      "text/plain": [
       "[1] \"double\""
      ]
     },
     "metadata": {},
     "output_type": "display_data"
    },
    {
     "data": {
      "text/html": [
       "3"
      ],
      "text/latex": [
       "3"
      ],
      "text/markdown": [
       "3"
      ],
      "text/plain": [
       "[1] 3"
      ]
     },
     "metadata": {},
     "output_type": "display_data"
    },
    {
     "name": "stdout",
     "output_type": "stream",
     "text": [
      " num [1:3] 3 7 9\n"
     ]
    }
   ],
   "source": [
    "(x <- c(3, 7, 9))\n",
    "class(x)\n",
    "typeof(x)\n",
    "length(x)\n",
    "str(x)"
   ]
  },
  {
   "cell_type": "code",
   "execution_count": 1,
   "id": "29aa6f51-f571-42aa-9e84-21ba752a5713",
   "metadata": {},
   "outputs": [
    {
     "data": {
      "text/html": [
       "1"
      ],
      "text/latex": [
       "1"
      ],
      "text/markdown": [
       "1"
      ],
      "text/plain": [
       "[1] 1"
      ]
     },
     "metadata": {},
     "output_type": "display_data"
    },
    {
     "name": "stdout",
     "output_type": "stream",
     "text": [
      " num [1:4] 1 2 5 8\n"
     ]
    }
   ],
   "source": [
    "x <- 4.7; length(x)\n",
    "y <- c(1, 2, 5, 8); str(y)"
   ]
  },
  {
   "cell_type": "markdown",
   "id": "dfb746db-2c24-49d7-9bda-f216f16b9180",
   "metadata": {},
   "source": [
    "We can always test whether objects are a particular type and also coerce them to a different type. In this list the first command will test, the second will coerce:\n",
    "* Array               → `is.array()` / `as.array()`\n",
    "* Character           → `is.character()` / `as.character()`\n",
    "* Complex             → `is.complex()` / `as.complex()`\n",
    "* Dataframe           → `is.data.frame()` / `as.data.frame()`\n",
    "* Double              → `is.double()` / `as.double()`\n",
    "* Factor              → `is.factor()` / `as.factor()`\n",
    "* List                → `is.list()` / `as.list()`\n",
    "* Logical             → `is.logical()` / `as.logical()`\n",
    "* Matrix              → `is.matrix()` / `as.matrix()`\n",
    "* Numeric             → `is.numeric()` / `as.numeric()`\n",
    "* Raw                 → `is.raw()` / `as.raw()`\n",
    "* Time series         → `is.ts()` / `as.ts()`\n",
    "* Vector              → `as.vector()` / `as.vector()`\n"
   ]
  },
  {
   "cell_type": "code",
   "execution_count": 2,
   "id": "001d5285-efe6-4264-813c-14afba5de349",
   "metadata": {},
   "outputs": [
    {
     "data": {
      "text/html": [
       "FALSE"
      ],
      "text/latex": [
       "FALSE"
      ],
      "text/markdown": [
       "FALSE"
      ],
      "text/plain": [
       "[1] FALSE"
      ]
     },
     "metadata": {},
     "output_type": "display_data"
    },
    {
     "data": {
      "text/html": [
       "'4.7'"
      ],
      "text/latex": [
       "'4.7'"
      ],
      "text/markdown": [
       "'4.7'"
      ],
      "text/plain": [
       "[1] \"4.7\""
      ]
     },
     "metadata": {},
     "output_type": "display_data"
    }
   ],
   "source": [
    "is.character(x)\n",
    "as.character(x)"
   ]
  },
  {
   "cell_type": "markdown",
   "id": "30ace27c-f365-42bb-acd9-ab2ba4f8844b",
   "metadata": {},
   "source": [
    "#### VECTOR\n",
    "The basic data structure is a **vector** : a sequence of values stored in contiguous memory areas. Vector are atomic types : all elements must be of same type. R is a dynamically-typed language. Dynamic typing allows to assign a value of a different data type to the same variable at any time. Scalar types do not exist, they are considered one-element vectors. Longer vectors are usually created with the concatenate `c()` function.\n",
    "\n",
    "With the `rep(value, each=m, times=n)` function you can create a vector built by repeating n-times the same value (written m times each time).\n",
    "\n",
    "INDEXING:  \n",
    "The indexing is done through `[]`. Inside I can input a single index but also a vector of indexes. With negative input you can exclude elements, like `vector[-3]` will exclude the third element. Masking works as in python, so for example with `vector[x<5]` we select only the elements which are lower than 5, because the code `x<5` will generate a boolean mask (=array) of Ture and False values.\n",
    "\n",
    "Functions for vectors:\n",
    "* `max(x)` - the maximum value in x  \n",
    "* `min(x)` - the minimum value in x  \n",
    "* `sum(x)` - the sum of all values in x  \n",
    "* `mean(x)` - arithmetic average of the values in x  \n",
    "* `median(x)` - median value in x  \n",
    "* `range(x)` - a vector with inside only two values: min(x) and max(x)  \n",
    "* `var(x)` - sample variance of x  \n",
    "* `cor(x, y)` - correlation between x and y vectors  \n",
    "* `sort(x)` - a sorted version of x  \n",
    "* `rank(x)` - a vector with the ranks of the x values, cioè la posizione di ciascun valore se fosse ordinato (tipo associa le posizioni in classifica)\n",
    "* `order(x)` - a vector with the permutations to sort x in asc order, i.e. the indexes of the ordered values of x\n",
    "* `quantile(x)` - a vector with: minimum, lower quantile, median, upper quantile and maximum of x  \n",
    "* `cumsum(x)` - a running sum of the vector elements  \n",
    "* `cumprod(x)` - a running product of the vector elements  \n",
    "* `cummax(x)` - a vector of non-decreasing numbers with the cumulative maxima  \n",
    "* `cummin(x)` - a vector of non-decreasing numbers with the cumulative minima  \n",
    "* `pmax(x, y, z)` - vector containing the maximum of x, y or z for each position  \n",
    "* `pmin(x, y, z)` - vector containing the minimum of x, y or z for each position  \n",
    "* `colMeans(x)` - column means of a dataframe or matrix  \n",
    "* `colSums(x)` - column sums of a dataframe or matrix  \n",
    "* `rowMeans(x)` - row means of a dataframe or matrix  \n",
    "* `rowSums(x)` - row sums of a dataframe or matrix  \n"
   ]
  },
  {
   "cell_type": "code",
   "execution_count": 66,
   "id": "c59b8186-acb8-412c-9eac-403e73a76f53",
   "metadata": {},
   "outputs": [
    {
     "data": {
      "text/html": [
       "<style>\n",
       ".list-inline {list-style: none; margin:0; padding: 0}\n",
       ".list-inline>li {display: inline-block}\n",
       ".list-inline>li:not(:last-child)::after {content: \"\\00b7\"; padding: 0 .5ex}\n",
       "</style>\n",
       "<ol class=list-inline><li>3</li><li>2</li><li>1</li></ol>\n"
      ],
      "text/latex": [
       "\\begin{enumerate*}\n",
       "\\item 3\n",
       "\\item 2\n",
       "\\item 1\n",
       "\\end{enumerate*}\n"
      ],
      "text/markdown": [
       "1. 3\n",
       "2. 2\n",
       "3. 1\n",
       "\n",
       "\n"
      ],
      "text/plain": [
       "[1] 3 2 1"
      ]
     },
     "metadata": {},
     "output_type": "display_data"
    },
    {
     "data": {
      "text/html": [
       "<style>\n",
       ".list-inline {list-style: none; margin:0; padding: 0}\n",
       ".list-inline>li {display: inline-block}\n",
       ".list-inline>li:not(:last-child)::after {content: \"\\00b7\"; padding: 0 .5ex}\n",
       "</style>\n",
       "<ol class=list-inline><li>15</li><li>10</li><li>5</li></ol>\n"
      ],
      "text/latex": [
       "\\begin{enumerate*}\n",
       "\\item 15\n",
       "\\item 10\n",
       "\\item 5\n",
       "\\end{enumerate*}\n"
      ],
      "text/markdown": [
       "1. 15\n",
       "2. 10\n",
       "3. 5\n",
       "\n",
       "\n"
      ],
      "text/plain": [
       "[1] 15 10  5"
      ]
     },
     "metadata": {},
     "output_type": "display_data"
    },
    {
     "name": "stderr",
     "output_type": "stream",
     "text": [
      "Warning message in x * f2:\n",
      "“la lunghezza più lunga dell'oggetto non è un multiplo della lunghezza più corta dell'oggetto”\n"
     ]
    },
    {
     "data": {
      "text/html": [
       "<style>\n",
       ".list-inline {list-style: none; margin:0; padding: 0}\n",
       ".list-inline>li {display: inline-block}\n",
       ".list-inline>li:not(:last-child)::after {content: \"\\00b7\"; padding: 0 .5ex}\n",
       "</style>\n",
       "<ol class=list-inline><li>30</li><li>200</li><li>10</li></ol>\n"
      ],
      "text/latex": [
       "\\begin{enumerate*}\n",
       "\\item 30\n",
       "\\item 200\n",
       "\\item 10\n",
       "\\end{enumerate*}\n"
      ],
      "text/markdown": [
       "1. 30\n",
       "2. 200\n",
       "3. 10\n",
       "\n",
       "\n"
      ],
      "text/plain": [
       "[1]  30 200  10"
      ]
     },
     "metadata": {},
     "output_type": "display_data"
    }
   ],
   "source": [
    "( x <- 3 : 1 )\n",
    "\n",
    "f1 <- 5\n",
    "x*f1            # f1 will be broadcasted to all elements of x\n",
    "\n",
    "f2 <- c(10, 100)\n",
    "x*f2           # the shorter vector, f2, is elongated to cover the length of x"
   ]
  },
  {
   "cell_type": "code",
   "execution_count": 15,
   "id": "78b4553b-d6a3-4cf0-af6c-6aedb40a7014",
   "metadata": {},
   "outputs": [
    {
     "data": {
      "text/html": [
       "5.83333333333333"
      ],
      "text/latex": [
       "5.83333333333333"
      ],
      "text/markdown": [
       "5.83333333333333"
      ],
      "text/plain": [
       "[1] 5.833333"
      ]
     },
     "metadata": {},
     "output_type": "display_data"
    },
    {
     "data": {
      "text/html": [
       "7"
      ],
      "text/latex": [
       "7"
      ],
      "text/markdown": [
       "7"
      ],
      "text/plain": [
       "[1] 7"
      ]
     },
     "metadata": {},
     "output_type": "display_data"
    },
    {
     "data": {
      "text/html": [
       "4"
      ],
      "text/latex": [
       "4"
      ],
      "text/markdown": [
       "4"
      ],
      "text/plain": [
       "[1] 4"
      ]
     },
     "metadata": {},
     "output_type": "display_data"
    },
    {
     "data": {
      "text/html": [
       "<style>\n",
       ".list-inline {list-style: none; margin:0; padding: 0}\n",
       ".list-inline>li {display: inline-block}\n",
       ".list-inline>li:not(:last-child)::after {content: \"\\00b7\"; padding: 0 .5ex}\n",
       "</style>\n",
       "<ol class=list-inline><li>5</li><li>6</li><li>7</li></ol>\n"
      ],
      "text/latex": [
       "\\begin{enumerate*}\n",
       "\\item 5\n",
       "\\item 6\n",
       "\\item 7\n",
       "\\end{enumerate*}\n"
      ],
      "text/markdown": [
       "1. 5\n",
       "2. 6\n",
       "3. 7\n",
       "\n",
       "\n"
      ],
      "text/plain": [
       "[1] 5 6 7"
      ]
     },
     "metadata": {},
     "output_type": "display_data"
    },
    {
     "data": {
      "text/html": [
       "<style>\n",
       ".list-inline {list-style: none; margin:0; padding: 0}\n",
       ".list-inline>li {display: inline-block}\n",
       ".list-inline>li:not(:last-child)::after {content: \"\\00b7\"; padding: 0 .5ex}\n",
       "</style>\n",
       "<ol class=list-inline><li>1</li><li>1</li><li>1</li><li>1</li><li>1</li></ol>\n"
      ],
      "text/latex": [
       "\\begin{enumerate*}\n",
       "\\item 1\n",
       "\\item 1\n",
       "\\item 1\n",
       "\\item 1\n",
       "\\item 1\n",
       "\\end{enumerate*}\n"
      ],
      "text/markdown": [
       "1. 1\n",
       "2. 1\n",
       "3. 1\n",
       "4. 1\n",
       "5. 1\n",
       "\n",
       "\n"
      ],
      "text/plain": [
       "[1] 1 1 1 1 1"
      ]
     },
     "metadata": {},
     "output_type": "display_data"
    },
    {
     "data": {
      "text/html": [
       "<style>\n",
       ".list-inline {list-style: none; margin:0; padding: 0}\n",
       ".list-inline>li {display: inline-block}\n",
       ".list-inline>li:not(:last-child)::after {content: \"\\00b7\"; padding: 0 .5ex}\n",
       "</style>\n",
       "<ol class=list-inline><li>1</li><li>2</li><li>2</li><li>3</li><li>3</li><li>3</li><li>4</li><li>4</li><li>4</li><li>4</li></ol>\n"
      ],
      "text/latex": [
       "\\begin{enumerate*}\n",
       "\\item 1\n",
       "\\item 2\n",
       "\\item 2\n",
       "\\item 3\n",
       "\\item 3\n",
       "\\item 3\n",
       "\\item 4\n",
       "\\item 4\n",
       "\\item 4\n",
       "\\item 4\n",
       "\\end{enumerate*}\n"
      ],
      "text/markdown": [
       "1. 1\n",
       "2. 2\n",
       "3. 2\n",
       "4. 3\n",
       "5. 3\n",
       "6. 3\n",
       "7. 4\n",
       "8. 4\n",
       "9. 4\n",
       "10. 4\n",
       "\n",
       "\n"
      ],
      "text/plain": [
       " [1] 1 2 2 3 3 3 4 4 4 4"
      ]
     },
     "metadata": {},
     "output_type": "display_data"
    }
   ],
   "source": [
    "vec <- c(4, 7, 6, 5, 6, 7)\n",
    "mean(vec)\n",
    "max(vec)\n",
    "vec[1]\n",
    "vec[-c(1,2,3)]    # this excludes the first 3 elements\n",
    "rep(1,5)\n",
    "rep (1:4, 1:4)    # replicate each sequence number a different number of times"
   ]
  },
  {
   "cell_type": "code",
   "execution_count": 67,
   "id": "230bf85e-815a-458f-a3dd-5b4b2fbe645e",
   "metadata": {},
   "outputs": [
    {
     "data": {
      "text/html": [
       "<style>\n",
       ".list-inline {list-style: none; margin:0; padding: 0}\n",
       ".list-inline>li {display: inline-block}\n",
       ".list-inline>li:not(:last-child)::after {content: \"\\00b7\"; padding: 0 .5ex}\n",
       "</style>\n",
       "<ol class=list-inline><li>1</li><li>20</li></ol>\n"
      ],
      "text/latex": [
       "\\begin{enumerate*}\n",
       "\\item 1\n",
       "\\item 20\n",
       "\\end{enumerate*}\n"
      ],
      "text/markdown": [
       "1. 1\n",
       "2. 20\n",
       "\n",
       "\n"
      ],
      "text/plain": [
       "[1]  1 20"
      ]
     },
     "metadata": {},
     "output_type": "display_data"
    },
    {
     "data": {
      "text/html": [
       "<style>\n",
       ".list-inline {list-style: none; margin:0; padding: 0}\n",
       ".list-inline>li {display: inline-block}\n",
       ".list-inline>li:not(:last-child)::after {content: \"\\00b7\"; padding: 0 .5ex}\n",
       "</style>\n",
       "<ol class=list-inline><li>4</li><li>2</li><li>3</li><li>5</li><li>1</li></ol>\n"
      ],
      "text/latex": [
       "\\begin{enumerate*}\n",
       "\\item 4\n",
       "\\item 2\n",
       "\\item 3\n",
       "\\item 5\n",
       "\\item 1\n",
       "\\end{enumerate*}\n"
      ],
      "text/markdown": [
       "1. 4\n",
       "2. 2\n",
       "3. 3\n",
       "4. 5\n",
       "5. 1\n",
       "\n",
       "\n"
      ],
      "text/plain": [
       "[1] 4 2 3 5 1"
      ]
     },
     "metadata": {},
     "output_type": "display_data"
    },
    {
     "data": {
      "text/html": [
       "<style>\n",
       ".list-inline {list-style: none; margin:0; padding: 0}\n",
       ".list-inline>li {display: inline-block}\n",
       ".list-inline>li:not(:last-child)::after {content: \"\\00b7\"; padding: 0 .5ex}\n",
       "</style>\n",
       "<ol class=list-inline><li>5</li><li>2</li><li>3</li><li>1</li><li>4</li></ol>\n"
      ],
      "text/latex": [
       "\\begin{enumerate*}\n",
       "\\item 5\n",
       "\\item 2\n",
       "\\item 3\n",
       "\\item 1\n",
       "\\item 4\n",
       "\\end{enumerate*}\n"
      ],
      "text/markdown": [
       "1. 5\n",
       "2. 2\n",
       "3. 3\n",
       "4. 1\n",
       "5. 4\n",
       "\n",
       "\n"
      ],
      "text/plain": [
       "[1] 5 2 3 1 4"
      ]
     },
     "metadata": {},
     "output_type": "display_data"
    },
    {
     "data": {
      "text/html": [
       "<style>\n",
       ".list-inline {list-style: none; margin:0; padding: 0}\n",
       ".list-inline>li {display: inline-block}\n",
       ".list-inline>li:not(:last-child)::after {content: \"\\00b7\"; padding: 0 .5ex}\n",
       "</style>\n",
       "<ol class=list-inline><li>1</li><li>5</li><li>8</li><li>10</li><li>20</li></ol>\n"
      ],
      "text/latex": [
       "\\begin{enumerate*}\n",
       "\\item 1\n",
       "\\item 5\n",
       "\\item 8\n",
       "\\item 10\n",
       "\\item 20\n",
       "\\end{enumerate*}\n"
      ],
      "text/markdown": [
       "1. 1\n",
       "2. 5\n",
       "3. 8\n",
       "4. 10\n",
       "5. 20\n",
       "\n",
       "\n"
      ],
      "text/plain": [
       "[1]  1  5  8 10 20"
      ]
     },
     "metadata": {},
     "output_type": "display_data"
    }
   ],
   "source": [
    "x <- c(10, 5, 8, 20, 1)\n",
    "range(x)\n",
    "rank(x)\n",
    "order(x)\n",
    "x[order(x)]"
   ]
  },
  {
   "cell_type": "markdown",
   "id": "cbe0da16-7160-4d8c-a90c-e579590c0f30",
   "metadata": {},
   "source": [
    "We can also set names to the elments with:"
   ]
  },
  {
   "cell_type": "code",
   "execution_count": 70,
   "id": "79f9c672-e2b2-4a39-9d47-69c767e18d9a",
   "metadata": {},
   "outputs": [
    {
     "data": {
      "text/html": [
       "<style>\n",
       ".dl-inline {width: auto; margin:0; padding: 0}\n",
       ".dl-inline>dt, .dl-inline>dd {float: none; width: auto; display: inline-block}\n",
       ".dl-inline>dt::after {content: \":\\0020\"; padding-right: .5ex}\n",
       ".dl-inline>dt:not(:first-of-type) {padding-left: .5ex}\n",
       "</style><dl class=dl-inline><dt>a</dt><dd>1</dd><dt>b</dt><dd>2</dd><dt>c</dt><dd>3</dd></dl>\n"
      ],
      "text/latex": [
       "\\begin{description*}\n",
       "\\item[a] 1\n",
       "\\item[b] 2\n",
       "\\item[c] 3\n",
       "\\end{description*}\n"
      ],
      "text/markdown": [
       "a\n",
       ":   1b\n",
       ":   2c\n",
       ":   3\n",
       "\n"
      ],
      "text/plain": [
       "a b c \n",
       "1 2 3 "
      ]
     },
     "metadata": {},
     "output_type": "display_data"
    },
    {
     "data": {
      "text/html": [
       "<style>\n",
       ".list-inline {list-style: none; margin:0; padding: 0}\n",
       ".list-inline>li {display: inline-block}\n",
       ".list-inline>li:not(:last-child)::after {content: \"\\00b7\"; padding: 0 .5ex}\n",
       "</style>\n",
       "<ol class=list-inline><li>'a'</li><li>'b'</li><li>'c'</li></ol>\n"
      ],
      "text/latex": [
       "\\begin{enumerate*}\n",
       "\\item 'a'\n",
       "\\item 'b'\n",
       "\\item 'c'\n",
       "\\end{enumerate*}\n"
      ],
      "text/markdown": [
       "1. 'a'\n",
       "2. 'b'\n",
       "3. 'c'\n",
       "\n",
       "\n"
      ],
      "text/plain": [
       "[1] \"a\" \"b\" \"c\""
      ]
     },
     "metadata": {},
     "output_type": "display_data"
    }
   ],
   "source": [
    "x <- c(a=1, b=2, c=3)\n",
    "x\n",
    "names(x)"
   ]
  },
  {
   "cell_type": "markdown",
   "id": "bb1b01e4-01c9-4502-a6f2-6c36fde5c55f",
   "metadata": {},
   "source": [
    "#### SEQUENCES\n",
    "R provides and easy way to generate a sequence of numbers. With `a:b` it creates a sequence from a to b (also in inverse if a>b), but only of step=1. If you want something eslse use `seq(start, stop, step)` for decididng th step or `seq(start, stop, length=n)` for deciding how many numbers."
   ]
  },
  {
   "cell_type": "code",
   "execution_count": 41,
   "id": "a1101f98-5e69-4cd5-a2a7-b3091b153fac",
   "metadata": {},
   "outputs": [
    {
     "data": {
      "text/html": [
       "<style>\n",
       ".list-inline {list-style: none; margin:0; padding: 0}\n",
       ".list-inline>li {display: inline-block}\n",
       ".list-inline>li:not(:last-child)::after {content: \"\\00b7\"; padding: 0 .5ex}\n",
       "</style>\n",
       "<ol class=list-inline><li>0</li><li>1</li><li>2</li><li>3</li><li>4</li><li>5</li></ol>\n"
      ],
      "text/latex": [
       "\\begin{enumerate*}\n",
       "\\item 0\n",
       "\\item 1\n",
       "\\item 2\n",
       "\\item 3\n",
       "\\item 4\n",
       "\\item 5\n",
       "\\end{enumerate*}\n"
      ],
      "text/markdown": [
       "1. 0\n",
       "2. 1\n",
       "3. 2\n",
       "4. 3\n",
       "5. 4\n",
       "6. 5\n",
       "\n",
       "\n"
      ],
      "text/plain": [
       "[1] 0 1 2 3 4 5"
      ]
     },
     "metadata": {},
     "output_type": "display_data"
    },
    {
     "data": {
      "text/html": [
       "<style>\n",
       ".list-inline {list-style: none; margin:0; padding: 0}\n",
       ".list-inline>li {display: inline-block}\n",
       ".list-inline>li:not(:last-child)::after {content: \"\\00b7\"; padding: 0 .5ex}\n",
       "</style>\n",
       "<ol class=list-inline><li>5</li><li>4</li><li>3</li><li>2</li><li>1</li><li>0</li><li>-1</li><li>-2</li></ol>\n"
      ],
      "text/latex": [
       "\\begin{enumerate*}\n",
       "\\item 5\n",
       "\\item 4\n",
       "\\item 3\n",
       "\\item 2\n",
       "\\item 1\n",
       "\\item 0\n",
       "\\item -1\n",
       "\\item -2\n",
       "\\end{enumerate*}\n"
      ],
      "text/markdown": [
       "1. 5\n",
       "2. 4\n",
       "3. 3\n",
       "4. 2\n",
       "5. 1\n",
       "6. 0\n",
       "7. -1\n",
       "8. -2\n",
       "\n",
       "\n"
      ],
      "text/plain": [
       "[1]  5  4  3  2  1  0 -1 -2"
      ]
     },
     "metadata": {},
     "output_type": "display_data"
    },
    {
     "data": {
      "text/html": [
       "<style>\n",
       ".list-inline {list-style: none; margin:0; padding: 0}\n",
       ".list-inline>li {display: inline-block}\n",
       ".list-inline>li:not(:last-child)::after {content: \"\\00b7\"; padding: 0 .5ex}\n",
       "</style>\n",
       "<ol class=list-inline><li>-1</li><li>-0.5</li><li>0</li><li>0.5</li><li>1</li></ol>\n"
      ],
      "text/latex": [
       "\\begin{enumerate*}\n",
       "\\item -1\n",
       "\\item -0.5\n",
       "\\item 0\n",
       "\\item 0.5\n",
       "\\item 1\n",
       "\\end{enumerate*}\n"
      ],
      "text/markdown": [
       "1. -1\n",
       "2. -0.5\n",
       "3. 0\n",
       "4. 0.5\n",
       "5. 1\n",
       "\n",
       "\n"
      ],
      "text/plain": [
       "[1] -1.0 -0.5  0.0  0.5  1.0"
      ]
     },
     "metadata": {},
     "output_type": "display_data"
    }
   ],
   "source": [
    "0:5\n",
    "5:-2\n",
    "seq(-1, 1, 0.5)"
   ]
  },
  {
   "cell_type": "markdown",
   "id": "f8ca25bf-6d9e-4a0e-a033-50b9cb67075c",
   "metadata": {},
   "source": [
    "#### MATRIXES\n",
    "With the `dim(x)` attribute of a vector, we change its dimension for example in a matrix, 'reshaping' it and its elements in a wanted dimension c(dim1, dim2...)."
   ]
  },
  {
   "cell_type": "code",
   "execution_count": 74,
   "id": "ab08e362-97bb-4f1b-b26a-6259ed403138",
   "metadata": {},
   "outputs": [
    {
     "data": {
      "text/html": [
       "<style>\n",
       ".list-inline {list-style: none; margin:0; padding: 0}\n",
       ".list-inline>li {display: inline-block}\n",
       ".list-inline>li:not(:last-child)::after {content: \"\\00b7\"; padding: 0 .5ex}\n",
       "</style>\n",
       "<ol class=list-inline><li>1</li><li>2</li><li>3</li><li>4</li><li>5</li><li>6</li><li>7</li><li>8</li><li>9</li><li>10</li><li>11</li><li>12</li><li>13</li><li>14</li><li>15</li><li>16</li><li>17</li><li>18</li><li>19</li><li>20</li></ol>\n"
      ],
      "text/latex": [
       "\\begin{enumerate*}\n",
       "\\item 1\n",
       "\\item 2\n",
       "\\item 3\n",
       "\\item 4\n",
       "\\item 5\n",
       "\\item 6\n",
       "\\item 7\n",
       "\\item 8\n",
       "\\item 9\n",
       "\\item 10\n",
       "\\item 11\n",
       "\\item 12\n",
       "\\item 13\n",
       "\\item 14\n",
       "\\item 15\n",
       "\\item 16\n",
       "\\item 17\n",
       "\\item 18\n",
       "\\item 19\n",
       "\\item 20\n",
       "\\end{enumerate*}\n"
      ],
      "text/markdown": [
       "1. 1\n",
       "2. 2\n",
       "3. 3\n",
       "4. 4\n",
       "5. 5\n",
       "6. 6\n",
       "7. 7\n",
       "8. 8\n",
       "9. 9\n",
       "10. 10\n",
       "11. 11\n",
       "12. 12\n",
       "13. 13\n",
       "14. 14\n",
       "15. 15\n",
       "16. 16\n",
       "17. 17\n",
       "18. 18\n",
       "19. 19\n",
       "20. 20\n",
       "\n",
       "\n"
      ],
      "text/plain": [
       " [1]  1  2  3  4  5  6  7  8  9 10 11 12 13 14 15 16 17 18 19 20"
      ]
     },
     "metadata": {},
     "output_type": "display_data"
    },
    {
     "data": {
      "text/html": [
       "<table class=\"dataframe\">\n",
       "<caption>A matrix: 4 × 5 of type int</caption>\n",
       "<tbody>\n",
       "\t<tr><td>1</td><td>5</td><td> 9</td><td>13</td><td>17</td></tr>\n",
       "\t<tr><td>2</td><td>6</td><td>10</td><td>14</td><td>18</td></tr>\n",
       "\t<tr><td>3</td><td>7</td><td>11</td><td>15</td><td>19</td></tr>\n",
       "\t<tr><td>4</td><td>8</td><td>12</td><td>16</td><td>20</td></tr>\n",
       "</tbody>\n",
       "</table>\n"
      ],
      "text/latex": [
       "A matrix: 4 × 5 of type int\n",
       "\\begin{tabular}{lllll}\n",
       "\t 1 & 5 &  9 & 13 & 17\\\\\n",
       "\t 2 & 6 & 10 & 14 & 18\\\\\n",
       "\t 3 & 7 & 11 & 15 & 19\\\\\n",
       "\t 4 & 8 & 12 & 16 & 20\\\\\n",
       "\\end{tabular}\n"
      ],
      "text/markdown": [
       "\n",
       "A matrix: 4 × 5 of type int\n",
       "\n",
       "| 1 | 5 |  9 | 13 | 17 |\n",
       "| 2 | 6 | 10 | 14 | 18 |\n",
       "| 3 | 7 | 11 | 15 | 19 |\n",
       "| 4 | 8 | 12 | 16 | 20 |\n",
       "\n"
      ],
      "text/plain": [
       "     [,1] [,2] [,3] [,4] [,5]\n",
       "[1,] 1    5     9   13   17  \n",
       "[2,] 2    6    10   14   18  \n",
       "[3,] 3    7    11   15   19  \n",
       "[4,] 4    8    12   16   20  "
      ]
     },
     "metadata": {},
     "output_type": "display_data"
    }
   ],
   "source": [
    "vec <- c(1:20); vec\n",
    "dim(vec) <- c(4,5); vec"
   ]
  },
  {
   "cell_type": "markdown",
   "id": "1d96b2cb-24bb-4303-b939-2987d1e1c9b6",
   "metadata": {},
   "source": [
    "We can directly define a matrix with `matrix(elements, nrow, ncol, byrow)`. L'opzione byrow decide se riempire la matrice per righe o per colonne. We can later reshape it using `dim`. An element is accessed with `mat[row,col]`. \n",
    "\n",
    "We multiply matrixes with `%*%`.\n",
    "\n",
    "We can define diagonal matrixes with `diag(elem, nrow, ncol)`. \n",
    "\n",
    "We can compute the determinant with `det(mat)`.\n",
    "\n",
    "Con `solve(mat, b)` possiamo risolvere un sistema lineare Ax=b, il che significa invertire la matrice mat nel caso in cui b=0, cioè con `solve(mat)`."
   ]
  },
  {
   "cell_type": "code",
   "execution_count": 79,
   "id": "2e7e2052-05eb-4d7c-82bf-0906b28fdebc",
   "metadata": {},
   "outputs": [
    {
     "data": {
      "text/html": [
       "<table class=\"dataframe\">\n",
       "<caption>A matrix: 3 × 4 of type int</caption>\n",
       "<tbody>\n",
       "\t<tr><td>1</td><td>4</td><td>7</td><td>10</td></tr>\n",
       "\t<tr><td>2</td><td>5</td><td>8</td><td>11</td></tr>\n",
       "\t<tr><td>3</td><td>6</td><td>9</td><td>12</td></tr>\n",
       "</tbody>\n",
       "</table>\n"
      ],
      "text/latex": [
       "A matrix: 3 × 4 of type int\n",
       "\\begin{tabular}{llll}\n",
       "\t 1 & 4 & 7 & 10\\\\\n",
       "\t 2 & 5 & 8 & 11\\\\\n",
       "\t 3 & 6 & 9 & 12\\\\\n",
       "\\end{tabular}\n"
      ],
      "text/markdown": [
       "\n",
       "A matrix: 3 × 4 of type int\n",
       "\n",
       "| 1 | 4 | 7 | 10 |\n",
       "| 2 | 5 | 8 | 11 |\n",
       "| 3 | 6 | 9 | 12 |\n",
       "\n"
      ],
      "text/plain": [
       "     [,1] [,2] [,3] [,4]\n",
       "[1,] 1    4    7    10  \n",
       "[2,] 2    5    8    11  \n",
       "[3,] 3    6    9    12  "
      ]
     },
     "metadata": {},
     "output_type": "display_data"
    },
    {
     "data": {
      "text/html": [
       "<style>\n",
       ".list-inline {list-style: none; margin:0; padding: 0}\n",
       ".list-inline>li {display: inline-block}\n",
       ".list-inline>li:not(:last-child)::after {content: \"\\00b7\"; padding: 0 .5ex}\n",
       "</style>\n",
       "<ol class=list-inline><li>7</li><li>8</li><li>9</li></ol>\n"
      ],
      "text/latex": [
       "\\begin{enumerate*}\n",
       "\\item 7\n",
       "\\item 8\n",
       "\\item 9\n",
       "\\end{enumerate*}\n"
      ],
      "text/markdown": [
       "1. 7\n",
       "2. 8\n",
       "3. 9\n",
       "\n",
       "\n"
      ],
      "text/plain": [
       "[1] 7 8 9"
      ]
     },
     "metadata": {},
     "output_type": "display_data"
    }
   ],
   "source": [
    "m1 <- matrix(1:12, nrow=3); m1\n",
    "m1[,3]      # all third column"
   ]
  },
  {
   "cell_type": "markdown",
   "id": "091feb26-04f4-4cd7-8a64-bb2b22d4a7f6",
   "metadata": {},
   "source": [
    "#### ARRAY\n",
    "An array is a multi-dimensional object where all the entries have the same class. The dimensions of an array are specified by its dim argument."
   ]
  },
  {
   "cell_type": "code",
   "execution_count": 80,
   "id": "a612d10a-af1f-4e0e-9816-ef00be5e2e7c",
   "metadata": {},
   "outputs": [
    {
     "data": {
      "text/html": [
       "<style>\n",
       ".list-inline {list-style: none; margin:0; padding: 0}\n",
       ".list-inline>li {display: inline-block}\n",
       ".list-inline>li:not(:last-child)::after {content: \"\\00b7\"; padding: 0 .5ex}\n",
       "</style>\n",
       "<ol class=list-inline><li>1</li><li>2</li><li>3</li><li>4</li><li>5</li><li>6</li><li>7</li><li>8</li><li>9</li><li>10</li><li>11</li><li>12</li><li>13</li><li>14</li><li>15</li><li>16</li><li>17</li><li>18</li><li>19</li><li>20</li><li>21</li><li>22</li><li>23</li><li>24</li></ol>\n"
      ],
      "text/latex": [
       "\\begin{enumerate*}\n",
       "\\item 1\n",
       "\\item 2\n",
       "\\item 3\n",
       "\\item 4\n",
       "\\item 5\n",
       "\\item 6\n",
       "\\item 7\n",
       "\\item 8\n",
       "\\item 9\n",
       "\\item 10\n",
       "\\item 11\n",
       "\\item 12\n",
       "\\item 13\n",
       "\\item 14\n",
       "\\item 15\n",
       "\\item 16\n",
       "\\item 17\n",
       "\\item 18\n",
       "\\item 19\n",
       "\\item 20\n",
       "\\item 21\n",
       "\\item 22\n",
       "\\item 23\n",
       "\\item 24\n",
       "\\end{enumerate*}\n"
      ],
      "text/markdown": [
       "1. 1\n",
       "2. 2\n",
       "3. 3\n",
       "4. 4\n",
       "5. 5\n",
       "6. 6\n",
       "7. 7\n",
       "8. 8\n",
       "9. 9\n",
       "10. 10\n",
       "11. 11\n",
       "12. 12\n",
       "13. 13\n",
       "14. 14\n",
       "15. 15\n",
       "16. 16\n",
       "17. 17\n",
       "18. 18\n",
       "19. 19\n",
       "20. 20\n",
       "21. 21\n",
       "22. 22\n",
       "23. 23\n",
       "24. 24\n",
       "\n",
       "\n"
      ],
      "text/plain": [
       ", , 1\n",
       "\n",
       "     [,1] [,2] [,3] [,4]\n",
       "[1,]    1    3    5    7\n",
       "[2,]    2    4    6    8\n",
       "\n",
       ", , 2\n",
       "\n",
       "     [,1] [,2] [,3] [,4]\n",
       "[1,]    9   11   13   15\n",
       "[2,]   10   12   14   16\n",
       "\n",
       ", , 3\n",
       "\n",
       "     [,1] [,2] [,3] [,4]\n",
       "[1,]   17   19   21   23\n",
       "[2,]   18   20   22   24\n"
      ]
     },
     "metadata": {},
     "output_type": "display_data"
    }
   ],
   "source": [
    "ar <- array(1:24, dim = c(2, 4, 3) ); ar"
   ]
  },
  {
   "cell_type": "markdown",
   "id": "ca4fd5ae-f551-45c3-b737-281574c8ae47",
   "metadata": {},
   "source": [
    "#### CONFRONT VECTORS\n",
    "* `all.equal(a,b tolerance)`: compares objects $a$ and $b$ testing if they are 'near' equal, including an optional tolerance\n",
    "* `identical(a,b)`: compares objects $a$ and $b$ testing if they are exactly equal"
   ]
  },
  {
   "cell_type": "markdown",
   "id": "0fe374d3-9607-4036-b4a6-afc26bb3120c",
   "metadata": {},
   "source": [
    "---"
   ]
  },
  {
   "cell_type": "markdown",
   "id": "1ddb6389-4384-4707-9655-6918474891cf",
   "metadata": {},
   "source": [
    "## 04 - FLOW OF CONTROL\n",
    "Let's see conditional statements and cycles."
   ]
  },
  {
   "cell_type": "markdown",
   "id": "93844a95-5517-4317-9f93-715264bbcd4e",
   "metadata": {},
   "source": [
    "#### IF CONDITION\n",
    "La condizione deve essere un'espressione che restituisce TRUE o FALSE. Puoi usare operatori relazionali e logici come >, <, ==, !=, &, |, ecc. 'If' statements can be nested. La sintassi è la solita:\n",
    "\n",
    "```R\n",
    "if (condition1) {\n",
    "  # codice se condition1 è TRUE\n",
    "} else if (condition2) {\n",
    "  # codice se condition2 è TRUE\n",
    "} else {\n",
    "  # codice se nessuna delle condizioni è TRUE\n",
    "}\n",
    "```"
   ]
  },
  {
   "cell_type": "markdown",
   "id": "99c30999-7698-4851-a1cc-90377fc53299",
   "metadata": {},
   "source": [
    "#### SWITCH\n",
    "La funzione switch() in R è un'alternativa all'uso di if e else if quando si hanno molte condizioni da verificare. È utile per confrontare un'espressione con una serie di valori e restituire un risultato corrispondente a quel valore. La sintassi è:\n",
    "\n",
    "```R\n",
    "switch(expression, case1 = result1, case2 = result2, ...) \n",
    "```"
   ]
  },
  {
   "cell_type": "code",
   "execution_count": 2,
   "id": "80b3e168-83df-4bb3-99ff-10c6801b8276",
   "metadata": {},
   "outputs": [
    {
     "data": {
      "text/html": [
       "'y is bigger'"
      ],
      "text/latex": [
       "'y is bigger'"
      ],
      "text/markdown": [
       "'y is bigger'"
      ],
      "text/plain": [
       "[1] \"y is bigger\""
      ]
     },
     "metadata": {},
     "output_type": "display_data"
    }
   ],
   "source": [
    "x <- 35\n",
    "y <- 45\n",
    "msg <- switch( as.character( sign(x-y) ) , \"1\" = \"x is bigger\" , \"0\" = \"x and y are equal\" , \"-1\" = \"y is bigger\" )\n",
    "msg"
   ]
  },
  {
   "cell_type": "markdown",
   "id": "ba965817-15e4-4638-a977-7e84163240a4",
   "metadata": {},
   "source": [
    "#### FOR LOOPS\n"
   ]
  },
  {
   "cell_type": "markdown",
   "id": "913b6026-4073-4261-8b0e-250fca88d3f3",
   "metadata": {},
   "source": [
    "Sintassi:\n",
    "```R\n",
    "for (variabile in sequenza) {\n",
    "  # Blocco di codice da eseguire\n",
    "}\n",
    "\n",
    "```"
   ]
  },
  {
   "cell_type": "code",
   "execution_count": 2,
   "id": "a38f54b6-627a-4715-964d-87c15b01d605",
   "metadata": {},
   "outputs": [
    {
     "name": "stdout",
     "output_type": "stream",
     "text": [
      "1  | 2  | 7  | 9  | "
     ]
    }
   ],
   "source": [
    "x <- c(1, 2, 7, 9 )\n",
    "for (i in x) cat( i, \" | \")"
   ]
  },
  {
   "cell_type": "markdown",
   "id": "8ecc03c6-e76e-41c0-b801-52875a3983a7",
   "metadata": {},
   "source": [
    "#### WHILE LOOPS\n",
    "```R\n",
    "while (condizione) {\n",
    "  # codice da eseguire finché la condizione è TRUE\n",
    "}\n"
   ]
  },
  {
   "cell_type": "markdown",
   "id": "7ed8601e-03c6-4ce6-bd56-478c67a2d0b4",
   "metadata": {},
   "source": [
    "#### REPEAT-IF LOOPS\n",
    "It works like a classic **do-while** loop. In this way the body is executed at least once.\n",
    "```R\n",
    "repeat {\n",
    "  # codice da eseguire\n",
    "  if (condizione_di_stop) { break }\n",
    "}\n",
    "```\n"
   ]
  },
  {
   "cell_type": "markdown",
   "id": "ee11550b-7113-4b7f-8b22-72589288c51d",
   "metadata": {},
   "source": [
    "#### IF-ELSE\n",
    "È una funzione vettoriale che permette di eseguire operazioni condizionali su vettori. Funziona in modo simile alla struttura if-else, ma è progettata per essere utilizzata in modo efficiente su vettori o colonne di data frame, restituendo un risultato per ogni elemento. Sintassi:\n",
    "```R\n",
    "ifelse(test, a, b)    # substitute a when test is TRUE, otherwise b\n",
    "```"
   ]
  },
  {
   "cell_type": "code",
   "execution_count": 8,
   "id": "bba4b5c2-d70a-458e-b93e-53dc442e9156",
   "metadata": {},
   "outputs": [
    {
     "name": "stdout",
     "output_type": "stream",
     "text": [
      "[1]  0  0  0  5 10\n"
     ]
    }
   ],
   "source": [
    "x <- c(0.3, 0.7, 0.1, 5, 10)\n",
    "result <- ifelse(x < 1, 0, x)\n",
    "print(result)"
   ]
  },
  {
   "cell_type": "markdown",
   "id": "f643078c-b249-4f1d-aa81-86dbbef1c575",
   "metadata": {},
   "source": [
    "---"
   ]
  },
  {
   "cell_type": "markdown",
   "id": "875d57a8-fc11-4819-bb65-594f9d17da16",
   "metadata": {},
   "source": [
    "## 05 - FUNCTIONS\n",
    "Functions are the most important bulding block in R. Arguments can have default values. In R, non è obbligatorio usare la funzione `return()` per restituire il valore di una funzione. Se non utilizzi return(), l'ultima espressione valutata nella funzione viene automaticamente restituita. The syntax is:\n",
    "```r\n",
    "nome_funzione <- function(argomento1, argomento2, ...) {\n",
    "  # corpo della funzione\n",
    "  return(qualcosa)  # restituisce il risultato\n",
    "}\n",
    "```"
   ]
  },
  {
   "cell_type": "code",
   "execution_count": 3,
   "id": "17e8cee0-c9d8-457d-a925-522333515123",
   "metadata": {},
   "outputs": [
    {
     "data": {
      "text/html": [
       "11"
      ],
      "text/latex": [
       "11"
      ],
      "text/markdown": [
       "11"
      ],
      "text/plain": [
       "[1] 11"
      ]
     },
     "metadata": {},
     "output_type": "display_data"
    }
   ],
   "source": [
    "somma <- function( x=1 , y=2 ) { x+y }\n",
    "somma(5,6)"
   ]
  },
  {
   "cell_type": "markdown",
   "id": "1b9f25fe-3b45-402b-8c3f-29d899b20b3f",
   "metadata": {},
   "source": [
    "#### TIME FUNCTION\n",
    "Base time functions are included in the base Module of R. We have:\n",
    "* `Sys.time()` restituisce l'ora corrente in formato POSIXct, che è un oggetto di data e ora in R. Esso include la data, l'ora, i minuti e i secondi trascorsi da 1 gennaio 1970\n",
    "* `Sys.Date()`: Restituisce solo la data corrente, senza la parte dell'ora\n",
    "* `Sys.sleep(n)` mette in pausa il programma per 'n' secondi"
   ]
  },
  {
   "cell_type": "code",
   "execution_count": 5,
   "id": "d55e2ad8-aab7-4b59-a506-fb4fa7db9524",
   "metadata": {},
   "outputs": [
    {
     "name": "stdout",
     "output_type": "stream",
     "text": [
      "Time difference of 1.004026 secs\n"
     ]
    }
   ],
   "source": [
    "start_time <- Sys.time()\n",
    "Sys.sleep(1)\n",
    "end_time <- Sys.time()\n",
    "duration <- end_time - start_time\n",
    "print(duration)  # Differenza in secondi"
   ]
  },
  {
   "cell_type": "markdown",
   "id": "9ab93382-21d4-498f-9ede-ee7fae6c1cc3",
   "metadata": {},
   "source": [
    "For measuring time of computation we can use the library `microbenchmark`. È particolarmente utile quando si desidera confrontare le prestazioni di diverse funzioni o implementazioni di un algoritmo in modo rapido e preciso. Puoi fornire più di una funzione o espressione per confrontare i tempi di esecuzione. 'times' specifica quante volte ogni espressione deve essere eseguita. Sintassi:\n",
    "```R\n",
    "microbenchmark(codice1, codice2, ..., times = 100L) \n",
    "```"
   ]
  },
  {
   "cell_type": "markdown",
   "id": "941243ed-c19f-49fb-b8d9-ff0454b4fb5e",
   "metadata": {},
   "source": [
    "---"
   ]
  },
  {
   "cell_type": "markdown",
   "id": "88c7bede-811b-4acc-9f5a-99c2ce8ef3a4",
   "metadata": {},
   "source": [
    "## 06 - OBJECT CREATION, COPIES AND VIEWS\n",
    "**All R objects are immutable**. R never changes the content of an object directly in memory. Any modification results in a new object. \n",
    "\n",
    "The behaviour of R is called **copy-on-modify**: when you assign one object to another, R doesn't make a full copy right away. Instead, both names point to the same memory. If you modify one of them, R creates a new copy of the object in memory — so the original isn't changed. This means that if you're modifying large data frames, matrices, or vectors many times (e.g. in a loop), that can be a performance bottleneck!"
   ]
  },
  {
   "cell_type": "code",
   "execution_count": 2,
   "id": "dab6f095-95b8-4f43-9d12-d91e1d58de61",
   "metadata": {},
   "outputs": [
    {
     "name": "stdout",
     "output_type": "stream",
     "text": [
      " num [1:3] 1 2 3\n",
      " num [1:3] 1 2 4\n"
     ]
    }
   ],
   "source": [
    "x <- c( 1, 2, 3)\n",
    "y <- x\n",
    "y[3] <- 4\n",
    "str(x)   # x is not modified!\n",
    "str(y)"
   ]
  },
  {
   "cell_type": "markdown",
   "id": "8dd40f70-bab3-4d77-907a-dbf3c1679935",
   "metadata": {},
   "source": [
    "There are a few exceptions to this rule where R can optimize performance by avoiding unnecessary copies:\n",
    "* *Single Binding objects*: single binding means that there is only one reference to the object in memory (i.e., it's not shared).\n",
    "* *Environments*: they are a special type of object in R that store variables as key-value pairs. Unlike typical R objects, environments are always modified in-place. This means that changes to environments do not involve copying the object; they directly modify the environment itself.\n",
    "\n",
    "The difficulty arises because R only counts object bindings as having 0, 1, or many bindings. It does not track the exact number of references in a way that makes it easy to predict when R will apply the optimization. If an object has two bindings (i.e., it is referenced in two places), and one of the references is deleted, R does not reduce the number of bindings to one. The count still remains as many, which means R continues to treat the object as having multiple bindings, even if one reference is removed. See more [here](https://developer.r-project.org/Refcnt.html)."
   ]
  },
  {
   "cell_type": "code",
   "execution_count": 59,
   "id": "d6432efa-bfba-41c0-9a24-fa2ca793e724",
   "metadata": {},
   "outputs": [],
   "source": [
    "# EXAMPLE OF SINGLE BINDING:\n",
    "variab <- 1  # variab has a single binding\n",
    "variab <- 2  # R modifies variab directly (no copy is made)\n",
    "\n",
    "aaa <- 10\n",
    "bbb <- aaa   # x and y both reference the same object, so there are 2 bindings\n",
    "rm(bbb)      # y is removed, but aaa still has the object, so the number of bindings remains \"many\"\n",
    "\n",
    "\n",
    "# EXAMPLE OF ENVIRONMENT:\n",
    "env <- new.env()\n",
    "env$a <- 10  # Modifying the environment in place\n",
    "env$a <- 20  # The environment is modified directly, no copy is made"
   ]
  },
  {
   "cell_type": "markdown",
   "id": "15b37f6c-87d2-45f3-ba59-c6b31b2c9c11",
   "metadata": {},
   "source": [
    "---"
   ]
  },
  {
   "cell_type": "markdown",
   "id": "5702f98e-e7bd-4195-af5d-ad3410cfc33f",
   "metadata": {},
   "source": [
    "## 07 - LISTS\n",
    "List are important objects in R each element of the list can be of different type. But from the technical point of view: each element of a list is of the same type: it is a reference to another R object. We create list with the command `list(...)`.\n",
    "\n",
    "To change a list into a vector use `unlist(..)`."
   ]
  },
  {
   "cell_type": "code",
   "execution_count": 5,
   "id": "f5c185bb-cc19-474a-80c2-167762c90793",
   "metadata": {},
   "outputs": [
    {
     "data": {
      "text/html": [
       "<ol>\n",
       "\t<li><style>\n",
       ".list-inline {list-style: none; margin:0; padding: 0}\n",
       ".list-inline>li {display: inline-block}\n",
       ".list-inline>li:not(:last-child)::after {content: \"\\00b7\"; padding: 0 .5ex}\n",
       "</style>\n",
       "<ol class=list-inline><li>1</li><li>2</li><li>3</li></ol>\n",
       "</li>\n",
       "\t<li>'word'</li>\n",
       "\t<li><style>\n",
       ".list-inline {list-style: none; margin:0; padding: 0}\n",
       ".list-inline>li {display: inline-block}\n",
       ".list-inline>li:not(:last-child)::after {content: \"\\00b7\"; padding: 0 .5ex}\n",
       "</style>\n",
       "<ol class=list-inline><li>TRUE</li><li>FALSE</li><li>FALSE</li><li>TRUE</li><li>TRUE</li><li>TRUE</li></ol>\n",
       "</li>\n",
       "</ol>\n"
      ],
      "text/latex": [
       "\\begin{enumerate}\n",
       "\\item \\begin{enumerate*}\n",
       "\\item 1\n",
       "\\item 2\n",
       "\\item 3\n",
       "\\end{enumerate*}\n",
       "\n",
       "\\item 'word'\n",
       "\\item \\begin{enumerate*}\n",
       "\\item TRUE\n",
       "\\item FALSE\n",
       "\\item FALSE\n",
       "\\item TRUE\n",
       "\\item TRUE\n",
       "\\item TRUE\n",
       "\\end{enumerate*}\n",
       "\n",
       "\\end{enumerate}\n"
      ],
      "text/markdown": [
       "1. 1. 1\n",
       "2. 2\n",
       "3. 3\n",
       "\n",
       "\n",
       "\n",
       "2. 'word'\n",
       "3. 1. TRUE\n",
       "2. FALSE\n",
       "3. FALSE\n",
       "4. TRUE\n",
       "5. TRUE\n",
       "6. TRUE\n",
       "\n",
       "\n",
       "\n",
       "\n",
       "\n"
      ],
      "text/plain": [
       "[[1]]\n",
       "[1] 1 2 3\n",
       "\n",
       "[[2]]\n",
       "[1] \"word\"\n",
       "\n",
       "[[3]]\n",
       "[1]  TRUE FALSE FALSE  TRUE  TRUE  TRUE\n"
      ]
     },
     "metadata": {},
     "output_type": "display_data"
    }
   ],
   "source": [
    "prova <- list( 1:3, \"word\", rep( c(T,F,T), 1:3) ) ; prova"
   ]
  },
  {
   "cell_type": "markdown",
   "id": "a74816e4-2270-4429-ac91-13ec4afbbb56",
   "metadata": {},
   "source": [
    "Indexing on lists uses **double square brackets** `[[..]]`. Instead single square brackets `[..]` always return a list."
   ]
  },
  {
   "cell_type": "code",
   "execution_count": 20,
   "id": "1f672b0e-5eb9-404f-99e5-1b7ec37509fe",
   "metadata": {},
   "outputs": [
    {
     "data": {
      "text/html": [
       "'word'"
      ],
      "text/latex": [
       "'word'"
      ],
      "text/markdown": [
       "'word'"
      ],
      "text/plain": [
       "[1] \"word\""
      ]
     },
     "metadata": {},
     "output_type": "display_data"
    },
    {
     "data": {
      "text/html": [
       "2"
      ],
      "text/latex": [
       "2"
      ],
      "text/markdown": [
       "2"
      ],
      "text/plain": [
       "[1] 2"
      ]
     },
     "metadata": {},
     "output_type": "display_data"
    },
    {
     "data": {
      "text/html": [
       "<ol>\n",
       "\t<li>'word'</li>\n",
       "</ol>\n"
      ],
      "text/latex": [
       "\\begin{enumerate}\n",
       "\\item 'word'\n",
       "\\end{enumerate}\n"
      ],
      "text/markdown": [
       "1. 'word'\n",
       "\n",
       "\n"
      ],
      "text/plain": [
       "[[1]]\n",
       "[1] \"word\"\n"
      ]
     },
     "metadata": {},
     "output_type": "display_data"
    }
   ],
   "source": [
    "prova[[2]]     # return 2nd element\n",
    "prova[[1]][2]  # return 2nd element of 1st element (that is a sequence)\n",
    "prova[2]       # return a list of 2nd element"
   ]
  },
  {
   "cell_type": "markdown",
   "id": "548d4fc7-b958-4a5d-8720-1c67f7a6e48a",
   "metadata": {},
   "source": [
    "We can give a name to lists' elements and used them to access:"
   ]
  },
  {
   "cell_type": "code",
   "execution_count": 19,
   "id": "565ac8f1-faef-4628-b46d-a762078697f1",
   "metadata": {},
   "outputs": [
    {
     "data": {
      "text/html": [
       "<strong>$a</strong> = 42"
      ],
      "text/latex": [
       "\\textbf{\\$a} = 42"
      ],
      "text/markdown": [
       "**$a** = 42"
      ],
      "text/plain": [
       "$a\n",
       "[1] 42\n"
      ]
     },
     "metadata": {},
     "output_type": "display_data"
    },
    {
     "data": {
      "text/html": [
       "42"
      ],
      "text/latex": [
       "42"
      ],
      "text/markdown": [
       "42"
      ],
      "text/plain": [
       "[1] 42"
      ]
     },
     "metadata": {},
     "output_type": "display_data"
    },
    {
     "data": {
      "text/html": [
       "<style>\n",
       ".list-inline {list-style: none; margin:0; padding: 0}\n",
       ".list-inline>li {display: inline-block}\n",
       ".list-inline>li:not(:last-child)::after {content: \"\\00b7\"; padding: 0 .5ex}\n",
       "</style>\n",
       "<ol class=list-inline><li>'x'</li><li>'y'</li></ol>\n"
      ],
      "text/latex": [
       "\\begin{enumerate*}\n",
       "\\item 'x'\n",
       "\\item 'y'\n",
       "\\end{enumerate*}\n"
      ],
      "text/markdown": [
       "1. 'x'\n",
       "2. 'y'\n",
       "\n",
       "\n"
      ],
      "text/plain": [
       "[1] \"x\" \"y\""
      ]
     },
     "metadata": {},
     "output_type": "display_data"
    },
    {
     "data": {
      "text/html": [
       "<style>\n",
       ".list-inline {list-style: none; margin:0; padding: 0}\n",
       ".list-inline>li {display: inline-block}\n",
       ".list-inline>li:not(:last-child)::after {content: \"\\00b7\"; padding: 0 .5ex}\n",
       "</style>\n",
       "<ol class=list-inline><li>'x'</li><li>'y'</li></ol>\n"
      ],
      "text/latex": [
       "\\begin{enumerate*}\n",
       "\\item 'x'\n",
       "\\item 'y'\n",
       "\\end{enumerate*}\n"
      ],
      "text/markdown": [
       "1. 'x'\n",
       "2. 'y'\n",
       "\n",
       "\n"
      ],
      "text/plain": [
       "[1] \"x\" \"y\""
      ]
     },
     "metadata": {},
     "output_type": "display_data"
    }
   ],
   "source": [
    "l <- list(a = 42, b = c(\"x\", \"y\"))\n",
    "l[1]        # list(a = 42)\n",
    "l[[1]]      # 42\n",
    "l[[\"b\"]]    # \"x\" \"y\"\n",
    "l$b         # \"x\" \"y\""
   ]
  },
  {
   "cell_type": "markdown",
   "id": "b20245e5-f4c8-4da7-b7cf-1d54704ec723",
   "metadata": {},
   "source": [
    "---"
   ]
  },
  {
   "cell_type": "markdown",
   "id": "5785ad23-5b63-4d8e-a7dd-9f9d1497cced",
   "metadata": {},
   "source": [
    "## 08 - DATA.FRAMES\n",
    "In R, a data frame is the main way to store tabular data — like a spreadsheet or a SQL table. It looks like a matrix: it has 2 dimensions (rows and columns) and you can access elements using [row, column]. But under the hood, it's actually built differently from a matrix. Internally **a Data Frame is a list of vectors**, where each vector is a column and all vectors (columns) must be the same length. R adds metadata (like names) and sets its class to \"data.frame\" to make it behave like a table. We create it with the command `data.frame(..)`.\n",
    "\n",
    "EFFECT OF COPY-ON-MODIFY:  \n",
    "If we modify a column, only the reference to the new column will be updated. But if any row is modified, every column is modified because every column must be copied."
   ]
  },
  {
   "cell_type": "code",
   "execution_count": 68,
   "id": "3285062b-3cf4-4080-b412-4634b162c785",
   "metadata": {},
   "outputs": [
    {
     "data": {
      "text/html": [
       "'list'"
      ],
      "text/latex": [
       "'list'"
      ],
      "text/markdown": [
       "'list'"
      ],
      "text/plain": [
       "[1] \"list\""
      ]
     },
     "metadata": {},
     "output_type": "display_data"
    },
    {
     "data": {
      "text/html": [
       "<dl>\n",
       "\t<dt>$names</dt>\n",
       "\t\t<dd><style>\n",
       ".list-inline {list-style: none; margin:0; padding: 0}\n",
       ".list-inline>li {display: inline-block}\n",
       ".list-inline>li:not(:last-child)::after {content: \"\\00b7\"; padding: 0 .5ex}\n",
       "</style>\n",
       "<ol class=list-inline><li>'nomi'</li><li>'age'</li></ol>\n",
       "</dd>\n",
       "\t<dt>$class</dt>\n",
       "\t\t<dd>'data.frame'</dd>\n",
       "\t<dt>$row.names</dt>\n",
       "\t\t<dd><style>\n",
       ".list-inline {list-style: none; margin:0; padding: 0}\n",
       ".list-inline>li {display: inline-block}\n",
       ".list-inline>li:not(:last-child)::after {content: \"\\00b7\"; padding: 0 .5ex}\n",
       "</style>\n",
       "<ol class=list-inline><li>1</li><li>2</li><li>3</li><li>4</li><li>5</li><li>6</li><li>7</li></ol>\n",
       "</dd>\n",
       "</dl>\n"
      ],
      "text/latex": [
       "\\begin{description}\n",
       "\\item[\\$names] \\begin{enumerate*}\n",
       "\\item 'nomi'\n",
       "\\item 'age'\n",
       "\\end{enumerate*}\n",
       "\n",
       "\\item[\\$class] 'data.frame'\n",
       "\\item[\\$row.names] \\begin{enumerate*}\n",
       "\\item 1\n",
       "\\item 2\n",
       "\\item 3\n",
       "\\item 4\n",
       "\\item 5\n",
       "\\item 6\n",
       "\\item 7\n",
       "\\end{enumerate*}\n",
       "\n",
       "\\end{description}\n"
      ],
      "text/markdown": [
       "$names\n",
       ":   1. 'nomi'\n",
       "2. 'age'\n",
       "\n",
       "\n",
       "\n",
       "$class\n",
       ":   'data.frame'\n",
       "$row.names\n",
       ":   1. 1\n",
       "2. 2\n",
       "3. 3\n",
       "4. 4\n",
       "5. 5\n",
       "6. 6\n",
       "7. 7\n",
       "\n",
       "\n",
       "\n",
       "\n",
       "\n"
      ],
      "text/plain": [
       "$names\n",
       "[1] \"nomi\" \"age\" \n",
       "\n",
       "$class\n",
       "[1] \"data.frame\"\n",
       "\n",
       "$row.names\n",
       "[1] 1 2 3 4 5 6 7\n"
      ]
     },
     "metadata": {},
     "output_type": "display_data"
    },
    {
     "name": "stdout",
     "output_type": "stream",
     "text": [
      "'data.frame':\t7 obs. of  2 variables:\n",
      " $ nomi: chr  \"Aldo\" \"Bob\" \"Carlo\" \"Dario\" ...\n",
      " $ age : num  11 12 13 14 15 16 17\n"
     ]
    }
   ],
   "source": [
    "df <- data.frame(  \n",
    "    nomi = c(\"Aldo\", \"Bob\", \"Carlo\", \"Dario\", \"Eia\", \"Francesco\", \"Giulio\"),    \n",
    "    age = c(11, 12, 13, 14, 15, 16, 17)    \n",
    ")\n",
    "typeof(df)   # techincally it's a list!\n",
    "attributes(df)\n",
    "str(df)"
   ]
  },
  {
   "cell_type": "code",
   "execution_count": 72,
   "id": "7ced9c1a-d988-4cbc-96e4-94073447f4d7",
   "metadata": {},
   "outputs": [
    {
     "data": {
      "text/html": [
       "<style>\n",
       ".list-inline {list-style: none; margin:0; padding: 0}\n",
       ".list-inline>li {display: inline-block}\n",
       ".list-inline>li:not(:last-child)::after {content: \"\\00b7\"; padding: 0 .5ex}\n",
       "</style>\n",
       "<ol class=list-inline><li>'Aldo'</li><li>'Bob'</li><li>'Carlo'</li><li>'Dario'</li><li>'Eia'</li><li>'Francesco'</li><li>'Giulio'</li></ol>\n"
      ],
      "text/latex": [
       "\\begin{enumerate*}\n",
       "\\item 'Aldo'\n",
       "\\item 'Bob'\n",
       "\\item 'Carlo'\n",
       "\\item 'Dario'\n",
       "\\item 'Eia'\n",
       "\\item 'Francesco'\n",
       "\\item 'Giulio'\n",
       "\\end{enumerate*}\n"
      ],
      "text/markdown": [
       "1. 'Aldo'\n",
       "2. 'Bob'\n",
       "3. 'Carlo'\n",
       "4. 'Dario'\n",
       "5. 'Eia'\n",
       "6. 'Francesco'\n",
       "7. 'Giulio'\n",
       "\n",
       "\n"
      ],
      "text/plain": [
       "[1] \"Aldo\"      \"Bob\"       \"Carlo\"     \"Dario\"     \"Eia\"       \"Francesco\"\n",
       "[7] \"Giulio\"   "
      ]
     },
     "metadata": {},
     "output_type": "display_data"
    },
    {
     "data": {
      "text/html": [
       "<style>\n",
       ".list-inline {list-style: none; margin:0; padding: 0}\n",
       ".list-inline>li {display: inline-block}\n",
       ".list-inline>li:not(:last-child)::after {content: \"\\00b7\"; padding: 0 .5ex}\n",
       "</style>\n",
       "<ol class=list-inline><li>'Aldo'</li><li>'Bob'</li><li>'Carlo'</li><li>'Dario'</li><li>'Eia'</li><li>'Francesco'</li><li>'Giulio'</li></ol>\n"
      ],
      "text/latex": [
       "\\begin{enumerate*}\n",
       "\\item 'Aldo'\n",
       "\\item 'Bob'\n",
       "\\item 'Carlo'\n",
       "\\item 'Dario'\n",
       "\\item 'Eia'\n",
       "\\item 'Francesco'\n",
       "\\item 'Giulio'\n",
       "\\end{enumerate*}\n"
      ],
      "text/markdown": [
       "1. 'Aldo'\n",
       "2. 'Bob'\n",
       "3. 'Carlo'\n",
       "4. 'Dario'\n",
       "5. 'Eia'\n",
       "6. 'Francesco'\n",
       "7. 'Giulio'\n",
       "\n",
       "\n"
      ],
      "text/plain": [
       "[1] \"Aldo\"      \"Bob\"       \"Carlo\"     \"Dario\"     \"Eia\"       \"Francesco\"\n",
       "[7] \"Giulio\"   "
      ]
     },
     "metadata": {},
     "output_type": "display_data"
    },
    {
     "data": {
      "text/html": [
       "<table class=\"dataframe\">\n",
       "<caption>A data.frame: 1 × 2</caption>\n",
       "<thead>\n",
       "\t<tr><th></th><th scope=col>nomi</th><th scope=col>age</th></tr>\n",
       "\t<tr><th></th><th scope=col>&lt;chr&gt;</th><th scope=col>&lt;dbl&gt;</th></tr>\n",
       "</thead>\n",
       "<tbody>\n",
       "\t<tr><th scope=row>1</th><td>Aldo</td><td>11</td></tr>\n",
       "</tbody>\n",
       "</table>\n"
      ],
      "text/latex": [
       "A data.frame: 1 × 2\n",
       "\\begin{tabular}{r|ll}\n",
       "  & nomi & age\\\\\n",
       "  & <chr> & <dbl>\\\\\n",
       "\\hline\n",
       "\t1 & Aldo & 11\\\\\n",
       "\\end{tabular}\n"
      ],
      "text/markdown": [
       "\n",
       "A data.frame: 1 × 2\n",
       "\n",
       "| <!--/--> | nomi &lt;chr&gt; | age &lt;dbl&gt; |\n",
       "|---|---|---|\n",
       "| 1 | Aldo | 11 |\n",
       "\n"
      ],
      "text/plain": [
       "  nomi age\n",
       "1 Aldo 11 "
      ]
     },
     "metadata": {},
     "output_type": "display_data"
    },
    {
     "data": {
      "text/html": [
       "<table class=\"dataframe\">\n",
       "<caption>A data.frame: 4 × 2</caption>\n",
       "<thead>\n",
       "\t<tr><th></th><th scope=col>nomi</th><th scope=col>age</th></tr>\n",
       "\t<tr><th></th><th scope=col>&lt;chr&gt;</th><th scope=col>&lt;dbl&gt;</th></tr>\n",
       "</thead>\n",
       "<tbody>\n",
       "\t<tr><th scope=row>1</th><td>Aldo     </td><td>11</td></tr>\n",
       "\t<tr><th scope=row>2</th><td>Bob      </td><td>12</td></tr>\n",
       "\t<tr><th scope=row>6</th><td>Francesco</td><td>16</td></tr>\n",
       "\t<tr><th scope=row>7</th><td>Giulio   </td><td>17</td></tr>\n",
       "</tbody>\n",
       "</table>\n"
      ],
      "text/latex": [
       "A data.frame: 4 × 2\n",
       "\\begin{tabular}{r|ll}\n",
       "  & nomi & age\\\\\n",
       "  & <chr> & <dbl>\\\\\n",
       "\\hline\n",
       "\t1 & Aldo      & 11\\\\\n",
       "\t2 & Bob       & 12\\\\\n",
       "\t6 & Francesco & 16\\\\\n",
       "\t7 & Giulio    & 17\\\\\n",
       "\\end{tabular}\n"
      ],
      "text/markdown": [
       "\n",
       "A data.frame: 4 × 2\n",
       "\n",
       "| <!--/--> | nomi &lt;chr&gt; | age &lt;dbl&gt; |\n",
       "|---|---|---|\n",
       "| 1 | Aldo      | 11 |\n",
       "| 2 | Bob       | 12 |\n",
       "| 6 | Francesco | 16 |\n",
       "| 7 | Giulio    | 17 |\n",
       "\n"
      ],
      "text/plain": [
       "  nomi      age\n",
       "1 Aldo      11 \n",
       "2 Bob       12 \n",
       "6 Francesco 16 \n",
       "7 Giulio    17 "
      ]
     },
     "metadata": {},
     "output_type": "display_data"
    },
    {
     "data": {
      "text/html": [
       "<table class=\"dataframe\">\n",
       "<caption>A data.frame: 2 × 2</caption>\n",
       "<thead>\n",
       "\t<tr><th></th><th scope=col>nomi</th><th scope=col>age</th></tr>\n",
       "\t<tr><th></th><th scope=col>&lt;chr&gt;</th><th scope=col>&lt;dbl&gt;</th></tr>\n",
       "</thead>\n",
       "<tbody>\n",
       "\t<tr><th scope=row>1</th><td>Aldo </td><td>11</td></tr>\n",
       "\t<tr><th scope=row>3</th><td>Carlo</td><td>13</td></tr>\n",
       "</tbody>\n",
       "</table>\n"
      ],
      "text/latex": [
       "A data.frame: 2 × 2\n",
       "\\begin{tabular}{r|ll}\n",
       "  & nomi & age\\\\\n",
       "  & <chr> & <dbl>\\\\\n",
       "\\hline\n",
       "\t1 & Aldo  & 11\\\\\n",
       "\t3 & Carlo & 13\\\\\n",
       "\\end{tabular}\n"
      ],
      "text/markdown": [
       "\n",
       "A data.frame: 2 × 2\n",
       "\n",
       "| <!--/--> | nomi &lt;chr&gt; | age &lt;dbl&gt; |\n",
       "|---|---|---|\n",
       "| 1 | Aldo  | 11 |\n",
       "| 3 | Carlo | 13 |\n",
       "\n"
      ],
      "text/plain": [
       "  nomi  age\n",
       "1 Aldo  11 \n",
       "3 Carlo 13 "
      ]
     },
     "metadata": {},
     "output_type": "display_data"
    }
   ],
   "source": [
    "# INDEXING:\n",
    "df[[1]]         # access by component index\n",
    "df[['nomi']]    # access by component name\n",
    "df[1,]          # select first row, all columns\n",
    "df[ -(3:5), ]   # drop rows 2:10\n",
    "df[sample(1:5,2),]  # select 2 rows at random in the first 5"
   ]
  },
  {
   "cell_type": "code",
   "execution_count": 31,
   "id": "10931a8e-a7e9-48ad-8c79-2614b033502b",
   "metadata": {},
   "outputs": [
    {
     "name": "stdout",
     "output_type": "stream",
     "text": [
      "     Nome Età   Città\n",
      "1   Alice  25    Roma\n",
      "2     Bob  30  Milano\n",
      "3 Charlie  28 Firenze\n"
     ]
    }
   ],
   "source": [
    "nomi  <- c(\"Alice\", \"Bob\", \"Charlie\")\n",
    "età   <- c(25, 30, 28)\n",
    "città <- c(\"Roma\", \"Milano\", \"Firenze\")\n",
    "\n",
    "df <- data.frame( Nome = nomi,    Età = età,   Città = città    )\n",
    "print(df)"
   ]
  },
  {
   "cell_type": "code",
   "execution_count": 56,
   "id": "942e6754-8d39-47b7-b22a-7f712842ec42",
   "metadata": {},
   "outputs": [
    {
     "data": {
      "image/png": "[encoded data removed]",
      "text/plain": [
       "plot without title"
      ]
     },
     "metadata": {
      "image/png": {
       "height": 420,
       "width": 420
      }
     },
     "output_type": "display_data"
    }
   ],
   "source": [
    "library(png)\n",
    "library(grid)\n",
    "img <- readPNG(\"./images/data.frame.png\")     # effect of modifying a column\n",
    "grid.raster(img)"
   ]
  },
  {
   "cell_type": "markdown",
   "id": "938c0c26-f9b7-4681-91ce-1efa83abac46",
   "metadata": {},
   "source": [
    "---"
   ]
  },
  {
   "cell_type": "markdown",
   "id": "a9b141cc-ba1f-4a88-b502-3a9e5679535f",
   "metadata": {},
   "source": [
    "## 09 - RANDOM\n",
    "With the `sample` function , data can be selected at random. The syntax is:\n",
    "`sample(x, size, replace = FALSE, prob = NULL)`.\n",
    "\n",
    "Parameters are:\n",
    "* x: The vector or object from which you want to sample.\n",
    "* size: The number of items to sample.\n",
    "* replace: indicates whether sampling is done with replacement (TRUE) or without replacement (FALSE). Default is FALSE.\n",
    "* prob: A vector of probabilities that specifies the probability of selecting each element in x."
   ]
  },
  {
   "cell_type": "markdown",
   "id": "dc4357f2-6348-4fcf-96df-ce9d4b524b2e",
   "metadata": {},
   "source": [
    "# arrivato a pagina 7 di 16, parte 4"
   ]
  }
 ],
 "metadata": {
  "kernelspec": {
   "display_name": "R",
   "language": "R",
   "name": "ir"
  },
  "language_info": {
   "codemirror_mode": "r",
   "file_extension": ".r",
   "mimetype": "text/x-r-source",
   "name": "R",
   "pygments_lexer": "r",
   "version": "4.3.1"
  }
 },
 "nbformat": 4,
 "nbformat_minor": 5
}
