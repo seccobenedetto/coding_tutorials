{
 "cells": [
  {
   "cell_type": "markdown",
   "id": "2a543f81-ce8d-453f-bca7-6589d7a7ede9",
   "metadata": {},
   "source": [
    "<center><h1><b>R LANGUAGE</b></h1></center>\n"
   ]
  },
  {
   "cell_type": "markdown",
   "id": "6d6b711d-aa52-4d39-9486-d4a256f6ee5e",
   "metadata": {},
   "source": [
    "## 00 - INTRODUCTION TO R\n",
    "\n",
    "#### WHAT IS R\n",
    "R is a powerful programming language and environment primarily used for statistical computing, data analysis, and visualization. It was developed in the early 1990s. Today, R is widely used in academia, research, and industry, particularly in fields like data science, finance, and bioinformatics.\n",
    "\n",
    "One of R's key strengths is its extensive ecosystem of packages that provide tools for machine learning, time series analysis, and graphical representation of data. R also excels in data visualization, thanks to libraries like ggplot2, which enable users to create complex and aesthetically pleasing charts.\n",
    "\n",
    "Despite being primarily designed for statistical tasks, R is a fully free and functional programming language that supports object-oriented and functional programming paradigms. It integrates well with other languages such as Python and C++, making it a versatile choice for data-driven projects.\n",
    "\n",
    "For more info see [here](https://www.r-project.org/).\n",
    "\n",
    "#### HOW CAN I USE IT\n",
    "R can be used in multiple environments:\n",
    "* RStudio: The most popular integrated development environment (IDE) for R, providing a user-friendly interface, debugging tools, and built-in support for visualization and package management.\n",
    "* Bash (Command Line): R can be run directly from the terminal or command prompt using the R or Rscript commands, allowing for automation and scripting. (after installation, it's sufficient to type 'R' in the shell)\n",
    "* Jupyter Notebook: By installing the IRKernel, R can be used in Jupyter Notebooks, enabling integration with Python and other languages.\n",
    "\n",
    "#### MAIN DIFFERENCES WITH PYTHON\n",
    "* R uses curly braces `{}` to define code blocks, and indentation is optional\n",
    "* R only supports `#` for single-line comments; no built-in multi-line comment syntax (like apexes in python)\n",
    "* R uses `<-` for variable assignment (though = also works in some cases)\n",
    "* R uses install.packages() for package installation (instead of conda install)\n",
    "* two or more expressions can be placed on the same line, if are separated by `;`\n",
    "\n",
    "Both languages are powerful, but Python is more versatile, while R is specialized for statistical computing and data visualization."
   ]
  },
  {
   "cell_type": "markdown",
   "id": "a059c913-fb96-4512-91fa-11d2993d5530",
   "metadata": {},
   "source": [
    "---"
   ]
  },
  {
   "cell_type": "markdown",
   "id": "2d864e18-cbaa-48d4-8e54-44bc0b28153f",
   "metadata": {},
   "source": [
    "## 01 - FUNDAMENTALS"
   ]
  },
  {
   "cell_type": "markdown",
   "id": "70c67280-1e62-4f1a-b9b7-fb8bffd93159",
   "metadata": {},
   "source": [
    "#### GETTING HELP\n",
    "You can ask for help to R with: \n",
    "* a symbol `?` before a command\n",
    "* `help.search(\"keyword\")`: cerca documentazione relativa a un termine specifico all'interno di pacchetti installati. È utile se non conosci il nome esatto della funzione.\n",
    "* `find(\"function_name\")`: cerca in quali pacchetti caricati è definita una funzione specifica.\n",
    "* `apropos(\"keyword\")`: cerca oggetti nel workspace e nei pacchetti caricati.\n",
    "* `library(help=package_name)`: gives us details on a package"
   ]
  },
  {
   "cell_type": "markdown",
   "id": "a0220e59-bdf7-4898-9aa9-33180816bb24",
   "metadata": {},
   "source": [
    "#### PACKAGES\n",
    "To install a package use `install.packages(package_name)`.\\\n",
    "To update all packages use `update.packages(ask=False)`.\\\n",
    "With `installed.packages()` we can see a list with all installed packages.\\\n",
    "To load an already installed package we use `library(package_name)`."
   ]
  },
  {
   "cell_type": "markdown",
   "id": "18528269-8ba2-4c8b-9331-cd98f92365be",
   "metadata": {},
   "source": [
    "#### OBJECTS\n",
    "To list all the objects created with the current session, use the `ls()` or `objects()` functions.\\\n",
    "To list all the packages and data frames currently attached to the running R session, use `search()`.\\\n",
    "To show the structure of an object (functions...), in a compact way, the `str()` function can be used."
   ]
  },
  {
   "cell_type": "markdown",
   "id": "34bbfeaf-116b-4a41-9f25-b1184b3db828",
   "metadata": {},
   "source": [
    "---"
   ]
  },
  {
   "cell_type": "markdown",
   "id": "c4429852-a271-4544-adcf-db1cbaba54ec",
   "metadata": {},
   "source": [
    "## 02 - NUMBERS"
   ]
  },
  {
   "cell_type": "markdown",
   "id": "40eb768f-5f4d-41e4-a9d5-9173090f5957",
   "metadata": {},
   "source": [
    "#### MATHEMATICAL FUNCTIONS\n",
    "* `log(x)`: natural log of x\n",
    "* `exp(x)`: exponential of x\n",
    "* `log(x, n)`: log in base n of x\n",
    "* `log10(x)`: log in base 10 of x\n",
    "* `sqrt(x)`: square root of x\n",
    "* `factorial(x)`: $x! = x(x − 1)(x − 2) . . . 3 · 2 · 1$\n",
    "* `choose(n, x)`: binomial coefficient, $n!/(x! · (n − x)!)$\n",
    "* `gamma(x)`: $\\Gamma(x)$ for real x, (x − 1)! for integer x\n",
    "* `lgamma(x)`: natural log of $\\Gamma(x)$\n",
    "* `abs(x)`: absolute value for x\n",
    "* `floor(x)`: greater integer less than x\n",
    "* `ceiling(x)`: smallest integer greater than x\n",
    "* `trunc(x)`: closest integer to x between 0 and x; it behaves as floor() for x > 0 and like ceiling() for x < 0"
   ]
  },
  {
   "cell_type": "markdown",
   "id": "3fdf5b08-0749-471a-bd11-94eb4aa5c933",
   "metadata": {},
   "source": [
    "#### COMPLEX NUMBERS\n",
    "Here a list of built-in functions:\n",
    "* `Re(z)`: extract the real part\n",
    "* `Im(z)`: extract the imaginary part\n",
    "* `Mod(z)`: calculate the modulus\n",
    "* `Arg(z)`: calculate the argument Arg(x+yi) = atan(y/x)\n",
    "* `Conj(z)`: work out the complex conjugate\n",
    "* `is.complex(z)`: test for complex number membership\n",
    "* `as.complex(z)`: force the input as a complex number"
   ]
  },
  {
   "cell_type": "code",
   "execution_count": 6,
   "id": "600c8f49-0d08-4158-b2a6-efd9c2a62d90",
   "metadata": {},
   "outputs": [
    {
     "data": {
      "text/html": [
       "2"
      ],
      "text/latex": [
       "2"
      ],
      "text/markdown": [
       "2"
      ],
      "text/plain": [
       "[1] 2"
      ]
     },
     "metadata": {},
     "output_type": "display_data"
    },
    {
     "data": {
      "text/html": [
       "4.03112887414927"
      ],
      "text/latex": [
       "4.03112887414927"
      ],
      "text/markdown": [
       "4.03112887414927"
      ],
      "text/plain": [
       "[1] 4.031129"
      ]
     },
     "metadata": {},
     "output_type": "display_data"
    },
    {
     "data": {
      "text/html": [
       "TRUE"
      ],
      "text/latex": [
       "TRUE"
      ],
      "text/markdown": [
       "TRUE"
      ],
      "text/plain": [
       "[1] TRUE"
      ]
     },
     "metadata": {},
     "output_type": "display_data"
    },
    {
     "data": {
      "text/html": [
       "3.5+0i"
      ],
      "text/latex": [
       "3.5+0i"
      ],
      "text/markdown": [
       "3.5+0i"
      ],
      "text/plain": [
       "[1] 3.5+0i"
      ]
     },
     "metadata": {},
     "output_type": "display_data"
    }
   ],
   "source": [
    "Im(3.5 + 2i)\n",
    "Mod(3.5 + 2i)\n",
    "is.complex( 3.5 + 2i)\n",
    "as.complex( 3.5 )"
   ]
  }
 ],
 "metadata": {
  "kernelspec": {
   "display_name": "R",
   "language": "R",
   "name": "ir"
  },
  "language_info": {
   "codemirror_mode": "r",
   "file_extension": ".r",
   "mimetype": "text/x-r-source",
   "name": "R",
   "pygments_lexer": "r",
   "version": "4.3.1"
  }
 },
 "nbformat": 4,
 "nbformat_minor": 5
}
