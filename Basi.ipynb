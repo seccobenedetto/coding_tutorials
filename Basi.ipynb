{
 "cells": [
  {
   "cell_type": "markdown",
   "id": "ff7516df-c9bf-497d-be31-4192106c03e2",
   "metadata": {},
   "source": [
    "# TUTORIAL DEL LINGUAGGIO PYTHON\n",
    "In questo tutorial, esploreremo le basi del linguaggio Python. Regole generali:\n",
    "- Con il cancelletto `#` scriviamo i commenti. Va messo davanti ad ogni riga di commento.\n",
    "- Diversamente da C++, non ci sono punti e virgola a fine riga.\n",
    "- L'indentazione (tab) fa parte del codice, e Python se la aspetta dopo un `if`, `for`, ecc.\n",
    "- Per stampare su terminale si usa `print()`, che può prendere molteplici input, come `print(\"ciao\", a, b)`, che li spazia automaticamente. \n",
    "  - Se usiamo il `+` invece della virgola, i valori non verranno spaziati automaticamente.\n",
    " \n",
    "Esistono due categorie di oggetti: *mutabili* e *immutabili* (autoesplicativo). Se passi alla funzione oggetti IMMUTABILI (come int, float, bool, complex, str, tuple...) qualsiasi modifica su di essi verra fatta invece su una loro copia, ma se passi oggetti MUTABILI (come list, dict, set...) verranno modificati gli orginali all'esterno della funzione poiche cio che passi e una reference! Per osservare questa differenza puoi usare le funzioni `id(x)` che ritorna l'indirizzo di memoria dell'oggetto x e `x is y`che ritorna True solo se i due oggetti comparati x e y hanno lo stesso indirizzo di memoria. Per approfondire clicca [qui](https://realpython.com/pointers-in-python/).\n",
    "\n",
    "This tutorial is written usingg Jupyter Notebook. To know how it works and how to interact with it, check [this](https://nbviewer.org/urls/bitbucket.org/ipre/calico/raw/master/notebooks/Documentation/Reference%20Guide/Reference%20Guide.ipynb)."
   ]
  },
  {
   "cell_type": "markdown",
   "id": "8f02aae4-d3ed-4235-9ed2-41fa7abbda4a",
   "metadata": {},
   "source": [
    "## 1. INPUT E OUTPUT"
   ]
  },
  {
   "cell_type": "code",
   "execution_count": 8,
   "id": "2b3a4f06",
   "metadata": {},
   "outputs": [
    {
     "name": "stdout",
     "output_type": "stream",
     "text": [
      "CIAO\n"
     ]
    },
    {
     "name": "stdin",
     "output_type": "stream",
     "text": [
      "Inserisci qualcosa:  1\n"
     ]
    },
    {
     "name": "stdout",
     "output_type": "stream",
     "text": [
      "1\n",
      "\n",
      "\n",
      "ciao\n"
     ]
    }
   ],
   "source": [
    "print(\"CIAO\")  # stampare OUTPUT su terminale\n",
    "messaggio = input(\"Inserisci qualcosa: \")  # variabile di INPUT\n",
    "print(messaggio)\n",
    "\n",
    "# per andare a capo di usa '\\n':\n",
    "print('\\n')\n",
    "print('ciao')"
   ]
  },
  {
   "cell_type": "markdown",
   "id": "e94cfe89",
   "metadata": {},
   "source": [
    "## 2. VARIABILI\n",
    "Le variabili vanno sempre subito inizializzate, non possono essere solo definite. Se non specificato, Python capisce automaticamente il tipo di dato assegnato (int, float, stringa, bool...).\n"
   ]
  },
  {
   "cell_type": "code",
   "execution_count": 2,
   "id": "45bc548f",
   "metadata": {},
   "outputs": [],
   "source": [
    "a = 1              # definizione standard\n",
    "x, y, z = 3, 4, 5  # definizione multipla\n",
    "d = e = f = 6.7    # definizione allo stesso valore\n",
    "g = a + x          # definizione usando altre variabili"
   ]
  },
  {
   "cell_type": "markdown",
   "id": "4aa1beec",
   "metadata": {},
   "source": [
    "### STRINGHE\n",
    "Le stringhe in Python sono gestite come concettualmente come un array di caratteri. Puoi accedere ai singoli caratteri tramite l'indice (che parte da zero). NOTA: python vede anche gli spazi come caratteri"
   ]
  },
  {
   "cell_type": "code",
   "execution_count": 82,
   "id": "09fe3a7b",
   "metadata": {},
   "outputs": [
    {
     "name": "stdout",
     "output_type": "stream",
     "text": [
      "STRINGA CHE PUÒ \n",
      "        ANDARE A CAPO\n",
      "-1\n",
      "ciao    a    tutti\n",
      "Ciao sono Mario Rossi, ho 40 anni e peso \"circa\" 70.00 kg\n"
     ]
    }
   ],
   "source": [
    "aa = \"ciao ciao\"   # definizione di una stringa\n",
    "bb = \"\"\"stringa che può \n",
    "        andare a capo\"\"\"  # con tre virgolette posso andare a capo con la stringa\n",
    "\n",
    "# Accedere ai caratteri di una stringa:\n",
    "bb[2]      # accedo al terzo carattere (si parte da 0)\n",
    "bb[:5]     # accedo fino al sesto carattere (l'indice di destra è ESCLUSO)\n",
    "bb[5:]     # accedo dal sesto carattere compreso\n",
    "bb[2:5]    # accedo dal terzo (compreso) fino al sesto carattere escluso\n",
    "len(bb)    # restituisce la lunghezza della stringa\n",
    "\n",
    "# Metodi utili:\n",
    "bb = bb.upper()   # scrive tutto in maiuscolo\n",
    "print(bb)\n",
    "bb.lower()   # scrive tutto in minuscolo\n",
    "bb.strip()   # rimuove di default gli spazi SOLO all'inizio e alla fine della stringa (o caratteri specificati con 'strip('abc')' )\n",
    "bb.split()   # divide la stringa in una lista di parole usando come separatore di default lo spazio (se no va specifcato tra parentesi)\n",
    "bb.replace(\"ciao\", \"salve\")  # sostituisce le occorrenze di \"ciao\" con \"salve\"\n",
    "print(bb.find('a'))          # restituisce l'indice alla prima occorrenza dell'elemento cercato\n",
    "\n",
    "# con il metodo 'join' posso unire in una stringa elementi di un iterabile di stringhe (liste ecc), separati da qualcosa che specifico\n",
    "# la sintassi é ' nuova_stringa = \"separatore\".join(iterabile) '\n",
    "x = [\"ciao\", \"a\",  \"tutti\"]\n",
    "frase_mix = \"    \".join(x)   # in questo esempio lascio quattro spazi come separatore tra gli elementi di x\n",
    "print(frase_mix)\n",
    "\n",
    "# Esempio di formattazione:\n",
    "presentazione = \"Ciao sono Mario Rossi, ho {} anni e peso \\\"circa\\\" {:.2f} kg\"\n",
    "# Con le graffe posso inserire valori all'interno della stringa\n",
    "# Con {:.2f} specifichiamo di mostrare due cifre dopo la virgola\n",
    "print(presentazione.format(40, 70))"
   ]
  },
  {
   "cell_type": "markdown",
   "id": "13376cd4-e6dc-45b1-b4b5-f7f1ef1a6a66",
   "metadata": {},
   "source": [
    "### F-STRING\n",
    "Una f-string in Python (formato stringa letterale) è una funzionalità introdotta in Python 3.6 che consente di incorporare espressioni \n",
    "all'interno di una stringa in modo chiaro e conciso. La sintassi per usarle è la seguente: `f\"qualcosa {espressione} qualcosa\"`, ad esempio `f\"In casa ho {variabile: formato} grammi di farina\"`."
   ]
  },
  {
   "cell_type": "code",
   "execution_count": 7,
   "id": "2db7f964-621a-456e-9269-5845c2691c9e",
   "metadata": {},
   "outputs": [
    {
     "name": "stdout",
     "output_type": "stream",
     "text": [
      "Ciao, mi chiamo Alice e ho 25 anni.\n",
      "Il numero formattato è 123.46\n",
      " 'a' in notaz esponenziale è 1.23e-11\n"
     ]
    }
   ],
   "source": [
    "# Esempio di formattazione base:\n",
    "nome = \"Alice\"\n",
    "eta = 25\n",
    "messaggio = f\"Ciao, mi chiamo {nome} e ho {eta} anni.\"\n",
    "print(messaggio)\n",
    "\n",
    "# Esempio di formattazione con numeri:\n",
    "numero = 123.4567\n",
    "print(f\"Il numero formattato è {numero:.2f}\")  # la seconda f sta per 'float' e indica la quantita di cifre decimali (2 in questo caso)\n",
    "# se vuoi il numero in notazione esponenziale puoi usare '.e' per esprimere le cifre da mostrare:\n",
    "a = 0.00000000001234\n",
    "print(f\" 'a' in notaz esponenziale è {a:.2e}\")"
   ]
  },
  {
   "cell_type": "markdown",
   "id": "b7c6cf62-2951-42a1-a3bf-da35f564cc85",
   "metadata": {},
   "source": [
    "La vecchia formattazione ereditata da python 2 funziona cosi:"
   ]
  },
  {
   "cell_type": "code",
   "execution_count": 8,
   "id": "b16f7d2f-8d4c-40a1-9629-ce1602a1c060",
   "metadata": {},
   "outputs": [
    {
     "name": "stdout",
     "output_type": "stream",
     "text": [
      "1.000000000000000\n",
      "Primo numero:   453, Secondo numero:     59.1\n"
     ]
    }
   ],
   "source": [
    "print('%.15f' % (0.1 * 0.1 * 100))\n",
    "# In questa riga, sto usando l'operatore di formattazione %, dove %.15f significa che il numero deve essere rappresentato con 15 cifre decimali.\n",
    "print(\"Primo numero: %5d, Secondo numero: %8.1f\" % (453, 59.058)) \n",
    "    # con '%' formatto la stringa, con '5d' voglio un intero di 5 cifre (al massimo mette spazi vuoti), \n",
    "    # con '8.1f' formatto un float di 8 cifre (o spazi se mancano cifre) e 1 cifra decimale"
   ]
  },
  {
   "cell_type": "markdown",
   "id": "9cb8c127",
   "metadata": {},
   "source": [
    "### CONOSCERE IL TIPO DI DATO\n",
    "Per conoscere il tipo di dato di una variabile, puoi usare la funzione `type()`."
   ]
  },
  {
   "cell_type": "code",
   "execution_count": 9,
   "id": "ea6505a4",
   "metadata": {},
   "outputs": [
    {
     "data": {
      "text/plain": [
       "float"
      ]
     },
     "execution_count": 9,
     "metadata": {},
     "output_type": "execute_result"
    }
   ],
   "source": [
    "type(a)  # per conoscere il tipo di dato assegnato dal PC"
   ]
  },
  {
   "cell_type": "markdown",
   "id": "de01b7e0",
   "metadata": {},
   "source": [
    "Per cambiare il tipo di dato (cioè \"castare\"):\n"
   ]
  },
  {
   "cell_type": "code",
   "execution_count": 12,
   "id": "2f560f47",
   "metadata": {},
   "outputs": [
    {
     "data": {
      "text/plain": [
       "True"
      ]
     },
     "execution_count": 12,
     "metadata": {},
     "output_type": "execute_result"
    }
   ],
   "source": [
    "j = float(5)    # j è un float con valore 5.0\n",
    "h = str(j)      # h ora è una stringa con valore \"5\"\n",
    "i = int(\"5\")    # i è un intero con valore 5\n",
    "bool(7)         # restituisce True perché 7 è un numero non nullo"
   ]
  },
  {
   "cell_type": "markdown",
   "id": "fa7d83ba-6c74-4ef2-9b00-68d651c973a7",
   "metadata": {},
   "source": [
    "### COPIES AND VIEWS\n",
    "A **copy** creates a new object that is a duplicate of the original one. Changes made to the copy do not affect the original object, and vice versa. There are two types of copies: shallow copy and deep copy. We need the library `import copy`.\n",
    "* SHALLOW copy: Only the top-level object is copied. If the original object contains references to other objects (e.g., a list of lists), the references are copied, not the objects themselves. In pratica crea una nuova struttura di dati (ad esempio, una nuova lista o un nuovo dizionario), ma non copia gli oggetti contenuti all'interno di essa, lasciandoli legati da una reference. We write `copy.copy(x)`\n",
    "* DEEP copy: A complete copy is made, including all nested objects. Changes to any part of the deep copy won’t affect the original object. In pratica crea una nuova struttura di dati e copie ricorsive di tutti gli oggetti al suo interno, creando nuove copie di ogni oggetto contenuto. In questo modo, anche gli oggetti annidati (come liste dentro una lista) vengono copiati. We write `copy.deepcopy(x)`"
   ]
  },
  {
   "cell_type": "code",
   "execution_count": 103,
   "id": "2bc0dd8c-005f-4b94-aacc-218432828606",
   "metadata": {},
   "outputs": [
    {
     "name": "stdout",
     "output_type": "stream",
     "text": [
      "Original before: [1, 2, [3, 4]]\n",
      "Original after shallow copy: [1, 2, [300, 4]]\n",
      "Original after deep copy:    [1, 2, [3, 4]]\n"
     ]
    }
   ],
   "source": [
    "import copy\n",
    "original = [1, 2, [3, 4]]\n",
    "print(\"Original before:\", original)  \n",
    "\n",
    "# SHALLOW Copy:\n",
    "shallow_copia = copy.copy(original)\n",
    "shallow_copia[0] = 100                # This won't affect the original\n",
    "shallow_copia[2][0] = 300             # This will affect the original's nested list\n",
    "print(\"Original after shallow copy:\", original)           \n",
    "\n",
    "# DEEP Copy:\n",
    "original = [1, 2, [3, 4]]\n",
    "deep_copia = copy.deepcopy(original)\n",
    "deep_copia[0] = 100                # This won't affect the original\n",
    "deep_copia[2][0] = 300             # this neither\n",
    "print(\"Original after deep copy:   \", original) "
   ]
  },
  {
   "cell_type": "markdown",
   "id": "22732035-cd15-4e16-b331-4c1997b011b1",
   "metadata": {},
   "source": [
    "A **view** provides a reference to the original object without creating a new object. Changes made through the view directly affect the original object because the view is simply another way of accessing the original data. NumPy arrays and Pandas DataFrames often deal with views when you slice or manipulate them."
   ]
  },
  {
   "cell_type": "code",
   "execution_count": 107,
   "id": "084357cc-3ea3-4ee4-8f0e-907b960def77",
   "metadata": {},
   "outputs": [
    {
     "name": "stdout",
     "output_type": "stream",
     "text": [
      "Original array: [  1 100   3   4]\n",
      "View:           [100   3]\n"
     ]
    }
   ],
   "source": [
    "import numpy as np\n",
    "arr = np.array([1, 2, 3, 4])\n",
    "view = arr[1:3]                 # This creates a view, not a copy\n",
    "view[0] = 100                   # Modifies the original array\n",
    "\n",
    "print(\"Original array:\", arr)   # Output: [  1 100   3   4]\n",
    "print(\"View:          \", view)  # Output: [100   3]"
   ]
  },
  {
   "cell_type": "markdown",
   "id": "ba98aed2-7429-4d4d-878b-930e515beb30",
   "metadata": {},
   "source": [
    "## 3. NUMERI E OPERAZIONI\n",
    "Integer numbers are represented by N bit words. Python3 allows you to store integers with practically unlimited precision, the only limitation comes from the (contiguous) space available in memory. In Python2 (deprecated), N depends on the PC architercture, N=64 in modern computers."
   ]
  },
  {
   "cell_type": "code",
   "execution_count": 1,
   "id": "bdc2286d-10d0-426f-a20f-cfd114ca396c",
   "metadata": {},
   "outputs": [],
   "source": [
    "a = 12 % 5   # '%' restituisce il resto della divisione\n",
    "b = 12 // 5  # '//' restituisce l'approssimazione per difetto della divisione\n",
    "c = 2 ** 3   # '**' restituisce l'elevamento a potenza\n",
    "a += 2               # sommo 2 al precendente valore di a\n",
    "y = min(5, 10, 25)   # 'min' prende il minimo valore della lista, poi c'é max, abs (=valore assoluto), pow (=potenza)\n",
    "\n",
    "# Per creare numeri complessi, si usa la funzione `complex(real_part, imaginary_part)`:\n",
    "z = complex(1., 2.)  # crea il numero complesso 1 + 2j"
   ]
  },
  {
   "cell_type": "markdown",
   "id": "a359cabd-8880-4515-82ab-9b2a1ff62b97",
   "metadata": {},
   "source": [
    "### BINARI, ESADECIMALI...\n",
    "Si noti come si possano automaticamente ottenere le rappresentazioni numeriche in altre basi con funzioni come `bin(x)` o `hex(x)`. To go back to decimal representation we use `int(string number, old base)`.\n",
    "\n",
    "NOTA: ciò che si ottiene in binario e esadecimale sono di fatto delle STRINGHE, non più numeri (e il prefisso 0b/0x è compreso)!!"
   ]
  },
  {
   "cell_type": "code",
   "execution_count": 32,
   "id": "20905edb-8437-4988-9917-b8531613a4b5",
   "metadata": {},
   "outputs": [
    {
     "name": "stdout",
     "output_type": "stream",
     "text": [
      "Binary representation of 31 : 0b11111\n",
      "<class 'str'>\n",
      "Hexadecimal representation of 31 : 0x1f\n",
      "<class 'str'>\n",
      "Decimal representation of 0b11111 : 31\n",
      "Decimal representation of 0x1f : 31\n"
     ]
    }
   ],
   "source": [
    "# An integer in decimal representation:\n",
    "a = 31\n",
    "\n",
    "# Its BINARY representation:\n",
    "a_binario = bin(a)\n",
    "print('Binary representation of', a, ':', a_binario)\n",
    "# '0b' stands for 'binary', then follows the binary number\n",
    "print(type(a_binario))\n",
    "\n",
    "# Its HEXADECIMAL representation\n",
    "a_hex = hex(a)\n",
    "print('Hexadecimal representation of', a, ':', a_hex)\n",
    "print(type(a_hex))\n",
    "\n",
    "# For converting back to decimal integer:\n",
    "print('Decimal representation of', a_binario, ':', int(a_binario, 2))\n",
    "print('Decimal representation of', a_hex, ':', int(a_hex, 16))"
   ]
  },
  {
   "cell_type": "code",
   "execution_count": 33,
   "id": "ba5c71af-fc91-4946-8b0b-71dd56a686fe",
   "metadata": {},
   "outputs": [
    {
     "name": "stdout",
     "output_type": "stream",
     "text": [
      "5\n",
      "<class 'int'>\n",
      "5\n"
     ]
    }
   ],
   "source": [
    "# Per definire un numero direttamente in binario:\n",
    "a = \"0b101\"\n",
    "b = int(a, 2)  # così ottengo il suo valore decimale\n",
    "print(b)\n",
    "\n",
    "# Se definisco un numero in binario come fosse un int, python lo salva direttamente nella sua rappresentazione decimale:\n",
    "a = 0b0101   # è esattamente come scrivere 'a = 5'\n",
    "print(type(a))\n",
    "print(a)"
   ]
  },
  {
   "cell_type": "markdown",
   "id": "684879ae-8dcc-404d-aa36-0842eca5e05c",
   "metadata": {},
   "source": [
    "Come visto sopra però, i numeri binari e esadecimali sono salvati con prefissi `0b` e `0x`. E se volessi il numero duro e crudo? \n",
    "Esempio: ` f\"{num:08b}\" `  è una f-string che consente di formattare un numero come stringa a piacimento. Qui `num` è la variabile da formattare/stampare, `08b` indica che vogliamo visualizzare num come binario, con esattamente 8 bit, e che se il numero ha meno di 8 bit, vengono aggiunti zeri a sinistra (padding); usando `8b` invece rimangono spazi vuoti senza zeri.\n",
    "Il formato `08b` è utile per visualizzare i numeri con un numero fisso di bit (8 in questo caso), indipendentemente dal valore effettivo."
   ]
  },
  {
   "cell_type": "code",
   "execution_count": 15,
   "id": "82740bb7-a7e6-4126-9ff4-f711c8877566",
   "metadata": {},
   "outputs": [
    {
     "name": "stdout",
     "output_type": "stream",
     "text": [
      "11110\n",
      "00011110\n",
      "11110\n"
     ]
    }
   ],
   "source": [
    "a = 30\n",
    "\n",
    "# Per stampare un binario solo con le cifre significative (senza 0b o zeri in piu):\n",
    "print(f\"{a:b}\")   # b=binary, then we have d=decimal, x=exadecimal, e=exponential notation\n",
    "print(f\"{a:08b}\") # print only bit values, including as many bits as requested\n",
    "\n",
    "# un altro modo per avere solo i bit senza prefisso è trattare la stringa come un vettore:\n",
    "a_bin = bin(a)\n",
    "b = a_bin[2:]\n",
    "print(b)"
   ]
  },
  {
   "cell_type": "markdown",
   "id": "6bf0c320-f16b-431b-9093-5002ee85d42f",
   "metadata": {},
   "source": [
    "### BITWISE OPERATORS\n",
    "Significa operatori che agiscono bit per bit, usando le porte logiche come AND, OR, NOT ecc. For more details check the python [documentation](https://realpython.com/python-bitwise-operators/).\n",
    "\n",
    "NOTA: tali funzione vanno applicate alla rappresentazione in intero, non alla stringa!"
   ]
  },
  {
   "cell_type": "code",
   "execution_count": 40,
   "id": "666f3fc9-afc2-488f-be90-aae07a7ebf8b",
   "metadata": {},
   "outputs": [
    {
     "name": "stdout",
     "output_type": "stream",
     "text": [
      "Bitwise AND  00001100 12\n",
      "Bitwise OR   00111101 61\n",
      "Bitwise XOR  00110001 49\n",
      "-60           -00111100\n",
      "-60 = ~60 +1  -00111100\n",
      "Left shift (towards most significant) of two positions  11110000 240\n",
      "Right shift (towards least significant) of two positions  00001111 15\n"
     ]
    }
   ],
   "source": [
    "a = 60           # 60 = 0011 1100 \n",
    "b = 13           # 13 = 0000 1101 \n",
    "\n",
    "# AND\n",
    "c = a & b        \n",
    "print(\"Bitwise AND \", f\"{c:08b}\", c)\n",
    "# the operation doesn't make in sense in decimal representation, it's normal\n",
    "\n",
    "# OR\n",
    "c = a | b\n",
    "print(\"Bitwise OR  \", f\"{c:08b}\", c)\n",
    "# XOR\n",
    "c = a ^ b\n",
    "print(\"Bitwise XOR \", f\"{c:08b}\", c)\n",
    "\n",
    "# NOT\n",
    "# il simbolo '~' inverte tutti i bit di un numero (ovvero fa complemento a 1). Se poi aggiungo 1 faccio il complemento a due (=metodo di rappresentazione dei negativi)\n",
    "print(\"-60          \", f\"{-60:09b}\")\n",
    "print(\"-60 = ~60 +1 \", f\"{~a+1:09b}\")\n",
    "\n",
    "# SHIFTS: traslo cifre del numero binario a dx o sx di una certa quantita\n",
    "c = a << 2       \n",
    "print(\"Left shift (towards most significant) of two positions \", f\"{c:08b}\",c)\n",
    "c = a >> 2       \n",
    "print(\"Right shift (towards least significant) of two positions \", f\"{c:08b}\",c)"
   ]
  },
  {
   "cell_type": "markdown",
   "id": "367d2d1c-b8d5-439a-96d2-17b49309e340",
   "metadata": {},
   "source": [
    "### FLOATING POINT NUMBERS\n",
    "Non-integer number cannot be represented with infinite precision on a computer. The 32 or 64 bits are divided among 3 quantities uniquely characterizing the number: $x_{float} = (-1)^s \\times 1.f \\times 2^{e-bias}$ where s is the sign, f the fractional part of the mantissa and e the exponent, bias is typically equal to half of the max value of e (127 bits and 1023 bits respectively). \n",
    "\n",
    "Numbers exceeding the maximum allowed value are *overflows* and the calculations involving them provide incorrect answers. Numbers smaller in absolute value than the minimum allowed value are *underflows* and simply set to zero, also in this case incorrect results are yielded. problems with underflow.\n",
    "Definitions of the stored values are given on the python doc [page](https://docs.python.org/2/library/sys.html#sys.float_info).\n",
    "\n",
    "NOTE: A lesson of paramount importance is that you must NEVER compare floating point numbers with the \"==\" operator as what is printed is not what is stored!"
   ]
  },
  {
   "cell_type": "markdown",
   "id": "cdd272f9-1265-48dd-9ca3-2c6248321709",
   "metadata": {},
   "source": [
    "Here some examples:"
   ]
  },
  {
   "cell_type": "code",
   "execution_count": 16,
   "id": "efbad00a-e23d-440b-bd37-7e20a7e332d2",
   "metadata": {},
   "outputs": [
    {
     "name": "stdout",
     "output_type": "stream",
     "text": [
      "7.00000000000001\n",
      "7.000000000000001\n",
      "7.0\n",
      "\n",
      "True\n",
      "False \n",
      "\n",
      "0x1.c178d4fdf3b64p+2\n",
      "1.0\n",
      "0.0\n"
     ]
    }
   ],
   "source": [
    "# Addding an increasingly small number to 7\n",
    "for e in [14, 15, 16]: print (7+1.0*10**-e)\n",
    "print('')\n",
    "\n",
    "# is 1/10 the same of 0.1?\n",
    "print (1 / 10 == 0.1)\n",
    "# Does it work for 0.3, too?\n",
    "print (0.1 + 0.2 == 0.3, '\\n')\n",
    "\n",
    "# The function ```float.hex()``` yield the exact value stored for a floating point number:\n",
    "print(7.023.hex())\n",
    "\n",
    "# problems with underflow:\n",
    "print (6.022e23 - 6.022e23 + 1)\n",
    "print (1 + 6.022e23 - 6.022e23)"
   ]
  },
  {
   "cell_type": "markdown",
   "id": "fb90eafa-df68-4b40-8904-8dedf8560d53",
   "metadata": {},
   "source": [
    "Per convertire numeri float in virgola mobile esadecimale (invece che binario) usiamo la funzione `float.hex()`, e per tornare alla rappresentazione decimale `float.fromhex()`."
   ]
  },
  {
   "cell_type": "code",
   "execution_count": 15,
   "id": "7a2b9bc7-09c9-43ea-9458-8777c9a0bbc8",
   "metadata": {},
   "outputs": [
    {
     "name": "stdout",
     "output_type": "stream",
     "text": [
      "3.141592653589793\n",
      "0x1.921fb54442d18p+1\n"
     ]
    }
   ],
   "source": [
    "import math\n",
    "x = math.pi\n",
    "print(x)\n",
    "print(x.hex())"
   ]
  },
  {
   "cell_type": "markdown",
   "id": "472d12c8-c7e1-4093-9217-c244e77babf7",
   "metadata": {},
   "source": [
    "### MATHEMATICAL FUNCTIONS"
   ]
  },
  {
   "cell_type": "markdown",
   "id": "2a676173-d5d6-420c-a493-868a9edbf0cf",
   "metadata": {},
   "source": [
    "**FUNCTION CODITIONING**: A mathematical function $f(x)$ is **well-conditioned** if $f(x+\\epsilon)\\simeq f(x)$ for all small perturbations $\\epsilon$. For a well-conditioned function, small pertubations in the input result in small effects in the output. However, a **poorly-conditioned**  (or ill-conditioned) problem only needs some small perturbation to have large effects. For example, inverting a nearly singluar matrix (a matrix whose determinant is close to zero) is a poorly conditioned problem.\n",
    "\n",
    "**ALGORITHM STABILITY**: Suppose we have a computer algorithm $g(x)$ that represents the mathematical function $f(x)$. The alorithm $g(x)$ is **numerically stable** if $g(x+\\epsilon) \\simeq f(x)$ and it is called **unstable** if large changes in the output are produced. Analyzing an algorithm for stability is more complicated than determining the condition of an expression, even if the algorithm simply evaluates the expression. This is because an algorithm consists of many basic calculations and each one must be analyzed and, due to roundoff error, we must consider the possibility of small errors being introduced in every computed value.\n",
    "\n",
    "In general, we need both a well-conditioned problem and an algorihtm with sufficient numerical stabilty to obtain reliably accurate answers. In this case, we can be sure that $g(x) \\simeq f(x)$.\n",
    "\n",
    "So in summary:\n",
    "- Well-/ill-Conditioned refers to the problem; Stable/Unstable refers to an algorithm or numerical process.\n",
    "- If the problem is well-conditioned then there is a stable way to solve it.\n",
    "- If the problem is poorly-conditioned then there is no reliable way to solve it in a stable way.\n",
    "- Mixing roundoff-error with an unstable process is a recipe for disaster."
   ]
  },
  {
   "cell_type": "markdown",
   "id": "cc8a071d-89f6-44e6-88e4-297cca018428",
   "metadata": {},
   "source": [
    "## 4. CONDIZIONI E CICLI\n",
    "Funzioni utili che si integrano con i cicli sono:\n",
    "* `range(start, stop, step)` per generare una sequenza di interi (nota: l'estremo destro é escluso)\n",
    "* `enumerate(oggetto, start=0)` per scorrere delle un oggetto (liste/array...) associando un indice"
   ]
  },
  {
   "cell_type": "markdown",
   "id": "978a45b0-2046-4fca-9548-5bfe8ca79a4e",
   "metadata": {},
   "source": [
    "### IF"
   ]
  },
  {
   "cell_type": "code",
   "execution_count": 20,
   "id": "9bc9be7e-d5ed-4ea1-b52f-464cbc80747f",
   "metadata": {},
   "outputs": [
    {
     "name": "stdout",
     "output_type": "stream",
     "text": [
      "5 minore di 10\n",
      "ok\n"
     ]
    }
   ],
   "source": [
    "if 0 < 5 < 10:                        # sono obbligatori i 2 punti dopo e l'indentazione sotto all'if\n",
    "    print(\"5 minore di 10\")           # NOTA: quando ho un solo statement posso scrivere l'if su una sola riga\n",
    "elif 5 > 10:                          # elif sta per else if\n",
    "    print(\"5 maggiore di 10\")\n",
    "else:\n",
    "    print(\"5 uguale a 10 o negativo\")\n",
    "# con '==' verifichiamo uguaglianza, con '!=' la non uguaglianza, poi c'é '<=', '>=', 'and', 'or', 'not' \n",
    "x = [1,2,5,8]\n",
    "if 2 in x:          # 'in' guarda dentro la lista in x\n",
    "    print('ok')"
   ]
  },
  {
   "cell_type": "markdown",
   "id": "8d28c287-3bc7-4a6b-9e5c-9f6f229b7e9b",
   "metadata": {},
   "source": [
    "### WHILE"
   ]
  },
  {
   "cell_type": "code",
   "execution_count": 21,
   "id": "c1654ff9-371e-4b9d-b549-7d80dd837d96",
   "metadata": {},
   "outputs": [
    {
     "name": "stdout",
     "output_type": "stream",
     "text": [
      "1\n",
      "2\n"
     ]
    }
   ],
   "source": [
    "i = 1\n",
    "while i < 4:\n",
    "    print(i)\n",
    "    i+=1           # non si puó scrivere i++ su python\n",
    "    if i == 2:\n",
    "        continue   # con 'continue' passo alla prossima iterazione del while senza fare le azioni sotto a continue (in questa iterazione)\n",
    "    if i == 3:\n",
    "        break      # con'break' esco dal ciclo, quindi stampo solo fino a 2 in questo caso\n",
    "    #NOTA: tutto ció che é indentato sotto al while é dentro il ciclo\n",
    "else:\n",
    "    print(\"ho finito\")       # 'else' si mette facoltativo dopo il while, di solito per tenere traccia di quando finisce il ciclo"
   ]
  },
  {
   "cell_type": "markdown",
   "id": "31f1f9bc-0925-4d3c-aa57-0b64ad0910ce",
   "metadata": {},
   "source": [
    "### FOR"
   ]
  },
  {
   "cell_type": "code",
   "execution_count": 29,
   "id": "36942945-8696-4d0f-9931-de790b80568d",
   "metadata": {},
   "outputs": [
    {
     "name": "stdout",
     "output_type": "stream",
     "text": [
      "milano\n",
      "roma\n",
      "napoli\n",
      "ho finito\n",
      "1\n",
      "2\n",
      "3\n",
      "4\n",
      "5\n",
      "0 milano\n",
      "1 roma\n",
      "2 napoli\n"
     ]
    }
   ],
   "source": [
    "lista_citta = [\"milano\", \"roma\", \"napoli\"]\n",
    "\n",
    "for citta in lista_citta:\n",
    "    print(citta)\n",
    "# il 'for' scorre lungo un qualsiasi array/lista/ecc che gli dó in pasto\n",
    "# similmente al while posso usare break e continue\n",
    "else:\n",
    "    print(\"ho finito\")       # 'else' si mette facoltativo dopo il for, di solito per tenere traccia di quando finisce il ciclo\n",
    "\n",
    "# ciclo da 1 a 5:\n",
    "for i in range(1, 6):  # estremo destro escluso\n",
    "    print(i)\n",
    "\n",
    "# Iterare con enumerate\n",
    "for index, citta in enumerate(lista_citta):\n",
    "    print(index, citta)"
   ]
  },
  {
   "cell_type": "markdown",
   "id": "3c526b89-7fda-4683-b50f-d3a87540f838",
   "metadata": {},
   "source": [
    "## 5. COLLEZIONI DI DATI: Liste, Tuple, Set, Dizionari\n",
    "Si tratta di 'list', 'tuple', 'set', 'dictionary', che sono tipi diversi di 'array' di dati."
   ]
  },
  {
   "cell_type": "markdown",
   "id": "dbb676ff-d9a7-4c53-9872-de4987980aa9",
   "metadata": {},
   "source": [
    "### LISTE\n",
    "Sono array di elementi ordinati, modificabili a posteriori, e permettono elementi duplicati. Possono essere formate da elementi di diverso tipo o anche da altre liste stesse. NOTA: per le liste non funzionano metodi usati ad esempio per le stringhe come find, replace...\n",
    "\n",
    "Si definiscono tramite parentesi quadre con `list[a, b, c, ...]`. Si manipolano secondo `list[start:stop:step]`."
   ]
  },
  {
   "cell_type": "code",
   "execution_count": 70,
   "id": "20aefe8f-3a90-49ca-9adb-c3fdd09e578e",
   "metadata": {},
   "outputs": [],
   "source": [
    "x = ['milano', 'roma', 'napoli']          # definizione di lista (si usano parentesi quadre!!!)\n",
    "x = list( ('milano', 'roma', 'napoli') )  # definizione alternativa\n",
    "y = ['ciao', 80, True]                    # puó essere formata da elementi di tipi diversi\n",
    "x[2]                                      # per accedere ai suoi elementi\n",
    "x[-1]                                     # punta all'ultimo elemento, poi si puó anche scrivere '-2' per il penultimo ecc\n",
    "x[0:3]                                    # considero gli elementi dal primo al quarto (ESTREMO DESTRO ESCLUSO)\n",
    "x[1:3] = ['Brescia', 'Udine']             # per modificare piú elementi contemporaneamente\n",
    "x[0:] = ['Udine']                         # ora tutti gli elementi sono 'Udine'\n",
    "x.append('Brescia')                       # aggiunto nuovo elemento alla fine della lista\n",
    "x.insert(1,'Rovigo')                      # aggiunto in un posto specifico (da quel numero in poi gli altri elementi scalano in avanti)\n",
    "x.extend(y)                               # aggiungo gli elementi di y in coda ad x\n",
    "x.remove(80)                              # rimuovo specifico elemento\n",
    "x.pop()                                   # rimuovo ultimo elemento, o uno specifico se indico il suo indice di posizione\n",
    "x.reverse()                               # inverte l'ordine degli elementi\n",
    "x.sort()                                  # li metto in ordine numerico\n",
    "x.index('Udine')                          # restituisce l'indice all'elemento cercato\n",
    "x.count('foggia')                         # conto quanti elementi ci sono di quel tipo\n",
    "x.clear()                                 # svuoto la lista\n",
    "del x                                     # elimino intera lista (o un elemento della lista con 'del x[i]' ) \n",
    "\n",
    "# UTILE: per creare una lista con un numero prefissato di valori inizializzati a zero:\n",
    "y = [0]*100   # lista di 100 zeri   "
   ]
  },
  {
   "cell_type": "markdown",
   "id": "b38793d9-9fbf-424c-8599-2470911f3fd5",
   "metadata": {},
   "source": [
    "Meritano un approfondimento le cosiddette **LIST COMPREHENSION**, ovvero metodi concisi ed efficienti di definire delle liste. The initial expression in a list comprehension can be any arbitrary expression, including another list comprehension.\n",
    " \n",
    "La sintassi generica é: `[espressione for elemento in iterabile if condizione]` ma può essere modificata in vari modi, aggiungendo altri for ad esempio.\n",
    "\n",
    "NOTA: similmente usando parentesi graffe al posto delle quadre si possono definire set comprehension e dictionary comprehension (leggermente diverse)"
   ]
  },
  {
   "cell_type": "code",
   "execution_count": 77,
   "id": "08fbcd9f-c821-430a-87b1-fb0c0fa87067",
   "metadata": {},
   "outputs": [
    {
     "data": {
      "text/plain": [
       "[(1, 3), (1, 4), (2, 3), (2, 1), (2, 4), (3, 1), (3, 4)]"
      ]
     },
     "execution_count": 77,
     "metadata": {},
     "output_type": "execute_result"
    }
   ],
   "source": [
    "x = ['milano', 'roma', 'napoli'] \n",
    "b = [i for i in range(len(x)) if x[i] != 'milano']  # cosí prende gli elementi di x che non sono milano\n",
    "\n",
    "# esempi equivalenti:\n",
    "squares = list( map( lambda x: x**2, range(10) ) )\n",
    "squares = [x**2 for x in range(10)]\n",
    "\n",
    "# For example, this listcomp combines the elements of two lists if they are not equal:\n",
    "[(x, y) for x in [1,2,3] for y in [3,1,4] if x != y]"
   ]
  },
  {
   "cell_type": "markdown",
   "id": "eb8c704a-befc-4692-8630-f56318863a51",
   "metadata": {},
   "source": [
    "Molto simili alle list comprehension sono i **generator**, che si costruiscono allo stesso modo ma usano le parentesi tonde al posto delle quadre, dunque la sintassi é `(espressione for elemento in iterabile if condizione)`. Il loro vantaggio é che appunto generano elementi uno alla volta, che poi non vengono salvati, risultando leggeri sulla memoria. Tuttavia possono risultare lenti in alcuni casi dovendo generare ogni elemento volta per volta."
   ]
  },
  {
   "cell_type": "markdown",
   "id": "c42bdf59-a134-407f-bfdb-1fcaaf54a4ac",
   "metadata": {},
   "source": [
    "In matematica, posso usare le liste come array, e le liste di liste come matrici ecc. Un operatore utile in tal senso é l'operatore `*` (detto unpacking) funziona con qualsiasi iterabile (non solo con le liste). Esso espande un iterabile (ista, tupla, stringa...) in singoli argomenti posizionali."
   ]
  },
  {
   "cell_type": "code",
   "execution_count": 76,
   "id": "cb1f80a2-cd63-4d8f-945e-533101354bf8",
   "metadata": {},
   "outputs": [
    {
     "name": "stdout",
     "output_type": "stream",
     "text": [
      "[1, 2, 3, 4] [5, 6, 7, 8] [9, 10, 11, 12]\n",
      "[(1, 5, 9), (2, 6, 10), (3, 7, 11), (4, 8, 12)]\n"
     ]
    }
   ],
   "source": [
    "# Esempio:\n",
    "matrix = [\n",
    "     [1, 2, 3, 4],\n",
    "     [5, 6, 7, 8],\n",
    "     [9, 10, 11, 12],]       # matrice 3x4\n",
    "print(*matrix)               # cosi stampo la matrice come sequenza lineare dei tre vettori riga\n",
    "\n",
    "trasp = list(zip(*matrix))   # cosi creo una lista  accopiando uno ad uno gli elementi dei tre vettori riga, ovvero creo la trasposta!!!\n",
    "print(trasp)"
   ]
  },
  {
   "cell_type": "markdown",
   "id": "c4bf0cac-1a81-4694-a990-79ed057cfeb0",
   "metadata": {},
   "source": [
    "### TUPLE\n",
    "Simili alle liste ma non modificabili: sono array ordinati ma NON modificabili a posteriori (e permettono duplicati tra gli elementi). Si usano le parentesi tonde."
   ]
  },
  {
   "cell_type": "code",
   "execution_count": 5,
   "id": "e01b87f8-8192-43d6-b0dc-0b67d0fa646e",
   "metadata": {},
   "outputs": [],
   "source": [
    "x = ('milano', 'roma', 'napoli')     # definizione standard (modo alternativo: 'x = tuple((elenco di cose))'  )\n",
    "y = ('milano', )                     # sintassi per una tupla di un solo elemento\n",
    "# si usano ancora 'len()', 'type()', e si puó accedere agli elementi come al solito con x[0] ecc\n",
    "# NON si possono aggiungere elementi, se non definendo una nuova lista uguale a questa tupla (tipo con 'z = list(x)' ) \n",
    "# per il resto si fa come con le liste"
   ]
  },
  {
   "cell_type": "markdown",
   "id": "659dd117-1943-4045-94db-cc892716f589",
   "metadata": {},
   "source": [
    "### SET\n",
    "Sono array NON ordinati cioé non accedibili tramite indice (x[0] ecc) e quindi NON modificabili (e NON permettono duplicati). Si usano le parentesi graffe."
   ]
  },
  {
   "cell_type": "code",
   "execution_count": 6,
   "id": "899b87f3-6471-45cd-ae1c-4a3f58b463cd",
   "metadata": {},
   "outputs": [
    {
     "name": "stdout",
     "output_type": "stream",
     "text": [
      "milano\n",
      "roma\n",
      "napoli\n",
      "{'milano', 'roma', 'napoli'}\n"
     ]
    }
   ],
   "source": [
    "x = {'milano', 'roma', 'napoli'}          # definizione\n",
    "y = {'udine', 'venezia'}\n",
    "# NON posso usare gli indici tipo con x[0], posso accedere agli elementi solo con loop:\n",
    "for citta in x:\n",
    "    print(citta)\n",
    "# non posso aggiungere o cambiare elementi con la stessa sintassi di lista o tupla, tipo 'x[0] = 6'\n",
    "# posso aggiungere tramite '.add()' o eliminare con '.remove()' o '.discard()' e usare 'clear()' per svuotarlo\n",
    "# aggiungiamo:\n",
    "x.add('torino')\n",
    "# rimuoviamo:\n",
    "x.remove('torino')\n",
    "# stampiamo:\n",
    "print(x)"
   ]
  },
  {
   "cell_type": "markdown",
   "id": "f344a6be-9408-40e7-bd31-03581424c93d",
   "metadata": {},
   "source": [
    "### DICT\n",
    "I dict (dizionari) sono array ordinati (solo da Python 3.7 in su), modificabili, che memorizzano una relazione `chiave: valore`."
   ]
  },
  {
   "cell_type": "code",
   "execution_count": 87,
   "id": "e8a0e8f4-52b8-473d-bec7-792ff3cfcdbe",
   "metadata": {},
   "outputs": [
    {
     "name": "stdout",
     "output_type": "stream",
     "text": [
      "mario\n",
      "{'nome': 'mario', 'cognome': 'rossi', 'eta': 33, 'email': 'mario@rossi.com'}\n"
     ]
    },
    {
     "data": {
      "text/plain": [
       "dict_values(['mario', 'rossi', 33, 'mario@rossi.com'])"
      ]
     },
     "execution_count": 87,
     "metadata": {},
     "output_type": "execute_result"
    }
   ],
   "source": [
    "x = {'nome': 'mario', 'cognome': 'rossi', 'eta': 32}     # definizione\n",
    "print(x['nome'])                                         # accedo ai valori con la chiave tra parentesi quadre\n",
    "x['eta'] = 33                                            # modifico il valore associato alla chiave 'eta'\n",
    "x['email'] = 'mario@rossi.com'                           # aggiungo una chiave e relativo valore\n",
    "print(x)\n",
    "x.keys()            # per accedere a tutte le chiavi\n",
    "x.values()          # per accedere a tutti i valori"
   ]
  },
  {
   "cell_type": "markdown",
   "id": "64019597-cb42-4694-ad34-9f3557320a4c",
   "metadata": {},
   "source": [
    "## 6. FUNZIONI\n",
    "Notice that functions don't specify the types of the arguments, like you would see in statically typed languages. This is both useful and dangerous. We could also define recursive functions (like Fibonacci)."
   ]
  },
  {
   "cell_type": "code",
   "execution_count": 43,
   "id": "afa3ad8a-f315-45c7-a2ae-abdd8dc41fb1",
   "metadata": {},
   "outputs": [
    {
     "name": "stdout",
     "output_type": "stream",
     "text": [
      "statement di cose da fare con argomenti  ciao 1 True\n"
     ]
    }
   ],
   "source": [
    "def nome_funzione(arg1, arg2, arg3):          # definizione standard (con quanti argomenti vuoi)\n",
    "    print('statement di cose da fare con argomenti ' , arg1 , arg2 , arg3)\n",
    "nome_funzione('ciao', str(1), str(True))\n",
    "\n",
    "# Esempio:\n",
    "def cube(x):\n",
    "    return x*x*x    # se voglio che la mia funzione restituisca qualche oggetto, devo usare 'return'\n",
    "\n",
    "# Se non so ancora quanti argomenti daró uso '*' e li chiamo con [] come farei con un array:\n",
    "def prova(*opzioni):\n",
    "    print('primo numero' + opzioni[0])\n",
    "    if opzioni[1] > 5:\n",
    "        print('il secondo argomento e maggiore di 5')\n",
    "\n",
    "# Posso mettere dei parametri di default che sono usati se non specifico gli argomenti:\n",
    "def sono_simpatico(simpatia=100):\n",
    "    return simpatia*10\n",
    "\n",
    "# funzione dentro una funzione:\n",
    "def func(x):\n",
    "    return x+1\n",
    "def derivata(func, x, delta):   # do come argomenti sia la funzione stessa sia i suoi argomenti!!\n",
    "    deriv = ( func(x+delta)-func(x) )/ delta\n",
    "    return deriv"
   ]
  },
  {
   "cell_type": "markdown",
   "id": "5f9c4a79-1be0-4c9c-b6bb-071396f24bc1",
   "metadata": {},
   "source": [
    "Si può ritornare non solo dei valori singoli, ma anche delle tuple o funzioni stesse. Appofondimenti sul `return`:"
   ]
  },
  {
   "cell_type": "code",
   "execution_count": 42,
   "id": "0f871a3e-ad75-46bf-8420-ace1004933a3",
   "metadata": {},
   "outputs": [
    {
     "name": "stdout",
     "output_type": "stream",
     "text": [
      "4\n"
     ]
    }
   ],
   "source": [
    "# Se faccio dei calcoli e volgio il risultato DEVO aggiungere 'return' altrimenti non mi ritorna nulla:\n",
    "def fai_somma(num1, num2):\n",
    "    somma = num1 + num2\n",
    "    return somma\n",
    "x = fai_somma(2,2)\n",
    "print(x)\n",
    "\n",
    "# con il 'return' faccio sí che una variabile sia disponibilie anche fuori dalla funzione (si parla di 'scope globale' invece che 'locale')\n",
    "# un altro modo per farlo é usare 'global'\n",
    "x = 100\n",
    "def prova():\n",
    "    global x          # qua dico che questa x sia la stessa che c'é fuori e non una nuova\n",
    "    print ('statement vari')\n",
    "\n",
    "# posso anche far tornare piu variabili:\n",
    "def swap(a, b):\n",
    "    return b, a  # NOTA: restituisce una tupla (b, a), non lista!!!!!!!!\n",
    "\n",
    "# Esempio in cui ho piu opzioni di ritorno:\n",
    "import math\n",
    "def sol1(a,b,c):\n",
    "    discrim = b**2-4*a*c\n",
    "    if discrim < 0:\n",
    "        print(\"Non ci sono soluzioni reali\")\n",
    "        return None  # se non si specifica il return, é di default 'None'\n",
    "    elif discrim == 0:\n",
    "        x = -b/(2*a)\n",
    "        return x\n",
    "    else:\n",
    "        x1 = (-b + math.sqrt(b**2-4*a*c))/(2*a)\n",
    "        x2 = (-b - math.sqrt(b**2-4*a*c))/(2*a)\n",
    "        return x1, x2"
   ]
  },
  {
   "cell_type": "markdown",
   "id": "9edb3585-f907-4c39-acae-d3797629c245",
   "metadata": {},
   "source": [
    "## 6.1 FUNZIONI PREINSTALLATE"
   ]
  },
  {
   "cell_type": "markdown",
   "id": "c38697a5-9674-485b-b43c-8ef6c4e4c010",
   "metadata": {},
   "source": [
    "### MAP\n",
    "The map function applies a function to each member of a collection"
   ]
  },
  {
   "cell_type": "code",
   "execution_count": 45,
   "id": "3df72e29-b459-4e2a-8c08-e72bb118efba",
   "metadata": {},
   "outputs": [
    {
     "name": "stdout",
     "output_type": "stream",
     "text": [
      "[0, 1, 8, 27, 64]\n"
     ]
    }
   ],
   "source": [
    "x = list(map(cube, range(5))) \n",
    "print (x)"
   ]
  },
  {
   "cell_type": "markdown",
   "id": "383418ec-71fb-4607-8ec3-7ebcf26ea00d",
   "metadata": {},
   "source": [
    "### FILTER\n",
    "The filter function applies a predicate to each member of a collection, retaining only those members where the predicate is True"
   ]
  },
  {
   "cell_type": "code",
   "execution_count": 46,
   "id": "dcedab6f-98f3-4e65-a6ba-195f064d6656",
   "metadata": {},
   "outputs": [
    {
     "name": "stdout",
     "output_type": "stream",
     "text": [
      "[0, 2, 4]\n"
     ]
    }
   ],
   "source": [
    "def is_even(x):\n",
    "    return x%2 == 0\n",
    "print (list(filter(is_even, range(5))))"
   ]
  },
  {
   "cell_type": "markdown",
   "id": "44f72351-1326-4c84-9f28-d12f72f531ae",
   "metadata": {},
   "source": [
    "### ZIP\n",
    "The zip function is useful when you need to iterate over matched elements of multiple lists."
   ]
  },
  {
   "cell_type": "code",
   "execution_count": 124,
   "id": "eca5fa4a-72f5-4e99-9e13-62b259b670f5",
   "metadata": {},
   "outputs": [
    {
     "name": "stdout",
     "output_type": "stream",
     "text": [
      "1 10 a\n",
      "2 20 b\n",
      "3 30 c\n",
      "4 40 d\n"
     ]
    }
   ],
   "source": [
    "xs = [1, 2, 3, 4]\n",
    "ys = [10, 20, 30, 40]\n",
    "zs = ['a', 'b', 'c','d']\n",
    "for x, y, z in zip(xs, ys, zs):\n",
    "    print (x, y, z)"
   ]
  },
  {
   "cell_type": "markdown",
   "id": "8358ab14-d5a5-431b-93e2-b5da13c60edb",
   "metadata": {},
   "source": [
    "### LAMBDA\n",
    "Si usa per creare funzioni limitate e anonime (senza nome) che tanto servono solo temporaneamente. La sintassi é `lambda arg1, arg2, ... : expression `"
   ]
  },
  {
   "cell_type": "code",
   "execution_count": 121,
   "id": "cc1dca74-da16-40bc-8c33-ae998eaadf13",
   "metadata": {},
   "outputs": [
    {
     "name": "stdout",
     "output_type": "stream",
     "text": [
      "10\n",
      "7\n"
     ]
    }
   ],
   "source": [
    "doppio = lambda x: x * 2    # NOTA: 'doppio' é a sua volta una funzione\n",
    "print(doppio(5)) \n",
    "\n",
    "# una sintassi generale per le funzioni ma comoda per la lambda é:\n",
    "print(  (lambda x,y: x+y)(3,4)  )    # nella prima parentesi va la funzione (lambda in questo caso), nella seconda il suo input"
   ]
  },
  {
   "cell_type": "markdown",
   "id": "f89ed378-3ce7-40e0-ba57-293bd4cd3423",
   "metadata": {},
   "source": [
    "### REDUCE\n",
    "É utilizzata per applicare una funzione a un iterabile (ad esempio, una lista) in modo cumulativo, riducendo l'iterabile a un singolo valore. IN pratica inizia prendendo i primi due elementi dell'iterabile, li passa alla funzione, e poi usa il risultato insieme al terzo elemento, e così via, fino a ridurre l'iterabile a un singolo valore. È parte del modulo functools, quindi devi importarla con `from functools import reduce`. \n",
    "\n",
    "La sintassi é data da: `reduce(func, iterable)`, dove func é una funzione a due argomenti."
   ]
  },
  {
   "cell_type": "code",
   "execution_count": 118,
   "id": "8517b597-1457-47bd-b7db-015cb7cc80d1",
   "metadata": {},
   "outputs": [
    {
     "data": {
      "text/plain": [
       "15"
      ]
     },
     "execution_count": 118,
     "metadata": {},
     "output_type": "execute_result"
    }
   ],
   "source": [
    "from functools import reduce\n",
    "\n",
    "def my_add(x, y):\n",
    "    return x + y\n",
    "\n",
    "reduce(my_add, [1,2,3,4,5])   # mi restituisce la somma degli elementi della lista"
   ]
  },
  {
   "cell_type": "markdown",
   "id": "e42fb25e-3a2c-4264-88ec-315e5ec351c9",
   "metadata": {},
   "source": [
    "### TIME e TIMEIT"
   ]
  },
  {
   "cell_type": "code",
   "execution_count": 26,
   "id": "eda00084-ca55-4599-bb55-1e80ad0021c3",
   "metadata": {},
   "outputs": [
    {
     "name": "stdout",
     "output_type": "stream",
     "text": [
      "Tempo di esecuzione: 1.9788742065429688e-05 secondi\n"
     ]
    }
   ],
   "source": [
    "# TIME: e una funzione che permette di prendere il tempo iniziale e finale dell'esecuzione e calcolare la differenza\n",
    "import time\n",
    "start_time = time.time()\n",
    "# Codice di cui misurare il tempo che che impiega\n",
    "end_time = time.time()\n",
    "print(\"Tempo di esecuzione:\", end_time - start_time, \"secondi\")\n",
    "\n",
    "# TIMEIT: e una funziona che permette di eseguire piu volte uno stesso codice per stimare il tempo necessario ad eseguirlo\n",
    "import timeit\n",
    "tempo_esecuzione = timeit.timeit('sum(range(100))', number=1000)\n",
    "# per usarlo su jup.notebook basta usare '%timeit codice'"
   ]
  },
  {
   "cell_type": "markdown",
   "id": "d26ead2d-032e-4f12-924e-e98a67d63149",
   "metadata": {},
   "source": [
    "### ITER\n",
    "É una funzione che genera iteratori da una lista."
   ]
  },
  {
   "cell_type": "code",
   "execution_count": 127,
   "id": "60c80703-edf9-42e7-b4a4-98d0065caf6b",
   "metadata": {},
   "outputs": [
    {
     "name": "stdout",
     "output_type": "stream",
     "text": [
      "1\n",
      "2\n",
      "3\n",
      "4\n"
     ]
    }
   ],
   "source": [
    "a = [1, 2, 3, 4]\n",
    "x_iter = iter(a)\n",
    "for x in x_iter:\n",
    "    print (x)"
   ]
  },
  {
   "cell_type": "markdown",
   "id": "8c58f1c0-47c0-4cd5-83b5-755aba638e24",
   "metadata": {},
   "source": [
    "### TRY AND EXCEPT\n",
    "Servono per testare righe di codice che potrebbero non funzionare."
   ]
  },
  {
   "cell_type": "code",
   "execution_count": 32,
   "id": "bf032410-ac69-4f07-b3ba-05874225d61d",
   "metadata": {},
   "outputs": [
    {
     "name": "stdout",
     "output_type": "stream",
     "text": [
      "c'é un problema\n",
      "k non definita\n",
      "stampo questo in ogni caso\n"
     ]
    }
   ],
   "source": [
    "try:\n",
    "    print(k)          # k non é mai stata definita quindi non puó stamparla, e allora va su except invece che stopparsi il programma\n",
    "except:\n",
    "    print('c\\'é un problema')\n",
    "    \n",
    "# posso anche dirgli cosa fare in base al tipo di errore che trova:\n",
    "try:\n",
    "    print(k)\n",
    "except NameError:\n",
    "    print('k non definita')\n",
    "except:\n",
    "    print('errore ma non di tipo NameError')\n",
    "else:        # questo else esegue solo quando try funziona bene senza problemi\n",
    "    print('nessun problema')\n",
    "finally:     # questo va in ogni caso alla fine del tentativo\n",
    "    print('stampo questo in ogni caso')  \n",
    "# possiamo anche preparare un avvertimento ad un possibile errore (NameError, TypeError, OverflowError, ZeroDivisionError, IndexError...) cosí poi lo identifichiamo facilmente, tipo:\n",
    "#x = -1\n",
    "#if x <0:\n",
    "#    raise Exception('Problema: Numero negativo')"
   ]
  },
  {
   "cell_type": "markdown",
   "id": "83e5e1fe-3333-45eb-b801-9bdd5e014ad3",
   "metadata": {},
   "source": [
    "### SORTED\n",
    "È una funzione che ordina gli elementi (che siano numeri o stringhe) di un iterabile (lista, tupla, numpy array ecc) restituendone una copia ordinata. \n",
    "\n",
    "La sintassi é `sorted(iterable, key=None, reverse=False)`, dove key é un'eventuale funzione per fare ordinamenti più complessi, mentre reverse se fissato su True inverte l'ordinamento classico crescente.\n"
   ]
  },
  {
   "cell_type": "code",
   "execution_count": 116,
   "id": "50a86b69-8361-4a24-b55a-2be5fd506413",
   "metadata": {},
   "outputs": [
    {
     "name": "stdout",
     "output_type": "stream",
     "text": [
      "[1, 3, 4, 5, 8]\n",
      "[(2, 31), (1, 34), (3, 36)]\n"
     ]
    }
   ],
   "source": [
    "# Esempio:\n",
    "numbers = [5, 3, 8, 1, 4]\n",
    "sorted_numbers = sorted(numbers)\n",
    "print(sorted_numbers)  # Output: [1, 3, 4, 5, 8]\n",
    "\n",
    "# Esempio: ordinare una lista di tuple in base al secondo elemento\n",
    "pairs = [(1, 34), (3, 36), (2, 31)]\n",
    "sorted_pairs = sorted(pairs, key=lambda x: x[1])\n",
    "print(sorted_pairs)"
   ]
  },
  {
   "cell_type": "markdown",
   "id": "24766a7c-0da9-428a-afa4-0d0d4ada5b57",
   "metadata": {},
   "source": [
    "### DECORATOR"
   ]
  },
  {
   "cell_type": "markdown",
   "id": "ebd13104-cdd6-46a9-ac07-376e461054f9",
   "metadata": {},
   "source": [
    "Un decorator è essenzialmente una funzione che accetta un'altra funzione come argomento e ne crea una versione \"avvolta\" con funzionalità aggiuntive. Per usare un decorator, si utilizza l'operatore `@` prima della funzione da decorare."
   ]
  },
  {
   "cell_type": "code",
   "execution_count": 128,
   "id": "4f48995e-a782-4139-8333-e0a05d0704f3",
   "metadata": {},
   "outputs": [
    {
     "name": "stdout",
     "output_type": "stream",
     "text": [
      "Something is happening before the function is called.\n",
      "Ciao!\n",
      "Something is happening after the function is called.\n"
     ]
    }
   ],
   "source": [
    "# Definizione del decoratore:\n",
    "def my_decorator(func):\n",
    "    def wrapper():    # funzione 'avvolgente'\n",
    "        print(\"Something is happening before the function is called.\")\n",
    "        func()\n",
    "        print(\"Something is happening after the function is called.\")\n",
    "    return wrapper\n",
    "    \n",
    "# Esempio di funzione decorata:\n",
    "@my_decorator\n",
    "def say_ciao():\n",
    "    print(\"Ciao!\")\n",
    "# ora eseguendo la funzione decorata applichera anche il decoratore:\n",
    "say_ciao()"
   ]
  },
  {
   "cell_type": "markdown",
   "id": "3449f9be-d8f3-4731-a986-c8af75619fe8",
   "metadata": {},
   "source": [
    "NOTA: nel caso di funzioni con ritorno, bisogna aggiungere un ritorno alla funzione wrapper\n",
    "\n",
    "NOTA: nel caso di input alla funzione decorata, serve darli anche alla funzione wrapper"
   ]
  },
  {
   "cell_type": "code",
   "execution_count": 140,
   "id": "75c5701e-2d78-4c1f-8a81-01f5673b24c5",
   "metadata": {},
   "outputs": [
    {
     "name": "stdout",
     "output_type": "stream",
     "text": [
      "Tempo di esecuzione: 0.31522369384765625 secondi\n"
     ]
    }
   ],
   "source": [
    "# Esempio di decoratore che calcola il tempo di esecuzione della funzione che decora:\n",
    "# NOTA: '*args' sostituisce qualsiasi numero di variabili in input, '*kwargs' lo stesso per variabili chiave-valore\n",
    "import time \n",
    "def tempo_di_esecuzione(func):\n",
    "    def wrapper(*args, **kwargs):     \n",
    "        inizio = time.time()\n",
    "        risultato = func(*args, **kwargs)\n",
    "        fine = time.time()\n",
    "        print(f\"Tempo di esecuzione: {fine - inizio} secondi\")\n",
    "        return risultato\n",
    "    return wrapper\n",
    "\n",
    "@tempo_di_esecuzione\n",
    "def conta():\n",
    "    a = 1\n",
    "    for i in range(10000000):\n",
    "        a += 1\n",
    "\n",
    "conta()"
   ]
  },
  {
   "cell_type": "markdown",
   "id": "46b4e923-36e8-444b-8816-fba48d45227f",
   "metadata": {},
   "source": [
    "Funzioni potenzialmente utili da approfondire:\n",
    "  - [operator](https://docs.python.org/3/library/operator.html)\n",
    "  - [functools](https://docs.python.org/3/library/functools.html)\n",
    "  - [itertools](https://docs.python.org/3/library/itertools.html)\n",
    "  - [toolz](https://pypi.org/project/toolz/)\n",
    "  - [funcy](https://pypi.org/project/funcy/)"
   ]
  },
  {
   "cell_type": "markdown",
   "id": "1f27a82d-6472-4523-8456-f558f56088c9",
   "metadata": {},
   "source": [
    "Potenzialmente utile da approfnodire:\n",
    "\n",
    "A JIT (Just-In-Time) compiler refers to a technique used to improve the performance of code execution by compiling code into machine code at runtime, rather than interpreting it line by line. This helps speed up program execution by reducing the overhead of repeatedly interpreting code.\n",
    "\n",
    "While the standard Python interpreter, CPython, does not include a JIT compiler, there are alternative Python implementations that provide JIT compilation, such as PyPy or [numba](https://numba.pydata.org).\n",
    "\n",
    "JIT combines both interpretation and compilation. It interprets code initially, and as it identifies sections of code that are executed repeatedly, it compiles them to machine code, optimizing performance dynamically."
   ]
  },
  {
   "cell_type": "code",
   "execution_count": 141,
   "id": "38f6cc8e-98e0-4ba0-8565-08a5ae877987",
   "metadata": {},
   "outputs": [
    {
     "data": {
      "text/plain": [
       "4950"
      ]
     },
     "execution_count": 141,
     "metadata": {},
     "output_type": "execute_result"
    }
   ],
   "source": [
    "from numba import jit\n",
    "\n",
    "@jit\n",
    "def fast_sum(arr):\n",
    "    total = 0\n",
    "    for i in arr:\n",
    "        total += i\n",
    "    return total\n",
    "\n",
    "fast_sum(list(range(100)))"
   ]
  },
  {
   "cell_type": "markdown",
   "id": "180bf711-d444-406e-8e3e-ba78e56b316d",
   "metadata": {},
   "source": [
    "## 7. CLASSI E OGGETTI\n",
    "Si tratta di strutture che permettono di definire nuovi tipi di dato personalizzati combinando variabili e funzioni.\n",
    "La funzione `init` e il parametro `self` fanno parte del cosiddetto costruttore, usato implicitamente da Python per definire nuovi oggetti di tale classe (noi poi non li usiamo esplicitamente)."
   ]
  },
  {
   "cell_type": "code",
   "execution_count": 143,
   "id": "10fd5c67-f39d-48fc-b805-6011776bcaeb",
   "metadata": {},
   "outputs": [
    {
     "name": "stdout",
     "output_type": "stream",
     "text": [
      "ciao sono mario\n",
      "buongiorno sono Anna e insegno Matematica\n"
     ]
    },
    {
     "data": {
      "text/plain": [
       "True"
      ]
     },
     "execution_count": 143,
     "metadata": {},
     "output_type": "execute_result"
    }
   ],
   "source": [
    "# Esempio:\n",
    "class Persona:                             # per le classi si usa la lettera maiuscola per convenzione\n",
    "    def __init__(self, nome, cognome):     # diamo due parametri (oltre a self)     \n",
    "        self.nome = nome                   # definisco l'uso di nome e cognome come proprietá del self (dell'oggetto che verrá creato)\n",
    "        self.cognome = cognome\n",
    "    def saluta(self):\n",
    "        print('ciao sono ' + self.nome)\n",
    "# creiamo oggetti di quella classe ( a cui dovró dare due argomenti in questo caso):\n",
    "persona1 = Persona('luca', 'rossi')        # il parametro self non va specificato\n",
    "persona2 = Persona('mario', 'verdi')\n",
    "persona2.saluta()                          # esempio di chiamata\n",
    "persona2.nome = 'Franco'                   # modifico un oggetto\n",
    "del persona2                               # elimino un oggetto\n",
    "\n",
    "# Python gode dell'ereditarietá, ovvero posso definire classi usando altre classi da cui eredita argomenti e funzioni:\n",
    "class Insegnante(Persona):\n",
    "    def __init__(self, nome, cognome, materia):\n",
    "        super().__init__(nome, cognome)    # con 'super()' faccio riferimento alla classe originaria (in questo caso Persona) e ne recupera il costruttore (cioe self.nome e cognome)\n",
    "        self.materia = materia\n",
    "    def saluta(self):                      # tale funzione era giá ereditata da Persona ma ora é stata sovrascitta in Insegnante ed é diversa\n",
    "        print('buongiorno sono ' + self.nome + \" e insegno \" + self.materia)\n",
    "insegnante1 = Insegnante('Anna', 'Neri', 'Matematica')\n",
    "insegnante1.saluta()\n",
    "\n",
    "# la funzione 'hasattr' ci dice se un oggetto possiede un certo attributo usando il costrutto 'hasattr(object, 'attribute_name')', e restituisce un booleano\n",
    "#esempio:\n",
    "hasattr(persona1, 'nome')     # restituirá True in questo caso"
   ]
  },
  {
   "cell_type": "markdown",
   "id": "be0e5c63-2f4f-4ab6-84a3-5cc2dd4e8f90",
   "metadata": {},
   "source": [
    "## 8. MODULI E LIBRERIE\n",
    "Si tratta di librerie/file esterni che possiamo implementare nel nostro programma.\n",
    "Un esempio banale é un programma scritto da noi con delle funzioni definite che noi andiamo a richiamare in un altro programma, altri esempi sono librerie note come Numpy, Matplotlib, ecc"
   ]
  },
  {
   "cell_type": "code",
   "execution_count": 3,
   "id": "912e4b06-a564-4473-ada3-8419dcb6729a",
   "metadata": {},
   "outputs": [
    {
     "name": "stdout",
     "output_type": "stream",
     "text": [
      "ciao Luca\n"
     ]
    }
   ],
   "source": [
    "# ad esempio in un file esterno chiamato 'miomodulo.py' scriviamo 'def saluta(nome): print('ciao ' + nome)' e lo importiamo cosí:\n",
    "import miomodulo as mm       # cosí importo un programma/libreria esterna e gli dó un abbreviativo\n",
    "mm.saluta('Luca')            # cosí uso una funzione definita nel mio altro programma/libreria\n",
    "# un modulo preinstallato in Python é 'Math', che include: min, max, abs, pow, sqrt, floor (arrotonda per difetto), ceil (per eccesso), pi (pi greco), funzioni trigonometriche,\n",
    "      #  funzioni iperboliche, exp, log, log2, log10\n",
    "import math      \n",
    "x = math.sqrt(4)\n",
    "y = math.pi      # pi greco\n",
    "z = math.e       # numero di eulero\n",
    "# con 'dir(math)' stampiamo tutte le funzioni disponibili nel pacchetto math\n",
    "# posso importare solo parte del modulo con 'from nome_modulo import nome_funzione_da_importare'\n",
    "# la libreria 'datetime' gestisce vari formati di date, tempi ecc\n",
    "# i pacchetti non giá inclusi in Python vanno installati tramite CONDA o PIP (che sono package manager) scrivendo su shell 'conda install nome_pacchetto', e poi importati come al solito\n",
    "\n",
    "# un pacchetto utile è uello per le lettere dell'alfabeto:\n",
    "from string import ascii_lowercase      # lettere minuscole\n",
    "from string import ascii_uppercase      # lettere maiuscole\n",
    "from string import printable            # tutti i caratteri stampabili; 0123456789abcdefghijklmnopqrstuvwxyzABCDEFGHIJKLMNOPQRSTUVWXYZ!\"#$%&\\'()*+,-./:;<=>?@[\\\\]^_{|}~ \\t\\n\\r\\x0b\\x0c"
   ]
  },
  {
   "cell_type": "markdown",
   "id": "1bc222f7-14d2-46a4-8e41-d9ea1e8ac6ce",
   "metadata": {},
   "source": [
    "## 9. LAVORARE CON FILE E CARTELLE\n",
    "Modalitá di apertura: ”r” = Lettura (default): il file deve esistere; ”w” = Scrittura: crea un nuovo file o sovrascrive il file esistente; ”a” = Aggiunta (append): aggiunge contenuti al file esistente; ”x” = Creazione: crea un nuovo file, ma genera un errore se il file esiste già."
   ]
  },
  {
   "cell_type": "code",
   "execution_count": 1,
   "id": "b9301c8c-b925-4b50-bad7-a842821a5157",
   "metadata": {},
   "outputs": [
    {
     "name": "stdout",
     "output_type": "stream",
     "text": [
      "sovrascriv\n",
      "o cio che voglio al testo\n",
      "\n",
      "non esiste un file con questo nome\n"
     ]
    }
   ],
   "source": [
    "fin = open('testo.txt', 'r')           # apriamo il file in modalitá lettura\n",
    "print(fin.read(10))                    # leggiamo i primi 10 caratteri\n",
    "print(fin.readline())                  # leggiamo una riga (fino a quando va a capo) continuando la lettura dal carattere a cui si era arrivati (!!!!)\n",
    "print(fin.readline())                  # occhio che ogni volta va alla riga successiva a leggere (!!!)\n",
    "\n",
    "# Metodo per leggere gli input di una riga:\n",
    "riga = fin.readline()\n",
    "lista_di_parole = riga.split()         # con 'split' definisco una lista dentro cui ho ciascuna parola della riga letta (le divide vedendo gli spazi)\n",
    "fin.close()                            # chiudiamo l'accesso al file\n",
    "\n",
    "fin = open('testo.txt', 'a')           # in talo modo scriveró in coda al testo giá presente\n",
    "fin.write('aggiungo cio che voglio in coda al testo')\n",
    "fin.close() \n",
    "\n",
    "fin = open('testo.txt', 'w')           # in tal modo andró a sovrascivere (!!!)\n",
    "fin.write('sovrascrivo cio che voglio al testo')\n",
    "fin.close()\n",
    "\n",
    "#per creare un file:\n",
    "fin = open('nuovotesto.txt', 'x')\n",
    "fin.close()\n",
    "\n",
    "# per eliminare un file:\n",
    "import os                         # libreria di Python che gestisce file e cartelle\n",
    "os.remove('nuovotesto.txt')\n",
    "\n",
    "# per vedere se un file esiste:\n",
    "if os.path.exists('nuovotesto.txt'):\n",
    "    os.remove('nuovotesto.txt')\n",
    "else:\n",
    "    print('non esiste un file con questo nome')\n",
    "    \n",
    "# per rimuovere una cartella:\n",
    "# os.rmdir('nomecartella')\n",
    "\n",
    "# posso usare il costrutto WITH per evitare di dover ricordare ogni volta di aprire e chiudere il flusso, in quanto fa tutto lui:\n",
    "with open('prova_with.txt', 'w') as fin:\n",
    "    fin.write('Ciao, mondo!')\n",
    "\n"
   ]
  },
  {
   "cell_type": "markdown",
   "id": "c873954a-1251-4c1d-b726-a1e6bea863e6",
   "metadata": {},
   "source": [
    "funzione apposita savetxt?\n",
    "\n",
    "funzione csv.reader"
   ]
  },
  {
   "cell_type": "code",
   "execution_count": null,
   "id": "44374715-dab5-494d-b0e6-f0d8b7f417c9",
   "metadata": {},
   "outputs": [],
   "source": []
  }
 ],
 "metadata": {
  "kernelspec": {
   "display_name": "Python 3 (ipykernel)",
   "language": "python",
   "name": "python3"
  },
  "language_info": {
   "codemirror_mode": {
    "name": "ipython",
    "version": 3
   },
   "file_extension": ".py",
   "mimetype": "text/x-python",
   "name": "python",
   "nbconvert_exporter": "python",
   "pygments_lexer": "ipython3",
   "version": "3.12.4"
  }
 },
 "nbformat": 4,
 "nbformat_minor": 5
}
