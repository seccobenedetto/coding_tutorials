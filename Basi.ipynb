{
 "cells": [
  {
   "cell_type": "markdown",
   "id": "ff7516df-c9bf-497d-be31-4192106c03e2",
   "metadata": {},
   "source": [
    "# BASI DEL LINGUAGGIO PYTHON\n",
    "In questo tutorial, esploreremo le basi del linguaggio Python. Regole generali:\n",
    "- Con il cancelletto `#` scriviamo i commenti. Va messo davanti ad ogni riga di commento.\n",
    "- Diversamente da C++, non ci sono punti e virgola a fine riga.\n",
    "- L'indentazione (tab) fa parte del codice, e Python se la aspetta dopo un `if`, `for`, ecc.\n",
    "- Per stampare su terminale si usa `print()`, che può prendere molteplici input, come `print(\"ciao\", a, b)`, che li spazia automaticamente. \n",
    "  - Se usiamo il `+` invece della virgola, i valori non verranno spaziati automaticamente.\n",
    " \n",
    "Esistono due categorie di oggetti: *mutabili* e *immutabili* (autoesplicativo). Se passi alla funzione oggetti IMMUTABILI (come int, float, bool, complex, str, tuple...) qualsiasi modifica su di essi verra fatta invece su una loro copia, ma se passi oggetti MUTABILI (come list, dict, set...) verranno modificati gli orginali all'esterno della funzione poiche cio che passi e una reference! Per osservare questa differenza puoi usare le funzioni `id(x)` che ritorna l'indirizzo di memoria dell'oggetto x e `x is y`che ritorna True solo se i due oggetti comparati x e y hanno lo stesso indirizzo di memoria. Per approfondire clicca [qui](https://realpython.com/pointers-in-python/).\n",
    "\n",
    "This tutorial is written usingg Jupyter Notebook. To know how it works and how to interact with it, check [this](https://nbviewer.org/urls/bitbucket.org/ipre/calico/raw/master/notebooks/Documentation/Reference%20Guide/Reference%20Guide.ipynb)."
   ]
  },
  {
   "cell_type": "markdown",
   "id": "8f02aae4-d3ed-4235-9ed2-41fa7abbda4a",
   "metadata": {},
   "source": [
    "## 1. INPUT E OUTPUT"
   ]
  },
  {
   "cell_type": "code",
   "execution_count": 8,
   "id": "2b3a4f06",
   "metadata": {},
   "outputs": [
    {
     "name": "stdout",
     "output_type": "stream",
     "text": [
      "CIAO\n"
     ]
    },
    {
     "name": "stdin",
     "output_type": "stream",
     "text": [
      "Inserisci qualcosa:  1\n"
     ]
    },
    {
     "name": "stdout",
     "output_type": "stream",
     "text": [
      "1\n",
      "\n",
      "\n",
      "ciao\n"
     ]
    }
   ],
   "source": [
    "print(\"CIAO\")  # stampare OUTPUT su terminale\n",
    "messaggio = input(\"Inserisci qualcosa: \")  # variabile di INPUT\n",
    "print(messaggio)\n",
    "\n",
    "# per andare a capo di usa '\\n':\n",
    "print('\\n')\n",
    "print('ciao')"
   ]
  },
  {
   "cell_type": "markdown",
   "id": "e94cfe89",
   "metadata": {},
   "source": [
    "## 2. VARIABILI\n",
    "Le variabili vanno sempre subito inizializzate, non possono essere solo definite. Se non specificato, Python capisce automaticamente il tipo di dato assegnato (int, float, stringa, bool...).\n"
   ]
  },
  {
   "cell_type": "code",
   "execution_count": 2,
   "id": "45bc548f",
   "metadata": {},
   "outputs": [],
   "source": [
    "a = 1              # definizione standard\n",
    "x, y, z = 3, 4, 5  # definizione multipla\n",
    "d = e = f = 6.7    # definizione allo stesso valore\n",
    "g = a + x          # definizione usando altre variabili"
   ]
  },
  {
   "cell_type": "markdown",
   "id": "4aa1beec",
   "metadata": {},
   "source": [
    "### STRINGHE\n",
    "Le stringhe in Python sono gestite come concettualmente come un array di caratteri. Puoi accedere ai singoli caratteri tramite l'indice (che parte da zero). NOTA: python vede anche gli spazi come caratteri"
   ]
  },
  {
   "cell_type": "code",
   "execution_count": 2,
   "id": "09fe3a7b",
   "metadata": {},
   "outputs": [
    {
     "name": "stdout",
     "output_type": "stream",
     "text": [
      "STRINGA CHE PUÒ \n",
      "        ANDARE A CAPO\n",
      "-1\n",
      "ciao    a    tutti\n",
      "Ciao sono Mario Rossi, ho 40 anni e peso \"circa\" 70.00 kg\n",
      "12345\n"
     ]
    }
   ],
   "source": [
    "aa = \"ciao ciao\"   # definizione di una stringa\n",
    "bb = \"\"\"stringa che può \n",
    "        andare a capo\"\"\"  # con tre virgolette posso andare a capo con la stringa\n",
    "\n",
    "# Accedere ai caratteri di una stringa:\n",
    "bb[2]      # accedo al terzo carattere (si parte da 0)\n",
    "bb[:5]     # accedo fino al sesto carattere (l'indice di destra è ESCLUSO)\n",
    "bb[5:]     # accedo dal sesto carattere compreso\n",
    "bb[2:5]    # accedo dal terzo (compreso) fino al sesto carattere escluso\n",
    "len(bb)    # restituisce la lunghezza della stringa\n",
    "\n",
    "# Metodi utili:\n",
    "bb = bb.upper()   # scrive tutto in maiuscolo\n",
    "print(bb)\n",
    "bb.lower()   # scrive tutto in minuscolo\n",
    "bb.strip()   # rimuove di default gli spazi SOLO all'inizio e alla fine della stringa (o caratteri specificati con 'strip('abc')' )\n",
    "bb.split()   # divide la stringa in una lista di parole usando come separatore di default lo spazio (se no va specifcato tra parentesi)\n",
    "bb.replace(\"ciao\", \"salve\")  # sostituisce le occorrenze di \"ciao\" con \"salve\"\n",
    "bb.count('a')  # conta quante sottostinghe di un certo tipo ci sono nella stringa\n",
    "print(bb.find('a'))          # restituisce l'indice alla prima occorrenza dell'elemento cercato\n",
    "\n",
    "# con il metodo 'join' posso unire in una stringa elementi di un iterabile di stringhe (liste ecc), separati da qualcosa che specifico\n",
    "# la sintassi é ' nuova_stringa = \"separatore\".join(iterabile) '\n",
    "x = [\"ciao\", \"a\",  \"tutti\"]\n",
    "frase_mix = \"    \".join(x)   # in questo esempio lascio quattro spazi come separatore tra gli elementi di x\n",
    "print(frase_mix)\n",
    "\n",
    "# Esempio di formattazione:\n",
    "presentazione = \"Ciao sono Mario Rossi, ho {} anni e peso \\\"circa\\\" {:.2f} kg\"\n",
    "# Con le graffe posso inserire valori all'interno della stringa\n",
    "# Con {:.2f} specifichiamo di mostrare due cifre dopo la virgola\n",
    "print(presentazione.format(40, 70))\n",
    "\n",
    "# un modo per unire gli elmeenti di una lista in una stringa è:\n",
    "lista = [1,2,3,4,5]\n",
    "parola = \"\"\n",
    "for c in lista: parola += str(c)\n",
    "print( parola )"
   ]
  },
  {
   "cell_type": "markdown",
   "id": "13376cd4-e6dc-45b1-b4b5-f7f1ef1a6a66",
   "metadata": {},
   "source": [
    "### F-STRING\n",
    "Una f-string in Python (formato stringa letterale) è una funzionalità introdotta in Python 3.6 che consente di incorporare espressioni \n",
    "all'interno di una stringa in modo chiaro e conciso. La sintassi per usarle è la seguente: `f\"qualcosa {espressione} qualcosa\"`, ad esempio `f\"In casa ho {variabile: formato} grammi di farina\"`."
   ]
  },
  {
   "cell_type": "code",
   "execution_count": 7,
   "id": "2db7f964-621a-456e-9269-5845c2691c9e",
   "metadata": {},
   "outputs": [
    {
     "name": "stdout",
     "output_type": "stream",
     "text": [
      "Ciao, mi chiamo Alice e ho 25 anni.\n",
      "Il numero formattato è 123.46\n",
      " 'a' in notaz esponenziale è 1.23e-11\n"
     ]
    }
   ],
   "source": [
    "# Esempio di formattazione base:\n",
    "nome = \"Alice\"\n",
    "eta = 25\n",
    "messaggio = f\"Ciao, mi chiamo {nome} e ho {eta} anni.\"\n",
    "print(messaggio)\n",
    "\n",
    "# Esempio di formattazione con numeri:\n",
    "numero = 123.4567\n",
    "print(f\"Il numero formattato è {numero:.2f}\")  # la seconda f sta per 'float' e indica la quantita di cifre decimali (2 in questo caso)\n",
    "# se vuoi il numero in notazione esponenziale puoi usare '.e' per esprimere le cifre da mostrare:\n",
    "a = 0.00000000001234\n",
    "print(f\" 'a' in notaz esponenziale è {a:.2e}\")"
   ]
  },
  {
   "cell_type": "markdown",
   "id": "b7c6cf62-2951-42a1-a3bf-da35f564cc85",
   "metadata": {},
   "source": [
    "La vecchia formattazione ereditata da python 2 funziona cosi:"
   ]
  },
  {
   "cell_type": "code",
   "execution_count": 8,
   "id": "b16f7d2f-8d4c-40a1-9629-ce1602a1c060",
   "metadata": {},
   "outputs": [
    {
     "name": "stdout",
     "output_type": "stream",
     "text": [
      "1.000000000000000\n",
      "Primo numero:   453, Secondo numero:     59.1\n"
     ]
    }
   ],
   "source": [
    "print('%.15f' % (0.1 * 0.1 * 100))\n",
    "# In questa riga, sto usando l'operatore di formattazione %, dove %.15f significa che il numero deve essere rappresentato con 15 cifre decimali.\n",
    "print(\"Primo numero: %5d, Secondo numero: %8.1f\" % (453, 59.058)) \n",
    "    # con '%' formatto la stringa, con '5d' voglio un intero di 5 cifre (al massimo mette spazi vuoti), \n",
    "    # con '8.1f' formatto un float di 8 cifre (o spazi se mancano cifre) e 1 cifra decimale"
   ]
  },
  {
   "cell_type": "markdown",
   "id": "9cb8c127",
   "metadata": {},
   "source": [
    "### CONOSCERE IL TIPO DI DATO\n",
    "Per conoscere il tipo di dato di una variabile, puoi usare la funzione `type()`."
   ]
  },
  {
   "cell_type": "code",
   "execution_count": 9,
   "id": "ea6505a4",
   "metadata": {},
   "outputs": [
    {
     "data": {
      "text/plain": [
       "float"
      ]
     },
     "execution_count": 9,
     "metadata": {},
     "output_type": "execute_result"
    }
   ],
   "source": [
    "type(a)  # per conoscere il tipo di dato assegnato dal PC"
   ]
  },
  {
   "cell_type": "markdown",
   "id": "de01b7e0",
   "metadata": {},
   "source": [
    "Per cambiare il tipo di dato (cioè \"castare\"):\n"
   ]
  },
  {
   "cell_type": "code",
   "execution_count": 12,
   "id": "2f560f47",
   "metadata": {},
   "outputs": [
    {
     "data": {
      "text/plain": [
       "True"
      ]
     },
     "execution_count": 12,
     "metadata": {},
     "output_type": "execute_result"
    }
   ],
   "source": [
    "j = float(5)    # j è un float con valore 5.0\n",
    "h = str(j)      # h ora è una stringa con valore \"5\"\n",
    "i = int(\"5\")    # i è un intero con valore 5\n",
    "bool(7)         # restituisce True perché 7 è un numero non nullo"
   ]
  },
  {
   "cell_type": "markdown",
   "id": "fa7d83ba-6c74-4ef2-9b00-68d651c973a7",
   "metadata": {},
   "source": [
    "### COPIES AND VIEWS\n",
    "A **copy** creates a new object that is a duplicate of the original one. Changes made to the copy do not affect the original object, and vice versa. There are two types of copies: shallow copy and deep copy. We need the library `import copy`.\n",
    "* SHALLOW copy: Only the top-level object is copied. If the original object contains references to other objects (e.g., a list of lists), the references are copied, not the objects themselves. In pratica crea una nuova struttura di dati (ad esempio, una nuova lista o un nuovo dizionario), ma non copia gli oggetti contenuti all'interno di essa, lasciandoli legati da una reference. We write `copy.copy(x)`\n",
    "* DEEP copy: A complete copy is made, including all nested objects. Changes to any part of the deep copy won’t affect the original object. In pratica crea una nuova struttura di dati e copie ricorsive di tutti gli oggetti al suo interno, creando nuove copie di ogni oggetto contenuto. In questo modo, anche gli oggetti annidati (come liste dentro una lista) vengono copiati. We write `copy.deepcopy(x)`"
   ]
  },
  {
   "cell_type": "code",
   "execution_count": 103,
   "id": "2bc0dd8c-005f-4b94-aacc-218432828606",
   "metadata": {},
   "outputs": [
    {
     "name": "stdout",
     "output_type": "stream",
     "text": [
      "Original before: [1, 2, [3, 4]]\n",
      "Original after shallow copy: [1, 2, [300, 4]]\n",
      "Original after deep copy:    [1, 2, [3, 4]]\n"
     ]
    }
   ],
   "source": [
    "import copy\n",
    "original = [1, 2, [3, 4]]\n",
    "print(\"Original before:\", original)  \n",
    "\n",
    "# SHALLOW Copy:\n",
    "shallow_copia = copy.copy(original)\n",
    "shallow_copia[0] = 100                # This won't affect the original\n",
    "shallow_copia[2][0] = 300             # This will affect the original's nested list\n",
    "print(\"Original after shallow copy:\", original)           \n",
    "\n",
    "# DEEP Copy:\n",
    "original = [1, 2, [3, 4]]\n",
    "deep_copia = copy.deepcopy(original)\n",
    "deep_copia[0] = 100                # This won't affect the original\n",
    "deep_copia[2][0] = 300             # this neither\n",
    "print(\"Original after deep copy:   \", original) "
   ]
  },
  {
   "cell_type": "markdown",
   "id": "22732035-cd15-4e16-b331-4c1997b011b1",
   "metadata": {},
   "source": [
    "A **view** provides a reference to the original object without creating a new object. Changes made through the view directly affect the original object because the view is simply another way of accessing the original data. NumPy arrays and Pandas DataFrames often deal with views when you slice or manipulate them."
   ]
  },
  {
   "cell_type": "code",
   "execution_count": 107,
   "id": "084357cc-3ea3-4ee4-8f0e-907b960def77",
   "metadata": {},
   "outputs": [
    {
     "name": "stdout",
     "output_type": "stream",
     "text": [
      "Original array: [  1 100   3   4]\n",
      "View:           [100   3]\n"
     ]
    }
   ],
   "source": [
    "import numpy as np\n",
    "arr = np.array([1, 2, 3, 4])\n",
    "view = arr[1:3]                 # This creates a view, not a copy\n",
    "view[0] = 100                   # Modifies the original array\n",
    "\n",
    "print(\"Original array:\", arr)   # Output: [  1 100   3   4]\n",
    "print(\"View:          \", view)  # Output: [100   3]"
   ]
  },
  {
   "cell_type": "markdown",
   "id": "ba98aed2-7429-4d4d-878b-930e515beb30",
   "metadata": {},
   "source": [
    "## 3. NUMERI E OPERAZIONI\n",
    "Integer numbers are represented by N bit words. Python3 allows you to store integers with practically unlimited precision, the only limitation comes from the (contiguous) space available in memory. In Python2 (deprecated), N depends on the PC architercture, N=64 in modern computers."
   ]
  },
  {
   "cell_type": "code",
   "execution_count": 1,
   "id": "bdc2286d-10d0-426f-a20f-cfd114ca396c",
   "metadata": {},
   "outputs": [],
   "source": [
    "a = 12 % 5   # '%' restituisce il resto della divisione\n",
    "b = 12 // 5  # '//' restituisce l'approssimazione per difetto della divisione\n",
    "c = 2 ** 3   # '**' restituisce l'elevamento a potenza\n",
    "a += 2               # sommo 2 al precendente valore di a\n",
    "y = min(5, 10, 25)   # 'min' prende il minimo valore della lista, poi c'é max, abs (=valore assoluto), pow (=potenza)\n",
    "# da aggiungere che @ fa la moltiplicazione matriciale\n",
    "\n",
    "# Per creare numeri complessi, si usa la funzione `complex(real_part, imaginary_part)`:\n",
    "z = complex(1., 2.)  # crea il numero complesso 1 + 2j"
   ]
  },
  {
   "cell_type": "markdown",
   "id": "a359cabd-8880-4515-82ab-9b2a1ff62b97",
   "metadata": {},
   "source": [
    "### BINARI, ESADECIMALI...\n",
    "Si possono automaticamente ottenere le rappresentazioni numeriche in altre basi con funzioni come `bin(x)` o `hex(x)`. To go back to decimal representation we use `int(string number, old base)`.\n",
    "\n",
    "IMPORTANTE: ciò che si ottiene in binario e esadecimale sono di fatto delle STRINGHE, non più numeri (e il prefisso 0b/0x è compreso)!!"
   ]
  },
  {
   "cell_type": "code",
   "execution_count": 32,
   "id": "20905edb-8437-4988-9917-b8531613a4b5",
   "metadata": {},
   "outputs": [
    {
     "name": "stdout",
     "output_type": "stream",
     "text": [
      "Binary representation of 31 : 0b11111\n",
      "<class 'str'>\n",
      "Hexadecimal representation of 31 : 0x1f\n",
      "<class 'str'>\n",
      "Decimal representation of 0b11111 : 31\n",
      "Decimal representation of 0x1f : 31\n"
     ]
    }
   ],
   "source": [
    "# An integer in decimal representation:\n",
    "a = 31\n",
    "\n",
    "# Its BINARY representation:\n",
    "a_binario = bin(a)\n",
    "print('Binary representation of', a, ':', a_binario)\n",
    "# '0b' stands for 'binary', then follows the binary number\n",
    "print(type(a_binario))\n",
    "\n",
    "# Its HEXADECIMAL representation\n",
    "a_hex = hex(a)\n",
    "print('Hexadecimal representation of', a, ':', a_hex)\n",
    "print(type(a_hex))\n",
    "\n",
    "# For converting back to decimal integer:\n",
    "print('Decimal representation of', a_binario, ':', int(a_binario, 2))\n",
    "print('Decimal representation of', a_hex, ':', int(a_hex, 16))"
   ]
  },
  {
   "cell_type": "code",
   "execution_count": 5,
   "id": "ba5c71af-fc91-4946-8b0b-71dd56a686fe",
   "metadata": {},
   "outputs": [
    {
     "name": "stdout",
     "output_type": "stream",
     "text": [
      "5\n",
      "<class 'int'>\n",
      "5\n"
     ]
    }
   ],
   "source": [
    "# Per definire un numero direttamente in binario:\n",
    "a = \"0b101\"\n",
    "b = int(a, 2)  # così ottengo il suo valore decimale\n",
    "print(b)\n",
    "\n",
    "# WARNING: Se definisco un numero in binario come fosse un int, python lo salva direttamente nella sua rappresentazione decimale:\n",
    "a = 0b0101   # è esattamente come scrivere 'a = 5'\n",
    "print(type(a))\n",
    "print(a)"
   ]
  },
  {
   "cell_type": "markdown",
   "id": "684879ae-8dcc-404d-aa36-0842eca5e05c",
   "metadata": {},
   "source": [
    "Come visto sopra però, i numeri binari e esadecimali sono salvati con prefissi `0b` e `0x`. E se volessi il numero duro e crudo? \n",
    "Esempio: ` f\"{num:08b}\" `  è una f-string che consente di formattare un numero come stringa a piacimento. Qui `num` è la variabile da formattare/stampare, `08b` indica che vogliamo visualizzare num come binario, con esattamente 8 bit, e che se il numero ha meno di 8 bit, vengono aggiunti zeri a sinistra (padding); usando `8b` invece rimangono spazi vuoti senza zeri.\n",
    "Il formato `08b` è utile per visualizzare i numeri con un numero fisso di bit (8 in questo caso), indipendentemente dal valore effettivo."
   ]
  },
  {
   "cell_type": "code",
   "execution_count": 15,
   "id": "82740bb7-a7e6-4126-9ff4-f711c8877566",
   "metadata": {},
   "outputs": [
    {
     "name": "stdout",
     "output_type": "stream",
     "text": [
      "11110\n",
      "00011110\n",
      "11110\n"
     ]
    }
   ],
   "source": [
    "a = 30\n",
    "\n",
    "# Per stampare un binario solo con le cifre significative (senza 0b o zeri in piu):\n",
    "print(f\"{a:b}\")   # b=binary, then we have d=decimal, x=exadecimal, e=exponential notation\n",
    "print(f\"{a:08b}\") # print only bit values, including as many bits as requested\n",
    "\n",
    "# un altro modo per avere solo i bit senza prefisso è trattare la stringa come un vettore:\n",
    "a_bin = bin(a)\n",
    "b = a_bin[2:]\n",
    "print(b)"
   ]
  },
  {
   "cell_type": "markdown",
   "id": "6bf0c320-f16b-431b-9093-5002ee85d42f",
   "metadata": {},
   "source": [
    "### BITWISE OPERATORS\n",
    "Significa operatori che agiscono bit per bit, usando le porte logiche come AND, OR, NOT ecc. For more details check the python [documentation](https://realpython.com/python-bitwise-operators/).\n",
    "\n",
    "NOTA: tali funzione vanno applicate alla rappresentazione in intero, non alla stringa!"
   ]
  },
  {
   "cell_type": "code",
   "execution_count": 40,
   "id": "666f3fc9-afc2-488f-be90-aae07a7ebf8b",
   "metadata": {},
   "outputs": [
    {
     "name": "stdout",
     "output_type": "stream",
     "text": [
      "Bitwise AND  00001100 12\n",
      "Bitwise OR   00111101 61\n",
      "Bitwise XOR  00110001 49\n",
      "-60           -00111100\n",
      "-60 = ~60 +1  -00111100\n",
      "Left shift (towards most significant) of two positions  11110000 240\n",
      "Right shift (towards least significant) of two positions  00001111 15\n"
     ]
    }
   ],
   "source": [
    "a = 60           # 60 = 0011 1100 \n",
    "b = 13           # 13 = 0000 1101 \n",
    "\n",
    "# AND\n",
    "c = a & b        \n",
    "print(\"Bitwise AND \", f\"{c:08b}\", c)\n",
    "# the operation doesn't make in sense in decimal representation, it's normal\n",
    "\n",
    "# OR\n",
    "c = a | b\n",
    "print(\"Bitwise OR  \", f\"{c:08b}\", c)\n",
    "# XOR\n",
    "c = a ^ b\n",
    "print(\"Bitwise XOR \", f\"{c:08b}\", c)\n",
    "\n",
    "# NOT\n",
    "# il simbolo '~' inverte tutti i bit di un numero (ovvero fa complemento a 1). Se poi aggiungo 1 faccio il complemento a due (=metodo di rappresentazione dei negativi)\n",
    "print(\"-60          \", f\"{-60:09b}\")\n",
    "print(\"-60 = ~60 +1 \", f\"{~a+1:09b}\")\n",
    "\n",
    "# SHIFTS: traslo cifre del numero binario a dx o sx di una certa quantita\n",
    "c = a << 2       \n",
    "print(\"Left shift (towards most significant) of two positions \", f\"{c:08b}\",c)\n",
    "c = a >> 2       \n",
    "print(\"Right shift (towards least significant) of two positions \", f\"{c:08b}\",c)"
   ]
  },
  {
   "cell_type": "markdown",
   "id": "367d2d1c-b8d5-439a-96d2-17b49309e340",
   "metadata": {},
   "source": [
    "### FLOATING POINT NUMBERS\n",
    "Non-integer number cannot be represented with infinite precision on a computer. The 32 or 64 bits are divided among 3 quantities uniquely characterizing the number: $x_{float} = (-1)^s \\times 1.f \\times 2^{e-bias}$ where s is the sign, f the fractional part of the mantissa and e the exponent, bias is typically equal to half of the max value of e (127 bits and 1023 bits respectively). \n",
    "\n",
    "Numbers exceeding the maximum allowed value are *overflows* and the calculations involving them provide incorrect answers. Numbers smaller in absolute value than the minimum allowed value are *underflows* and simply set to zero, also in this case incorrect results are yielded. problems with underflow.\n",
    "Definitions of the stored values are given on the python doc [page](https://docs.python.org/2/library/sys.html#sys.float_info).\n",
    "\n",
    "NOTE: A lesson of paramount importance is that you must NEVER compare floating point numbers with the \"==\" operator as what is printed is not what is stored!"
   ]
  },
  {
   "cell_type": "markdown",
   "id": "cdd272f9-1265-48dd-9ca3-2c6248321709",
   "metadata": {},
   "source": [
    "Here some examples:"
   ]
  },
  {
   "cell_type": "code",
   "execution_count": 16,
   "id": "efbad00a-e23d-440b-bd37-7e20a7e332d2",
   "metadata": {},
   "outputs": [
    {
     "name": "stdout",
     "output_type": "stream",
     "text": [
      "7.00000000000001\n",
      "7.000000000000001\n",
      "7.0\n",
      "\n",
      "True\n",
      "False \n",
      "\n",
      "0x1.c178d4fdf3b64p+2\n",
      "1.0\n",
      "0.0\n"
     ]
    }
   ],
   "source": [
    "# Addding an increasingly small number to 7\n",
    "for e in [14, 15, 16]: print (7+1.0*10**-e)\n",
    "print('')\n",
    "\n",
    "# is 1/10 the same of 0.1?\n",
    "print (1 / 10 == 0.1)\n",
    "# Does it work for 0.3, too?\n",
    "print (0.1 + 0.2 == 0.3, '\\n')\n",
    "\n",
    "# The function ```float.hex()``` yield the exact value stored for a floating point number:\n",
    "print(7.023.hex())\n",
    "\n",
    "# problems with underflow:\n",
    "print (6.022e23 - 6.022e23 + 1)\n",
    "print (1 + 6.022e23 - 6.022e23)"
   ]
  },
  {
   "cell_type": "markdown",
   "id": "fb90eafa-df68-4b40-8904-8dedf8560d53",
   "metadata": {},
   "source": [
    "Per convertire numeri float in virgola mobile esadecimale (invece che binario) usiamo la funzione `float.hex()`, e per tornare alla rappresentazione decimale `float.fromhex()`."
   ]
  },
  {
   "cell_type": "code",
   "execution_count": 15,
   "id": "7a2b9bc7-09c9-43ea-9458-8777c9a0bbc8",
   "metadata": {},
   "outputs": [
    {
     "name": "stdout",
     "output_type": "stream",
     "text": [
      "3.141592653589793\n",
      "0x1.921fb54442d18p+1\n"
     ]
    }
   ],
   "source": [
    "import math\n",
    "x = math.pi\n",
    "print(x)\n",
    "print(x.hex())"
   ]
  },
  {
   "cell_type": "markdown",
   "id": "472d12c8-c7e1-4093-9217-c244e77babf7",
   "metadata": {},
   "source": [
    "### MATHEMATICAL FUNCTIONS"
   ]
  },
  {
   "cell_type": "markdown",
   "id": "2a676173-d5d6-420c-a493-868a9edbf0cf",
   "metadata": {},
   "source": [
    "**FUNCTION CODITIONING**: A mathematical function $f(x)$ is **well-conditioned** if $f(x+\\epsilon)\\simeq f(x)$ for all small perturbations $\\epsilon$. For a well-conditioned function, small pertubations in the input result in small effects in the output. However, a **poorly-conditioned**  (or ill-conditioned) problem only needs some small perturbation to have large effects. For example, inverting a nearly singluar matrix (a matrix whose determinant is close to zero) is a poorly conditioned problem.\n",
    "\n",
    "**ALGORITHM STABILITY**: Suppose we have a computer algorithm $g(x)$ that represents the mathematical function $f(x)$. The alorithm $g(x)$ is **numerically stable** if $g(x+\\epsilon) \\simeq f(x)$ and it is called **unstable** if large changes in the output are produced. Analyzing an algorithm for stability is more complicated than determining the condition of an expression, even if the algorithm simply evaluates the expression. This is because an algorithm consists of many basic calculations and each one must be analyzed and, due to roundoff error, we must consider the possibility of small errors being introduced in every computed value.\n",
    "\n",
    "In general, we need both a well-conditioned problem and an algorihtm with sufficient numerical stabilty to obtain reliably accurate answers. In this case, we can be sure that $g(x) \\simeq f(x)$.\n",
    "\n",
    "So in summary:\n",
    "- Well-/ill-Conditioned refers to the problem; Stable/Unstable refers to an algorithm or numerical process.\n",
    "- If the problem is well-conditioned then there is a stable way to solve it.\n",
    "- If the problem is poorly-conditioned then there is no reliable way to solve it in a stable way.\n",
    "- Mixing roundoff-error with an unstable process is a recipe for disaster."
   ]
  },
  {
   "cell_type": "markdown",
   "id": "5c690278-9374-485f-98ee-0f053a8e8822",
   "metadata": {},
   "source": [
    "### 3.1 NUMERI CASUALI"
   ]
  },
  {
   "cell_type": "markdown",
   "id": "b7c51443-58be-41a6-959b-fe62d26978f9",
   "metadata": {},
   "source": [
    "#### LINEAR CONGRUENTIAL GENERATOR (LCG)\n",
    "[LCG](https://en.wikipedia.org/wiki/Linear_congruential_generator) is among the simplest and most popular pseudo random number generators. It relies on the recursive and fully deterministic relation:\n",
    "$$\n",
    "z_{i+1}=(a z_i+c)\\mod{m}\n",
    "$$\n",
    "The number $z_0$ is called the *seed*, and setting it allows us to have a reproducible sequence of (pseudo) random numbers. The LCG is typically coded to return $z/m$, a floating point number in $(0, 1)$. Obviosuly, this can be easily scaled to any other range $(a,b)$.\n",
    "Note that $z \\le m-1$ always holds, the yielded $z/m$ result is thus on purpose strictly smaller than 1. "
   ]
  },
  {
   "cell_type": "code",
   "execution_count": 7,
   "id": "0913c7cc-60ab-4d2d-a840-2bcc4e7ebdb8",
   "metadata": {},
   "outputs": [
    {
     "data": {
      "text/plain": [
       "[0.05429420690052211,\n",
       " 0.029913224279880524,\n",
       " 0.019955178955569863,\n",
       " 0.19417739612981677]"
      ]
     },
     "execution_count": 7,
     "metadata": {},
     "output_type": "execute_result"
    }
   ],
   "source": [
    "def lcg(m=2**32, a=1103515245, c=12345):\n",
    "    lcg.current = (a*lcg.current + c) % m\n",
    "    return lcg.current/m\n",
    "\n",
    "# setting the seed (=starting point)\n",
    "lcg.current = 1234    # '.current' è un attributo della funzione lcg\n",
    "\n",
    "[lcg() for i in range(4)]"
   ]
  },
  {
   "cell_type": "markdown",
   "id": "28df7b32-e59d-460f-baa4-8878165d7ac3",
   "metadata": {},
   "source": [
    "#### INVERSE CDF METHOD\n",
    "Il metodo della CDF inversa è utilizzato per generare numeri casuali con una distribuzione desiderata f(x) sfruttando una distribuz. uniforme in [0,1]. Si basa sul fatto che la CDF F(x) è una funzione crescente e continua che mappa i valori x dell'intervallo [−∞,+∞] nell'intervallo [0,1]. Se conosciamo la CDF F(x), possiamo \"invertirla\" per determinare l'input x corrispondente a un valore casuale u∈[0,1] generato da una distribuzione uniforme.\n",
    "\n",
    "A limit for this method is that the CDF must be invertible (for example tha gaussian is excluded, for this see Box-Muller method).\n",
    "\n",
    "We could also create a random number generator for arbitrary distributions: suppose we have some random samples with an unknown distribution. We can still use the inverse transform method to create a random number generator from a random sample, by estimating the inverse CDF function using interpolation."
   ]
  },
  {
   "cell_type": "code",
   "execution_count": 1,
   "id": "c4ac6d95-75a6-40aa-b8ab-9d0dfc311993",
   "metadata": {},
   "outputs": [],
   "source": [
    "def expon_pdf(x, mu=1):\n",
    "    \"\"\"PDF of exponential distribution.\"\"\"\n",
    "    return mu*np.exp(-mu*x)\n",
    "\n",
    "def expon_cdf(x, mu=1):\n",
    "    \"\"\"CDF of exponetial distribution.\"\"\"\n",
    "    return 1 - np.exp(-mu*x)\n",
    "\n",
    "def expon_icdf(z, mu=1):\n",
    "    \"\"\"Inverse CDF of exponential distribution - i.e. quantile function.\"\"\"\n",
    "    return -np.log(1-z)/mu"
   ]
  },
  {
   "cell_type": "markdown",
   "id": "4e99b12b-985a-464b-810b-14a8be564d66",
   "metadata": {},
   "source": [
    "#### Box-Muller: generating normally distributed random numbers\n",
    "The inverse method is not applicable even for the gaussian distribution:\n",
    "\n",
    "$$\n",
    "\\frac{1}{\\sqrt{2\\pi\\sigma^2}}\\int_{-\\infty}^{x} \\exp{-\\frac{x'^2}{2\\sigma^2}} dx' = z\n",
    "$$\n",
    "\n",
    "is not solvable. The trick is to consider a two dimensional gaussian function with the same $\\sigma$ on both coordinates:\n",
    "\n",
    "$$\n",
    "p(x)dx \\times p(y)dy = \\frac{1}{\\sqrt{2\\pi\\sigma^2}} \\exp{-\\frac{x^2}{2\\sigma^2}} \\times \\frac{1}{\\sqrt{2\\pi\\sigma^2}} \\exp{-\\frac{y^2}{2\\sigma^2}} = \\frac{1}{2\\pi\\sigma^2} \\exp{-\\frac{(x^2+y^2)}{2\\sigma^2}}dxdy\n",
    "$$\n",
    "\n",
    "which written in radial coordinates:\n",
    "\n",
    "$$\n",
    "x=r\\cos{\\theta};\\,\\,\\,\n",
    "y=r\\sin{\\theta}\n",
    "$$\n",
    "\n",
    "$$\n",
    "p(r,\\theta)dr d\\theta = \\frac{r}{\\sigma^2} \\exp{-\\frac{r^2}{2\\sigma^2}} dr \\times \\frac{d\\theta}{2\\pi} = p(r)dr \\times p(\\theta)d\\theta\n",
    "$$\n",
    "\n",
    "with both $p(r)$ and $p(\\theta)$ normalized to 1. Now, the latter is a simple uniform distribution, whereas the former is solvable:\n",
    "\n",
    "$$\n",
    "\\frac{1}{\\sigma^2} \\int_{0}^{r} \\exp{-\\frac{r^2}{2\\sigma^2}} rdr = z\n",
    "$$\n",
    "\n",
    "which gives, similarly to inverse CDF method:\n",
    "\n",
    "$$\n",
    "r=\\sqrt{-2\\sigma^2\\log{(1-z)}}\n",
    "$$\n"
   ]
  },
  {
   "cell_type": "markdown",
   "id": "38c7b086-800b-41a3-bcdb-f1e2eaa8344a",
   "metadata": {},
   "source": [
    "#### METODO ACCETTA-NEGA (o rejection-sampling)\n",
    "Another commmon way to sample data from a given distribution $f(x)$ is the Rejection sampling. You typically propose a more convenient distribution $g(x)$, which is easy to sample from and \"covers\" $f(x)$, i.e. satisfies $f(x)\\le M g(x)$ for some $M$ and all $x$.\n",
    "\n",
    "The steps are the following:\n",
    "* Generate a random sample $X$ from $g(x)$\n",
    "* Generate a number $U$ from the uniform distribution [0,1]\n",
    "* Compute the acceptance condition:\n",
    "$U\\le\\frac{f(X)}{M g(X)}$: if satisfied, accept $X$ as a sample for $f(x)$ otherwise reject it and restart"
   ]
  },
  {
   "cell_type": "code",
   "execution_count": 22,
   "id": "4485452d-399a-46ea-9a29-23f9cf496a65",
   "metadata": {},
   "outputs": [
    {
     "data": {
      "text/plain": [
       "<matplotlib.legend.Legend at 0x77185e7b9d00>"
      ]
     },
     "execution_count": 22,
     "metadata": {},
     "output_type": "execute_result"
    },
    {
     "data": {
      "image/png": "[encoded data removed]",
      "text/plain": [
       "<Figure size 400x300 with 1 Axes>"
      ]
     },
     "metadata": {},
     "output_type": "display_data"
    }
   ],
   "source": [
    "import numpy as np\n",
    "import matplotlib.pyplot as plt\n",
    "\n",
    "# Esempio con f(x) = 2x, g(x) = 1 e M = 2\n",
    "def accetta_nega():\n",
    "    while True:\n",
    "        X = np.random.uniform(0, 1)   # enera X da g(x) = 1 (uniforme su [0, 1])\n",
    "        U = np.random.uniform(0, 1)   # Genera U da distribuzione uniforme su [0, 1]\n",
    "        # Controlla il criterio di accettazione\n",
    "        if U <= X:  # f(x) / (M * g(x)) = 2x / 2 = x\n",
    "            return X  # Accetta X come campione\n",
    "\n",
    "# Genera 10000 campioni\n",
    "campioni = [accetta_nega() for i in range(100000)]\n",
    "\n",
    "# Grafico dei risultati\n",
    "x = np.linspace(0, 1, 1000)\n",
    "plt.figure(figsize=(4,3))\n",
    "plt.hist(campioni, bins=100, density=True, alpha=0.6, color=\"blue\")\n",
    "plt.plot(x, 2 * x, label=\"f(x) = 2x (teorica)\", color=\"red\")\n",
    "plt.legend()"
   ]
  },
  {
   "cell_type": "markdown",
   "id": "cc8a071d-89f6-44e6-88e4-297cca018428",
   "metadata": {},
   "source": [
    "# 4. CONDIZIONI E CICLI\n",
    "Funzioni utili che si integrano con i cicli sono:\n",
    "* `range(start, stop, step)` per generare una sequenza di interi (nota: l'estremo destro é escluso)\n",
    "* `enumerate(oggetto, start=0)` per scorrere delle un oggetto (liste/array...) associando un indice"
   ]
  },
  {
   "cell_type": "markdown",
   "id": "978a45b0-2046-4fca-9548-5bfe8ca79a4e",
   "metadata": {},
   "source": [
    "### IF\n",
    "Nota: la condizione dell'if può essere messa tra parentesi tonde se si vuole maggiore leggibilità."
   ]
  },
  {
   "cell_type": "code",
   "execution_count": 1,
   "id": "9bc9be7e-d5ed-4ea1-b52f-464cbc80747f",
   "metadata": {},
   "outputs": [
    {
     "name": "stdout",
     "output_type": "stream",
     "text": [
      "5 minore di 10\n",
      "ok\n"
     ]
    }
   ],
   "source": [
    "if 0 < 5 < 10:                        # sono obbligatori i 2 punti dopo e l'indentazione sotto all'if\n",
    "    print(\"5 minore di 10\")           # NOTA: quando ho un solo statement posso scrivere l'if su una sola riga\n",
    "elif (5 > 10):                          # elif sta per else if\n",
    "    print(\"5 maggiore di 10\")\n",
    "else:\n",
    "    print(\"5 uguale a 10 o negativo\")\n",
    "# con '==' verifichiamo uguaglianza, con '!=' la non uguaglianza, poi c'é '<=', '>=', 'and', 'or', 'not' \n",
    "x = [1,2,5,8]\n",
    "if 2 in x:          # 'in' guarda dentro la lista in x\n",
    "    print('ok')"
   ]
  },
  {
   "cell_type": "markdown",
   "id": "8d28c287-3bc7-4a6b-9e5c-9f6f229b7e9b",
   "metadata": {},
   "source": [
    "### WHILE"
   ]
  },
  {
   "cell_type": "code",
   "execution_count": 21,
   "id": "c1654ff9-371e-4b9d-b549-7d80dd837d96",
   "metadata": {},
   "outputs": [
    {
     "name": "stdout",
     "output_type": "stream",
     "text": [
      "1\n",
      "2\n"
     ]
    }
   ],
   "source": [
    "i = 1\n",
    "while i < 4:\n",
    "    print(i)\n",
    "    i+=1           # non si puó scrivere i++ su python\n",
    "    if i == 2:\n",
    "        continue   # con 'continue' passo alla prossima iterazione del while senza fare le azioni sotto a continue (in questa iterazione)\n",
    "    if i == 3:\n",
    "        break      # con'break' esco dal ciclo, quindi stampo solo fino a 2 in questo caso\n",
    "    #NOTA: tutto ció che é indentato sotto al while é dentro il ciclo\n",
    "else:\n",
    "    print(\"ho finito\")       # 'else' si mette facoltativo dopo il while, di solito per tenere traccia di quando finisce il ciclo"
   ]
  },
  {
   "cell_type": "markdown",
   "id": "31f1f9bc-0925-4d3c-aa57-0b64ad0910ce",
   "metadata": {},
   "source": [
    "### FOR"
   ]
  },
  {
   "cell_type": "code",
   "execution_count": 29,
   "id": "36942945-8696-4d0f-9931-de790b80568d",
   "metadata": {},
   "outputs": [
    {
     "name": "stdout",
     "output_type": "stream",
     "text": [
      "milano\n",
      "roma\n",
      "napoli\n",
      "ho finito\n",
      "1\n",
      "2\n",
      "3\n",
      "4\n",
      "5\n",
      "0 milano\n",
      "1 roma\n",
      "2 napoli\n"
     ]
    }
   ],
   "source": [
    "lista_citta = [\"milano\", \"roma\", \"napoli\"]\n",
    "\n",
    "for citta in lista_citta:\n",
    "    print(citta)\n",
    "# il 'for' scorre lungo un qualsiasi array/lista/ecc che gli dó in pasto\n",
    "# similmente al while posso usare break e continue\n",
    "else:\n",
    "    print(\"ho finito\")       # 'else' si mette facoltativo dopo il for, di solito per tenere traccia di quando finisce il ciclo\n",
    "\n",
    "# ciclo da 1 a 5:\n",
    "for i in range(1, 6):  # estremo destro escluso\n",
    "    print(i)\n",
    "\n",
    "# Iterare con enumerate\n",
    "for index, citta in enumerate(lista_citta):\n",
    "    print(index, citta)"
   ]
  },
  {
   "cell_type": "markdown",
   "id": "3c526b89-7fda-4683-b50f-d3a87540f838",
   "metadata": {},
   "source": [
    "## 5. COLLEZIONI DI DATI: Liste, Tuple, Set, Dizionari\n",
    "Si tratta di 'list', 'tuple', 'set', 'dictionary', che sono tipi diversi di 'array' di dati."
   ]
  },
  {
   "cell_type": "markdown",
   "id": "dbb676ff-d9a7-4c53-9872-de4987980aa9",
   "metadata": {},
   "source": [
    "### LISTE\n",
    "Sono array di elementi ordinati, modificabili a posteriori, e permettono elementi duplicati. Possono essere formate da elementi di diverso tipo o anche da altre liste stesse. NOTA: per le liste non funzionano metodi usati ad esempio per le stringhe come find, replace...\n",
    "\n",
    "Si definiscono tramite parentesi quadre con `list[a, b, c, ...]`. Si manipolano secondo `list[start:stop:step]`."
   ]
  },
  {
   "cell_type": "code",
   "execution_count": 1,
   "id": "20aefe8f-3a90-49ca-9adb-c3fdd09e578e",
   "metadata": {},
   "outputs": [
    {
     "data": {
      "text/plain": [
       "0"
      ]
     },
     "execution_count": 1,
     "metadata": {},
     "output_type": "execute_result"
    }
   ],
   "source": [
    "x = ['milano', 'roma', 'napoli']          # definizione di lista (si usano parentesi quadre!!!)\n",
    "x = list( ('milano', 'roma', 'napoli') )  # definizione alternativa\n",
    "y = ['ciao', 80, True]                    # puó essere formata da elementi di tipi diversi\n",
    "x[2]                                      # per accedere ai suoi elementi\n",
    "x[-1]                                     # punta all'ultimo elemento, poi si puó anche scrivere '-2' per il penultimo ecc\n",
    "x[0:3]                                    # considero gli elementi dal primo al quarto (ESTREMO DESTRO ESCLUSO)\n",
    "x[::-1]                                   # identifica la lista x ma ordinata al contrario\n",
    "x[1:3] = ['Brescia', 'Udine']             # per modificare piú elementi contemporaneamente\n",
    "x[0:] = ['Udine']                         # ora tutti gli elementi sono 'Udine'\n",
    "x.append('Brescia')                       # aggiunto nuovo elemento alla fine della lista\n",
    "x.insert(1,'Rovigo')                      # aggiunto in un posto specifico (da quel numero in poi gli altri elementi scalano in avanti)\n",
    "x.extend(y)                               # aggiungo gli elementi di y in coda ad x\n",
    "x.remove(80)                              # rimuovo specifico elemento\n",
    "x.pop()                                   # rimuovo ultimo elemento, o uno specifico se indico il suo indice di posizione\n",
    "x.reverse()                               # inverte l'ordine degli elementi\n",
    "x.sort()                                  # li metto in ordine numerico\n",
    "x.index('Udine')                          # restituisce l'indice all'elemento cercato\n",
    "x.count('foggia')                         # conto quanti elementi ci sono di quel tipo\n",
    "x.clear()                                 # svuoto la lista\n",
    "del x                                     # elimino intera lista (o un elemento della lista con 'del x[i]' ) \n",
    "\n",
    "# UTILE: per creare una lista con un numero prefissato di valori inizializzati a zero:\n",
    "y = [0]*100   # lista di 100 zeri   \n",
    "max(y)        # restituisce il valore massimo della lista"
   ]
  },
  {
   "cell_type": "markdown",
   "id": "b38793d9-9fbf-424c-8599-2470911f3fd5",
   "metadata": {},
   "source": [
    "Meritano un approfondimento le cosiddette **LIST COMPREHENSION**, ovvero metodi concisi ed efficienti di definire delle liste. The initial expression in a list comprehension can be any arbitrary expression, including another list comprehension.\n",
    " \n",
    "La sintassi generica é: `[espressione for elemento in iterabile if condizione]` ma può essere modificata in vari modi, aggiungendo altri for ad esempio.\n",
    "\n",
    "NOTA: similmente usando parentesi graffe al posto delle quadre si possono definire set comprehension e dictionary comprehension (leggermente diverse)"
   ]
  },
  {
   "cell_type": "code",
   "execution_count": 77,
   "id": "08fbcd9f-c821-430a-87b1-fb0c0fa87067",
   "metadata": {},
   "outputs": [
    {
     "data": {
      "text/plain": [
       "[(1, 3), (1, 4), (2, 3), (2, 1), (2, 4), (3, 1), (3, 4)]"
      ]
     },
     "execution_count": 77,
     "metadata": {},
     "output_type": "execute_result"
    }
   ],
   "source": [
    "x = ['milano', 'roma', 'napoli'] \n",
    "b = [i for i in range(len(x)) if x[i] != 'milano']  # cosí prende gli elementi di x che non sono milano\n",
    "\n",
    "# esempi equivalenti:\n",
    "squares = list( map( lambda x: x**2, range(10) ) )\n",
    "squares = [x**2 for x in range(10)]\n",
    "\n",
    "# For example, this listcomp combines the elements of two lists if they are not equal:\n",
    "[(x, y) for x in [1,2,3] for y in [3,1,4] if x != y]"
   ]
  },
  {
   "cell_type": "markdown",
   "id": "eb8c704a-befc-4692-8630-f56318863a51",
   "metadata": {},
   "source": [
    "Molto simili alle list comprehension sono i **generator**, che si costruiscono allo stesso modo ma usano le parentesi tonde al posto delle quadre, dunque la sintassi é `(espressione for elemento in iterabile if condizione)`. Il loro vantaggio é che appunto generano elementi uno alla volta, che poi non vengono salvati, risultando leggeri sulla memoria. Tuttavia possono risultare lenti in alcuni casi dovendo generare ogni elemento volta per volta."
   ]
  },
  {
   "cell_type": "markdown",
   "id": "c42bdf59-a134-407f-bfdb-1fcaaf54a4ac",
   "metadata": {},
   "source": [
    "In matematica, posso usare le liste come array, e le liste di liste come matrici ecc. Un operatore utile in tal senso é l'operatore `*` (detto unpacking) funziona con qualsiasi iterabile (non solo con le liste). Esso espande un iterabile (ista, tupla, stringa...) in singoli argomenti posizionali."
   ]
  },
  {
   "cell_type": "code",
   "execution_count": 76,
   "id": "cb1f80a2-cd63-4d8f-945e-533101354bf8",
   "metadata": {},
   "outputs": [
    {
     "name": "stdout",
     "output_type": "stream",
     "text": [
      "[1, 2, 3, 4] [5, 6, 7, 8] [9, 10, 11, 12]\n",
      "[(1, 5, 9), (2, 6, 10), (3, 7, 11), (4, 8, 12)]\n"
     ]
    }
   ],
   "source": [
    "# Esempio:\n",
    "matrix = [\n",
    "     [1, 2, 3, 4],\n",
    "     [5, 6, 7, 8],\n",
    "     [9, 10, 11, 12],]       # matrice 3x4\n",
    "print(*matrix)               # cosi stampo la matrice come sequenza lineare dei tre vettori riga\n",
    "\n",
    "trasp = list(zip(*matrix))   # cosi creo una lista  accopiando uno ad uno gli elementi dei tre vettori riga, ovvero creo la trasposta!!!\n",
    "print(trasp)"
   ]
  },
  {
   "cell_type": "markdown",
   "id": "c4bf0cac-1a81-4694-a990-79ed057cfeb0",
   "metadata": {},
   "source": [
    "### TUPLE\n",
    "Simili alle liste ma non modificabili: sono array ordinati ma NON modificabili a posteriori (e permettono duplicati tra gli elementi). \n",
    "\n",
    "Per la definizione si usano le parentesi tonde. NON si possono aggiungere elementi, se non definendo una nuova lista uguale a questa tupla (tipo con 'z = list(x)' ). Si usano ancora 'len()', 'type()', e si puó accedere agli elementi come al solito con x[0] ecc. Gli elementi possono essere di tipo doverso. Per il resto si fa come con le liste."
   ]
  },
  {
   "cell_type": "code",
   "execution_count": 2,
   "id": "e01b87f8-8192-43d6-b0dc-0b67d0fa646e",
   "metadata": {},
   "outputs": [],
   "source": [
    "x = ('milano', 'roma', 'napoli')     # definizione standard (modo alternativo: 'x = tuple((elenco di cose))'  )\n",
    "y = ('milano', )                     # sintassi per una tupla di un solo elemento"
   ]
  },
  {
   "cell_type": "markdown",
   "id": "659dd117-1943-4045-94db-cc892716f589",
   "metadata": {},
   "source": [
    "### SET\n",
    "Sono array NON ordinati cioé non accedibili tramite indice (x[0] ecc) e quindi NON modificabili (e NON permettono duplicati). Si usano le parentesi graffe."
   ]
  },
  {
   "cell_type": "code",
   "execution_count": 6,
   "id": "899b87f3-6471-45cd-ae1c-4a3f58b463cd",
   "metadata": {},
   "outputs": [
    {
     "name": "stdout",
     "output_type": "stream",
     "text": [
      "milano\n",
      "roma\n",
      "napoli\n",
      "{'milano', 'roma', 'napoli'}\n"
     ]
    }
   ],
   "source": [
    "x = {'milano', 'roma', 'napoli'}          # definizione\n",
    "y = {'udine', 'venezia'}\n",
    "# NON posso usare gli indici tipo con x[0], posso accedere agli elementi solo con loop:\n",
    "for citta in x:\n",
    "    print(citta)\n",
    "# non posso aggiungere o cambiare elementi con la stessa sintassi di lista o tupla, tipo 'x[0] = 6'\n",
    "# posso aggiungere tramite '.add()' o eliminare con '.remove()' o '.discard()' e usare 'clear()' per svuotarlo\n",
    "# aggiungiamo:\n",
    "x.add('torino')\n",
    "# rimuoviamo:\n",
    "x.remove('torino')\n",
    "# stampiamo:\n",
    "print(x)"
   ]
  },
  {
   "cell_type": "markdown",
   "id": "f344a6be-9408-40e7-bd31-03581424c93d",
   "metadata": {},
   "source": [
    "### DICT\n",
    "I dict (dizionari) sono array ordinati (solo da Python 3.7 in su), modificabili, che memorizzano una relazione `chiave: valore`.\n",
    "\n",
    "Esempio: i values possono anche essere nomi di funzioni, cioè si può creare un dict di funzioni."
   ]
  },
  {
   "cell_type": "code",
   "execution_count": 87,
   "id": "e8a0e8f4-52b8-473d-bec7-792ff3cfcdbe",
   "metadata": {},
   "outputs": [
    {
     "name": "stdout",
     "output_type": "stream",
     "text": [
      "mario\n",
      "{'nome': 'mario', 'cognome': 'rossi', 'eta': 33, 'email': 'mario@rossi.com'}\n"
     ]
    },
    {
     "data": {
      "text/plain": [
       "dict_values(['mario', 'rossi', 33, 'mario@rossi.com'])"
      ]
     },
     "execution_count": 87,
     "metadata": {},
     "output_type": "execute_result"
    }
   ],
   "source": [
    "x = {'nome': 'mario', 'cognome': 'rossi', 'eta': 32}     # definizione\n",
    "print(x['nome'])                                         # accedo ai valori con la chiave tra parentesi quadre\n",
    "x['eta'] = 33                                            # modifico il valore associato alla chiave 'eta'\n",
    "x['email'] = 'mario@rossi.com'                           # aggiungo una chiave e relativo valore\n",
    "print(x)\n",
    "x.keys()            # per accedere a tutte le chiavi\n",
    "x.values()          # per accedere a tutti i valori"
   ]
  },
  {
   "cell_type": "markdown",
   "id": "4a2aede3-7c82-4805-b5c7-27a6ad2705b1",
   "metadata": {},
   "source": [
    "Similmente alle liste, posso creare le **dictionary comprehension**. La sintassi è: `{chiave: valore for elemento in iterabile}`"
   ]
  },
  {
   "cell_type": "code",
   "execution_count": 4,
   "id": "983ce26d-bce5-4ea6-b2d0-e130ae680c95",
   "metadata": {},
   "outputs": [
    {
     "name": "stdout",
     "output_type": "stream",
     "text": [
      "{0: 0, 1: 1, 2: 4, 3: 9, 4: 16}\n"
     ]
    }
   ],
   "source": [
    "squares = {x: x**2 for x in range(5)}\n",
    "print(squares)"
   ]
  },
  {
   "cell_type": "markdown",
   "id": "64019597-cb42-4694-ad34-9f3557320a4c",
   "metadata": {},
   "source": [
    "## 6. FUNZIONI\n",
    "Notice that functions don't specify the types of the arguments, like you would see in statically typed languages. This is both useful and dangerous. We could also define recursive functions (like Fibonacci)."
   ]
  },
  {
   "cell_type": "code",
   "execution_count": 43,
   "id": "afa3ad8a-f315-45c7-a2ae-abdd8dc41fb1",
   "metadata": {},
   "outputs": [
    {
     "name": "stdout",
     "output_type": "stream",
     "text": [
      "statement di cose da fare con argomenti  ciao 1 True\n"
     ]
    }
   ],
   "source": [
    "def nome_funzione(arg1, arg2, arg3):          # definizione standard (con quanti argomenti vuoi)\n",
    "    print('statement di cose da fare con argomenti ' , arg1 , arg2 , arg3)\n",
    "nome_funzione('ciao', str(1), str(True))\n",
    "\n",
    "# Esempio:\n",
    "def cube(x):\n",
    "    return x*x*x    # se voglio che la mia funzione restituisca qualche oggetto, devo usare 'return'\n",
    "\n",
    "# Se non so ancora quanti argomenti daró uso '*' e li chiamo con [] come farei con un array:\n",
    "def prova(*opzioni):\n",
    "    print('primo numero' + opzioni[0])\n",
    "    if opzioni[1] > 5:\n",
    "        print('il secondo argomento e maggiore di 5')\n",
    "\n",
    "# Posso mettere dei parametri di default che sono usati se non specifico gli argomenti:\n",
    "def sono_simpatico(simpatia=100):\n",
    "    return simpatia*10\n",
    "\n",
    "# funzione dentro una funzione:\n",
    "def func(x):\n",
    "    return x+1\n",
    "def derivata(func, x, delta):   # do come argomenti sia la funzione stessa sia i suoi argomenti!!\n",
    "    deriv = ( func(x+delta)-func(x) )/ delta\n",
    "    return deriv"
   ]
  },
  {
   "cell_type": "markdown",
   "id": "5f9c4a79-1be0-4c9c-b6bb-071396f24bc1",
   "metadata": {},
   "source": [
    "Si può ritornare non solo dei valori singoli, ma anche delle tuple o funzioni stesse. Appofondimenti sul `return`:"
   ]
  },
  {
   "cell_type": "code",
   "execution_count": 42,
   "id": "0f871a3e-ad75-46bf-8420-ace1004933a3",
   "metadata": {},
   "outputs": [
    {
     "name": "stdout",
     "output_type": "stream",
     "text": [
      "4\n"
     ]
    }
   ],
   "source": [
    "# Se faccio dei calcoli e volgio il risultato DEVO aggiungere 'return' altrimenti non mi ritorna nulla:\n",
    "def fai_somma(num1, num2):\n",
    "    somma = num1 + num2\n",
    "    return somma\n",
    "x = fai_somma(2,2)\n",
    "print(x)\n",
    "\n",
    "# con il 'return' faccio sí che una variabile sia disponibilie anche fuori dalla funzione (si parla di 'scope globale' invece che 'locale')\n",
    "# un altro modo per farlo é usare 'global'\n",
    "x = 100\n",
    "def prova():\n",
    "    global x          # qua dico che questa x sia la stessa che c'é fuori e non una nuova\n",
    "    print ('statement vari')\n",
    "\n",
    "# posso anche far tornare piu variabili:\n",
    "def swap(a, b):\n",
    "    return b, a  # NOTA: restituisce una tupla (b, a), non lista!!!!!!!!\n",
    "\n",
    "# Esempio in cui ho piu opzioni di ritorno:\n",
    "import math\n",
    "def sol1(a,b,c):\n",
    "    discrim = b**2-4*a*c\n",
    "    if discrim < 0:\n",
    "        print(\"Non ci sono soluzioni reali\")\n",
    "        return None  # se non si specifica il return, é di default 'None'\n",
    "    elif discrim == 0:\n",
    "        x = -b/(2*a)\n",
    "        return x\n",
    "    else:\n",
    "        x1 = (-b + math.sqrt(b**2-4*a*c))/(2*a)\n",
    "        x2 = (-b - math.sqrt(b**2-4*a*c))/(2*a)\n",
    "        return x1, x2"
   ]
  },
  {
   "cell_type": "markdown",
   "id": "93bf963d-a024-4944-b6fb-b5b8839dd02c",
   "metadata": {},
   "source": [
    "#### ATTRIBUTI\n",
    "In Python, le funzioni non sono solo blocchi di codice eseguibile: sono veri e propri oggetti. Questo significa che puoi assegnare loro attributi, proprio come faresti con un'istanza di una classe. La sintassi è: `nome_funzione.nome_attributo`. È una comoda alternativa all'utilizzo di variabili globali, o addirittura di classi (che hanno gli attributi ma sono più complesse)."
   ]
  },
  {
   "cell_type": "code",
   "execution_count": 3,
   "id": "04524c3b-8c55-4487-ad46-47dc6a2e3c6d",
   "metadata": {},
   "outputs": [
    {
     "name": "stdout",
     "output_type": "stream",
     "text": [
      "10.0\n",
      "15.0\n",
      "20.0\n"
     ]
    }
   ],
   "source": [
    "def aggiorna_media(valore):\n",
    "    aggiorna_media.count += 1          # attrinuto che aggiorna il conteggio dei valori\n",
    "    aggiorna_media.somma += valore     # attrinuto che aggiorna la somma dei valori\n",
    "    return aggiorna_media.somma / aggiorna_media.count   # ritorna la media aggiornata\n",
    "\n",
    "# Inizializziamo gli attributi della funzione\n",
    "aggiorna_media.count = 0 \n",
    "aggiorna_media.somma = 0  \n",
    "\n",
    "# Aggiungiamo numeri e mano a mano calcoliamo la media\n",
    "print(aggiorna_media(10))  # Output: 10.0 (media di [10])\n",
    "print(aggiorna_media(20))  # Output: 15.0 (media di [10, 20])\n",
    "print(aggiorna_media(30))  # Output: 20.0 (media di [10, 20, 30])"
   ]
  },
  {
   "cell_type": "markdown",
   "id": "9edb3585-f907-4c39-acae-d3797629c245",
   "metadata": {},
   "source": [
    "## 6.1 FUNZIONI PREINSTALLATE"
   ]
  },
  {
   "cell_type": "markdown",
   "id": "c38697a5-9674-485b-b43c-8ef6c4e4c010",
   "metadata": {},
   "source": [
    "### MAP\n",
    "The map function applies a function to each member of a collection"
   ]
  },
  {
   "cell_type": "code",
   "execution_count": 45,
   "id": "3df72e29-b459-4e2a-8c08-e72bb118efba",
   "metadata": {},
   "outputs": [
    {
     "name": "stdout",
     "output_type": "stream",
     "text": [
      "[0, 1, 8, 27, 64]\n"
     ]
    }
   ],
   "source": [
    "x = list(map(cube, range(5))) \n",
    "print (x)"
   ]
  },
  {
   "cell_type": "markdown",
   "id": "383418ec-71fb-4607-8ec3-7ebcf26ea00d",
   "metadata": {},
   "source": [
    "### FILTER\n",
    "The filter function applies a predicate to each member of a collection, retaining only those members where the predicate is True (memo: True è 1 mentre False è 0)"
   ]
  },
  {
   "cell_type": "code",
   "execution_count": 3,
   "id": "dcedab6f-98f3-4e65-a6ba-195f064d6656",
   "metadata": {},
   "outputs": [
    {
     "name": "stdout",
     "output_type": "stream",
     "text": [
      "[0, 2, 4]\n"
     ]
    }
   ],
   "source": [
    "def is_even(x):\n",
    "    return x%2 == 0        # ritorna i valori 'True' o 'False' in base a x\n",
    "print (list(filter(is_even, range(5))))"
   ]
  },
  {
   "cell_type": "markdown",
   "id": "44f72351-1326-4c84-9f28-d12f72f531ae",
   "metadata": {},
   "source": [
    "### ZIP\n",
    "The zip function is useful when you need to iterate over matched elements of multiple lists."
   ]
  },
  {
   "cell_type": "code",
   "execution_count": 124,
   "id": "eca5fa4a-72f5-4e99-9e13-62b259b670f5",
   "metadata": {},
   "outputs": [
    {
     "name": "stdout",
     "output_type": "stream",
     "text": [
      "1 10 a\n",
      "2 20 b\n",
      "3 30 c\n",
      "4 40 d\n"
     ]
    }
   ],
   "source": [
    "xs = [1, 2, 3, 4]\n",
    "ys = [10, 20, 30, 40]\n",
    "zs = ['a', 'b', 'c','d']\n",
    "for x, y, z in zip(xs, ys, zs):\n",
    "    print (x, y, z)"
   ]
  },
  {
   "cell_type": "markdown",
   "id": "8358ab14-d5a5-431b-93e2-b5da13c60edb",
   "metadata": {},
   "source": [
    "### LAMBDA\n",
    "Si usa per creare funzioni limitate e anonime (senza nome) che tanto servono solo temporaneamente. La sintassi é `lambda arg1, arg2, ... : expression `"
   ]
  },
  {
   "cell_type": "code",
   "execution_count": 121,
   "id": "cc1dca74-da16-40bc-8c33-ae998eaadf13",
   "metadata": {},
   "outputs": [
    {
     "name": "stdout",
     "output_type": "stream",
     "text": [
      "10\n",
      "7\n"
     ]
    }
   ],
   "source": [
    "doppio = lambda x: x * 2    # NOTA: 'doppio' é a sua volta una funzione\n",
    "print(doppio(5)) \n",
    "\n",
    "# una sintassi generale per le funzioni ma comoda per la lambda é:\n",
    "print(  (lambda x,y: x+y)(3,4)  )    # nella prima parentesi va la funzione (lambda in questo caso), nella seconda il suo input"
   ]
  },
  {
   "cell_type": "markdown",
   "id": "f89ed378-3ce7-40e0-ba57-293bd4cd3423",
   "metadata": {},
   "source": [
    "### REDUCE\n",
    "É utilizzata per applicare una funzione a un iterabile (ad esempio, una lista) in modo cumulativo, riducendo l'iterabile a un singolo valore. In pratica inizia prendendo i primi due elementi dell'iterabile, li passa alla funzione, e poi usa il risultato insieme al terzo elemento, e così via, fino a ridurre l'iterabile a un singolo valore. È parte del modulo functools, quindi devi importarla con `from functools import reduce`. \n",
    "\n",
    "La sintassi é data da: `reduce(func, iterable)`, dove func é una funzione a due argomenti."
   ]
  },
  {
   "cell_type": "code",
   "execution_count": 118,
   "id": "8517b597-1457-47bd-b7db-015cb7cc80d1",
   "metadata": {},
   "outputs": [
    {
     "data": {
      "text/plain": [
       "15"
      ]
     },
     "execution_count": 118,
     "metadata": {},
     "output_type": "execute_result"
    }
   ],
   "source": [
    "from functools import reduce\n",
    "\n",
    "def my_add(x, y):\n",
    "    return x + y\n",
    "\n",
    "reduce(my_add, [1,2,3,4,5])   # mi restituisce la somma degli elementi della lista"
   ]
  },
  {
   "cell_type": "markdown",
   "id": "e42fb25e-3a2c-4264-88ec-315e5ec351c9",
   "metadata": {},
   "source": [
    "### TIME e TIMEIT"
   ]
  },
  {
   "cell_type": "code",
   "execution_count": 116,
   "id": "eda00084-ca55-4599-bb55-1e80ad0021c3",
   "metadata": {},
   "outputs": [
    {
     "name": "stdout",
     "output_type": "stream",
     "text": [
      "Tempo di esecuzione: 1.8358230590820312e-05 secondi\n",
      "Tempo medio di esecuzione: 0.0006696980001379416 secondi\n",
      "Tempo medio di esecuzione: 0.000685968999960096 secondi\n"
     ]
    }
   ],
   "source": [
    "# TIME: e una funzione che permette di prendere il tempo iniziale e finale dell'esecuzione e calcolare la differenza\n",
    "import time\n",
    "start_time = time.time()\n",
    "# Qua inserisci codice di cui misurare il tempo di computazione\n",
    "end_time = time.time()\n",
    "print(\"Tempo di esecuzione:\", end_time - start_time, \"secondi\")\n",
    "\n",
    "\n",
    "# TIMEIT: e una funziona che permette di eseguire piu volte ('number') uno stesso codice per stimare il tempo medio ad eseguirlo\n",
    "# il codice di timeit va passato direttamente come stringa oppure indirettamente come funzione etserna\n",
    "# per usarlo su jup.notebook basta usare '%timeit codice'\n",
    "import timeit\n",
    "tempo_medio_a = timeit.timeit('sum(range(100))', number=1000)\n",
    "print(\"Tempo medio di esecuzione:\", tempo_medio_a, \"secondi\")\n",
    "\n",
    "def somma(): return sum(range(100))\n",
    "tempo_medio_b = timeit.timeit(somma, number=1000)                  # watch out: not 'somma()'\n",
    "print(\"Tempo medio di esecuzione:\", tempo_medio_b, \"secondi\")"
   ]
  },
  {
   "cell_type": "markdown",
   "id": "d26ead2d-032e-4f12-924e-e98a67d63149",
   "metadata": {},
   "source": [
    "### ITER\n",
    "É una funzione che genera iteratori da una lista."
   ]
  },
  {
   "cell_type": "code",
   "execution_count": 127,
   "id": "60c80703-edf9-42e7-b4a4-98d0065caf6b",
   "metadata": {},
   "outputs": [
    {
     "name": "stdout",
     "output_type": "stream",
     "text": [
      "1\n",
      "2\n",
      "3\n",
      "4\n"
     ]
    }
   ],
   "source": [
    "a = [1, 2, 3, 4]\n",
    "x_iter = iter(a)\n",
    "for x in x_iter:\n",
    "    print (x)"
   ]
  },
  {
   "cell_type": "markdown",
   "id": "8c58f1c0-47c0-4cd5-83b5-755aba638e24",
   "metadata": {},
   "source": [
    "### TRY AND EXCEPT\n",
    "Servono per testare righe di codice che potrebbero non funzionare."
   ]
  },
  {
   "cell_type": "code",
   "execution_count": 126,
   "id": "3d557d12-752b-4cec-b094-1ed950efd97e",
   "metadata": {},
   "outputs": [
    {
     "name": "stdout",
     "output_type": "stream",
     "text": [
      "c'é un problema\n"
     ]
    }
   ],
   "source": [
    "try:\n",
    "    print(k)          # k non é mai stata definita quindi non puó stamparla, e allora va su except invece che stopparsi il programma\n",
    "except:\n",
    "    print('c\\'é un problema')"
   ]
  },
  {
   "cell_type": "markdown",
   "id": "80f8f1a6-8ad5-405b-aa9d-06f9675504dc",
   "metadata": {},
   "source": [
    "È anche possibile prevedere il possibile errore che può generare (NameError...) così da fare debugging. Si può inoltre aggiungere il blocco **finally** che viene eseguito in ogni caso."
   ]
  },
  {
   "cell_type": "code",
   "execution_count": 127,
   "id": "bf032410-ac69-4f07-b3ba-05874225d61d",
   "metadata": {},
   "outputs": [
    {
     "name": "stdout",
     "output_type": "stream",
     "text": [
      "Errore: la variabile non è definita.\n",
      "Errore: divisione per zero non permessa.\n",
      "Errore: indice fuori dall'intervallo della lista.\n",
      "Errore: chiave non trovata nel dizionario.\n",
      "Errore: impossibile convertire la stringa in numero.\n",
      "Esecuzione terminata. Questo viene eseguito in ogni caso\n"
     ]
    }
   ],
   "source": [
    "try: print(k)  # NameError (k non è definita)\n",
    "except NameError: print(\"Errore: la variabile non è definita.\")\n",
    "\n",
    "# Se prevedo una possibile divisione per zero:\n",
    "try: risultato = 10 / 0  # ZeroDivisionError\n",
    "except ZeroDivisionError: print(\"Errore: divisione per zero non permessa.\")\n",
    "\n",
    "# Accesso a un indice fuori dall'intervallo di una lista:\n",
    "try:\n",
    "    lista = [1, 2, 3]\n",
    "    print(lista[5])  # IndexError\n",
    "except IndexError: print(\"Errore: indice fuori dall'intervallo della lista.\")\n",
    "\n",
    "# Accesso a una chiave non presente in un dizionario:\n",
    "try:\n",
    "    dizionario = {\"a\": 1}\n",
    "    print(dizionario[\"b\"])  # KeyError\n",
    "except KeyError: print(\"Errore: chiave non trovata nel dizionario.\")\n",
    "\n",
    "# Conversione errata di stringa in numero:\n",
    "try: numero = int(\"abc\")  # ValueError\n",
    "except ValueError: print(\"Errore: impossibile convertire la stringa in numero.\")\n",
    "finally: print(\"Esecuzione terminata. Questo viene eseguito in ogni caso\")  # Questo viene eseguito sempre, errore o no"
   ]
  },
  {
   "cell_type": "markdown",
   "id": "12987edd-e73a-4e7c-8fd8-e7e055ac83b3",
   "metadata": {},
   "source": [
    "#### RAISE AND EXCEPTION\n",
    "`raise` è una istruzione e non un metodo, mentre `Exception` è una classe predefinita in Python che rappresenta un errore. Quando usi raise, stai creando un'istanza di una classe di errore, come Exception o un'altra classe di errore personalizzata, e la lanci.\n",
    "\n",
    "L'istruzione raise è utilizzata per sollevare un'eccezione (errore) nel flusso di esecuzione del programma. La sintassi è: `raise Exception(\"Messaggio di errore\")`. In questo caso, stai sollevando un'eccezione di tipo Exception con un messaggio personalizzato..\n"
   ]
  },
  {
   "cell_type": "code",
   "execution_count": 128,
   "id": "2950bd0d-f6e1-4671-93d7-285c97e887af",
   "metadata": {},
   "outputs": [],
   "source": [
    "def controllo_positivo(numero):\n",
    "    if numero < 0:\n",
    "        raise ValueError(\"Il numero deve essere positivo!\")  # Solleva un errore specifico\n",
    "    return numero"
   ]
  },
  {
   "cell_type": "markdown",
   "id": "83e5e1fe-3333-45eb-b801-9bdd5e014ad3",
   "metadata": {},
   "source": [
    "### SORTED\n",
    "È una funzione che ordina gli elementi (che siano numeri o stringhe) di un iterabile (lista, tupla, numpy array ecc) restituendone una copia ordinata. \n",
    "\n",
    "La sintassi é `sorted(iterable, key=None, reverse=False)`, dove key é un'eventuale funzione per fare ordinamenti più complessi, mentre reverse se fissato su True inverte l'ordinamento classico crescente.\n"
   ]
  },
  {
   "cell_type": "code",
   "execution_count": 129,
   "id": "50a86b69-8361-4a24-b55a-2be5fd506413",
   "metadata": {},
   "outputs": [
    {
     "name": "stdout",
     "output_type": "stream",
     "text": [
      "[1, 3, 4, 5, 8]\n",
      "[(2, 31), (1, 34), (3, 36)]\n"
     ]
    }
   ],
   "source": [
    "# Esempio:\n",
    "numbers = [5, 3, 8, 1, 4]\n",
    "sorted_numbers = sorted(numbers)\n",
    "print(sorted_numbers)  # Output: [1, 3, 4, 5, 8]\n",
    "\n",
    "# Esempio: ordinare una lista di tuple in base al secondo elemento\n",
    "pairs = [(1, 34), (3, 36), (2, 31)]\n",
    "sorted_pairs = sorted(pairs, key=lambda x: x[1])\n",
    "print(sorted_pairs)"
   ]
  },
  {
   "cell_type": "markdown",
   "id": "24766a7c-0da9-428a-afa4-0d0d4ada5b57",
   "metadata": {},
   "source": [
    "### DECORATOR"
   ]
  },
  {
   "cell_type": "markdown",
   "id": "ebd13104-cdd6-46a9-ac07-376e461054f9",
   "metadata": {},
   "source": [
    "Un decorator è essenzialmente una funzione che accetta un'altra funzione come argomento e ne crea una versione \"avvolta\" con funzionalità aggiuntive. Il decorator si definisce in modo simile a come si fa con una funzione (vedi esempio sotto) e lo si usa tramite l'operatore `@` inserito prima della funzione da decorare.\n",
    "\n",
    "La sintassi per decorare una funzione f è:\n",
    "\n",
    "```python\n",
    "def mio_decoratore(f):\n",
    "    def wrapper(*args, **kwargs):\n",
    "        # decorazioni\n",
    "        return f(*args, **kwargs)  # Passa gli argomenti alla funzione f\n",
    "    return wrapper\n",
    "```\n",
    "\n",
    "NOTA: al decoratore devi passare solo la funzione da decorare, invece a wrapper devi passare i suoi argomenti!!!\n",
    "\n",
    "NOTA: '*args' sostituisce qualsiasi numero di variabili in input, '**kwargs' lo stesso per variabili chiave-valore\n",
    "\n",
    "NOTA: nel caso di funzioni con ritorno, bisogna aggiungere un ritorno alla funzione wrapper"
   ]
  },
  {
   "cell_type": "code",
   "execution_count": 139,
   "id": "4f48995e-a782-4139-8333-e0a05d0704f3",
   "metadata": {},
   "outputs": [
    {
     "name": "stdout",
     "output_type": "stream",
     "text": [
      "Something is happening before the function is called.\n",
      "Ciao!\n",
      "Something is happening after the function is called.\n"
     ]
    }
   ],
   "source": [
    "# Definizione del decoratore:\n",
    "def my_decorator(func):\n",
    "    def wrapper():    # funzione 'avvolgente'\n",
    "        print(\"Something is happening before the function is called.\")\n",
    "        func()\n",
    "        print(\"Something is happening after the function is called.\")\n",
    "    return wrapper\n",
    "    \n",
    "# Esempio di funzione decorata:\n",
    "@my_decorator\n",
    "def say_ciao():\n",
    "    print(\"Ciao!\")\n",
    "    \n",
    "# ora eseguendo la funzione decorata applicherà anche il decoratore:\n",
    "say_ciao()"
   ]
  },
  {
   "cell_type": "code",
   "execution_count": 141,
   "id": "75c5701e-2d78-4c1f-8a81-01f5673b24c5",
   "metadata": {},
   "outputs": [
    {
     "name": "stdout",
     "output_type": "stream",
     "text": [
      "10000000\n",
      "Tempo di esecuzione: 0.308243989944458 secondi\n"
     ]
    }
   ],
   "source": [
    "# Esempio di decoratore che calcola il tempo di esecuzione della funzione che decora:\n",
    "# NOTA: '*args' sostituisce qualsiasi numero di variabili in input, '**kwargs' lo stesso per variabili chiave-valore\n",
    "import time \n",
    "\n",
    "def tempo_di_esecuzione(func):   # questo è il decoratore\n",
    "    def wrapper(*args, **kwargs):     \n",
    "        inizio = time.time()\n",
    "        risultato = func(*args, **kwargs)\n",
    "        fine = time.time()\n",
    "        print(f\"Tempo di esecuzione: {fine - inizio} secondi\")\n",
    "        return risultato\n",
    "    return wrapper\n",
    "\n",
    "@tempo_di_esecuzione\n",
    "def conta():\n",
    "    for i in range(10000000):\n",
    "        i += 1\n",
    "    print(i)\n",
    "\n",
    "# eseguiamo:\n",
    "conta()"
   ]
  },
  {
   "cell_type": "markdown",
   "id": "46b4e923-36e8-444b-8816-fba48d45227f",
   "metadata": {},
   "source": [
    "Funzioni potenzialmente utili da approfondire:\n",
    "  - [operator](https://docs.python.org/3/library/operator.html)\n",
    "  - [functools](https://docs.python.org/3/library/functools.html)\n",
    "  - [itertools](https://docs.python.org/3/library/itertools.html)\n",
    "  - [toolz](https://pypi.org/project/toolz/)\n",
    "  - [funcy](https://pypi.org/project/funcy/)"
   ]
  },
  {
   "cell_type": "markdown",
   "id": "1f27a82d-6472-4523-8456-f558f56088c9",
   "metadata": {},
   "source": [
    "Potenzialmente utile da approfnodire:\n",
    "\n",
    "A JIT (Just-In-Time) compiler refers to a technique used to improve the performance of code execution by compiling code into machine code at runtime, rather than interpreting it line by line. This helps speed up program execution by reducing the overhead of repeatedly interpreting code.\n",
    "\n",
    "While the standard Python interpreter, CPython, does not include a JIT compiler, there are alternative Python implementations that provide JIT compilation, such as PyPy or [numba](https://numba.pydata.org).\n",
    "\n",
    "JIT combines both interpretation and compilation. It interprets code initially, and as it identifies sections of code that are executed repeatedly, it compiles them to machine code, optimizing performance dynamically."
   ]
  },
  {
   "cell_type": "code",
   "execution_count": 141,
   "id": "38f6cc8e-98e0-4ba0-8565-08a5ae877987",
   "metadata": {},
   "outputs": [
    {
     "data": {
      "text/plain": [
       "4950"
      ]
     },
     "execution_count": 141,
     "metadata": {},
     "output_type": "execute_result"
    }
   ],
   "source": [
    "from numba import jit\n",
    "\n",
    "@jit\n",
    "def fast_sum(arr):\n",
    "    total = 0\n",
    "    for i in arr:\n",
    "        total += i\n",
    "    return total\n",
    "\n",
    "fast_sum(list(range(100)))"
   ]
  },
  {
   "cell_type": "markdown",
   "id": "180bf711-d444-406e-8e3e-ba78e56b316d",
   "metadata": {},
   "source": [
    "## 7. CLASSI E OGGETTI\n",
    "Le classi sono modelli che permettono di definire nuovi tipi di dato personalizzati ('oggetti' o 'istanze') combinando variabili e funzioni (queste ultime dette 'metodi').\n",
    "La funzione `init` e il parametro `self` fanno parte del cosiddetto costruttore, usato implicitamente da Python per definire nuovi oggetti di tale classe (noi poi non li usiamo esplicitamente).\n",
    "\n",
    "Nell'esempio sotto abbiamo creato la classe 'Persona', dotata di due attributi di istanza ('nome', 'cognome'), un attributo di classe ('species = human') e abbiamo creato due oggetti di tale classe ('persona1', 'persona2')."
   ]
  },
  {
   "cell_type": "code",
   "execution_count": 2,
   "id": "10fd5c67-f39d-48fc-b805-6011776bcaeb",
   "metadata": {},
   "outputs": [
    {
     "name": "stdout",
     "output_type": "stream",
     "text": [
      "ciao sono mario\n",
      "buongiorno sono Anna e insegno Matematica\n"
     ]
    },
    {
     "data": {
      "text/plain": [
       "True"
      ]
     },
     "execution_count": 2,
     "metadata": {},
     "output_type": "execute_result"
    }
   ],
   "source": [
    "# Esempio:\n",
    "class Persona:                             # per le classi si usa la lettera maiuscola per convenzione\n",
    "    species = \"human\"                      # attributo              \n",
    "    def __init__(self, nome, cognome):     # diamo due parametri (oltre a self)     \n",
    "        self.nome = nome                   # definisco l'uso di nome e cognome come proprietá del self (dell'oggetto che verrá creato)\n",
    "        self.cognome = cognome\n",
    "    def saluta(self):\n",
    "        print('ciao sono ' + self.nome)\n",
    "# creiamo oggetti di quella classe ( a cui dovró dare due argomenti in questo caso):\n",
    "persona1 = Persona('luca', 'rossi')        # il parametro self non va specificato\n",
    "persona2 = Persona('mario', 'verdi')\n",
    "persona2.saluta()                          # esempio di chiamata\n",
    "persona2.nome = 'Franco'                   # modifico un oggetto\n",
    "del persona2                               # elimino un oggetto\n",
    "\n",
    "# Python gode dell'ereditarietà, ovvero posso definire classi usando altre classi da cui eredita argomenti e funzioni:\n",
    "class Insegnante(Persona):\n",
    "    def __init__(self, nome, cognome, materia):\n",
    "        super().__init__(nome, cognome)    # con 'super()' richiama il costruttore della classe base (in questo caso Persona), ovvero self.nome e cognome\n",
    "        self.materia = materia\n",
    "    def saluta(self):                      # tale funzione era giá ereditata da Persona ma ora é stata sovrascritta in Insegnante ed é diversa\n",
    "        print('buongiorno sono ' + self.nome + \" e insegno \" + self.materia)\n",
    "insegnante1 = Insegnante('Anna', 'Neri', 'Matematica')\n",
    "insegnante1.saluta()\n",
    "\n",
    "# la funzione 'hasattr' ci dice se un oggetto possiede un certo attributo usando il costrutto 'hasattr(object, 'attribute_name')', e restituisce un booleano\n",
    "#esempio:\n",
    "hasattr(persona1, 'nome')     # restituirá True in questo caso"
   ]
  },
  {
   "cell_type": "markdown",
   "id": "be0e5c63-2f4f-4ab6-84a3-5cc2dd4e8f90",
   "metadata": {},
   "source": [
    "## 8. MODULI E LIBRERIE\n",
    "Si tratta di librerie/file esterni che possiamo implementare nel nostro programma.\n",
    "Un esempio banale é un programma scritto da noi con delle funzioni definite che noi andiamo a richiamare in un altro programma, altri esempi sono librerie note come Numpy, Matplotlib, ecc"
   ]
  },
  {
   "cell_type": "code",
   "execution_count": 3,
   "id": "912e4b06-a564-4473-ada3-8419dcb6729a",
   "metadata": {},
   "outputs": [
    {
     "name": "stdout",
     "output_type": "stream",
     "text": [
      "ciao Luca\n"
     ]
    }
   ],
   "source": [
    "# ad esempio in un file esterno chiamato 'miomodulo.py' scriviamo 'def saluta(nome): print('ciao ' + nome)' e lo importiamo cosí:\n",
    "import miomodulo as mm       # cosí importo un programma/libreria esterna e gli dó un abbreviativo\n",
    "mm.saluta('Luca')            # cosí uso una funzione definita nel mio altro programma/libreria\n",
    "# un modulo preinstallato in Python é 'Math', che include: min, max, abs, pow, sqrt, floor (arrotonda per difetto), ceil (per eccesso), pi (pi greco), funzioni trigonometriche,\n",
    "      #  funzioni iperboliche, exp, log, log2, log10\n",
    "import math      \n",
    "x = math.sqrt(4)\n",
    "y = math.pi      # pi greco\n",
    "z = math.e       # numero di eulero\n",
    "# con 'dir(math)' stampiamo tutte le funzioni disponibili nel pacchetto math\n",
    "# posso importare solo parte del modulo con 'from nome_modulo import nome_funzione_da_importare'\n",
    "# la libreria 'datetime' gestisce vari formati di date, tempi ecc\n",
    "# i pacchetti non giá inclusi in Python vanno installati tramite CONDA o PIP (che sono package manager) scrivendo su shell 'conda install nome_pacchetto', e poi importati come al solito\n",
    "\n",
    "# un pacchetto utile è uello per le lettere dell'alfabeto:\n",
    "from string import ascii_lowercase      # lettere minuscole\n",
    "from string import ascii_uppercase      # lettere maiuscole\n",
    "from string import printable            # tutti i caratteri stampabili; 0123456789abcdefghijklmnopqrstuvwxyzABCDEFGHIJKLMNOPQRSTUVWXYZ!\"#$%&\\'()*+,-./:;<=>?@[\\\\]^_{|}~ \\t\\n\\r\\x0b\\x0c"
   ]
  },
  {
   "cell_type": "markdown",
   "id": "1bc222f7-14d2-46a4-8e41-d9ea1e8ac6ce",
   "metadata": {},
   "source": [
    "## 9. LAVORARE CON FILE E CARTELLE\n",
    "Modalitá di apertura: ”r” = Lettura (default): il file deve esistere; ”w” = Scrittura: crea un nuovo file o sovrascrive il file esistente; ”a” = Aggiunta (append): aggiunge contenuti al file esistente; ”x” = Creazione: crea un nuovo file, ma genera un errore se il file esiste già."
   ]
  },
  {
   "cell_type": "code",
   "execution_count": 1,
   "id": "b9301c8c-b925-4b50-bad7-a842821a5157",
   "metadata": {},
   "outputs": [
    {
     "name": "stdout",
     "output_type": "stream",
     "text": [
      "sovrascriv\n",
      "o cio che voglio al testo\n",
      "\n",
      "non esiste un file con questo nome\n"
     ]
    }
   ],
   "source": [
    "fin = open('testo.txt', 'r')           # apriamo il file in modalitá lettura\n",
    "print(fin.read(10))                    # leggiamo i primi 10 caratteri\n",
    "print(fin.readline())                  # leggiamo una riga (fino a quando va a capo) continuando la lettura dal carattere a cui si era arrivati (!!!!)\n",
    "print(fin.readline())                  # occhio che ogni volta va alla riga successiva a leggere (!!!)\n",
    "\n",
    "# Metodo per leggere gli input di una riga:\n",
    "riga = fin.readline()\n",
    "lista_di_parole = riga.split()         # con 'split' definisco una lista dentro cui ho ciascuna parola della riga letta (le divide vedendo gli spazi)\n",
    "fin.close()                            # chiudiamo l'accesso al file\n",
    "\n",
    "fin = open('testo.txt', 'a')           # in talo modo scriveró in coda al testo giá presente\n",
    "fin.write('aggiungo cio che voglio in coda al testo')\n",
    "fin.close() \n",
    "\n",
    "fin = open('testo.txt', 'w')           # in tal modo andró a sovrascivere (!!!)\n",
    "fin.write('sovrascrivo cio che voglio al testo')\n",
    "fin.close()\n",
    "\n",
    "#per creare un file:\n",
    "fin = open('nuovotesto.txt', 'x')\n",
    "fin.close()\n",
    "\n",
    "# per eliminare un file:\n",
    "import os                         # libreria di Python che gestisce file e cartelle\n",
    "os.remove('nuovotesto.txt')\n",
    "\n",
    "# per vedere se un file esiste:\n",
    "if os.path.exists('nuovotesto.txt'):\n",
    "    os.remove('nuovotesto.txt')\n",
    "else:\n",
    "    print('non esiste un file con questo nome')\n",
    "    \n",
    "# per rimuovere una cartella:\n",
    "# os.rmdir('nomecartella')\n",
    "\n",
    "# posso usare il costrutto WITH per evitare di dover ricordare ogni volta di aprire e chiudere il flusso, in quanto fa tutto lui:\n",
    "with open('prova_with.txt', 'w') as fin:\n",
    "    fin.write('Ciao, mondo!')\n",
    "\n"
   ]
  },
  {
   "cell_type": "markdown",
   "id": "c873954a-1251-4c1d-b726-a1e6bea863e6",
   "metadata": {},
   "source": [
    "funzione apposita savetxt?\n",
    "\n",
    "funzione csv.reader"
   ]
  },
  {
   "cell_type": "markdown",
   "id": "4dbd25a1-8997-45ab-bfe8-cb19b5a483f7",
   "metadata": {},
   "source": [
    "# 10. MONTE CARLO INTEGRATION\n",
    "L'idea principale dell'integrazione Monte Carlo è quella di stimare l'integrale di una funzione attraverso una media di valori calcolati su punti scelti casualmente. It can be proven that the standard deviation of the method scales as $1/\\sqrt{N}$."
   ]
  },
  {
   "cell_type": "markdown",
   "id": "e0aa0aee-3292-4640-b351-f0e3c4e091d7",
   "metadata": {},
   "source": [
    "#### PROBABILISTIC METHOD\n",
    "Immagina di voler calcolare l'area sotto una funzione $f(x)$, che è l'integrale $I$. La funzione è definita in un'area maggiore $A$ che contiene tutti i possibili punti. La probabilità $p$ che un punto scelto casualmente cada sotto la curva è il rapporto tra l'area sotto la curva $I$ e l'area totale $A$, cioè $p=I/A$. Se generiamo $N$ punti casuali all'interno della \"box\", una certa frazione $k/N$ di questi punti cadrà sotto la curva. Questo rapporto $k/N$ è una stima della probabilità $p$, e quindi della frazione dell'area totale che è coperta dalla funzione.\n",
    "Poiché $p$ è anche uguale a $I/A$, possiamo risolvere per $I$ e ottenere una stima dell'integrale: \n",
    "$$I≃\\frac{kA}{N}$$"
   ]
  },
  {
   "cell_type": "code",
   "execution_count": 6,
   "id": "475ff37c-7070-49c0-9653-03bc4657deb5",
   "metadata": {},
   "outputs": [
    {
     "name": "stdout",
     "output_type": "stream",
     "text": [
      "2.0086400949257057\n"
     ]
    }
   ],
   "source": [
    "import numpy as np\n",
    "import numpy.random as npr\n",
    "import matplotlib.pyplot as plt\n",
    "\n",
    "# Monte Carlo integration of sin(x) from 0 to pi\n",
    "def f(x):\n",
    "    return np.sin(x)\n",
    "A = np.pi*1  # base per altezza\n",
    "N = 100000   \n",
    "k = 0        # count\n",
    "for i in range(N):\n",
    "    x = npr.rand()*np.pi\n",
    "    y = npr.rand()\n",
    "    if y < f(x): k+=1\n",
    "I = A*k/N    # value of the integral\n",
    "print(I)"
   ]
  },
  {
   "cell_type": "markdown",
   "id": "f229c793-9509-438b-a1af-78f554411c5c",
   "metadata": {},
   "source": [
    "#### MEAN VALUE METHOD\n",
    "Let's take the integral $I=\\int_a^b f(x) dx$ , defining $\\langle f \\rangle$ as the mean of $f$, so: $\\langle f \\rangle = \\frac{1}{b-a}\\int_a^b f(x) dx$.\n",
    "\n",
    "We can estimate $\\langle f \\rangle$ by uniformely probing at random the function domain, such as $\\langle f \\rangle = \\frac{1}{N} \\sum_{i=1}^{N} f(x_i)$, so we get:\n",
    "\n",
    "$$\n",
    "I=\\frac{b-a}{N} \\sum_{i=1}^{N} f(x_i)\n",
    "$$\n",
    "\n",
    "this easily generalize to higher dimensions: $I=\\frac{V}{N} \\sum_{i=1}^{N} f(\\vec{r}_i)$, where the sampling points $\\vec{r}_i$ are drawn uniformly at random from integration space of volume $V$.\n",
    "\n",
    "The standard deviation of the method scales as $1/\\sqrt{N}$, in fact: $\\sigma = V\\frac{\\sqrt{{\\rm var}\\, f}}{\\sqrt{N}}$."
   ]
  },
  {
   "cell_type": "markdown",
   "id": "7310cade-74fd-44b7-b9e6-ffeeb5fc709d",
   "metadata": {},
   "source": [
    "#### IMPORTANCE SAMPLING\n",
    "In un'integrazione Monte Carlo standard, i punti vengono campionati uniformemente, ma questo non è sempre il modo migliore. Se la funzione $f(x)$ ha valori molto grandi in una parte dell'intervallo e molto piccoli altrove, il campionamento uniforme può sprecare punti in regioni dove $f(x)$ contribuisce poco all'integrale. L'*importance sampling* risolve questo problema scegliendo i punti $x$ non uniformemente, ma seguendo una distribuzione di probabilità $p(x)$ che assomiglia alla funzione $f(x)$ da integrare. Questo concentra i campioni nelle regioni \"più importanti\" per l'integrale.\n",
    "\n",
    "Consider again the integral of $f(x)$: $ I=\\int_a^b f(x)dx $  . We can define a weighted average of a function $g(x)$: $\\langle g_w \\rangle = \\frac{\\int_a^b w(x) g(x)dx}{\\int_a^b w(x)dx}$\n",
    "\n",
    "Setting $g(x)=f(x)/w(x)$ we have:$\\left\\langle \\frac{f(x)}{w(x)}\\right\\rangle = \\frac{\\int_a^b w(x)f(x)/w(x) )dx}{\\int_a^b w(x)dx} = \\frac{I}{\\int_a^b w(x)dx}$, and thus:\n",
    "\n",
    "$$\n",
    "I = \\left\\langle \\frac{f(x)}{w(x)}\\right\\rangle \\int_a^b w(x)dx \\simeq \\frac{1}{N}\\sum_{i=1}^N \\frac{f(x_i)}{w(x_i)}\\int_a^b w(x)dx\n",
    "$$\n",
    "\n",
    "which generalizes the mean value method if $w(x)$ is the uniform distribution between $a$ and $b$\n",
    "\n",
    "### Example\n",
    "\n",
    "Suppose we want to estimate the tail probability of ${\\cal N}(0,1)$ for $x>5$. Regular MC integration using samples from ${\\cal N}(0,1)$ is hopeless since nearly all samples will be rejected. However, we can use the exponential density truncated at 5 as the importance function and use importance sampling."
   ]
  },
  {
   "cell_type": "markdown",
   "id": "9b6e49ad-6fb1-44d2-a928-dc904a7808de",
   "metadata": {},
   "source": [
    "# APPENDIX"
   ]
  },
  {
   "cell_type": "markdown",
   "id": "c25aa101-0981-434c-b3e1-2a2e6c554d3e",
   "metadata": {},
   "source": [
    "### JSON\n",
    "**JSON** (JavaScript Object Notation) è un formato per scambio di dati leggero e leggibile dall'uomo, basato su coppie chiave-valore, utilizzato per rappresentare strutture di dati come oggetti e array. È spesso utilizzato per trasferire dati tra un server e una web app, ma può essere usato in qualsiasi linguaggio di programmazione.\n",
    "\n",
    "Esempio di file json:\n",
    "```json\n",
    "{\n",
    "    \"name\": \"Alice\",\n",
    "    \"age\": 25,\n",
    "    \"is_student\": false,\n",
    "    \"courses\": [\"Math\", \"Physics\"]\n",
    "}\n",
    "```\n",
    "Python ha una libreria integrata chiamata json per lavorare con JSON, e la si importa con `import json`. I dati si possono poi importare con `json.load(open(nome_file, 'r))`, e otterrai una lista python. Viceversa puoi salvare un oggetto Python come file JSON usando `json.dump(oggetto, nome_file)`."
   ]
  }
 ],
 "metadata": {
  "kernelspec": {
   "display_name": "Python 3 (ipykernel)",
   "language": "python",
   "name": "python3"
  },
  "language_info": {
   "codemirror_mode": {
    "name": "ipython",
    "version": 3
   },
   "file_extension": ".py",
   "mimetype": "text/x-python",
   "name": "python",
   "nbconvert_exporter": "python",
   "pygments_lexer": "ipython3",
   "version": "3.12.4"
  }
 },
 "nbformat": 4,
 "nbformat_minor": 5
}
