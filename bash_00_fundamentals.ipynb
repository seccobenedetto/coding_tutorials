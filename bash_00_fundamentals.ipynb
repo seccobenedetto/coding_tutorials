{
 "cells": [
  {
   "cell_type": "markdown",
   "id": "7507dbc6-3498-4f96-be8e-e185432275fb",
   "metadata": {},
   "source": [
    "attenzione: tutorial non finito"
   ]
  },
  {
   "cell_type": "markdown",
   "id": "17d14e4c-cc7a-4d63-bf2f-8b45cface9f1",
   "metadata": {},
   "source": [
    "<center><span style=\"font-size:40px;\"><b>BASH CODING</b></span></center>"
   ]
  },
  {
   "cell_type": "markdown",
   "id": "45c2eece-bba3-4387-95ca-d8ca462b74ab",
   "metadata": {},
   "source": [
    "---"
   ]
  },
  {
   "cell_type": "markdown",
   "id": "093977aa-fcf4-4450-8093-745af1f340d5",
   "metadata": {},
   "source": [
    "# 01 - INTRODUCTION\n",
    "The **shell** is a program that provides an interface between you (the user) and the operating system. It lets you run commands, start programs, navigate folders and manage files by typing text instead of clicking with a mouse. In particular, scripting (= running lists of command) makes it possible to run a sequence of commands automatically, instead of entering them one by one interactively.    \n",
    "\n",
    "There are different kinds of shells. One of the most popular and widely used on Linux systems is **Bash** (Bourne Again SHell), created in 1989.  \n",
    "\n",
    "Most Unix/Linux systems come with Bash pre-installed. To check the version, open a terminal and type:\n",
    "```bash\n",
    "bash --version\n",
    "```\n",
    "If Bash isn't installed, you can install it using your system's package manager. For example, on Ubuntu/Debian, type:\n",
    "```bash\n",
    "sudo apt-get install bash\n",
    "```\n",
    "\n",
    "You can also write scripts (a list of commands) in a file with a `.sh` extension (in the first line put `#!/bin/bash`) and run it with the command `bash file_name.sh`."
   ]
  },
  {
   "cell_type": "markdown",
   "id": "54ba1318-5710-4db4-9b95-c083ab6f9a16",
   "metadata": {},
   "source": [
    "### IN JUPYTER NOTEBOOKS\n",
    "In Jupyter notebooks you can run Bash commands directly by prefixing them with `!` (e.g., `! ls`).  \n",
    "If you want to run a full script inside a cell, you can start it with a cell magic command `%%bash`.\n",
    "```bash\n",
    "# EXAMPLE 1:\n",
    "! echo \"Hello from Bash\"\n",
    "```\n",
    "```bash\n",
    "# EXAMPLE 2:\n",
    "%%bash\n",
    "echo \"Hello from Bash\"\n",
    "```"
   ]
  },
  {
   "cell_type": "markdown",
   "id": "26b3fae9-d376-4b77-90e7-7e20ab8b6a6b",
   "metadata": {},
   "source": [
    "---"
   ]
  },
  {
   "cell_type": "markdown",
   "id": "b45af7f8-ec93-4a45-9168-1c45442d5cac",
   "metadata": {},
   "source": [
    "# 02 - BASIC COMMANDS"
   ]
  },
  {
   "cell_type": "markdown",
   "id": "a8f95466-8c41-4f0a-875c-b297bbeedb33",
   "metadata": {},
   "source": [
    "#### BASIC COMMANDS WITHOUT OPTIONS\n",
    "- `pwd` — Prints the current working directory (where you are).  \n",
    "- `ls` — Lists files and directories in the current folder.\n",
    "- `cd <directory>` — Changes the current directory.  \n",
    "- `echo <text>` — Prints text or variables to the terminal.  \n",
    "- `cat <file>` — Displays the content of a file.   \n",
    "- `touch <file>` — Creates an empty file or updates its timestamp.  \n",
    "- `mkdir <dir>` — Creates a new directory.  \n",
    "- `rm <file>` — Removes a file. Use `rm -r <dir>` to remove a directory recursively (i.e. including what is inside).  \n",
    "- `cp <source> <dest>` — Copies files or directories (add option`-r` for directories).  \n",
    "- `mv <source> <dest>` — Moves or renames files/directories.  \n",
    "- `wget <url>` — Downloads a file from the web.  \n",
    "- `man <command>` — Shows the manual/help page for a command (press `q` to exit).  \n",
    "- `history` — Displays the list of previously executed commands.  \n",
    "- `clear` — Clears the terminal screen.  "
   ]
  },
  {
   "cell_type": "markdown",
   "id": "2075809d-69cd-4f35-8773-347e13de876c",
   "metadata": {},
   "source": [
    "#### SPECIAL PATH SYMBOLS\n",
    "\n",
    "- `.` (dot): Refers to the current directory. Example: `./script.sh` (runs a script in the current folder).  \n",
    "- `..` (double dot): Refers to the parent directory (one level up). Example: `cd ..`  \n",
    "- `~` (tilde): Refers to the home directory of the current user. Example: `cd ~` or `~/folder_name/path/`  \n",
    "- `/` (slash): At the beginning of a path, it refers to the root of the filesystem. Used between folder names, it separates directories. Example: `cd /usr/local`  \n",
    "- `-` (dash): Switches back to the previous directory. Example: `cd -`  "
   ]
  },
  {
   "cell_type": "markdown",
   "id": "18006070-9868-4702-a169-7cb708699e96",
   "metadata": {},
   "source": [
    "#### COMMON BASH COMMAND OPTIONS (FLAGS)\n",
    "Many commands can have many possible options/flags to specify the command itself, and while they are command-specific, many commands follow common conventions, showed in a list below.  \n",
    "In any case, always check with `man <command>` or `<command> --help` the available options for your command. \n",
    "\n",
    "| Flag | Meaning (typical) | Example Usage |\n",
    "|------|-------------------|---------------|\n",
    "| `-r` | Recursive (apply to all files/subdirs) | `cp -r dir1 dir2`, `rm -r folder`, `grep -r \"text\" .` |\n",
    "| `-a` | All (include hidden files / preserve attributes) | `ls -a`, `cp -a source/ dest/` |\n",
    "| `-l` | Long format / detailed output | `ls -l` |\n",
    "| `-f` | Force (ignore warnings/errors) | `rm -f file`, `cp -f src dest` |\n",
    "| `-h` | Help (show usage info) | `ls -h --help`, `grep -h` |\n",
    "| `-v` | Verbose (show what is happening) | `cp -v file1 file2`, `rm -v file` |\n",
    "| `-i` | Interactive (ask before overwriting/deleting) | `rm -i file`, `cp -i file1 file2` |"
   ]
  },
  {
   "cell_type": "markdown",
   "id": "ea400321-da69-4554-858d-017ccd5036a3",
   "metadata": {},
   "source": [
    "### `ls` COMMAND\n",
    "\n",
    "The `ls` command lists files and directories in the current directory.  \n",
    "It supports many options to customize its output, for example:\n",
    "\n",
    "- `-l` → Long listing format (detailed view)  \n",
    "- `-a` → Include hidden files (those starting with `.`)  \n",
    "- `-h` → Human-readable sizes (e.g., KB, MB)  \n",
    "- `-t` → Sort by modification time  \n",
    "- `-r` → Reverse the sort order  \n",
    "- `-S` → Sort by file size   \n",
    "- `-d` → Show directories themselves, not their contents  \n",
    "\n",
    "In particular, the output of `ls -l` shows 7 fields:\n",
    "1. Permissions\n",
    "2. Number of hard links  \n",
    "3. File owner  \n",
    "4. File group  \n",
    "5. File size  \n",
    "6. Modification time  \n",
    "7. Filename  \n",
    "\n",
    "The **permissions** field has the structure:  \n",
    "- FileType: the first character, it could be: `-` (regular file), `d` (directory), `l` (symlink), etc.  \n",
    "- Permissions: 9 characters in groups of 3 (related to owner, group and others)   \n",
    "  - `r` → read  \n",
    "  - `w` → write  \n",
    "  - `x` → execute  \n",
    "  - `-` → no permission\n",
    "\n",
    "```bash\n",
    "# EXAMPLE:\n",
    "-rw-r--r-- 1 alice staff 2.3K Oct 1 12:34 notes.txt\n",
    "drwxr-xr-x 3 alice staff 128 Oct 2 09:10 projects/\n",
    "-rwxr-x--- 1 alice staff 5.6M Oct 3 14:22 run.sh\n",
    "# first one → regular file, owner can read/write, group can read, others can read  \n",
    "# second → directory, owner can read/write/execute, group and others can read/execute  \n",
    "# third → regular file, owner can read/write/execute, group can read/execute, others have no access  \n",
    "```"
   ]
  },
  {
   "cell_type": "markdown",
   "id": "8c61d668-6cfc-4168-b893-d5931c4c02b8",
   "metadata": {},
   "source": [
    "---"
   ]
  },
  {
   "cell_type": "markdown",
   "id": "efec2174-5f64-4966-97aa-311e631ee055",
   "metadata": {},
   "source": [
    "# 03 - ADVANCED COMMANDS"
   ]
  },
  {
   "cell_type": "markdown",
   "id": "4465c8cf-7652-44b9-8598-e0df04ac2c2a",
   "metadata": {},
   "source": [
    "#### OTHER COMMANDS\n",
    "\n",
    "- `chmod <permissions> <file>` — Changes file permissions.  \n",
    "  - Example: `chmod +x script.sh` makes a script executable.  \n",
    "\n",
    "- `grep <pattern> <file>` — Searches for lines matching a pattern.  \n",
    "  - Example: `grep \"error\" logfile.txt` shows lines containing *error*.  \n",
    "\n",
    "- `sed 's/pattern/replacement/' <file>` — Stream editor for text transformations.  \n",
    "  - Example: `sed 's/foo/bar/g' file.txt` replaces all *foo* with *bar*.  \n",
    "\n",
    "- `awk '{action}' <file>` — Text processing and pattern scanning language.  \n",
    "  - Example: `awk '{print $1, $3}' data.txt` prints the 1st and 3rd column.  \n",
    "\n",
    "- `wc <file>` — Counts lines, words, and characters.  \n",
    "  - Example: `wc -l file.txt` counts lines only.  \n",
    "\n",
    "- `tail <file>` — Shows the last lines of a file (default 10).  \n",
    "  - Example: `tail -n 20 logfile.txt` shows the last 20 lines.  \n",
    "  - Option `-f` keeps following new content (useful for logs).  \n",
    "\n",
    "- `while read line; do ...; done < file` — Reads a file line by line inside a loop.  \n",
    "  - Example:  \n",
    "    ```bash\n",
    "    while read line; do\n",
    "        echo \"Line: $line\"\n",
    "    done < file.txt\n",
    "    ```  \n"
   ]
  },
  {
   "cell_type": "markdown",
   "id": "de39ad39-8e68-4bc7-9c0a-80e7dc53dcd0",
   "metadata": {},
   "source": [
    "### Useful System Commands\n",
    "\n",
    "- `hostname` — Shows the name of the current machine (host).  \n",
    "  - Example: `hostname`  \n",
    "\n",
    "- `whoami` — Prints the username of the current user.  \n",
    "  - Example: `whoami`  \n",
    "\n",
    "- `du` — Displays disk usage of files and directories.  \n",
    "  - Example: `du -sh folder/` (human-readable summary of a folder).  \n",
    "\n",
    "- `df` — Shows available and used disk space on mounted filesystems.  \n",
    "  - Example: `df -h` (human-readable format, e.g. GB/MB).  \n"
   ]
  },
  {
   "cell_type": "markdown",
   "id": "22dfb1e0-2470-4b55-b876-d3c7d9c06dd6",
   "metadata": {},
   "source": [
    "Il simbolo \\\\$ serve ad accedere alle variabili. In Bash, puoi usare sia le parentesi \\\\${i} che l'accesso diretto \\\\$i, ma la sintassi con le parentesi è preferibile quando vuoi evitare ambiguità."
   ]
  },
  {
   "cell_type": "markdown",
   "id": "7c6ce6f6-cfa0-4d6f-85b4-023f70d36b09",
   "metadata": {},
   "source": [
    "comandi da aggiungere:\n",
    "* chmod\n",
    "* awk\n",
    "* while read"
   ]
  },
  {
   "cell_type": "markdown",
   "id": "dc1f819a-8aab-4c8a-b632-1ddc5561c54d",
   "metadata": {},
   "source": [
    "### ECHO\n",
    "echo -n stampa il valore di result senza aggiungere una nuova riga alla fine (questa è la funzione di -n)."
   ]
  },
  {
   "cell_type": "markdown",
   "id": "ecfa47d0-6ea4-4fff-85de-bbbcf7c5368b",
   "metadata": {},
   "source": [
    "### INPUT\n",
    "per prendere un input dall'utente (immesso da terminale runtime) basta scrivere nel nostro script bash:\n",
    "\n",
    "    read nome_input\n",
    "\n",
    "In questo modo la shell chiederà un input all'utente e tale input verrà automaticamente salvate come variabile dal nome scelto."
   ]
  },
  {
   "cell_type": "markdown",
   "id": "c790be50-9894-4981-9231-7347ed92a04a",
   "metadata": {},
   "source": [
    "```bash\n",
    "#this is a comment\n",
    "whoami      # who am I? I.e. which account am I using?\n",
    "sudo -l       # Am I a superuser=administator? (SUperuser DO)\n",
    "hostname      # what's the name of the computer\n",
    "# 'pwd' returns the content of the global variable $PWD, see later \n",
    "# the current directory is aliased as \".\", instead \"..\" is the one above\n",
    "pwd         # in which folder am I?\n",
    "# 'cd' stands for 'change directory'\n",
    "cd name_directory        # go to a given directory\n",
    "cd ..                  # go to the directory above\n",
    "cd -                   # get back to the previous directory\n",
    "cd $HOME              # go to your home directory \n",
    "# make a new directory:\n",
    "mkdir test\n",
    "cd test\n",
    "mkdir -p tmp/foo       # l'opzione '-p' evita errori e sovrascrizioni\n",
    "rm -r tmp/foo  # delete that last directory, the \"-r\" option is needed for directories\n",
    "\n",
    "# check the Disk Usage in your home\n",
    "du -h $HOME\n",
    "# check the memory usage for the main folders\n",
    "df -h\n",
    "\n",
    "# check the content of a directory\n",
    "touch tmp_file #create a file just for the sake of it (see later)\n",
    "ls -latrh \n",
    "# where: -l -> list, -a -> include hidden directories, -t -> time ordered, -r -> reversed, h -> size in Bytes \n",
    "```"
   ]
  },
  {
   "cell_type": "markdown",
   "id": "20ba13d7-0ca3-4c0e-a37a-f8512930eb1d",
   "metadata": {},
   "source": [
    "### SPAZIATURA\n",
    "Spazi obbligatori nei comandi:\n",
    "\n",
    "Ci sono casi in cui lo spazio è obbligatorio per separare gli elementi in Bash. Ad esempio:\n",
    "\n",
    "    Nei test con [ ]: [ $a -lt $b ]. Errore se non metti spazi: if [$a -lt $b]\n",
    "\n",
    "Nelle assegnazioni di variabili, non ci deve essere spazio intorno al simbolo =:\n",
    "\n",
    "    var=10  # Corretto\n",
    "    var = 10  # Errore!\n",
    "Gli spazi prima del # sono arbitrari, cosi come le indentazioni"
   ]
  },
  {
   "cell_type": "markdown",
   "id": "c5022942-0684-45d8-853e-b7d7ee2ffebf",
   "metadata": {},
   "source": [
    "### REGEX (REGULAR EXPRESSIONS)\n",
    "\"Regex\" è l'abbreviazione di \"regular expression\" (in italiano, \"espressione regolare\"). È uno strumento potente per la ricerca, la corrispondenza e la manipolazione di testo basata su modelli.\n",
    "Definizione: Una regex è una sequenza di caratteri che definisce un modello (o pattern) da utilizzare per identificare stringhe o insiemi di stringhe in un testo. Le regex vengono usate ad esempio con comandi come grep, sed...\n",
    "\n",
    "Ad esempio:\n",
    "\n",
    "    La regex cat cerca esattamente la parola \"cat\" in un testo.\n",
    "    La regex [0-9] cerca qualsiasi singola cifra tra 0 e 9.\n",
    "    La regex .* corrisponde a qualsiasi cosa (zero o più caratteri).\n",
    "\n",
    "Componenti principali di una regex:\n",
    "\n",
    "    Caratteri letterali:\n",
    "        Sono esattamente quello che rappresentano. Esempio: dog corrisponde solo alla stringa \"dog\".\n",
    "\n",
    "    Metacaratteri (caratteri speciali):\n",
    "        Hanno significati specifici e non rappresentano il loro valore letterale.\n",
    "        Esempio:\n",
    "            .: corrisponde a qualsiasi carattere (eccetto il ritorno a capo).\n",
    "            *: corrisponde a zero o più occorrenze del carattere precedente.\n",
    "            +: corrisponde a una o più occorrenze del carattere precedente.\n",
    "\n",
    "    Classi di caratteri:\n",
    "        Definiscono un insieme di caratteri validi per una corrispondenza.\n",
    "        Esempio:\n",
    "            [abc]: corrisponde ad a, b o c.\n",
    "            [0-9]: corrisponde a qualsiasi cifra tra 0 e 9.\n",
    "\n",
    "    Ancore:\n",
    "        Specificano l'inizio o la fine di una stringa.\n",
    "        Esempio:\n",
    "            ^: corrisponde all'inizio di una stringa.\n",
    "            $: corrisponde alla fine di una stringa.\n",
    "\n",
    "    Gruppi e catture:\n",
    "        Consentono di raggruppare porzioni della regex.\n",
    "        Esempio:\n",
    "            (abc)+: cerca una o più ripetizioni della stringa \"abc\"."
   ]
  },
  {
   "cell_type": "markdown",
   "id": "01598a0c-c8e4-488d-b2e2-b1171f926af8",
   "metadata": {},
   "source": [
    "### TAIL\n",
    "Il comando tail in Bash è utilizzato per visualizzare le ultime righe di un file o di un flusso di dati. Sintassi base: tail [opzioni] [file]\n",
    "\n",
    "Opzioni principali:\n",
    "* -n numero: Specifica quante righe visualizzare. Ad esempio, tail -n 10 file.txt mostra le ultime 10 righe di file.txt. Se non viene specificato un numero, tail per default mostra le ultime 10 righe. Se usi una notazione negativa, come tail -n -10 file.txt, otterrai tutte le righe tranne le ultime 10.\n",
    "* -n +numero: Visualizza il file a partire da una determinata riga. Ad esempio: tail -n +2 file.txt, Mostra tutte le righe a partire dalla seconda (salta la prima)."
   ]
  },
  {
   "cell_type": "markdown",
   "id": "530a2f6b-7ded-42be-8972-8232b226b422",
   "metadata": {},
   "source": [
    "*\\b* è un metacarattere che indica un confine di parola. Serve per assicurarsi che stiamo catturando numeri \"isolati\" e non parti di altri numeri.\n",
    "Ad esempio:\n",
    "\n",
    "    Nel testo 1234 34, la regex con \\b trova 34 come numero isolato, ma non 234 all'interno di 1234."
   ]
  },
  {
   "cell_type": "markdown",
   "id": "02acf2cf-853a-4f4b-90de-d93220dced2b",
   "metadata": {},
   "source": [
    "### GREP\n",
    "Con grep:\n",
    "* -v: Inverte la ricerca, cioè mostra le righe che non contengono la stringa o il pattern\n",
    "* -c: Conta il numero di righe che corrispondono al pattern.\n",
    "* -i: Ignora la distinzione tra maiuscole e minuscole durante la ricerca.\n",
    "* -o: Print only the matched (non-empty) parts of a matching line, with each such part on a separate output line"
   ]
  },
  {
   "cell_type": "markdown",
   "id": "5a540c41-30f3-4c4f-a137-52500af37b59",
   "metadata": {},
   "source": [
    "### SED\n",
    "sed (Stream EDitor) è uno strumento potente utilizzato in Bash per eseguire trasformazioni su flussi di testo. Con esso si può:\n",
    "* Sostituzione (s/old/new/): La funzione di sostituzione è una delle operazioni più comuni di sed. Sintassi: sed 's/pattern/replacement/' file.txt\n",
    "* Cancellazione (d): sed può essere utilizzato anche per eliminare righe che corrispondono a un pattern. Sintassi: sed '/pattern/d' file.txt, oppure sed '5d' file.txt cancella la quinta riga del file\n",
    "* Comando p (print): Il comando p è utilizzato per stampare righe specifiche che corrispondono a un pattern: sed -n '/pattern/p' file.txt\n",
    "* Comando g (global): indica che l'operazione deve essere applicata a tutte le occorrenze del pattern nella riga, anziché solo alla prima.\n",
    "\n",
    "Opzioni principali di sed:\n",
    "* -n: Sopprime l'output predefinito. Senza -n, sed stampa ogni riga del file (a meno che non venga specificato un comando di modifica che cambierà o eliminerà la riga). L'opzione -n impedisce a sed di stampare tutte le righe, quindi può essere usata per stampare solo righe specifiche (ad esempio, con p). Esempio: sed -n '3p' file.txt. Questo comando stampa solo la terza riga del file.\n",
    "* -e: Consente di specificare più comandi di sed (quindi omettibile se ne stai mettendo uno solo). Con -e, puoi fornire comandi multipli da eseguire in sequenza. Ogni comando può essere separato da un'opzione -e. Esempio: sed -e 's/old/new/' -e 's/foo/bar/' file.txt. Questo comando esegue due sostituzioni: prima sostituisce old con new, poi sostituisce foo con bar."
   ]
  },
  {
   "cell_type": "markdown",
   "id": "92271696-5fea-415c-8c86-bcc0fb7dd589",
   "metadata": {},
   "source": [
    "### PIPELINE '|'\n",
    "La pipeline (|) è usata in Bash (e altre shell Unix) per passare l'output di un comando come input di un altro. Funzionamento: Il comando a sinistra della pipeline genera un output. Questo output viene passato direttamente al comando a destra come input."
   ]
  },
  {
   "cell_type": "markdown",
   "id": "96018256-c14b-4ea6-aca3-30f3be786893",
   "metadata": {},
   "source": [
    "### WC\n",
    "Il comando wc (word count) in Bash viene utilizzato per contare il numero di righe, parole e caratteri in un file o in un input fornito. L'opzione -l dice a wc di contare solo le righe nel file.\n",
    "\n",
    "Esempio: total_lines=$(wc -l < file.txt).  L'operatore < redirige il contenuto del file a wc"
   ]
  },
  {
   "cell_type": "markdown",
   "id": "b32f192d-1f33-454e-8247-55c2227aa09d",
   "metadata": {},
   "source": [
    "### VIRGOLETTE\n",
    "in Bash le virgolette singole (') e le virgolette doppie (\") non sono equivalenti. Hanno comportamenti diversi quando si tratta di interpretare variabili e caratteri speciali. \n",
    "\n",
    "Virgolette singole ('):\n",
    "\n",
    "    Tutto ciò che è racchiuso all'interno delle virgolette singole è trattato letteralmente.\n",
    "    Nessuna espansione di variabili, comandi o caratteri speciali avviene.\n",
    "Esempio:\n",
    "```bash\n",
    "a=10\n",
    "echo 'Il valore di a è $a'  # Output: Il valore di a è $a \n",
    "```\n",
    "Come puoi vedere, $a non è stato interpretato come variabile, ma è stato stampato letteralmente.\n",
    "\n",
    "Virgolette doppie (\"):\n",
    "\n",
    "    Consentono l'espansione di variabili ($var), comandi ($(command)), e sequenze speciali come \\n per una nuova riga.\n",
    "    Alcuni caratteri speciali, come $, \\, e `, vengono elaborati.\n",
    "    Esempio:\n",
    "```bash\n",
    "a=10\n",
    "echo \"Il valore di a è $a\"  # Output: Il valore di a è 10 \n",
    "```"
   ]
  },
  {
   "cell_type": "markdown",
   "id": "4b170ea5-b4cf-455f-8abe-6c3521cb11a9",
   "metadata": {},
   "source": [
    "### EXIT\n",
    "Il comando exit in Bash serve a terminare l'esecuzione di uno script o di una shell. Quando viene utilizzato, exit restituisce un \"codice di uscita\" che indica se il programma è terminato correttamente o se si è verificato un errore.\n",
    "\n",
    "Cosa significano i codici di uscita?\n",
    "\n",
    "    exit 0: Indica che lo script è stato eseguito correttamente senza errori. Questo è il valore di uscita predefinito.\n",
    "    exit 1 (o un altro valore diverso da zero): Indica che si è verificato un errore. Il codice di uscita 1 è comunemente usato per rappresentare un errore generico, ma puoi usare numeri diversi per differenziare i tipi di errori."
   ]
  },
  {
   "cell_type": "markdown",
   "id": "9172372f-9dd6-4490-982f-0c3d50528518",
   "metadata": {},
   "source": [
    "### WGET\n",
    "Quando usi wget per scaricare un file, viene automaticamente creato un file di log chiamato wget-log. Questo file di log contiene informazioni dettagliate sul processo di download. Se non desideri che venga creato il file di log, puoi usare l'opzione -q (quiet mode), che riduce al minimo l'output di wget: wget -q URL"
   ]
  },
  {
   "cell_type": "markdown",
   "id": "0e5fb09d-eef1-41f3-ae61-35e1a83e7e31",
   "metadata": {},
   "source": [
    "### BC\n",
    "bc è un programma da riga di comando utilizzato per eseguire calcoli aritmetici in Unix/Linux. È una calcolatrice arbitraria che supporta numeri interi e numeri in virgola mobile, espressioni matematiche complesse, funzioni e operazioni più avanzate.\n",
    "\n",
    "Aritmetica di base: puoi eseguire operazioni come addizione, sottrazione, moltiplicazione e divisione. Esempio:\n",
    "\n",
    "    echo \"5 + 3\" | bc\n",
    "    # Output: 8\n",
    "\n",
    "Numeri in virgola mobile: Se vuoi lavorare con numeri decimali, devi usare bc -l. In questo caso, puoi usare funzioni come sqrt() per calcolare radici quadrate. Esempio:\n",
    "\n",
    "    echo \"scale=2; sqrt(16)\" | bc -l\n",
    "    # Output: 4.00\n",
    "\n",
    "Con scale imponiamo il numero di decimali da mostrare."
   ]
  },
  {
   "cell_type": "markdown",
   "id": "3d90c6f1-a25a-478e-aba3-6891e678db24",
   "metadata": {},
   "source": [
    "### PARENTESI QUADRE E GRAFFE\n",
    "* Parentesi quadre [ ]: usate per pattern matching (grep, find...)\n",
    "\n",
    "    Impo: usano il trattino in mezzo\n",
    "    Scopo principale: Definire un insieme di caratteri o un intervallo per il pattern matching in comandi come grep, find, ls, ecc.\n",
    "    Non espandono una sequenza direttamente, quindi non possono essere usate in contesti iterabili come i cicli for.\n",
    "    Utilizzo tipico: Confronti in grep o find, oppure con il globbing per file.\n",
    "    Esempi:\n",
    "\n",
    "Cerca righe che contengono una qualsiasi lettera tra a e z:\n",
    "grep \"[a-z]\" file.txt  \n",
    "\n",
    "Trova file che iniziano con una lettera maiuscola:\n",
    "find . -name \"[A-Z]*\"\n",
    "\n",
    "Globbing per file nella directory corrente:\n",
    "echo [a-c]*  # Trova file che iniziano con a, b o c\n",
    "\n",
    "* Parentesi graffe { }: usate per generare sequenze iterabili (for, echo...)\n",
    "\n",
    "    Impo: usano i due puntini in mezzo\n",
    "    Scopo principale: Generare sequenze espanse di valori, come intervalli di numeri o lettere.\n",
    "    Sono iterabili, quindi possono essere usate in contesti come for o con echo.\n",
    "    Utilizzo tipico:\n",
    "        Creazione di liste statiche o intervalli per iterazione o output.\n",
    "\n",
    "Esempi:\n",
    "\n",
    "Espande direttamente una lista di valori:\n",
    "echo {a..c}      # Output: a b c\n",
    "echo {1..5}      # Output: 1 2 3 4 5\n",
    "echo {1..10..2}  # Output: 1 3 5 7 9\n",
    "\n",
    "Iterazione in un ciclo for:\n",
    "for i in {A..C}; do\n",
    "    echo \"Letter: $i\"\n",
    "done\n",
    "Output:\n",
    "Letter: A\n",
    "Letter: B\n",
    "Letter: C"
   ]
  },
  {
   "cell_type": "markdown",
   "id": "c6f5fc65-6ea0-4d33-a4a6-2b8c03351b32",
   "metadata": {},
   "source": [
    "### VARIABILI POSIZIONALI E SET\n",
    "Le variabili posizionali in bash sono variabili speciali che vengono utilizzate per riferirsi agli argomenti passati a uno script o a una funzione. Quando scrivi uno script bash e passi dei parametri, questi parametri vengono automaticamente associati alle variabili posizionali. Ad esempio, se esegui uno script come:\n",
    "\n",
    "./myscript.sh arg1 arg2 arg3\n",
    "\n",
    "    $1 sarà arg1,\n",
    "    $2 sarà arg2,\n",
    "    $3 sarà arg3.\n",
    "\n",
    "Il comando set è utilizzato per assegnare valori alle variabili posizionali (o sovrascriverle se già erano state date come input). La sintassi è:\n",
    "    set [options] [--] [-] [arguments …]\n",
    "Ad esempio scrivendo 'set -- a b c' stiamo assegando dei valori alle variabili posizionali. I due puntini (--) sono necessari in questo caso per indicare che quello che stiamo dando sono proprio gli arguments e non qualche option.\n",
    "\n",
    "Esempio: scrivendo 'set -- \\\\$line' in un ciclo 'while read -r line' sto assegnando ciascun elemento della riga line ad una variabile posizionale (\\\\$1, \\\\$2, \\$3 e così via)\n",
    "\n",
    "Set has also many more uses, see [here](https://www.baeldung.com/linux/set-command).\n",
    "\n",
    "Se desideri mantenere gli argomenti originari e usare set senza sovrascrivere, dovresti utilizzare altre variabili, ad esempio $@ che è una variabile speciale che contiene tutti gli argomenti passati al comando:\n",
    "\n",
    "    original_args=(\"$@\")\n",
    "\n"
   ]
  },
  {
   "cell_type": "markdown",
   "id": "924144e6-25c8-4d8f-ab0a-92c76740583d",
   "metadata": {},
   "source": [
    "### WHILE e READ\n",
    "Il comando while e read in Bash sono comunemente usati insieme per leggere riga per riga un file o un input e processare ogni riga.\n",
    "\n",
    "Il ciclo while esegue un blocco di comandi finché una condizione risulta vera. Ogni volta che la condizione è vera, il blocco di comandi dentro il ciclo while viene eseguito. Quando la condizione diventa falsa, il ciclo termina. La sintassi di base è la seguente:\n",
    "\n",
    "    while [condizione]; do\n",
    "        # blocco di comandi\n",
    "    done\n",
    "\n",
    "Il comando read legge una riga di input e la assegna a una variabile. Dopo aver eseguito questo comando, variabile conterrà la riga letta. Se usato con un ciclo while, può leggere ogni riga di un file. Ad esempio:\n",
    "\n",
    "    read variabile\n",
    "\n",
    "La combinazione di while e read viene utilizzata per leggere il contenuto di un file riga per riga e processarlo. La sintassi è la seguente:\n",
    "\n",
    "    while read -r line; do\n",
    "        # Operazioni con \"$line\"\n",
    "    done < file.txt\n",
    "\n",
    "Dettaglio:\n",
    "\n",
    "    read -r line: Il comando read legge una riga e la memorizza nella variabile line. L'opzione -r evita che i caratteri di escape (come il backslash \\) vengano interpretati. Senza -r, read potrebbe trattare i backslash come caratteri speciali.\n",
    "    line è il nome della variabile (che abbiamo scelto noi) che conterrà ogni riga mano a mano\n",
    "    done < file.txt: La redirezione < file.txt indica che il ciclo while deve leggere riga per riga dal file file.txt.\n",
    "\n",
    "Un altro modo più verboso sarebbe usare cat per inviare l'output di un file al ciclo while:\n",
    "\n",
    "    cat data.txt | while read -r line; do\n",
    "        echo $line\n",
    "    done\n",
    "\n",
    "NOTA: da aggiungere cosa fa IFS"
   ]
  }
 ],
 "metadata": {
  "kernelspec": {
   "display_name": "Python 3 (ipykernel)",
   "language": "python",
   "name": "python3"
  },
  "language_info": {
   "codemirror_mode": {
    "name": "ipython",
    "version": 3
   },
   "file_extension": ".py",
   "mimetype": "text/x-python",
   "name": "python",
   "nbconvert_exporter": "python",
   "pygments_lexer": "ipython3",
   "version": "3.12.9"
  }
 },
 "nbformat": 4,
 "nbformat_minor": 5
}
