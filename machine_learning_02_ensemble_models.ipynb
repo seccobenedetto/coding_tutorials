{
 "cells": [
  {
   "cell_type": "markdown",
   "id": "99c6da3e",
   "metadata": {},
   "source": [
    "<center><h1><b>ENSEMBLE MODELS</b></h1></center>"
   ]
  },
  {
   "cell_type": "markdown",
   "id": "1c671f69-98a7-4483-8cdc-5961e11f621b",
   "metadata": {},
   "source": [
    "---"
   ]
  },
  {
   "cell_type": "markdown",
   "id": "580b9c96",
   "metadata": {},
   "source": [
    "# 00 - INTRODUCTION\n",
    "**Ensemble models** are machine learning techniques that combine multiple models (or multiple instances of the same model) to achieve better predictive performance. This approach leverages the strengths of individual weak learners—which perform slightly better than random guessing—to construct a strong learner with significantly improved accuracy and robustness.\n",
    "\n",
    "There are several types of ensemble methods:\n",
    "* **Boosting**: Each model is trained sequentially, focusing on correcting the mistakes of its predecessors. Misclassified instances receive higher weights, making them more influential in subsequent training rounds.\n",
    "  * Examples: AdaBoost, Gradient Boosting, XGBoost\n",
    "* **Bagging** (Bootstrap Aggregating): Multiple models are trained in parallel on different subsets of the dataset (sampled with replacement). The final prediction is obtained by averaging the outputs (for regression) or using majority voting (for classification).\n",
    "    * Examples: Random Forest\n",
    "* **Stacking**: Unlike boosting and bagging, stacking can combine different types of models. The outputs of base models serve as inputs for a higher-level model, which learns the optimal way to aggregate their predictions.\n"
   ]
  },
  {
   "cell_type": "markdown",
   "id": "92af0de6-fc65-41f4-82e8-3e44e3ee94a3",
   "metadata": {},
   "source": [
    "#### WEAK LEARNER\n",
    "\n",
    "A hypothesis class $H$ is considered a weak learner if, for any distribution of the training data, there exists a learning algorithm such that: $ L(h) < \\frac{1}{2} - \\epsilon $ where: $ L(h) $ is the error rate of the hypothesis $H$ and $ \\epsilon > 0 $ is a small positive constant.\n",
    "\n",
    "This means the model performs just slightly better than a coin flip (random guessing). While a weak learner alone is not very powerful, boosting algorithms can amplify its performance by combining many such learners.\n",
    "\n",
    "Before exploring specific ensemble techniques, let's introduce a fundamental model frequently used as a weak learner in ensemble methods."
   ]
  },
  {
   "cell_type": "markdown",
   "id": "ab00e27c-0a2a-4666-8be6-1359c7e73a70",
   "metadata": {},
   "source": [
    "#### DECISION TREE\n",
    "A **decision tree** is a model used for both classification and regression, structured in a tree-like hierarchy. It organizes and splits data recursively until a prediction is made. The simplest form of a decision tree is called a **decision stump**, which consists of a single root node and two leaf nodes (depth = 1). Despite its simplicity, it is frequently used in boosting algorithms like **AdaBoost** due to its fast training and low complexity.  \n",
    "A tree with depth $d$ has a VC-dim = $2^d $, which gives an indication of its capacity to fit data. A decision tree predicts the output$y$ given an input $x \\in X $ through a function$h:X \\rightarrow Y$, following a top-down traversal of the tree structure.  \n",
    "\n",
    "In this discussion, we will focus on **binary trees**, meaning the output is restricted to two possible classes: $y \\in \\{0,1\\} $.\n",
    "\n",
    "Decision trees are widely used due to their interpretability and ability to model non-linear decision boundaries. However, they are prone to overfitting, especially when grown to large depths, which is why they are often used within ensemble methods such as Random Forests and Boosting techniques."
   ]
  },
  {
   "cell_type": "code",
   "execution_count": 2,
   "id": "a49254a4-ecf0-49ee-ae50-d82d7422d990",
   "metadata": {},
   "outputs": [
    {
     "data": {
      "image/png": "[encoded data removed]",
      "text/plain": [
       "<IPython.core.display.Image object>"
      ]
     },
     "metadata": {
      "image/png": {
       "width": 400
      }
     },
     "output_type": "display_data"
    }
   ],
   "source": [
    "# EXAMPLE OF DECISION STUMP:\n",
    "from IPython.display import Image, display\n",
    "display(Image(\"./images/decision_stump.png\", width=400))"
   ]
  },
  {
   "cell_type": "markdown",
   "id": "400761d8",
   "metadata": {},
   "source": [
    "#### ID3 ALGORITHM \n",
    "\n",
    "The **Iterative Dichotomizer 3 (ID3)** is a fundamental algorithm used to construct decision trees. It is a greedy, top-down algorithm that recursively partitions the dataset to create a tree structure. The main objective of ID3 is to maximize information gain at each step, ensuring that the data becomes purer as it progresses down the tree.  \n",
    "\n",
    "The algorithm operates on:  \n",
    "* A dataset $ S = \\{(x_1, y_1), ..., (x_n, y_n)\\} $, where each instance $ x_i $ consists of $ d $ attributes (=coordinates).  \n",
    "* A splitting criterion to determine the best attribute for partitioning, such as:  \n",
    "    - Training Error: measures the misclassification rate:  $ E = \\frac{1}{m} \\sum_{i=1}^{m} I(h(x_i) \\neq y_i) $  \n",
    "    - Gini Impurity: measures the probability of incorrect classification:  $ G = \\sum_{c} p(i) (1 - p(i)) $  with $c$ number of classes, $p(i)$ probability of picking an element from class $i$.\n",
    "    - Entropy: quantifies the disorder or uncertainty in the data: $ E = -\\sum_{c} p(c) \\log_2 p(c) $ . A higher entropy indicates greater impurity, meaning the data is more mixed. The goal of ID3 is to iteratively select the attribute that provides the greatest reduction in entropy, effectively making the data in each split more homogeneous. \n",
    "\n",
    "STEPS OF THE ALGORITHM:\n",
    "1. Evaluate all attributes: Compute the information gain for each attribute (over all $m$ data points) and select the one that provides the best split as the root node.  \n",
    "2. For each branch, repeat the process:  \n",
    "   - Recompute the information gain for the remaining attributes.  \n",
    "   - Select the best attribute as the next node in the tree.  \n",
    "3. Stopping conditions:  \n",
    "   - If all data points in a branch belong to the same class, stop splitting (this becomes a leaf node).  \n",
    "   - If there are no more attributes left to split on, assign the majority class of the remaining samples to the node.  \n",
    "\n",
    "\n",
    "#### PRO AND CONS:  \n",
    "PRO:\n",
    "- Produces an interpretable and transparent model.\n",
    "- Efficient for datasets with categorical features.\n",
    "- Works well when data has a clear hierarchical structure.\n",
    "\n",
    "CONS: \n",
    "- Overfitting: Without pruning or stopping criteria, the tree can become too complex.  \n",
    "- Sensitive to noisy data: Small changes in the dataset can result in large tree variations.  \n",
    "- Biased toward attributes with many values: ID3 prefers attributes with more unique values, which may not always be ideal.  \n"
   ]
  },
  {
   "cell_type": "markdown",
   "id": "6ad4e605-f00d-4be7-9360-3674e6bcd631",
   "metadata": {},
   "source": [
    "---"
   ]
  },
  {
   "cell_type": "markdown",
   "id": "acf7816a",
   "metadata": {},
   "source": [
    "# 1 - BOOSTING"
   ]
  },
  {
   "cell_type": "markdown",
   "id": "c0af50a4",
   "metadata": {},
   "source": [
    "Boosting is an ensemble learning technique that combines multiple weak learners to create a single, strong predictive model. It works by training models sequentially, where each new model focuses on correcting the errors made by the previous ones. Over time, the ensemble becomes more accurate by placing greater emphasis on difficult or misclassified examples.\n",
    "\n",
    "Boosting is especially effective when weak learners are just slightly better than random guessing, yet when combined, their collective performance significantly improves.\n",
    "\n",
    "Popular boosting algorithms include:\n",
    "- AdaBoost (Adaptive Boosting)\n",
    "- Gradient Boosting\n",
    "- XGBoost (Extreme Gradient Boosting)\n",
    "\n",
    "#### KEY IDEAS\n",
    "- Models are trained **sequentially**, not in parallel.\n",
    "- Each model attempts to **reduce the weighted error** of the previous ensemble.\n",
    "- Data points that are hard to classify receive **higher weights** in subsequent iterations.\n",
    "- Boosting can overfit if the base learners are too complex or if the model is not regularized properly.\n"
   ]
  },
  {
   "cell_type": "markdown",
   "id": "94b8a95a-ddfd-4f2c-b32c-78695c7fc3aa",
   "metadata": {},
   "source": [
    "---"
   ]
  },
  {
   "cell_type": "markdown",
   "id": "87ef01d0",
   "metadata": {},
   "source": [
    "## 1.1 ADABOOST\n",
    "AdaBoost is one of the earliest and most popular boosting algorithms. It works by combining multiple decision stumps (weak learners), giving more focus to the data points that were misclassified in previous iterations. Over time, this adaptive process results in a highly accurate ensemble.\n",
    "\n",
    "#### ALGORITHM:\n",
    "\n",
    "1. Initialization:  \n",
    "   Assign equal weight to all $m$ training samples:  $ w_i = \\frac{1}{m}, \\quad \\text{for } i = 1, \\dots, m $  \n",
    "2. Train a weak learner:  \n",
    "   Select the best attribute using a splitting criterion (e.g., information gain) and train a decision stump based on the current weighted dataset. Mathematically the weak learner is given by $h_t = sign(x- \\theta) $, with $\\theta$ being the found threshold.\n",
    "3. Compute the weighted error of the weak learner: $ E_t = \\sum_{i=1}^{m} w_i \\cdot I(h_t(x_i) \\neq y_i) $\n",
    "   where $ h_t $ is the weak learner at iteration $ t $, and $ I(\\cdot) $ is the indicator function.\n",
    "\n",
    "4. Compute the learner’s influence (amount of say):  $ \\alpha_t = \\frac{1}{2} \\log \\left( \\frac{1 - E_t}{E_t} \\right) $.\n",
    "   A lower error means a higher influence on the final prediction.\n",
    "\n",
    "5. Update the weights of each training sample:\n",
    "   $$ w_i^{(t+1)} = w_i^{(t)} \\cdot \\frac{ e^{-\\alpha_t y_i h_t(x_i)} }{N} $$\n",
    "   where $N= \\sum_{i=1}^{m} w_{i}^{t+1}$ is used for normalization of weitghts. Misclassified points receive higher weights.\n",
    "\n",
    "6. Repeat steps 2–5 for $T$ iterations, each time updating the sample weights and training a new weak learner. It is possible that the same weak learner is chosen multiple times.\n",
    "\n",
    "7. Final predictor is a weighted majority vote (for classification). Given a sample $x$, its predicted class is given by  $  H(x) = \\operatorname{sign} \\left( \\sum_{t=1}^{T} \\alpha_t \\cdot h_t(x) \\right) $\n",
    "   The sign function returns the final class label based on the sum of weighted predictions.\n",
    "\n",
    "#### PRO AND CONS\n",
    "PRO:\n",
    "* Automatically focuses on hard examples  \n",
    "* No need for parameter tuning in the base learner  \n",
    "* Works well even with simple classifiers (e.g., decision stumps)  \n",
    "* The final model is interpretable and sparse (only a few strong learners dominate)\n",
    "\n",
    "CONS:\n",
    "* Sensitive to noisy data and outliers  \n",
    "* Requires careful choice of the number of iterations to avoid overfitting  \n",
    "* Works best with weak learners that perform slightly better than random\n"
   ]
  }
 ],
 "metadata": {
  "kernelspec": {
   "display_name": "Python 3 (ipykernel)",
   "language": "python",
   "name": "python3"
  },
  "language_info": {
   "codemirror_mode": {
    "name": "ipython",
    "version": 3
   },
   "file_extension": ".py",
   "mimetype": "text/x-python",
   "name": "python",
   "nbconvert_exporter": "python",
   "pygments_lexer": "ipython3",
   "version": "3.12.9"
  }
 },
 "nbformat": 4,
 "nbformat_minor": 5
}
