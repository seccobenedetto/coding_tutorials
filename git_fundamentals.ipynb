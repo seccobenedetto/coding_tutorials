{
 "cells": [
  {
   "cell_type": "markdown",
   "id": "c9c34e68-e8ed-49ec-92c7-6a981cbfb7ae",
   "metadata": {},
   "source": [
    "#  GIT"
   ]
  },
  {
   "cell_type": "markdown",
   "id": "33d43c02-8ed7-4899-b91f-8dface48fe4f",
   "metadata": {},
   "source": [
    "## 00 - INTRODUZIONE"
   ]
  },
  {
   "cell_type": "markdown",
   "id": "59c6825b-7f82-43ad-ab06-502e057daab8",
   "metadata": {},
   "source": [
    "#### WHAT IS GIT\n",
    "Git is a distributed version control system (VCS) used to track changes in files, typically for software development. It allows multiple people to collaborate on a project while keeping a history of modifications. We use git through the shell.\n",
    "Utilities:\n",
    "* Version Control: Keeps track of changes and allows you to revert to previous versions.\n",
    "* Collaboration: Enables multiple developers to work on the same project without conflicts.\n",
    "* Branching & Merging: Lets you work on new features without affecting the main code until it's ready.\n",
    "* Backup & History: Your code and its history are stored safely."
   ]
  },
  {
   "cell_type": "markdown",
   "id": "d213ed63-038a-4b90-b65b-016d13000634",
   "metadata": {},
   "source": [
    "#### LOCAL COPY, STAGING, LOCAL REPO, REMOTE REPO\n",
    "In Git, changes go through different stages before being permanently stored in a remote repository. Here's how it works:\n",
    "1. *Working Directory* (Local Copy): this is where you make changes to your files, in your local folder of your local PC.\n",
    "2. *Staging Area* (Index): this is an intermediate area where you prepare changes before committing. You add files to the staging area using: `git add <file>`. For example: After modifying *file.py*, you run *git add file.py*. Now, it's staged but not yet committed.\n",
    "3. *Local Repository*: when you commit, changes move from the staging area to your local repository. Commits are stored locally with a unique ID (hash). For example: `git commit -m \"Now I havr updated file.py`. Now, file.py is saved in the local Git history.\n",
    "4. *Remote Repository* (GitHub): your local commits stay on your machine until you push them to a remote server with `git push origin <branch>`. The remote repository allows others to access and collaborate on your code."
   ]
  },
  {
   "cell_type": "markdown",
   "id": "cde0e1db-56c8-4bba-aec7-8ab0ec40131d",
   "metadata": {},
   "source": [
    "#### CREATING A REPO\n",
    "We can have a Git repository through `git init`: in this way the folder we are in will become a Git repository. A **.git** file will be created inside, that will track all tha chenges to existing files, new files, eliminated files etc.  \n",
    "Similarly with `git clone <url>` we can clone a remote github repository in our local folder. Our folder and the github repository will be connected, and we will be able to push and pull files."
   ]
  },
  {
   "cell_type": "markdown",
   "id": "a526f29b-5aa2-4cb5-a06f-14dcb80e7451",
   "metadata": {},
   "source": [
    "#### CONFIGURATION\n",
    "Each local repository will have a local configuration that will contain our identity: username and email. Similarly we will have a global configuration.  \n",
    "With can use:\n",
    "* `git config --local user.name \"Tuo Nome\"`: to set the local username\n",
    "* `git config --local user.email \"tua.email@example.com\"`: to set the local email\n",
    "* `git config --list`: to see the actual configuration\n",
    "Similarly we have a global default configuration al `gloabl` instead of `local`."
   ]
  },
  {
   "cell_type": "code",
   "execution_count": null,
   "id": "a0f8e213-ad02-4cda-a6a9-a5f95618b785",
   "metadata": {},
   "outputs": [],
   "source": []
  },
  {
   "cell_type": "code",
   "execution_count": null,
   "id": "50f5946a-14ed-44e8-8d38-788bc8d671f5",
   "metadata": {},
   "outputs": [],
   "source": []
  },
  {
   "cell_type": "code",
   "execution_count": null,
   "id": "ecd25418-3d66-4219-9c27-a780eb04dc08",
   "metadata": {},
   "outputs": [],
   "source": []
  },
  {
   "cell_type": "code",
   "execution_count": null,
   "id": "f62ead9d-d1ce-4e0c-bef6-de366b79d9a9",
   "metadata": {},
   "outputs": [],
   "source": []
  },
  {
   "cell_type": "code",
   "execution_count": null,
   "id": "2a82e421-329e-4a38-8d8c-1655d5ba0111",
   "metadata": {},
   "outputs": [],
   "source": []
  }
 ],
 "metadata": {
  "kernelspec": {
   "display_name": "Python 3 (ipykernel)",
   "language": "python",
   "name": "python3"
  },
  "language_info": {
   "codemirror_mode": {
    "name": "ipython",
    "version": 3
   },
   "file_extension": ".py",
   "mimetype": "text/x-python",
   "name": "python",
   "nbconvert_exporter": "python",
   "pygments_lexer": "ipython3",
   "version": "3.12.4"
  }
 },
 "nbformat": 4,
 "nbformat_minor": 5
}
