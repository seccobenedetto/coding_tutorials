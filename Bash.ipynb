{
 "cells": [
  {
   "cell_type": "markdown",
   "id": "15dacef7-f64a-41db-8562-f798e7b3e8fc",
   "metadata": {},
   "source": [
    "#ATTENZIONE: FILE IN ALLESTIMENTO"
   ]
  },
  {
   "cell_type": "markdown",
   "id": "17d14e4c-cc7a-4d63-bf2f-8b45cface9f1",
   "metadata": {},
   "source": [
    "# BASH CODING"
   ]
  },
  {
   "cell_type": "markdown",
   "id": "093977aa-fcf4-4450-8093-745af1f340d5",
   "metadata": {},
   "source": [
    "La **shell** è un programma che fornisce un'interfaccia tra te (l'utente) e il sistema operativo. Ti permette di eseguire comandi, avviare programmi e gestire file, digitando testo anziché cliccando con il mouse. Esistono diversi tipi di shell, una delle più popolari e comunemente usate è la **BASH**.\n",
    "In partciloare **scripting** allows for an automatic commands execution that would otherwise be executed interactively one-by-one.\n",
    "\n",
    "Note that Jupyter allows execution of bash commands (and scripts) within a python notebook"
   ]
  },
  {
   "cell_type": "markdown",
   "id": "2075809d-69cd-4f35-8773-347e13de876c",
   "metadata": {},
   "source": [
    "per la navigazione tra cartelle:\n",
    "* . (punto): Indica la directory corrente. Esempio: ./script.sh\n",
    "* .. (doppio punto): Indica la directory padre (quella sopra la directory corrente). Esempio: cd ..\n",
    "* ~ (tilda): Indica la directory home dell'utente corrente. Esempio: cd ~ oppure ~/folder\n",
    "* / (slash): Se usato da solo all'inizio di un percorso, indica la radice del file system. Usato tra directory, separa i nomi delle directory. Esempio: cd /usr/local\n",
    "* \\- (trattino): Torna alla directory precedente. Esempio: cd -"
   ]
  },
  {
   "cell_type": "markdown",
   "id": "22dfb1e0-2470-4b55-b876-d3c7d9c06dd6",
   "metadata": {},
   "source": [
    "Il simbolo \\\\$ serve ad accedere alle variabili. In Bash, puoi usare sia le parentesi \\\\${i} che l'accesso diretto \\\\$i, ma la sintassi con le parentesi è preferibile quando vuoi evitare ambiguità."
   ]
  },
  {
   "cell_type": "markdown",
   "id": "7c6ce6f6-cfa0-4d6f-85b4-023f70d36b09",
   "metadata": {},
   "source": [
    "comandi da aggiungere:\n",
    "* wget\n",
    "* cat\n",
    "* man\n",
    "* chmod\n",
    "* echo"
   ]
  },
  {
   "cell_type": "markdown",
   "id": "c790be50-9894-4981-9231-7347ed92a04a",
   "metadata": {},
   "source": [
    "```bash\n",
    "#this is a comment\n",
    "whoami      # who am I? I.e. which account am I using?\n",
    "sudo -l       # Am I a superuser=administator? (SUperuser DO)\n",
    "hostname      # what's the name of the computer\n",
    "# 'pwd' returns the content of the global variable $PWD, see later \n",
    "# the current directory is aliased as \".\", instead \"..\" is the one above\n",
    "pwd         # in which folder am I?\n",
    "# 'cd' stands for 'change directory'\n",
    "cd name_directory        # go to a given directory\n",
    "cd ..                  # go to the directory above\n",
    "cd -                   # get back to the previous directory\n",
    "cd $HOME              # go to your home directory \n",
    "# make a new directory:\n",
    "mkdir test\n",
    "cd test\n",
    "mkdir -p tmp/foo       # l'opzione '-p' evita errori e sovrascrizioni\n",
    "rm -r tmp/foo  # delete that last directory, the \"-r\" option is needed for directories\n",
    "\n",
    "# check the Disk Usage in your home\n",
    "du -h $HOME\n",
    "# check the memory usage for the main folders\n",
    "df -h\n",
    "\n",
    "# check the content of a directory\n",
    "touch tmp_file #create a file just for the sake of it (see later)\n",
    "ls -latrh \n",
    "# where: -l -> list, -a -> include hidden directories, -t -> time ordered, -r -> reversed, h -> size in Bytes \n",
    "```"
   ]
  },
  {
   "cell_type": "markdown",
   "id": "20ba13d7-0ca3-4c0e-a37a-f8512930eb1d",
   "metadata": {},
   "source": [
    "Spazi obbligatori nei comandi:\n",
    "\n",
    "Ci sono casi in cui lo spazio è obbligatorio per separare gli elementi in Bash. Ad esempio:\n",
    "\n",
    "    Nei test con [ ]: [ $a -lt $b ]. Errore se non metti spazi: if [$a -lt $b]\n",
    "\n",
    "Nelle assegnazioni di variabili, non ci deve essere spazio intorno al simbolo =:\n",
    "\n",
    "    var=10  # Corretto\n",
    "    var = 10  # Errore!\n",
    "Gli spazi prima del # sono arbitrari, cosi come le indentazioni"
   ]
  },
  {
   "cell_type": "markdown",
   "id": "01598a0c-c8e4-488d-b2e2-b1171f926af8",
   "metadata": {},
   "source": [
    "### TAIL\n",
    "Il comando tail in Bash è utilizzato per visualizzare le ultime righe di un file o di un flusso di dati. Sintassi base: tail [opzioni] [file]\n",
    "\n",
    "Opzioni principali:\n",
    "* -n numero: Specifica quante righe visualizzare. Ad esempio, tail -n 10 file.txt mostra le ultime 10 righe di file.txt. Se non viene specificato un numero, tail per default mostra le ultime 10 righe. Se usi una notazione negativa, come tail -n -10 file.txt, otterrai tutte le righe tranne le ultime 10.\n",
    "* -n +numero: Visualizza il file a partire da una determinata riga. Ad esempio: tail -n +2 file.txt, Mostra tutte le righe a partire dalla seconda (salta la prima)."
   ]
  },
  {
   "cell_type": "markdown",
   "id": "5a540c41-30f3-4c4f-a137-52500af37b59",
   "metadata": {},
   "source": [
    "### SED\n",
    "sed (Stream EDitor) è uno strumento potente utilizzato in Bash per eseguire trasformazioni su flussi di testo. Con esso si può:\n",
    "* Sostituzione (s/old/new/): La funzione di sostituzione è una delle operazioni più comuni di sed. Sintassi: sed 's/pattern/replacement/' file.txt\n",
    "* Cancellazione (d): sed può essere utilizzato anche per eliminare righe che corrispondono a un pattern. Sintassi: sed '/pattern/d' file.txt, oppure sed '5d' file.txt cancella la quinta riga del file\n",
    "* Comando p (print): Il comando p è utilizzato per stampare righe specifiche che corrispondono a un pattern: sed -n '/pattern/p' file.txt\n",
    "\n",
    "Opzioni principali di sed:\n",
    "* -n: Sopprime l'output predefinito. Senza -n, sed stampa ogni riga del file (a meno che non venga specificato un comando di modifica che cambierà o eliminerà la riga). L'opzione -n impedisce a sed di stampare tutte le righe, quindi può essere usata per stampare solo righe specifiche (ad esempio, con p). Esempio: sed -n '3p' file.txt. Questo comando stampa solo la terza riga del file.\n",
    "* -e: Consente di specificare più comandi di sed. Con -e, puoi fornire comandi multipli da eseguire in sequenza. Ogni comando può essere separato da un'opzione -e. Esempio: sed -e 's/old/new/' -e 's/foo/bar/' file.txt. Questo comando esegue due sostituzioni: prima sostituisce old con new, poi sostituisce foo con bar."
   ]
  },
  {
   "cell_type": "markdown",
   "id": "96018256-c14b-4ea6-aca3-30f3be786893",
   "metadata": {},
   "source": [
    "### WC\n",
    "Il comando wc (word count) in Bash viene utilizzato per contare il numero di righe, parole e caratteri in un file o in un input fornito. L'opzione -l dice a wc di contare solo le righe nel file.\n",
    "\n",
    "Esempio: total_lines=$(wc -l < file.txt).  L'operatore < redirige il contenuto del file a wc"
   ]
  },
  {
   "cell_type": "markdown",
   "id": "b32f192d-1f33-454e-8247-55c2227aa09d",
   "metadata": {},
   "source": [
    "in Bash le virgolette singole (') e le virgolette doppie (\") non sono equivalenti. Hanno comportamenti diversi quando si tratta di interpretare variabili e caratteri speciali. \n",
    "\n",
    "Virgolette singole ('):\n",
    "\n",
    "    Tutto ciò che è racchiuso all'interno delle virgolette singole è trattato letteralmente.\n",
    "    Nessuna espansione di variabili, comandi o caratteri speciali avviene.\n",
    "Esempio:\n",
    "```bash\n",
    "a=10\n",
    "echo 'Il valore di a è $a'  # Output: Il valore di a è $a \n",
    "```\n",
    "Come puoi vedere, $a non è stato interpretato come variabile, ma è stato stampato letteralmente.\n",
    "\n",
    "Virgolette doppie (\"):\n",
    "\n",
    "    Consentono l'espansione di variabili ($var), comandi ($(command)), e sequenze speciali come \\n per una nuova riga.\n",
    "    Alcuni caratteri speciali, come $, \\, e `, vengono elaborati.\n",
    "    Esempio:\n",
    "```bash\n",
    "a=10\n",
    "echo \"Il valore di a è $a\"  # Output: Il valore di a è 10 \n",
    "```"
   ]
  },
  {
   "cell_type": "markdown",
   "id": "4b170ea5-b4cf-455f-8abe-6c3521cb11a9",
   "metadata": {},
   "source": [
    "Il comando exit in Bash serve a terminare l'esecuzione di uno script o di una shell. Quando viene utilizzato, exit restituisce un \"codice di uscita\" che indica se il programma è terminato correttamente o se si è verificato un errore.\n",
    "\n",
    "Cosa significano i codici di uscita?\n",
    "\n",
    "    exit 0: Indica che lo script è stato eseguito correttamente senza errori. Questo è il valore di uscita predefinito.\n",
    "    exit 1 (o un altro valore diverso da zero): Indica che si è verificato un errore. Il codice di uscita 1 è comunemente usato per rappresentare un errore generico, ma puoi usare numeri diversi per differenziare i tipi di errori."
   ]
  },
  {
   "cell_type": "markdown",
   "id": "9172372f-9dd6-4490-982f-0c3d50528518",
   "metadata": {},
   "source": [
    "Quando usi wget per scaricare un file, viene automaticamente creato un file di log chiamato wget-log. Questo file di log contiene informazioni dettagliate sul processo di download. Se non desideri che venga creato il file di log, puoi usare l'opzione -q (quiet mode), che riduce al minimo l'output di wget: wget -q URL"
   ]
  },
  {
   "cell_type": "markdown",
   "id": "3d90c6f1-a25a-478e-aba3-6891e678db24",
   "metadata": {},
   "source": [
    "### PARENTESI QUADRE E GRAFFE\n",
    "* Parentesi quadre [ ]: usate per pattern matching (grep, find...)\n",
    "\n",
    "    Impo: usano il trattino in mezzo\n",
    "    Scopo principale: Definire un insieme di caratteri o un intervallo per il pattern matching in comandi come grep, find, ls, ecc.\n",
    "    Non espandono una sequenza direttamente, quindi non possono essere usate in contesti iterabili come i cicli for.\n",
    "    Utilizzo tipico: Confronti in grep o find, oppure con il globbing per file.\n",
    "    Esempi:\n",
    "\n",
    "Cerca righe che contengono una qualsiasi lettera tra a e z:\n",
    "grep \"[a-z]\" file.txt  \n",
    "\n",
    "Trova file che iniziano con una lettera maiuscola:\n",
    "find . -name \"[A-Z]*\"\n",
    "\n",
    "Globbing per file nella directory corrente:\n",
    "echo [a-c]*  # Trova file che iniziano con a, b o c\n",
    "\n",
    "* Parentesi graffe { }: usate per generare sequenze iterabili (for, echo...)\n",
    "\n",
    "    Impo: usano i due puntini in mezzo\n",
    "    Scopo principale: Generare sequenze espanse di valori, come intervalli di numeri o lettere.\n",
    "    Sono iterabili, quindi possono essere usate in contesti come for o con echo.\n",
    "    Utilizzo tipico:\n",
    "        Creazione di liste statiche o intervalli per iterazione o output.\n",
    "\n",
    "Esempi:\n",
    "\n",
    "Espande direttamente una lista di valori:\n",
    "echo {a..c}      # Output: a b c\n",
    "echo {1..5}      # Output: 1 2 3 4 5\n",
    "echo {1..10..2}  # Output: 1 3 5 7 9\n",
    "\n",
    "Iterazione in un ciclo for:\n",
    "for i in {A..C}; do\n",
    "    echo \"Letter: $i\"\n",
    "done\n",
    "Output:\n",
    "Letter: A\n",
    "Letter: B\n",
    "Letter: C"
   ]
  }
 ],
 "metadata": {
  "kernelspec": {
   "display_name": "Python 3 (ipykernel)",
   "language": "python",
   "name": "python3"
  },
  "language_info": {
   "codemirror_mode": {
    "name": "ipython",
    "version": 3
   },
   "file_extension": ".py",
   "mimetype": "text/x-python",
   "name": "python",
   "nbconvert_exporter": "python",
   "pygments_lexer": "ipython3",
   "version": "3.12.4"
  }
 },
 "nbformat": 4,
 "nbformat_minor": 5
}
