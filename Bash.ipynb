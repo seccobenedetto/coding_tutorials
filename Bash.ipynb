{
 "cells": [
  {
   "cell_type": "markdown",
   "id": "17d14e4c-cc7a-4d63-bf2f-8b45cface9f1",
   "metadata": {},
   "source": [
    "# BASH CODING"
   ]
  },
  {
   "cell_type": "markdown",
   "id": "7c6ce6f6-cfa0-4d6f-85b4-023f70d36b09",
   "metadata": {},
   "source": [
    "comandi:\n",
    "* wget\n",
    "* cat"
   ]
  }
 ],
 "metadata": {
  "kernelspec": {
   "display_name": "Python 3 (ipykernel)",
   "language": "python",
   "name": "python3"
  },
  "language_info": {
   "codemirror_mode": {
    "name": "ipython",
    "version": 3
   },
   "file_extension": ".py",
   "mimetype": "text/x-python",
   "name": "python",
   "nbconvert_exporter": "python",
   "pygments_lexer": "ipython3",
   "version": "3.12.4"
  }
 },
 "nbformat": 4,
 "nbformat_minor": 5
}
